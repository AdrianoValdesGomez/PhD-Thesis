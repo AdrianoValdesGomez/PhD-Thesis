{
 "cells": [
  {
   "cell_type": "code",
   "execution_count": null,
   "metadata": {},
   "outputs": [],
   "source": []
  },
  {
   "cell_type": "code",
   "execution_count": null,
   "metadata": {},
   "outputs": [],
   "source": []
  },
  {
   "cell_type": "code",
   "execution_count": null,
   "metadata": {},
   "outputs": [],
   "source": []
  },
  {
   "cell_type": "code",
   "execution_count": null,
   "metadata": {},
   "outputs": [],
   "source": []
  },
  {
   "cell_type": "code",
   "execution_count": 13,
   "metadata": {},
   "outputs": [],
   "source": [
    "run  /Users/adrianovaldesgomez/Repos/PhD-Thesis/py/phd_python_documented_code.py"
   ]
  },
  {
   "cell_type": "code",
   "execution_count": 2,
   "metadata": {},
   "outputs": [],
   "source": [
    "import h5py\n",
    "import time"
   ]
  },
  {
   "cell_type": "code",
   "execution_count": 3,
   "metadata": {},
   "outputs": [],
   "source": [
    "%config InlineBackend.figure_format ='retina'"
   ]
  },
  {
   "cell_type": "code",
   "execution_count": null,
   "metadata": {},
   "outputs": [],
   "source": []
  },
  {
   "cell_type": "code",
   "execution_count": null,
   "metadata": {},
   "outputs": [],
   "source": []
  },
  {
   "cell_type": "code",
   "execution_count": 5,
   "metadata": {},
   "outputs": [],
   "source": [
    "def dist_vel_ini(xs,delta_t, T,m,inten,gamma,Kb):\n",
    "    l_vel = []\n",
    "    for x in xs:\n",
    "        l_vel.append(inten*tangent_white_noise(x,delta_t,T,m,gamma,Kb))\n",
    "    return l_vel"
   ]
  },
  {
   "cell_type": "code",
   "execution_count": 6,
   "metadata": {},
   "outputs": [
    {
     "data": {
      "text/plain": [
       "'/Users/adrianovaldesgomez/Documents/Adriano_Programming'"
      ]
     },
     "execution_count": 6,
     "metadata": {},
     "output_type": "execute_result"
    }
   ],
   "source": [
    "pwd"
   ]
  },
  {
   "cell_type": "code",
   "execution_count": 7,
   "metadata": {},
   "outputs": [],
   "source": [
    "mkdir Ornstein-Uhlenbeck-Sim-2021"
   ]
  },
  {
   "cell_type": "code",
   "execution_count": 8,
   "metadata": {},
   "outputs": [
    {
     "name": "stdout",
     "output_type": "stream",
     "text": [
      "/Users/adrianovaldesgomez/Documents/Adriano_Programming/Ornstein-Uhlenbeck-Sim-2021\n"
     ]
    }
   ],
   "source": [
    "cd Ornstein-Uhlenbeck-Sim-2021/"
   ]
  },
  {
   "cell_type": "code",
   "execution_count": 9,
   "metadata": {},
   "outputs": [],
   "source": [
    "mkdir Test1"
   ]
  },
  {
   "cell_type": "code",
   "execution_count": 10,
   "metadata": {},
   "outputs": [
    {
     "name": "stdout",
     "output_type": "stream",
     "text": [
      "/Users/adrianovaldesgomez/Documents/Adriano_Programming/Ornstein-Uhlenbeck-Sim-2021/Test1\n"
     ]
    }
   ],
   "source": [
    "cd Test1/"
   ]
  },
  {
   "cell_type": "code",
   "execution_count": null,
   "metadata": {},
   "outputs": [],
   "source": []
  },
  {
   "cell_type": "code",
   "execution_count": 98,
   "metadata": {},
   "outputs": [],
   "source": [
    "def OU_Simulator(n_parti, delta_t, gamma, Kb, m, T, U0, inten, m_steps, field):    \n",
    "    start_time = time.time()\n",
    "\n",
    "\n",
    "\n",
    "    #pos_ini = polo_n(n_parti, 1.)\n",
    "\n",
    "    pos_ini = obs_uniforme(n_parti, 1., 0)\n",
    "\n",
    "    \n",
    "    l_pos_t = [pos_ini]\n",
    "\n",
    "\n",
    "    vel_ini = dist_vel_ini(pos_ini,delta_t,T,m,inten,gamma,Kb)\n",
    "    #vel_ini = [np.array([5,0,0]) for i in range(n_parti)]\n",
    "\n",
    "\n",
    "    l_vel_t = [vel_ini]\n",
    "\n",
    "\n",
    "    for i in range(m_steps):\n",
    "\n",
    "\n",
    "        pos_ini, vel_ini = act_ensamble(pos_ini, vel_ini, field, U0, m, T, gamma, delta_t,Kb)\n",
    "\n",
    "\n",
    "        l_pos_t.append(pos_ini)\n",
    "        l_vel_t.append(vel_ini)\n",
    "\n",
    "\n",
    "    array_pos_t = np.array(l_pos_t)\n",
    "    array_vel_t = np.array(l_vel_t)\n",
    "\n",
    "\n",
    "    with h5py.File('pos_array.h5', 'w') as hf:\n",
    "        hf.create_dataset(\"pos-dataset\",  data=array_pos_t)\n",
    "\n",
    "    with h5py.File('vel_array.h5', 'w') as hf:\n",
    "        hf.create_dataset(\"vel-dataset\",  data=array_vel_t)   \n",
    " \n",
    "\n",
    "\n",
    "    elapsed_time = time.time() - start_time\n",
    "    print(elapsed_time)\n",
    "    return l_pos_t, l_vel_t"
   ]
  },
  {
   "cell_type": "code",
   "execution_count": null,
   "metadata": {},
   "outputs": [],
   "source": [
    "#OU_Simulator(n_parti, delta_t, gamma, Kb, m, T, U0, inten, m_steps, field)"
   ]
  },
  {
   "cell_type": "code",
   "execution_count": 29,
   "metadata": {},
   "outputs": [
    {
     "name": "stdout",
     "output_type": "stream",
     "text": [
      "22.076364994049072\n"
     ]
    }
   ],
   "source": [
    "l_pos_t, l_vel_t = OU_Simulator(1000, np.log(2)*1e-2, 100, 1, 1, 1, 0, 1, 100, field_y10)"
   ]
  },
  {
   "cell_type": "code",
   "execution_count": 30,
   "metadata": {},
   "outputs": [],
   "source": [
    "suma = 0\n",
    "for pos in l_pos_t:\n",
    "    plot_particles(pos,0,0,suma,'OU')\n",
    "    suma += 1"
   ]
  },
  {
   "cell_type": "code",
   "execution_count": null,
   "metadata": {},
   "outputs": [],
   "source": []
  },
  {
   "cell_type": "code",
   "execution_count": 31,
   "metadata": {},
   "outputs": [],
   "source": [
    "!mencoder \"mf://*.png\" -o OH-Process-test.mov -ovc lavc \\\n",
    "-lavcopts vcodec=msmpeg4v2:autoaspect:vbitrate=2160000:mbd=2:\\\n",
    "                keyint=132:vqblur=1.0:cmp=2\\:subcmp=2:dia=2:o=mpv_flags=+mv0:last_pred=3 -fps 1 > File_Out.txt 2>&1;"
   ]
  },
  {
   "cell_type": "code",
   "execution_count": null,
   "metadata": {},
   "outputs": [],
   "source": []
  },
  {
   "cell_type": "code",
   "execution_count": 32,
   "metadata": {},
   "outputs": [
    {
     "name": "stdout",
     "output_type": "stream",
     "text": [
      "/Users/adrianovaldesgomez/Documents/Adriano_Programming/Ornstein-Uhlenbeck-Sim-2021\n"
     ]
    }
   ],
   "source": [
    "cd .."
   ]
  },
  {
   "cell_type": "code",
   "execution_count": 33,
   "metadata": {},
   "outputs": [],
   "source": [
    "mkdir Test2"
   ]
  },
  {
   "cell_type": "code",
   "execution_count": 34,
   "metadata": {},
   "outputs": [
    {
     "name": "stdout",
     "output_type": "stream",
     "text": [
      "/Users/adrianovaldesgomez/Documents/Adriano_Programming/Ornstein-Uhlenbeck-Sim-2021/Test2\n"
     ]
    }
   ],
   "source": [
    "cd Test2/"
   ]
  },
  {
   "cell_type": "code",
   "execution_count": null,
   "metadata": {},
   "outputs": [],
   "source": []
  },
  {
   "cell_type": "code",
   "execution_count": 37,
   "metadata": {},
   "outputs": [
    {
     "name": "stdout",
     "output_type": "stream",
     "text": [
      "10.642263889312744\n"
     ]
    }
   ],
   "source": [
    "l_pos_t, l_vel_t = OU_Simulator(500, np.log(2)*1e-2, 100, 1, 1, 1, 0, 1, 100, field_y10)"
   ]
  },
  {
   "cell_type": "code",
   "execution_count": 38,
   "metadata": {},
   "outputs": [],
   "source": [
    "suma = 0\n",
    "for pos in l_pos_t:\n",
    "    plot_particles(pos,0,0,suma,'OU')\n",
    "    suma += 1"
   ]
  },
  {
   "cell_type": "code",
   "execution_count": 39,
   "metadata": {},
   "outputs": [],
   "source": [
    "!mencoder \"mf://*.png\" -o OH-Process-test2.mov -ovc lavc \\\n",
    "-lavcopts vcodec=msmpeg4v2:autoaspect:vbitrate=2160000:mbd=2:\\\n",
    "                keyint=132:vqblur=1.0:cmp=2\\:subcmp=2:dia=2:o=mpv_flags=+mv0:last_pred=3 -fps 1 > File_Out.txt 2>&1;"
   ]
  },
  {
   "cell_type": "code",
   "execution_count": null,
   "metadata": {},
   "outputs": [],
   "source": []
  },
  {
   "cell_type": "code",
   "execution_count": 40,
   "metadata": {},
   "outputs": [
    {
     "name": "stdout",
     "output_type": "stream",
     "text": [
      "/Users/adrianovaldesgomez/Documents/Adriano_Programming/Ornstein-Uhlenbeck-Sim-2021\n"
     ]
    }
   ],
   "source": [
    "cd .."
   ]
  },
  {
   "cell_type": "code",
   "execution_count": 41,
   "metadata": {},
   "outputs": [],
   "source": [
    "mkdir Test3"
   ]
  },
  {
   "cell_type": "code",
   "execution_count": 42,
   "metadata": {},
   "outputs": [
    {
     "name": "stdout",
     "output_type": "stream",
     "text": [
      "/Users/adrianovaldesgomez/Documents/Adriano_Programming/Ornstein-Uhlenbeck-Sim-2021/Test3\n"
     ]
    }
   ],
   "source": [
    "cd Test3"
   ]
  },
  {
   "cell_type": "code",
   "execution_count": 43,
   "metadata": {},
   "outputs": [
    {
     "name": "stdout",
     "output_type": "stream",
     "text": [
      "9.97125792503357\n"
     ]
    }
   ],
   "source": [
    "l_pos_t, l_vel_t = OU_Simulator(500, np.log(2)*1e-2, 1e-3, 1, 1, 1, 0, 1, 100, field_y10)"
   ]
  },
  {
   "cell_type": "code",
   "execution_count": 44,
   "metadata": {},
   "outputs": [],
   "source": [
    "suma = 0\n",
    "for pos in l_pos_t:\n",
    "    plot_particles(pos,0,0,suma,'OU')\n",
    "    suma += 1"
   ]
  },
  {
   "cell_type": "code",
   "execution_count": 45,
   "metadata": {},
   "outputs": [],
   "source": [
    "!mencoder \"mf://*.png\" -o OH-Process-test3.mov -ovc lavc \\\n",
    "-lavcopts vcodec=msmpeg4v2:autoaspect:vbitrate=2160000:mbd=2:\\\n",
    "                keyint=132:vqblur=1.0:cmp=2\\:subcmp=2:dia=2:o=mpv_flags=+mv0:last_pred=3 -fps 1 > File_Out.txt 2>&1;"
   ]
  },
  {
   "cell_type": "code",
   "execution_count": null,
   "metadata": {},
   "outputs": [],
   "source": []
  },
  {
   "cell_type": "code",
   "execution_count": 46,
   "metadata": {},
   "outputs": [
    {
     "name": "stdout",
     "output_type": "stream",
     "text": [
      "/Users/adrianovaldesgomez/Documents/Adriano_Programming/Ornstein-Uhlenbeck-Sim-2021\n"
     ]
    }
   ],
   "source": [
    "cd .."
   ]
  },
  {
   "cell_type": "code",
   "execution_count": 47,
   "metadata": {},
   "outputs": [],
   "source": [
    "mkdir Test4"
   ]
  },
  {
   "cell_type": "code",
   "execution_count": 48,
   "metadata": {},
   "outputs": [
    {
     "name": "stdout",
     "output_type": "stream",
     "text": [
      "/Users/adrianovaldesgomez/Documents/Adriano_Programming/Ornstein-Uhlenbeck-Sim-2021/Test4\n"
     ]
    }
   ],
   "source": [
    "cd Test4"
   ]
  },
  {
   "cell_type": "code",
   "execution_count": 52,
   "metadata": {},
   "outputs": [
    {
     "name": "stdout",
     "output_type": "stream",
     "text": [
      "51.813798904418945\n"
     ]
    }
   ],
   "source": [
    "l_pos_t, l_vel_t = OU_Simulator(500, np.log(2)*1e-2, 1e-1, 1, 1, 1, 0, 1, 500, field_y10)"
   ]
  },
  {
   "cell_type": "code",
   "execution_count": 53,
   "metadata": {},
   "outputs": [],
   "source": [
    "suma = 0\n",
    "for pos in l_pos_t:\n",
    "    plot_particles(pos,0,0,suma,'OU')\n",
    "    suma += 1"
   ]
  },
  {
   "cell_type": "code",
   "execution_count": 54,
   "metadata": {},
   "outputs": [],
   "source": [
    "!mencoder \"mf://*.png\" -o OH-Process-test4.mov -ovc lavc \\\n",
    "-lavcopts vcodec=msmpeg4v2:autoaspect:vbitrate=2160000:mbd=2:\\\n",
    "                keyint=132:vqblur=1.0:cmp=2\\:subcmp=2:dia=2:o=mpv_flags=+mv0:last_pred=3 -fps 1 > File_Out.txt 2>&1;"
   ]
  },
  {
   "cell_type": "code",
   "execution_count": null,
   "metadata": {},
   "outputs": [],
   "source": []
  },
  {
   "cell_type": "code",
   "execution_count": 55,
   "metadata": {},
   "outputs": [
    {
     "name": "stdout",
     "output_type": "stream",
     "text": [
      "/Users/adrianovaldesgomez/Documents/Adriano_Programming/Ornstein-Uhlenbeck-Sim-2021\n"
     ]
    }
   ],
   "source": [
    "cd .."
   ]
  },
  {
   "cell_type": "code",
   "execution_count": 56,
   "metadata": {},
   "outputs": [],
   "source": [
    "mkdir Test5"
   ]
  },
  {
   "cell_type": "code",
   "execution_count": 57,
   "metadata": {},
   "outputs": [
    {
     "name": "stdout",
     "output_type": "stream",
     "text": [
      "/Users/adrianovaldesgomez/Documents/Adriano_Programming/Ornstein-Uhlenbeck-Sim-2021/Test5\n"
     ]
    }
   ],
   "source": [
    "cd Test5/"
   ]
  },
  {
   "cell_type": "code",
   "execution_count": 58,
   "metadata": {},
   "outputs": [
    {
     "name": "stdout",
     "output_type": "stream",
     "text": [
      "225.92062711715698\n"
     ]
    }
   ],
   "source": [
    "l_pos_t, l_vel_t = OU_Simulator(1000, np.log(2)*1e-2, 1e-1, 1, 1, 1, 1, 1, 1000, field_y10)"
   ]
  },
  {
   "cell_type": "code",
   "execution_count": 59,
   "metadata": {},
   "outputs": [],
   "source": [
    "suma = 0\n",
    "for pos in l_pos_t:\n",
    "    plot_particles(pos,0,45,suma,'OU')\n",
    "    suma += 1"
   ]
  },
  {
   "cell_type": "code",
   "execution_count": 63,
   "metadata": {},
   "outputs": [],
   "source": [
    "!mencoder \"mf://*.png\" -o OH-Process-test5.mov -ovc lavc \\\n",
    "-lavcopts vcodec=msmpeg4v2:autoaspect:vbitrate=2160000:mbd=2:\\\n",
    "                keyint=132:vqblur=1.0:cmp=2\\:subcmp=2:dia=2:o=mpv_flags=+mv0:last_pred=3 -fps 1 > File_Out.txt 2>&1;"
   ]
  },
  {
   "cell_type": "code",
   "execution_count": 62,
   "metadata": {},
   "outputs": [
    {
     "data": {
      "text/plain": [
       "'/Users/adrianovaldesgomez/Documents/Adriano_Programming/Ornstein-Uhlenbeck-Sim-2021/Test5'"
      ]
     },
     "execution_count": 62,
     "metadata": {},
     "output_type": "execute_result"
    }
   ],
   "source": [
    "pwd"
   ]
  },
  {
   "cell_type": "code",
   "execution_count": 60,
   "metadata": {},
   "outputs": [
    {
     "name": "stdout",
     "output_type": "stream",
     "text": [
      "/Users/adrianovaldesgomez/Documents/Adriano_Programming/Ornstein-Uhlenbeck-Sim-2021\n"
     ]
    }
   ],
   "source": [
    "cd .."
   ]
  },
  {
   "cell_type": "code",
   "execution_count": 61,
   "metadata": {},
   "outputs": [
    {
     "name": "stdout",
     "output_type": "stream",
     "text": [
      "/Users/adrianovaldesgomez/Documents/Adriano_Programming/Ornstein-Uhlenbeck-Sim-2021/Test5\n"
     ]
    }
   ],
   "source": [
    "cd Test5"
   ]
  },
  {
   "cell_type": "code",
   "execution_count": 64,
   "metadata": {},
   "outputs": [
    {
     "name": "stdout",
     "output_type": "stream",
     "text": [
      "/Users/adrianovaldesgomez/Documents/Adriano_Programming/Ornstein-Uhlenbeck-Sim-2021\n"
     ]
    }
   ],
   "source": [
    "cd .."
   ]
  },
  {
   "cell_type": "code",
   "execution_count": null,
   "metadata": {},
   "outputs": [],
   "source": []
  },
  {
   "cell_type": "markdown",
   "metadata": {},
   "source": [
    "## Strong FIeld"
   ]
  },
  {
   "cell_type": "code",
   "execution_count": 65,
   "metadata": {},
   "outputs": [],
   "source": [
    "mkdir Test6"
   ]
  },
  {
   "cell_type": "code",
   "execution_count": 66,
   "metadata": {},
   "outputs": [
    {
     "name": "stdout",
     "output_type": "stream",
     "text": [
      "/Users/adrianovaldesgomez/Documents/Adriano_Programming/Ornstein-Uhlenbeck-Sim-2021/Test6\n"
     ]
    }
   ],
   "source": [
    "cd Test6"
   ]
  },
  {
   "cell_type": "code",
   "execution_count": null,
   "metadata": {},
   "outputs": [],
   "source": []
  },
  {
   "cell_type": "code",
   "execution_count": null,
   "metadata": {},
   "outputs": [],
   "source": []
  },
  {
   "cell_type": "code",
   "execution_count": null,
   "metadata": {},
   "outputs": [],
   "source": [
    "#OU_Simulator(n_parti, delta_t, gamma, Kb, m, T, U0, inten, m_steps, field)"
   ]
  },
  {
   "cell_type": "code",
   "execution_count": 67,
   "metadata": {},
   "outputs": [
    {
     "name": "stdout",
     "output_type": "stream",
     "text": [
      "12.794130802154541\n"
     ]
    }
   ],
   "source": [
    "l_pos_t, l_vel_t = OU_Simulator(100, np.log(2)*1e-2, 1e-1, 1, 1, 1, 50, 1, 500, field_y10)"
   ]
  },
  {
   "cell_type": "code",
   "execution_count": 68,
   "metadata": {},
   "outputs": [],
   "source": [
    "suma = 0\n",
    "for pos in l_pos_t:\n",
    "    plot_particles(pos,0,45,suma,'OU')\n",
    "    suma += 1"
   ]
  },
  {
   "cell_type": "code",
   "execution_count": 69,
   "metadata": {},
   "outputs": [],
   "source": [
    "!mencoder \"mf://*.png\" -o OH-Process-test6.mov -ovc lavc \\\n",
    "-lavcopts vcodec=msmpeg4v2:autoaspect:vbitrate=2160000:mbd=2:\\\n",
    "                keyint=132:vqblur=1.0:cmp=2\\:subcmp=2:dia=2:o=mpv_flags=+mv0:last_pred=3 -fps 1 > File_Out.txt 2>&1;"
   ]
  },
  {
   "cell_type": "code",
   "execution_count": null,
   "metadata": {},
   "outputs": [],
   "source": []
  },
  {
   "cell_type": "code",
   "execution_count": null,
   "metadata": {},
   "outputs": [],
   "source": []
  },
  {
   "cell_type": "code",
   "execution_count": 70,
   "metadata": {},
   "outputs": [
    {
     "name": "stdout",
     "output_type": "stream",
     "text": [
      "/Users/adrianovaldesgomez/Documents/Adriano_Programming/Ornstein-Uhlenbeck-Sim-2021\n"
     ]
    }
   ],
   "source": [
    "cd .."
   ]
  },
  {
   "cell_type": "code",
   "execution_count": 71,
   "metadata": {},
   "outputs": [],
   "source": [
    "mkdir Test7"
   ]
  },
  {
   "cell_type": "code",
   "execution_count": 72,
   "metadata": {},
   "outputs": [
    {
     "name": "stdout",
     "output_type": "stream",
     "text": [
      "/Users/adrianovaldesgomez/Documents/Adriano_Programming/Ornstein-Uhlenbeck-Sim-2021/Test7\n"
     ]
    }
   ],
   "source": [
    "cd Test7"
   ]
  },
  {
   "cell_type": "code",
   "execution_count": null,
   "metadata": {},
   "outputs": [],
   "source": []
  },
  {
   "cell_type": "code",
   "execution_count": 73,
   "metadata": {},
   "outputs": [
    {
     "name": "stdout",
     "output_type": "stream",
     "text": [
      "24.47778606414795\n"
     ]
    }
   ],
   "source": [
    "#OU_Simulator(n_parti, delta_t, gamma, Kb, m, T, U0, inten, m_steps, field)\n",
    "l_pos_t, l_vel_t = OU_Simulator(200, np.log(2)*1e-2, 1e-1, 1, 1, 1, 200, 1, 500, field_y10)"
   ]
  },
  {
   "cell_type": "code",
   "execution_count": 74,
   "metadata": {},
   "outputs": [],
   "source": [
    "suma = 0\n",
    "for pos in l_pos_t:\n",
    "    plot_particles(pos,0,45,suma,'OU')\n",
    "    suma += 1"
   ]
  },
  {
   "cell_type": "code",
   "execution_count": 75,
   "metadata": {},
   "outputs": [],
   "source": [
    "!mencoder \"mf://*.png\" -o OH-Process-test7.mov -ovc lavc \\\n",
    "-lavcopts vcodec=msmpeg4v2:autoaspect:vbitrate=2160000:mbd=2:\\\n",
    "                keyint=132:vqblur=1.0:cmp=2\\:subcmp=2:dia=2:o=mpv_flags=+mv0:last_pred=3 -fps 1 > File_Out.txt 2>&1;"
   ]
  },
  {
   "cell_type": "code",
   "execution_count": null,
   "metadata": {},
   "outputs": [],
   "source": []
  },
  {
   "cell_type": "code",
   "execution_count": 76,
   "metadata": {},
   "outputs": [
    {
     "name": "stdout",
     "output_type": "stream",
     "text": [
      "/Users/adrianovaldesgomez/Documents/Adriano_Programming/Ornstein-Uhlenbeck-Sim-2021\n"
     ]
    }
   ],
   "source": [
    "cd .."
   ]
  },
  {
   "cell_type": "code",
   "execution_count": 77,
   "metadata": {},
   "outputs": [],
   "source": [
    "mkdir Test8"
   ]
  },
  {
   "cell_type": "code",
   "execution_count": 78,
   "metadata": {},
   "outputs": [
    {
     "name": "stdout",
     "output_type": "stream",
     "text": [
      "/Users/adrianovaldesgomez/Documents/Adriano_Programming/Ornstein-Uhlenbeck-Sim-2021/Test8\n"
     ]
    }
   ],
   "source": [
    "cd Test8/"
   ]
  },
  {
   "cell_type": "code",
   "execution_count": null,
   "metadata": {},
   "outputs": [],
   "source": []
  },
  {
   "cell_type": "code",
   "execution_count": 82,
   "metadata": {},
   "outputs": [
    {
     "name": "stdout",
     "output_type": "stream",
     "text": [
      "30.88608694076538\n"
     ]
    }
   ],
   "source": [
    "#OU_Simulator(n_parti, delta_t, gamma, Kb, m, T, U0, inten, m_steps, field)\n",
    "l_pos_t, l_vel_t = OU_Simulator(300, np.log(2)*1e-2, 1e2, 1, 1, 1, 2000, 1, 500, field_y10)"
   ]
  },
  {
   "cell_type": "code",
   "execution_count": 83,
   "metadata": {},
   "outputs": [],
   "source": [
    "suma = 0\n",
    "for pos in l_pos_t:\n",
    "    plot_particles(pos,0,45,suma,'OU')\n",
    "    suma += 1"
   ]
  },
  {
   "cell_type": "code",
   "execution_count": 84,
   "metadata": {},
   "outputs": [],
   "source": [
    "!mencoder \"mf://*.png\" -o OH-Process-test8.mov -ovc lavc \\\n",
    "-lavcopts vcodec=msmpeg4v2:autoaspect:vbitrate=2160000:mbd=2:\\\n",
    "                keyint=132:vqblur=1.0:cmp=2\\:subcmp=2:dia=2:o=mpv_flags=+mv0:last_pred=3 -fps 1 > File_Out.txt 2>&1;"
   ]
  },
  {
   "cell_type": "code",
   "execution_count": null,
   "metadata": {},
   "outputs": [],
   "source": []
  },
  {
   "cell_type": "code",
   "execution_count": 85,
   "metadata": {},
   "outputs": [
    {
     "name": "stdout",
     "output_type": "stream",
     "text": [
      "/Users/adrianovaldesgomez/Documents/Adriano_Programming/Ornstein-Uhlenbeck-Sim-2021\n"
     ]
    }
   ],
   "source": [
    "cd .."
   ]
  },
  {
   "cell_type": "code",
   "execution_count": 86,
   "metadata": {},
   "outputs": [],
   "source": [
    "mkdir Test9"
   ]
  },
  {
   "cell_type": "code",
   "execution_count": 87,
   "metadata": {},
   "outputs": [
    {
     "name": "stdout",
     "output_type": "stream",
     "text": [
      "/Users/adrianovaldesgomez/Documents/Adriano_Programming/Ornstein-Uhlenbeck-Sim-2021/Test9\n"
     ]
    }
   ],
   "source": [
    "cd Test9"
   ]
  },
  {
   "cell_type": "code",
   "execution_count": null,
   "metadata": {},
   "outputs": [],
   "source": []
  },
  {
   "cell_type": "code",
   "execution_count": 88,
   "metadata": {},
   "outputs": [
    {
     "name": "stdout",
     "output_type": "stream",
     "text": [
      "63.181320905685425\n"
     ]
    }
   ],
   "source": [
    "#OU_Simulator(n_parti, delta_t, gamma, Kb, m, T, U0, inten, m_steps, field)\n",
    "l_pos_t, l_vel_t = OU_Simulator(600, np.log(2)*1e-2, 1e2, 1, 1, 1, 1000, 1, 500, field_y10)"
   ]
  },
  {
   "cell_type": "code",
   "execution_count": 89,
   "metadata": {},
   "outputs": [],
   "source": [
    "suma = 0\n",
    "for pos in l_pos_t:\n",
    "    plot_particles(pos,0,45,suma,'OU')\n",
    "    suma += 1\n",
    "    \n",
    "!mencoder \"mf://*.png\" -o OH-Process-test9.mov -ovc lavc \\\n",
    "-lavcopts vcodec=msmpeg4v2:autoaspect:vbitrate=2160000:mbd=2:\\\n",
    "                keyint=132:vqblur=1.0:cmp=2\\:subcmp=2:dia=2:o=mpv_flags=+mv0:last_pred=3 -fps 1 > File_Out.txt 2>&1;"
   ]
  },
  {
   "cell_type": "code",
   "execution_count": null,
   "metadata": {},
   "outputs": [],
   "source": []
  },
  {
   "cell_type": "code",
   "execution_count": null,
   "metadata": {},
   "outputs": [],
   "source": []
  },
  {
   "cell_type": "markdown",
   "metadata": {},
   "source": [
    "## Other Field Y20 in the over damped limit"
   ]
  },
  {
   "cell_type": "code",
   "execution_count": 94,
   "metadata": {},
   "outputs": [
    {
     "name": "stdout",
     "output_type": "stream",
     "text": [
      "/Users/adrianovaldesgomez/Documents/Adriano_Programming/Ornstein-Uhlenbeck-Sim-2021\n"
     ]
    }
   ],
   "source": [
    "cd .."
   ]
  },
  {
   "cell_type": "code",
   "execution_count": 95,
   "metadata": {},
   "outputs": [
    {
     "name": "stdout",
     "output_type": "stream",
     "text": [
      "mkdir: Test10: File exists\r\n"
     ]
    }
   ],
   "source": [
    "mkdir Test10"
   ]
  },
  {
   "cell_type": "code",
   "execution_count": 96,
   "metadata": {},
   "outputs": [
    {
     "name": "stdout",
     "output_type": "stream",
     "text": [
      "/Users/adrianovaldesgomez/Documents/Adriano_Programming/Ornstein-Uhlenbeck-Sim-2021/Test10\n"
     ]
    }
   ],
   "source": [
    "cd Test10"
   ]
  },
  {
   "cell_type": "code",
   "execution_count": 97,
   "metadata": {},
   "outputs": [
    {
     "data": {
      "text/plain": [
       "'/Users/adrianovaldesgomez/Documents/Adriano_Programming/Ornstein-Uhlenbeck-Sim-2021/Test10'"
      ]
     },
     "execution_count": 97,
     "metadata": {},
     "output_type": "execute_result"
    }
   ],
   "source": [
    "pwd"
   ]
  },
  {
   "cell_type": "code",
   "execution_count": 99,
   "metadata": {},
   "outputs": [
    {
     "name": "stdout",
     "output_type": "stream",
     "text": [
      "36.73561716079712\n"
     ]
    }
   ],
   "source": [
    "#OU_Simulator(n_parti, delta_t, gamma, Kb, m, T, U0, inten, m_steps, field)\n",
    "l_pos_t, l_vel_t = OU_Simulator(600, np.log(2)*1e-2, 1e2, 1, 1, 1, 400, 1, 300, field_y20)"
   ]
  },
  {
   "cell_type": "code",
   "execution_count": null,
   "metadata": {},
   "outputs": [],
   "source": [
    "suma = 0\n",
    "for pos in l_pos_t:\n",
    "    plot_particles(pos,0,45,suma,'OU')\n",
    "    suma += 1\n",
    "    \n",
    "!mencoder \"mf://*.png\" -o OH-Process-test10.mov -ovc lavc \\\n",
    "-lavcopts vcodec=msmpeg4v2:autoaspect:vbitrate=2160000:mbd=2:\\\n",
    "                keyint=132:vqblur=1.0:cmp=2\\:subcmp=2:dia=2:o=mpv_flags=+mv0:last_pred=3 -fps 1 > File_Out.txt 2>&1;"
   ]
  },
  {
   "cell_type": "code",
   "execution_count": null,
   "metadata": {},
   "outputs": [],
   "source": []
  },
  {
   "cell_type": "code",
   "execution_count": null,
   "metadata": {},
   "outputs": [],
   "source": []
  },
  {
   "cell_type": "code",
   "execution_count": null,
   "metadata": {},
   "outputs": [],
   "source": []
  }
 ],
 "metadata": {
  "kernelspec": {
   "display_name": "Python 3",
   "language": "python",
   "name": "python3"
  },
  "language_info": {
   "codemirror_mode": {
    "name": "ipython",
    "version": 3
   },
   "file_extension": ".py",
   "mimetype": "text/x-python",
   "name": "python",
   "nbconvert_exporter": "python",
   "pygments_lexer": "ipython3",
   "version": "3.8.3"
  }
 },
 "nbformat": 4,
 "nbformat_minor": 4
}
