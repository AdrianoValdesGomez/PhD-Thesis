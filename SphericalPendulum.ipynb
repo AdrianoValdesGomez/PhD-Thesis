{
 "cells": [
  {
   "cell_type": "markdown",
   "metadata": {},
   "source": [
    "# Numerical integration of the Lagrange equation of the Spherical Pendulum"
   ]
  },
  {
   "cell_type": "code",
   "execution_count": 2,
   "metadata": {},
   "outputs": [],
   "source": [
    "import numpy as np"
   ]
  },
  {
   "cell_type": "code",
   "execution_count": 8,
   "metadata": {},
   "outputs": [],
   "source": [
    "from matplotlib import pyplot as plt"
   ]
  },
  {
   "cell_type": "code",
   "execution_count": 9,
   "metadata": {},
   "outputs": [],
   "source": [
    "matplotlib inline"
   ]
  },
  {
   "cell_type": "code",
   "execution_count": 10,
   "metadata": {},
   "outputs": [],
   "source": [
    "%config InlineBackend.figure_format ='retina'"
   ]
  },
  {
   "cell_type": "code",
   "execution_count": null,
   "metadata": {},
   "outputs": [],
   "source": []
  },
  {
   "cell_type": "markdown",
   "metadata": {},
   "source": [
    "Lagrangian\n",
    "\n",
    "\n",
    "$$L = \\frac{1}{2}m [r^2 \\dot{\\theta}^2 + r^2 \\sin{\\theta} \\dot{\\varphi}^2] - mg r \\cos{\\theta}$$\n",
    "\n",
    "Lagrange Equations\n",
    "\n",
    "\n",
    "\\begin{align}\n",
    "\\ddot{\\theta} - \\left(\\dot{\\varphi}^2 \\cos{\\theta} + \\frac{g}{r}\\right) \\sin{\\theta} &= 0 \\\\\n",
    "\\frac{d}{dt}\\left(m r^2 \\sin^2{\\theta} \\dot{\\varphi}\\right) &= 0 \\\n",
    "\\end{align}\n"
   ]
  },
  {
   "cell_type": "markdown",
   "metadata": {},
   "source": [
    "## Euler Algorithm"
   ]
  },
  {
   "cell_type": "markdown",
   "metadata": {},
   "source": [
    "\n",
    "\n",
    "\\begin{align}\n",
    "\\theta_{n+1} &= \\theta_{n} + \\dot{\\theta}_{n} \\Delta t \\\\\n",
    "\\phi_{n+1} &= \\phi_{n} + \\dot{\\phi}_{n} \\Delta t \\\\\n",
    "\\dot{\\theta}_{n+1} &= \\dot{\\theta}_{n} + \\left[\\dot{\\phi}^2_{n}\\cos{\\theta_{n}} + \\frac{g}{r} \\right] \\sin{\\theta_{n}} \\Delta t \\\\\n",
    "\\dot{\\phi}_{n+1} &= \\dot{\\phi}_{n} + 2 \\cot{\\theta_{n}} \\dot{\\theta}_{n} \\dot{\\phi}_{n} \\Delta t \\\n",
    "\\end{align}\n",
    "\n"
   ]
  },
  {
   "cell_type": "code",
   "execution_count": 111,
   "metadata": {},
   "outputs": [],
   "source": [
    "long_sim = 2000\n",
    "thetas = np.zeros(long_sim)\n",
    "phis = np.zeros(long_sim)\n",
    "dot_thetas = np.zeros(long_sim)\n",
    "dot_phis = np.zeros(long_sim)"
   ]
  },
  {
   "cell_type": "code",
   "execution_count": 142,
   "metadata": {},
   "outputs": [],
   "source": [
    "#Time Step\n",
    "Delta_t = np.log(2)*1e-2\n",
    "g = 10\n",
    "#Initial Conditions\n",
    "thetas[0] = np.pi/2\n",
    "phis[0] = 0\n",
    "dot_thetas[0] = 0\n",
    "dot_phis[0] = 1\n",
    "\n",
    "for n in range(long_sim-1):\n",
    "    thetas[n+1] = thetas[n] + dot_thetas[n]*Delta_t\n",
    "    phis[n+1] = phis[n] + dot_phis[n]*Delta_t\n",
    "    dot_thetas[n+1] = dot_thetas[n] + (dot_phis[n]**2*np.cos(thetas[n]) + g)*np.sin(thetas[n]) * Delta_t\n",
    "    if abs(thetas[n] % np.pi) <  0.1:\n",
    "        dot_phis[n+1] = dot_phis[n]\n",
    "    if dot_phis[n+1] > 100000:\n",
    "        dot_phis[n+1] = 100000\n",
    "    elif dot_thetas[n+1] > 100000:\n",
    "        dot_thetas[n+1] = 100000\n",
    "    else:\n",
    "        dot_phis[n+1] = dot_phis[n] + 2 * np.cos(thetas[n])/np.sin(thetas[n]) * dot_thetas[n] * dot_phis[n] * Delta_t\n",
    "    #print(thetas[n+1], phis[n+1], dot_thetas[n+1],dot_phis[n])"
   ]
  },
  {
   "cell_type": "code",
   "execution_count": 130,
   "metadata": {},
   "outputs": [],
   "source": [
    "tiempos = [0]\n",
    "suma = 0\n",
    "for i in range(long_sim-1):\n",
    "    suma += i*Delta_t\n",
    "    tiempos.append(suma)"
   ]
  },
  {
   "cell_type": "code",
   "execution_count": null,
   "metadata": {},
   "outputs": [],
   "source": []
  },
  {
   "cell_type": "code",
   "execution_count": null,
   "metadata": {},
   "outputs": [],
   "source": []
  },
  {
   "cell_type": "code",
   "execution_count": 137,
   "metadata": {},
   "outputs": [],
   "source": [
    "#pos_t = np.array([np.sin(thetas)*np.cos(phis), np.sin(thetas)*np.sin(phis), np.cos(thetas)])\n",
    "pos_t = []\n",
    "for i in range(thetas.shape[0]):\n",
    "    pos_t.append(np.array([np.sin(thetas[i])*np.cos(phis[i]), np.sin(thetas[i])*np.sin(phis[i]), np.cos(thetas[i])]))"
   ]
  },
  {
   "cell_type": "code",
   "execution_count": 138,
   "metadata": {},
   "outputs": [
    {
     "data": {
      "text/plain": [
       "2000"
      ]
     },
     "execution_count": 138,
     "metadata": {},
     "output_type": "execute_result"
    }
   ],
   "source": [
    "len(pos_t)"
   ]
  },
  {
   "cell_type": "code",
   "execution_count": 18,
   "metadata": {},
   "outputs": [
    {
     "data": {
      "text/plain": [
       "<Figure size 432x288 with 0 Axes>"
      ]
     },
     "metadata": {},
     "output_type": "display_data"
    }
   ],
   "source": [
    "run  /Users/adrianovaldesgomez/Repos/PhD-Thesis/py/phd_python_documented_code.py"
   ]
  },
  {
   "cell_type": "code",
   "execution_count": 133,
   "metadata": {},
   "outputs": [
    {
     "data": {
      "text/plain": [
       "'/Users/adrianovaldesgomez/Documents/Adriano_Programming/Spherical_Pendulum'"
      ]
     },
     "execution_count": 133,
     "metadata": {},
     "output_type": "execute_result"
    }
   ],
   "source": [
    "pwd"
   ]
  },
  {
   "cell_type": "code",
   "execution_count": 20,
   "metadata": {},
   "outputs": [],
   "source": [
    "mkdir Spherical_Pendulum"
   ]
  },
  {
   "cell_type": "code",
   "execution_count": 21,
   "metadata": {},
   "outputs": [
    {
     "name": "stdout",
     "output_type": "stream",
     "text": [
      "/Users/adrianovaldesgomez/Documents/Adriano_Programming/Spherical_Pendulum\n"
     ]
    }
   ],
   "source": [
    "cd Spherical_Pendulum/"
   ]
  },
  {
   "cell_type": "code",
   "execution_count": 128,
   "metadata": {},
   "outputs": [
    {
     "data": {
      "text/plain": [
       "'/Users/adrianovaldesgomez/Documents/Adriano_Programming/Spherical_Pendulum'"
      ]
     },
     "execution_count": 128,
     "metadata": {},
     "output_type": "execute_result"
    }
   ],
   "source": [
    "pwd"
   ]
  },
  {
   "cell_type": "code",
   "execution_count": 139,
   "metadata": {},
   "outputs": [],
   "source": [
    "for i in range(len(pos_t)):\n",
    "    plot_particles([pos_t[i]],0,0,i,'SP')"
   ]
  },
  {
   "cell_type": "code",
   "execution_count": null,
   "metadata": {},
   "outputs": [],
   "source": []
  },
  {
   "cell_type": "code",
   "execution_count": 140,
   "metadata": {},
   "outputs": [],
   "source": [
    "!mencoder \"mf://*.png\" -o Spherical_Pendulum-vphi1e0_Equator-congruent2.mov -ovc lavc \\\n",
    "-lavcopts vcodec=msmpeg4v2:autoaspect:vbitrate=2160000:mbd=2:\\\n",
    "                keyint=132:vqblur=1.0:cmp=2\\:subcmp=2:dia=2:o=mpv_flags=+mv0:last_pred=3 -fps 1 > File_Out.txt 2>&1;"
   ]
  },
  {
   "cell_type": "code",
   "execution_count": null,
   "metadata": {},
   "outputs": [],
   "source": []
  }
 ],
 "metadata": {
  "kernelspec": {
   "display_name": "Python 3",
   "language": "python",
   "name": "python3"
  },
  "language_info": {
   "codemirror_mode": {
    "name": "ipython",
    "version": 3
   },
   "file_extension": ".py",
   "mimetype": "text/x-python",
   "name": "python",
   "nbconvert_exporter": "python",
   "pygments_lexer": "ipython3",
   "version": "3.8.3"
  }
 },
 "nbformat": 4,
 "nbformat_minor": 4
}
