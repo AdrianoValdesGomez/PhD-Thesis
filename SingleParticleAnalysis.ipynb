{
 "cells": [
  {
   "cell_type": "code",
   "execution_count": 117,
   "metadata": {},
   "outputs": [],
   "source": [
    "import time\n",
    "from mpl_toolkits.axes_grid1.inset_locator import inset_axes\n",
    "import h5py\n",
    "import matplotlib.pyplot as plt\n",
    "from scipy import integrate"
   ]
  },
  {
   "cell_type": "code",
   "execution_count": null,
   "metadata": {},
   "outputs": [],
   "source": []
  },
  {
   "cell_type": "code",
   "execution_count": 2,
   "metadata": {},
   "outputs": [],
   "source": [
    "run  /Users/adrianovaldesgomez/Repos/PhD-Thesis/py/phd_python_documented_code.py"
   ]
  },
  {
   "cell_type": "code",
   "execution_count": null,
   "metadata": {},
   "outputs": [],
   "source": []
  },
  {
   "cell_type": "code",
   "execution_count": null,
   "metadata": {},
   "outputs": [],
   "source": []
  },
  {
   "cell_type": "code",
   "execution_count": 4,
   "metadata": {},
   "outputs": [
    {
     "data": {
      "text/plain": [
       "'/Users/adrianovaldesgomez/Documents/Adriano_Programming'"
      ]
     },
     "execution_count": 4,
     "metadata": {},
     "output_type": "execute_result"
    }
   ],
   "source": [
    "pwd"
   ]
  },
  {
   "cell_type": "code",
   "execution_count": 5,
   "metadata": {},
   "outputs": [],
   "source": [
    "mkdir Single_Particle_Sim"
   ]
  },
  {
   "cell_type": "code",
   "execution_count": 436,
   "metadata": {},
   "outputs": [
    {
     "name": "stdout",
     "output_type": "stream",
     "text": [
      "/Users/adrianovaldesgomez/Documents/Adriano_Programming/Single_Particle_Sim\n"
     ]
    }
   ],
   "source": [
    "cd Single_Particle_Sim/"
   ]
  },
  {
   "cell_type": "code",
   "execution_count": 437,
   "metadata": {},
   "outputs": [],
   "source": [
    "mkdir Y30_Sim_dt1e-3_southpole"
   ]
  },
  {
   "cell_type": "code",
   "execution_count": 438,
   "metadata": {},
   "outputs": [
    {
     "name": "stdout",
     "output_type": "stream",
     "text": [
      "[Errno 2] No such file or directory: 'Y20_Sim_dt1e-3_southpole/'\n",
      "/Users/adrianovaldesgomez/Documents/Adriano_Programming/Single_Particle_Sim\n"
     ]
    }
   ],
   "source": [
    "cd Y20_Sim_dt1e-3_southpole/"
   ]
  },
  {
   "cell_type": "code",
   "execution_count": 439,
   "metadata": {},
   "outputs": [
    {
     "data": {
      "text/plain": [
       "'/Users/adrianovaldesgomez/Documents/Adriano_Programming/Single_Particle_Sim'"
      ]
     },
     "execution_count": 439,
     "metadata": {},
     "output_type": "execute_result"
    }
   ],
   "source": [
    "pwd"
   ]
  },
  {
   "cell_type": "code",
   "execution_count": 443,
   "metadata": {},
   "outputs": [
    {
     "name": "stdout",
     "output_type": "stream",
     "text": [
      "\u001b[34mY20_Sim_dt1e-1\u001b[m\u001b[m/           \u001b[34mY20_Sim_dt1e-2\u001b[m\u001b[m/           \u001b[34mY20_Sim_dt1e-3\u001b[m\u001b[m/\r\n",
      "\u001b[34mY20_Sim_dt1e-1_southpole\u001b[m\u001b[m/ \u001b[34mY20_Sim_dt1e-2_southpole\u001b[m\u001b[m/ \u001b[34mY30_Sim_dt1e-3_southpole\u001b[m\u001b[m/\r\n"
     ]
    }
   ],
   "source": [
    "ls"
   ]
  },
  {
   "cell_type": "code",
   "execution_count": 444,
   "metadata": {},
   "outputs": [
    {
     "name": "stdout",
     "output_type": "stream",
     "text": [
      "/Users/adrianovaldesgomez/Documents/Adriano_Programming/Single_Particle_Sim/Y30_Sim_dt1e-3_southpole\n"
     ]
    }
   ],
   "source": [
    "cd Y30_Sim_dt1e-3_southpole/"
   ]
  },
  {
   "cell_type": "code",
   "execution_count": 442,
   "metadata": {},
   "outputs": [
    {
     "name": "stdout",
     "output_type": "stream",
     "text": [
      "/Users/adrianovaldesgomez/Documents/Adriano_Programming/Single_Particle_Sim\n"
     ]
    }
   ],
   "source": [
    "cd .."
   ]
  },
  {
   "cell_type": "markdown",
   "metadata": {},
   "source": [
    "\n",
    "\n",
    "10000 particles simulated 10000 monte carlo steps took 23468.98476600647 seconds ( approximately 6.5 hours)\n"
   ]
  },
  {
   "cell_type": "code",
   "execution_count": 7,
   "metadata": {},
   "outputs": [
    {
     "data": {
      "text/plain": [
       "6.519162435001797"
      ]
     },
     "execution_count": 7,
     "metadata": {},
     "output_type": "execute_result"
    }
   ],
   "source": [
    "23468.98476600647/3600"
   ]
  },
  {
   "cell_type": "code",
   "execution_count": 91,
   "metadata": {},
   "outputs": [],
   "source": [
    "polo_n?"
   ]
  },
  {
   "cell_type": "code",
   "execution_count": 397,
   "metadata": {},
   "outputs": [
    {
     "data": {
      "text/plain": [
       "'/Users/adrianovaldesgomez/Documents/Adriano_Programming/Single_Particle_Sim/Y20_Sim'"
      ]
     },
     "execution_count": 397,
     "metadata": {},
     "output_type": "execute_result"
    }
   ],
   "source": [
    "pwd"
   ]
  },
  {
   "cell_type": "code",
   "execution_count": 463,
   "metadata": {},
   "outputs": [
    {
     "name": "stdout",
     "output_type": "stream",
     "text": [
      "/Users/adrianovaldesgomez/Documents/Adriano_Programming/Single_Particle_Sim/MC1e6\n"
     ]
    }
   ],
   "source": [
    "cd .."
   ]
  },
  {
   "cell_type": "code",
   "execution_count": 464,
   "metadata": {},
   "outputs": [
    {
     "data": {
      "text/plain": [
       "'/Users/adrianovaldesgomez/Documents/Adriano_Programming/Single_Particle_Sim/MC1e6'"
      ]
     },
     "execution_count": 464,
     "metadata": {},
     "output_type": "execute_result"
    }
   ],
   "source": [
    "pwd"
   ]
  },
  {
   "cell_type": "code",
   "execution_count": 465,
   "metadata": {},
   "outputs": [
    {
     "name": "stdout",
     "output_type": "stream",
     "text": [
      "\u001b[34mdte-3\u001b[m\u001b[m/\r\n"
     ]
    }
   ],
   "source": [
    "ls"
   ]
  },
  {
   "cell_type": "code",
   "execution_count": 534,
   "metadata": {},
   "outputs": [],
   "source": [
    "mkdir MC1e7"
   ]
  },
  {
   "cell_type": "code",
   "execution_count": 535,
   "metadata": {},
   "outputs": [
    {
     "name": "stdout",
     "output_type": "stream",
     "text": [
      "/Users/adrianovaldesgomez/Documents/Adriano_Programming/Single_Particle_Sim/MC1e7\n"
     ]
    }
   ],
   "source": [
    "cd MC1e7/"
   ]
  },
  {
   "cell_type": "code",
   "execution_count": 562,
   "metadata": {},
   "outputs": [],
   "source": [
    "mkdir dte-1"
   ]
  },
  {
   "cell_type": "code",
   "execution_count": 563,
   "metadata": {},
   "outputs": [
    {
     "name": "stdout",
     "output_type": "stream",
     "text": [
      "/Users/adrianovaldesgomez/Documents/Adriano_Programming/Single_Particle_Sim/MC1e7/dte-1\n"
     ]
    }
   ],
   "source": [
    "cd dte-1/"
   ]
  },
  {
   "cell_type": "code",
   "execution_count": 569,
   "metadata": {},
   "outputs": [],
   "source": [
    "mkdir der"
   ]
  },
  {
   "cell_type": "code",
   "execution_count": 570,
   "metadata": {},
   "outputs": [
    {
     "name": "stdout",
     "output_type": "stream",
     "text": [
      "/Users/adrianovaldesgomez/Documents/Adriano_Programming/Single_Particle_Sim/MC1e7/dte-1/der\n"
     ]
    }
   ],
   "source": [
    "cd der/"
   ]
  },
  {
   "cell_type": "code",
   "execution_count": 760,
   "metadata": {},
   "outputs": [
    {
     "name": "stdout",
     "output_type": "stream",
     "text": [
      "/Users/adrianovaldesgomez/Documents/Adriano_Programming/Single_Particle_Sim/MC1e7/dte-1\n"
     ]
    }
   ],
   "source": [
    "cd .."
   ]
  },
  {
   "cell_type": "code",
   "execution_count": 749,
   "metadata": {},
   "outputs": [
    {
     "name": "stdout",
     "output_type": "stream",
     "text": [
      "\u001b[34mMC1e5\u001b[m\u001b[m/                    \u001b[34mY20_Sim_dt1e-1\u001b[m\u001b[m/           \u001b[34mY20_Sim_dt1e-2_southpole\u001b[m\u001b[m/\r\n",
      "\u001b[34mMC1e6\u001b[m\u001b[m/                    \u001b[34mY20_Sim_dt1e-1_southpole\u001b[m\u001b[m/ \u001b[34mY20_Sim_dt1e-3\u001b[m\u001b[m/\r\n",
      "\u001b[34mMC1e7\u001b[m\u001b[m/                    \u001b[34mY20_Sim_dt1e-2\u001b[m\u001b[m/           \u001b[34mY30_Sim_dt1e-3_southpole\u001b[m\u001b[m/\r\n"
     ]
    }
   ],
   "source": [
    "ls"
   ]
  },
  {
   "cell_type": "code",
   "execution_count": 750,
   "metadata": {},
   "outputs": [
    {
     "name": "stdout",
     "output_type": "stream",
     "text": [
      "/Users/adrianovaldesgomez/Documents/Adriano_Programming/Single_Particle_Sim/MC1e7\n"
     ]
    }
   ],
   "source": [
    "cd MC1e7/"
   ]
  },
  {
   "cell_type": "code",
   "execution_count": 675,
   "metadata": {},
   "outputs": [
    {
     "name": "stdout",
     "output_type": "stream",
     "text": [
      "\u001b[34mdte-1\u001b[m\u001b[m/ \u001b[34mdte-2\u001b[m\u001b[m/ \u001b[34mdte-3\u001b[m\u001b[m/\r\n"
     ]
    }
   ],
   "source": [
    "ls"
   ]
  },
  {
   "cell_type": "code",
   "execution_count": 752,
   "metadata": {},
   "outputs": [
    {
     "name": "stdout",
     "output_type": "stream",
     "text": [
      "/Users/adrianovaldesgomez/Documents/Adriano_Programming/Single_Particle_Sim/MC1e7/dte-1\n"
     ]
    }
   ],
   "source": [
    "cd dte-1"
   ]
  },
  {
   "cell_type": "code",
   "execution_count": 761,
   "metadata": {},
   "outputs": [
    {
     "name": "stdout",
     "output_type": "stream",
     "text": [
      "/Users/adrianovaldesgomez/Documents/Adriano_Programming/Single_Particle_Sim/MC1e7/dte-1/der\n"
     ]
    }
   ],
   "source": [
    "cd der/"
   ]
  },
  {
   "cell_type": "code",
   "execution_count": 769,
   "metadata": {},
   "outputs": [
    {
     "data": {
      "text/plain": [
       "'/Users/adrianovaldesgomez/Documents/Adriano_Programming/Single_Particle_Sim/MC1e7/dte-1/der'"
      ]
     },
     "execution_count": 769,
     "metadata": {},
     "output_type": "execute_result"
    }
   ],
   "source": [
    "pwd"
   ]
  },
  {
   "cell_type": "code",
   "execution_count": 770,
   "metadata": {},
   "outputs": [
    {
     "name": "stdout",
     "output_type": "stream",
     "text": [
      "--- 1632.5908420085907 seconds ---\n"
     ]
    }
   ],
   "source": [
    "#Vamos a usar esta plantilla para calcular el desplasamiento medio cuadratico\n",
    "#en el caso de un campo externo con cuatro puntos criticos\n",
    "#el ensamble parte del polo norte explotando la simetria del problema\n",
    "\n",
    "start_time = time.time()\n",
    "#Parametros de la simulacion\n",
    "D = 1e-1\n",
    "dt = np.log(2)*1e-1\n",
    "v0 = 5.0*np.sqrt(2*D)*dt\n",
    "#v0 = 0.\n",
    "\n",
    "#dist_uni = polo_n(10000,1.)\n",
    "\n",
    "N_ens = 1\n",
    "\n",
    "#dist_uni = obs_uniforme(N_ens, 1., 0)\n",
    "#dist_uni = polo_n(N_ens,1)\n",
    "dist_uni = polo_s(N_ens)\n",
    "\n",
    "\n",
    "MC_steps = 10000000\n",
    "\n",
    "\n",
    "#plot_potential(dist_uni,0,0,0)\n",
    "rs = dist_uni\n",
    "\n",
    "l_rs = [rs]\n",
    "\n",
    "\n",
    "#Variables iniciales para el analisis estadistico\n",
    "\n",
    "ht0, mt0, vt0 = mean_var_hist_theta(rs)\n",
    "\n",
    "\n",
    "#hp0, mp0, vp0 = mean_var_hist_phis(rs)\n",
    "mean_thetas_t = [mt0]\n",
    "var_thetas_t = [vt0]\n",
    "#mean_phis_t = [mp0]\n",
    "#var_phis_t = [vp0]\n",
    "\n",
    "\n",
    "histograma_thetas_t = [ht0]\n",
    "\n",
    "\n",
    "#histograma_phis_t = [hp0]\n",
    "\n",
    "\n",
    "for i in range(MC_steps):\n",
    "         \n",
    "        nuevas_pos = act_n_field(rs, v0, field_y20, D, dt)\n",
    "        #plot_potential(nuevas_pos, 0, 0, i + 1)\n",
    "        rs = nuevas_pos\n",
    "        l_rs.append(rs)\n",
    "        \n",
    "        ht, mt, vt = mean_var_hist_theta(rs)\n",
    "        \n",
    "        #hp, mp, vp = mean_var_hist_phis(rs)\n",
    "        \n",
    "        histograma_thetas_t.append(ht)\n",
    "        \n",
    "        #histograma_phis_t.append(hp)\n",
    "        \n",
    "        mean_thetas_t.append(mt)\n",
    "        var_thetas_t.append(vt)\n",
    "        #mean_phis_t.append(mp)\n",
    "        #var_phis_t.append(vp)\n",
    "        \n",
    "        \n",
    "array_pos_t = np.array(l_rs)\n",
    "    \n",
    "with h5py.File('pos_array.h5', 'w') as hf:\n",
    "            hf.create_dataset(\"pos-ds_D_{}_Odt_{}_N_{}_MC_S_{}\".format(D,'-3',N_ens, MC_steps),  data=array_pos_t)\n",
    "      \n",
    "\n",
    "\n",
    "    \n",
    "    \n",
    "np.savetxt(\"Y20UD_Hist_Theta_t.txt\", histograma_thetas_t)\n",
    "\n",
    "\n",
    "#np.savetxt(\"Dpole_North_ini_dist_Hist_Phi_t2.txt\", histograma_phis_t)\n",
    "np.savetxt(\"Y20_Mean_Theta_t2.txt\", mean_thetas_t)\n",
    "#np.savetxt(\"Dpole_North_ini_dist_Mean_phi_t2.txt\", mean_phis_t)\n",
    "np.savetxt(\"Y20_Var_Theta_t2.txt\", var_thetas_t)\n",
    "#np.savetxt(\"Dpole_North_ini_dist_Var_Phi_t2.txt\", var_phis_t)\n",
    "#np.savetxt(\"Dpole_North_ini_dist_Mean_Theta_t2.txt\", mean_thetas_t)\n",
    "\n",
    "\n",
    "#df_rs = pd.DataFrame(l_rs)\n",
    "#df_rs.to_csv(\"l_rs.csv\", index=False, header=False)\n",
    "\n",
    "\n",
    "print(\"--- %s seconds ---\" % (time.time() - start_time))"
   ]
  },
  {
   "cell_type": "code",
   "execution_count": 704,
   "metadata": {},
   "outputs": [
    {
     "data": {
      "text/plain": [
       "'/Users/adrianovaldesgomez/Documents/Adriano_Programming/Single_Particle_Sim/MC1e6/dte-2/der'"
      ]
     },
     "execution_count": 704,
     "metadata": {},
     "output_type": "execute_result"
    }
   ],
   "source": [
    "pwd"
   ]
  },
  {
   "cell_type": "code",
   "execution_count": 703,
   "metadata": {},
   "outputs": [
    {
     "name": "stdout",
     "output_type": "stream",
     "text": [
      "total 194360\r\n",
      "49160 -rw-r--r--  1 adrianovaldesgomez  staff  25000025 May  3 15:15 Y20UD_Hist_Theta_t.txt\r\n",
      "49160 -rw-r--r--  1 adrianovaldesgomez  staff  25000025 May  3 15:15 Y20_Mean_Theta_t2.txt\r\n",
      "49160 -rw-r--r--  1 adrianovaldesgomez  staff  25000025 May  3 15:15 Y20_Var_Theta_t2.txt\r\n",
      "46880 -rw-r--r--  1 adrianovaldesgomez  staff  24002072 May  3 15:15 pos_array.h5\r\n"
     ]
    }
   ],
   "source": [
    "ls -ls"
   ]
  },
  {
   "cell_type": "code",
   "execution_count": 94,
   "metadata": {},
   "outputs": [
    {
     "data": {
      "text/plain": [
       "0.0015499242141443585"
      ]
     },
     "execution_count": 94,
     "metadata": {},
     "output_type": "execute_result"
    }
   ],
   "source": [
    "v0"
   ]
  },
  {
   "cell_type": "markdown",
   "metadata": {},
   "source": [
    "## EDA"
   ]
  },
  {
   "cell_type": "code",
   "execution_count": 95,
   "metadata": {},
   "outputs": [],
   "source": [
    "suma = 0\n",
    "tiempos = []\n",
    "for i in range(len(l_rs)):\n",
    "    tiempos.append(suma)\n",
    "    suma += dt\n",
    "tiempos = np.array(tiempos)"
   ]
  },
  {
   "cell_type": "code",
   "execution_count": 96,
   "metadata": {},
   "outputs": [
    {
     "data": {
      "text/plain": [
       "[<matplotlib.lines.Line2D at 0x7fc4889b92b0>]"
      ]
     },
     "execution_count": 96,
     "metadata": {},
     "output_type": "execute_result"
    },
    {
     "data": {
      "image/png": "[encoded data removed]",
      "text/plain": [
       "<Figure size 432x288 with 1 Axes>"
      ]
     },
     "metadata": {
      "needs_background": "light"
     },
     "output_type": "display_data"
    }
   ],
   "source": [
    "plt.plot(tiempos, mean_thetas_t)"
   ]
  },
  {
   "cell_type": "code",
   "execution_count": null,
   "metadata": {},
   "outputs": [],
   "source": []
  },
  {
   "cell_type": "code",
   "execution_count": 70,
   "metadata": {},
   "outputs": [],
   "source": [
    "import pandas as pd"
   ]
  },
  {
   "cell_type": "code",
   "execution_count": 97,
   "metadata": {},
   "outputs": [],
   "source": [
    "mi_dict = {'tiempo': tiempos, 'theta': mean_thetas_t}\n"
   ]
  },
  {
   "cell_type": "code",
   "execution_count": 98,
   "metadata": {},
   "outputs": [],
   "source": [
    "df = pd.DataFrame.from_dict(mi_dict)"
   ]
  },
  {
   "cell_type": "code",
   "execution_count": 99,
   "metadata": {},
   "outputs": [
    {
     "data": {
      "text/html": [
       "<div>\n",
       "<style scoped>\n",
       "    .dataframe tbody tr th:only-of-type {\n",
       "        vertical-align: middle;\n",
       "    }\n",
       "\n",
       "    .dataframe tbody tr th {\n",
       "        vertical-align: top;\n",
       "    }\n",
       "\n",
       "    .dataframe thead th {\n",
       "        text-align: right;\n",
       "    }\n",
       "</style>\n",
       "<table border=\"1\" class=\"dataframe\">\n",
       "  <thead>\n",
       "    <tr style=\"text-align: right;\">\n",
       "      <th></th>\n",
       "      <th>tiempo</th>\n",
       "      <th>theta</th>\n",
       "    </tr>\n",
       "  </thead>\n",
       "  <tbody>\n",
       "    <tr>\n",
       "      <th>0</th>\n",
       "      <td>0.000000</td>\n",
       "      <td>0.000000</td>\n",
       "    </tr>\n",
       "    <tr>\n",
       "      <th>1</th>\n",
       "      <td>0.000693</td>\n",
       "      <td>0.015228</td>\n",
       "    </tr>\n",
       "    <tr>\n",
       "      <th>2</th>\n",
       "      <td>0.001386</td>\n",
       "      <td>0.018477</td>\n",
       "    </tr>\n",
       "    <tr>\n",
       "      <th>3</th>\n",
       "      <td>0.002079</td>\n",
       "      <td>0.014993</td>\n",
       "    </tr>\n",
       "    <tr>\n",
       "      <th>4</th>\n",
       "      <td>0.002773</td>\n",
       "      <td>0.022262</td>\n",
       "    </tr>\n",
       "  </tbody>\n",
       "</table>\n",
       "</div>"
      ],
      "text/plain": [
       "     tiempo     theta\n",
       "0  0.000000  0.000000\n",
       "1  0.000693  0.015228\n",
       "2  0.001386  0.018477\n",
       "3  0.002079  0.014993\n",
       "4  0.002773  0.022262"
      ]
     },
     "execution_count": 99,
     "metadata": {},
     "output_type": "execute_result"
    }
   ],
   "source": [
    "df.head()"
   ]
  },
  {
   "cell_type": "code",
   "execution_count": 100,
   "metadata": {},
   "outputs": [],
   "source": [
    "df.set_index('tiempo', inplace=True)"
   ]
  },
  {
   "cell_type": "code",
   "execution_count": 101,
   "metadata": {},
   "outputs": [
    {
     "data": {
      "text/html": [
       "<div>\n",
       "<style scoped>\n",
       "    .dataframe tbody tr th:only-of-type {\n",
       "        vertical-align: middle;\n",
       "    }\n",
       "\n",
       "    .dataframe tbody tr th {\n",
       "        vertical-align: top;\n",
       "    }\n",
       "\n",
       "    .dataframe thead th {\n",
       "        text-align: right;\n",
       "    }\n",
       "</style>\n",
       "<table border=\"1\" class=\"dataframe\">\n",
       "  <thead>\n",
       "    <tr style=\"text-align: right;\">\n",
       "      <th></th>\n",
       "      <th>theta</th>\n",
       "    </tr>\n",
       "    <tr>\n",
       "      <th>tiempo</th>\n",
       "      <th></th>\n",
       "    </tr>\n",
       "  </thead>\n",
       "  <tbody>\n",
       "    <tr>\n",
       "      <th>0.000000</th>\n",
       "      <td>0.000000</td>\n",
       "    </tr>\n",
       "    <tr>\n",
       "      <th>0.000693</th>\n",
       "      <td>0.015228</td>\n",
       "    </tr>\n",
       "    <tr>\n",
       "      <th>0.001386</th>\n",
       "      <td>0.018477</td>\n",
       "    </tr>\n",
       "    <tr>\n",
       "      <th>0.002079</th>\n",
       "      <td>0.014993</td>\n",
       "    </tr>\n",
       "    <tr>\n",
       "      <th>0.002773</th>\n",
       "      <td>0.022262</td>\n",
       "    </tr>\n",
       "  </tbody>\n",
       "</table>\n",
       "</div>"
      ],
      "text/plain": [
       "             theta\n",
       "tiempo            \n",
       "0.000000  0.000000\n",
       "0.000693  0.015228\n",
       "0.001386  0.018477\n",
       "0.002079  0.014993\n",
       "0.002773  0.022262"
      ]
     },
     "execution_count": 101,
     "metadata": {},
     "output_type": "execute_result"
    }
   ],
   "source": [
    "df.head()"
   ]
  },
  {
   "cell_type": "code",
   "execution_count": 102,
   "metadata": {},
   "outputs": [
    {
     "data": {
      "text/plain": [
       "<AxesSubplot:xlabel='tiempo'>"
      ]
     },
     "execution_count": 102,
     "metadata": {},
     "output_type": "execute_result"
    },
    {
     "data": {
      "image/png": "[encoded data removed]",
      "text/plain": [
       "<Figure size 432x288 with 1 Axes>"
      ]
     },
     "metadata": {
      "needs_background": "light"
     },
     "output_type": "display_data"
    },
    {
     "data": {
      "image/png": "[encoded data removed]",
      "text/plain": [
       "<Figure size 432x288 with 1 Axes>"
      ]
     },
     "metadata": {
      "needs_background": "light"
     },
     "output_type": "display_data"
    }
   ],
   "source": [
    "df.plot()\n",
    "(df - np.pi/2).plot()"
   ]
  },
  {
   "cell_type": "code",
   "execution_count": 103,
   "metadata": {},
   "outputs": [],
   "source": [
    "from statsmodels.tsa.stattools import adfuller"
   ]
  },
  {
   "cell_type": "code",
   "execution_count": 104,
   "metadata": {},
   "outputs": [],
   "source": [
    "df1 = df[:10000]"
   ]
  },
  {
   "cell_type": "code",
   "execution_count": 105,
   "metadata": {},
   "outputs": [
    {
     "data": {
      "image/png": "[encoded data removed]",
      "text/plain": [
       "<Figure size 432x288 with 1 Axes>"
      ]
     },
     "metadata": {
      "needs_background": "light"
     },
     "output_type": "display_data"
    },
    {
     "name": "stdout",
     "output_type": "stream",
     "text": [
      "ADF Statistic: -17.10287291332383\n",
      "p-value: 7.456131051399496e-30\n"
     ]
    }
   ],
   "source": [
    "# Calculate the second difference of the time series\n",
    "df_stationary = df1.diff().diff().dropna()\n",
    "\n",
    "# Run ADF test on the differenced time series\n",
    "result = adfuller(df1['theta'])\n",
    "\n",
    "# Plot the differenced time series\n",
    "fig, ax = plt.subplots()\n",
    "df_stationary.plot(ax=ax)\n",
    "plt.show()\n",
    "\n",
    "# Print the test statistic and the p-value\n",
    "print('ADF Statistic:', result[0])\n",
    "print('p-value:', result[1])"
   ]
  },
  {
   "cell_type": "code",
   "execution_count": 62,
   "metadata": {},
   "outputs": [],
   "source": [
    "df.resample?"
   ]
  },
  {
   "cell_type": "code",
   "execution_count": 106,
   "metadata": {},
   "outputs": [
    {
     "data": {
      "text/plain": [
       "0.2002516588072753"
      ]
     },
     "execution_count": 106,
     "metadata": {},
     "output_type": "execute_result"
    }
   ],
   "source": [
    "df.theta.mean()"
   ]
  },
  {
   "cell_type": "code",
   "execution_count": 107,
   "metadata": {},
   "outputs": [
    {
     "data": {
      "text/plain": [
       "1.5707963267948966"
      ]
     },
     "execution_count": 107,
     "metadata": {},
     "output_type": "execute_result"
    }
   ],
   "source": [
    "np.pi/2"
   ]
  },
  {
   "cell_type": "code",
   "execution_count": 108,
   "metadata": {},
   "outputs": [
    {
     "data": {
      "text/plain": [
       "0.10777019053206133"
      ]
     },
     "execution_count": 108,
     "metadata": {},
     "output_type": "execute_result"
    }
   ],
   "source": [
    "df.theta.var()**(1/2)"
   ]
  },
  {
   "cell_type": "code",
   "execution_count": null,
   "metadata": {},
   "outputs": [],
   "source": []
  },
  {
   "cell_type": "code",
   "execution_count": 113,
   "metadata": {},
   "outputs": [
    {
     "data": {
      "image/png": "[encoded data removed]",
      "text/plain": [
       "<Figure size 432x288 with 1 Axes>"
      ]
     },
     "metadata": {
      "needs_background": "light"
     },
     "output_type": "display_data"
    }
   ],
   "source": [
    "plt.hist(df.theta, bins=60, color='cadetblue', alpha=0.85)\n",
    "plt.xlim(0,np.pi);"
   ]
  },
  {
   "cell_type": "code",
   "execution_count": 89,
   "metadata": {},
   "outputs": [],
   "source": [
    "df_right = df.copy()"
   ]
  },
  {
   "cell_type": "code",
   "execution_count": 114,
   "metadata": {},
   "outputs": [
    {
     "data": {
      "image/png": "[encoded data removed]",
      "text/plain": [
       "<Figure size 432x288 with 1 Axes>"
      ]
     },
     "metadata": {
      "needs_background": "light"
     },
     "output_type": "display_data"
    }
   ],
   "source": [
    "plt.hist(df_right.theta, bins=60, alpha=.85)\n",
    "plt.xlim(0,np.pi);"
   ]
  },
  {
   "cell_type": "code",
   "execution_count": null,
   "metadata": {},
   "outputs": [],
   "source": []
  },
  {
   "cell_type": "code",
   "execution_count": null,
   "metadata": {},
   "outputs": [],
   "source": []
  },
  {
   "cell_type": "code",
   "execution_count": 116,
   "metadata": {},
   "outputs": [
    {
     "data": {
      "image/png": "[encoded data removed]",
      "text/plain": [
       "<Figure size 432x288 with 1 Axes>"
      ]
     },
     "metadata": {
      "needs_background": "light"
     },
     "output_type": "display_data"
    }
   ],
   "source": [
    "plt.hist(df.theta, bins=60, color='cadetblue', alpha=0.85, density=True)\n",
    "plt.hist(df_right.theta, bins=60, alpha=.85, density=True)\n",
    "plt.xlim(0,np.pi);"
   ]
  },
  {
   "cell_type": "code",
   "execution_count": null,
   "metadata": {},
   "outputs": [],
   "source": []
  },
  {
   "cell_type": "code",
   "execution_count": null,
   "metadata": {},
   "outputs": [],
   "source": []
  },
  {
   "cell_type": "code",
   "execution_count": null,
   "metadata": {},
   "outputs": [],
   "source": [
    "def Simulation_One_particle(D,dt,v0, N_ens, M_steps):\n",
    "\n",
    "    #Vamos a usar esta plantilla para calcular el desplasamiento medio cuadratico\n",
    "    #en el caso de un campo externo con cuatro puntos criticos\n",
    "    #el ensamble parte del polo norte explotando la simetria del problema\n",
    "\n",
    "    start_time = time.time()\n",
    "    #Parametros de la simulacion\n",
    "    D = 1e-1\n",
    "    dt = np.log(2)*1e-3\n",
    "    v0 = 5.0*np.sqrt(2*D)*dt\n",
    "    #v0 = 0.\n",
    "\n",
    "    #dist_uni = polo_n(10000,1.)\n",
    "\n",
    "    N_ens = 1\n",
    "\n",
    "    dist_uni = obs_uniforme(N_ens, 1., 0)\n",
    "\n",
    "\n",
    "    MC_steps = 100000\n",
    "\n",
    "\n",
    "    #plot_potential(dist_uni,0,0,0)\n",
    "    rs = dist_uni\n",
    "\n",
    "    l_rs = [rs]\n",
    "\n",
    "\n",
    "    #Variables iniciales para el analisis estadistico\n",
    "\n",
    "    ht0, mt0, vt0 = mean_var_hist_theta(rs)\n",
    "\n",
    "\n",
    "    mean_thetas_t = [mt0]\n",
    "    var_thetas_t = [vt0]\n",
    "\n",
    "\n",
    "    histograma_thetas_t = [ht0]\n",
    "\n",
    "\n",
    "    #histograma_phis_t = [hp0]\n",
    "\n",
    "\n",
    "    for i in range(MC_steps):\n",
    "\n",
    "            nuevas_pos = act_n_field(rs, v0, field_y20, D, dt)\n",
    "            #plot_potential(nuevas_pos, 0, 0, i + 1)\n",
    "            rs = nuevas_pos\n",
    "            l_rs.append(rs)\n",
    "\n",
    "            ht, mt, vt = mean_var_hist_theta(rs)\n",
    "\n",
    "            #hp, mp, vp = mean_var_hist_phis(rs)\n",
    "\n",
    "            histograma_thetas_t.append(ht)\n",
    "\n",
    "            #histograma_phis_t.append(hp)\n",
    "\n",
    "            mean_thetas_t.append(mt)\n",
    "            var_thetas_t.append(vt)\n",
    "            #mean_phis_t.append(mp)\n",
    "            #var_phis_t.append(vp)\n",
    "\n",
    "\n",
    "    array_pos_t = np.array(l_rs)\n",
    "\n",
    "    with h5py.File('pos_array.h5', 'w') as hf:\n",
    "                hf.create_dataset(\"pos-ds_D_{}_Odt_{}_N_{}_MC_S_{}\".format(D,'-3',N_ens, MC_steps),  data=array_pos_t)\n",
    "\n",
    "\n",
    "\n",
    "\n",
    "\n",
    "    np.savetxt(\"Y20UD_Hist_Theta_t.txt\", histograma_thetas_t)\n",
    "\n",
    "\n",
    "    np.savetxt(\"Y20_Mean_Theta_t2.txt\", mean_thetas_t)\n",
    "\n",
    "    np.savetxt(\"Y20_Var_Theta_t2.txt\", var_thetas_t)\n",
    "\n",
    "\n",
    "\n",
    "    #df_rs = pd.DataFrame(l_rs)\n",
    "    #df_rs.to_csv(\"l_rs.csv\", index=False, header=False)\n",
    "\n",
    "\n",
    "    print(\"--- %s seconds ---\" % (time.time() - start_time))"
   ]
  },
  {
   "cell_type": "code",
   "execution_count": null,
   "metadata": {},
   "outputs": [],
   "source": []
  },
  {
   "cell_type": "code",
   "execution_count": null,
   "metadata": {},
   "outputs": [],
   "source": [
    "def thetas_phis_ensemble(l_pos_t):\n",
    "    \"\"\"This function returns two lists of the ensemble of angular coordinates \n",
    "    given a list of position vactors\"\"\"\n",
    "\n",
    "    thetas_ensamble = []\n",
    "    phis_ensamble = []\n",
    "    for l_pos in l_pos_t:\n",
    "        thetas = []\n",
    "        phis = []\n",
    "        for pos in l_pos:\n",
    "            r, theta, phi = trans_c_s(pos[0],pos[1],pos[2])\n",
    "            thetas.append(theta)\n",
    "            phis.append(phi)\n",
    "\n",
    "        thetas_ensamble.append(thetas)\n",
    "        phis_ensamble.append(phis)\n",
    "    return thetas_ensamble, phis_ensamble\n"
   ]
  },
  {
   "cell_type": "code",
   "execution_count": null,
   "metadata": {},
   "outputs": [],
   "source": []
  },
  {
   "cell_type": "code",
   "execution_count": null,
   "metadata": {},
   "outputs": [],
   "source": [
    "def time_array(MC_steps, dt):\n",
    "    tiempos = [0]\n",
    "    suma = 0\n",
    "    for i in range(MC_steps):\n",
    "        suma += dt\n",
    "        tiempos.append(suma)\n",
    "    return np.array(tiempos)"
   ]
  },
  {
   "cell_type": "code",
   "execution_count": null,
   "metadata": {},
   "outputs": [],
   "source": []
  },
  {
   "cell_type": "code",
   "execution_count": 119,
   "metadata": {},
   "outputs": [],
   "source": [
    "thetas = np.linspace(0,np.pi,1000000)\n",
    "phis = np.linspace(0,2*np.pi,2000000)"
   ]
  },
  {
   "cell_type": "code",
   "execution_count": 122,
   "metadata": {},
   "outputs": [],
   "source": [
    "cy20 = -np.sqrt((5./(16*np.pi)))\n",
    "def Y20(theta,N,u0_gamma):\n",
    "    return np.exp(- u0_gamma * cy20 * (3 * np.cos(theta)**2 - 1)) * np.sin(theta) / N"
   ]
  },
  {
   "cell_type": "code",
   "execution_count": 123,
   "metadata": {},
   "outputs": [],
   "source": [
    "NY20 = integrate.simps(Y20(thetas,1., 5.0*np.sqrt(2*D)/D), thetas)\n"
   ]
  },
  {
   "cell_type": "code",
   "execution_count": 151,
   "metadata": {},
   "outputs": [],
   "source": [
    "region = np.linspace(2.5,np.pi,1000)"
   ]
  },
  {
   "cell_type": "code",
   "execution_count": 153,
   "metadata": {},
   "outputs": [],
   "source": [
    "NY20_right = integrate.simps(Y20(region, 1., 5.0*np.sqrt(2*D)/D), region)\n"
   ]
  },
  {
   "cell_type": "code",
   "execution_count": 154,
   "metadata": {},
   "outputs": [],
   "source": [
    "PY20_right = Y20(region, NY20_right, 5.0*np.sqrt(2*D)/D)"
   ]
  },
  {
   "cell_type": "code",
   "execution_count": 156,
   "metadata": {},
   "outputs": [
    {
     "data": {
      "image/png": "[encoded data removed]",
      "text/plain": [
       "<Figure size 432x288 with 1 Axes>"
      ]
     },
     "metadata": {
      "needs_background": "light"
     },
     "output_type": "display_data"
    }
   ],
   "source": [
    "plt.fill_between(thetas, Y20(thetas, NY20, 5.0*np.sqrt(2*D)/D), alpha=0.7)\n",
    "plt.fill_between(region, Y20(region, NY20_right, 5.0*np.sqrt(2*D)/D), alpha=0.7);"
   ]
  },
  {
   "cell_type": "code",
   "execution_count": null,
   "metadata": {},
   "outputs": [],
   "source": []
  },
  {
   "cell_type": "code",
   "execution_count": null,
   "metadata": {},
   "outputs": [],
   "source": []
  },
  {
   "cell_type": "code",
   "execution_count": 162,
   "metadata": {},
   "outputs": [
    {
     "data": {
      "image/png": "[encoded data removed]",
      "text/plain": [
       "<Figure size 432x288 with 1 Axes>"
      ]
     },
     "metadata": {
      "needs_background": "light"
     },
     "output_type": "display_data"
    }
   ],
   "source": [
    "plt.fill_between(thetas, Y20(thetas, NY20, 5.0*np.sqrt(2*D)/D), alpha=0.7)\n",
    "plt.plot(thetas, Y20(thetas, NY20, 5.0*np.sqrt(2*D)/D), alpha=1.0, color='k')\n",
    "plt.hist(df.theta, bins=50, color='cadetblue', alpha=0.5, density=True, edgecolor='k', linewidth=.75)\n",
    "plt.hist(df_right.theta, bins=50, alpha=.5, density=True, edgecolor='k', linewidth=.75)\n",
    "plt.fill_between(region, Y20(region, NY20_right, 5.0*np.sqrt(2*D)/D), alpha=0.17, color='orange')\n",
    "plt.plot(region, Y20(region, NY20_right, 5.0*np.sqrt(2*D)/D), alpha=0.75, color='k', linewidth=1.5);\n",
    "plt.xlim(0,np.pi);"
   ]
  },
  {
   "cell_type": "code",
   "execution_count": null,
   "metadata": {},
   "outputs": [],
   "source": []
  },
  {
   "cell_type": "code",
   "execution_count": 128,
   "metadata": {},
   "outputs": [],
   "source": [
    "df_concated = pd.concat([df,df_right])"
   ]
  },
  {
   "cell_type": "code",
   "execution_count": 130,
   "metadata": {},
   "outputs": [
    {
     "data": {
      "image/png": "[encoded data removed]",
      "text/plain": [
       "<Figure size 432x288 with 1 Axes>"
      ]
     },
     "metadata": {
      "needs_background": "light"
     },
     "output_type": "display_data"
    }
   ],
   "source": [
    "plt.hist(df_concated.theta, bins=60, color='purple', alpha=0.85, density=True);"
   ]
  },
  {
   "cell_type": "code",
   "execution_count": null,
   "metadata": {},
   "outputs": [],
   "source": []
  },
  {
   "cell_type": "code",
   "execution_count": null,
   "metadata": {},
   "outputs": [],
   "source": []
  },
  {
   "cell_type": "code",
   "execution_count": 131,
   "metadata": {},
   "outputs": [
    {
     "data": {
      "image/png": "[encoded data removed]",
      "text/plain": [
       "<Figure size 432x288 with 1 Axes>"
      ]
     },
     "metadata": {
      "needs_background": "light"
     },
     "output_type": "display_data"
    }
   ],
   "source": [
    "plt.fill_between(thetas, Y20(thetas, NY20, 5.0*np.sqrt(2*D)/D), alpha=0.7)\n",
    "plt.plot(thetas, Y20(thetas, NY20, 5.0*np.sqrt(2*D)/D), alpha=1.0, color='k')\n",
    "plt.hist(df.theta, bins=60, color='cadetblue', alpha=0.85, density=True)\n",
    "plt.hist(df_right.theta, bins=60, alpha=.85, density=True)\n",
    "plt.hist(df_concated.theta, bins=60, color='purple', alpha=0.35, density=True)\n",
    "plt.xlim(0,np.pi);"
   ]
  },
  {
   "cell_type": "code",
   "execution_count": 132,
   "metadata": {},
   "outputs": [
    {
     "data": {
      "text/plain": [
       "1.5703974368172786"
      ]
     },
     "execution_count": 132,
     "metadata": {},
     "output_type": "execute_result"
    }
   ],
   "source": [
    "df_concated.theta.mean()"
   ]
  },
  {
   "cell_type": "code",
   "execution_count": 133,
   "metadata": {},
   "outputs": [
    {
     "data": {
      "text/plain": [
       "1.5707963267948966"
      ]
     },
     "execution_count": 133,
     "metadata": {},
     "output_type": "execute_result"
    }
   ],
   "source": [
    "np.pi/2"
   ]
  },
  {
   "cell_type": "code",
   "execution_count": 134,
   "metadata": {},
   "outputs": [
    {
     "data": {
      "text/plain": [
       "1.8894834457296648"
      ]
     },
     "execution_count": 134,
     "metadata": {},
     "output_type": "execute_result"
    }
   ],
   "source": [
    "df_concated.theta.var()"
   ]
  },
  {
   "cell_type": "code",
   "execution_count": null,
   "metadata": {},
   "outputs": [],
   "source": []
  },
  {
   "cell_type": "code",
   "execution_count": null,
   "metadata": {},
   "outputs": [],
   "source": []
  },
  {
   "cell_type": "code",
   "execution_count": null,
   "metadata": {},
   "outputs": [],
   "source": []
  },
  {
   "cell_type": "markdown",
   "metadata": {},
   "source": [
    "## Mean"
   ]
  },
  {
   "cell_type": "code",
   "execution_count": 137,
   "metadata": {},
   "outputs": [],
   "source": [
    "theta_mean_y20 = integrate.simps(thetas * Y20(thetas,1,5.0*np.sqrt(2*D)/D)/NY20, thetas)"
   ]
  },
  {
   "cell_type": "code",
   "execution_count": 138,
   "metadata": {},
   "outputs": [
    {
     "data": {
      "text/plain": [
       "1.5707963267948966"
      ]
     },
     "execution_count": 138,
     "metadata": {},
     "output_type": "execute_result"
    }
   ],
   "source": [
    "theta_mean_y20"
   ]
  },
  {
   "cell_type": "markdown",
   "metadata": {},
   "source": [
    "## Second moment"
   ]
  },
  {
   "cell_type": "code",
   "execution_count": 139,
   "metadata": {},
   "outputs": [],
   "source": [
    "theta_2nd_m_y20 = integrate.simps(thetas**2 * Y20(thetas,1,5.0*np.sqrt(2*D)/D)/NY20, thetas)"
   ]
  },
  {
   "cell_type": "markdown",
   "metadata": {},
   "source": [
    "## Variance"
   ]
  },
  {
   "cell_type": "code",
   "execution_count": 140,
   "metadata": {},
   "outputs": [],
   "source": [
    "theta_var_y20 = integrate.simps((thetas - theta_mean_y20)**2 * Y20(thetas,1,5.0*np.sqrt(2*D)/D)/NY20, thetas)"
   ]
  },
  {
   "cell_type": "code",
   "execution_count": 141,
   "metadata": {},
   "outputs": [
    {
     "data": {
      "text/plain": [
       "1.8964435353362155"
      ]
     },
     "execution_count": 141,
     "metadata": {},
     "output_type": "execute_result"
    }
   ],
   "source": [
    "theta_var_y20"
   ]
  },
  {
   "cell_type": "code",
   "execution_count": 142,
   "metadata": {},
   "outputs": [
    {
     "data": {
      "text/plain": [
       "1.8894834457296648"
      ]
     },
     "execution_count": 142,
     "metadata": {},
     "output_type": "execute_result"
    }
   ],
   "source": [
    "df_concated.theta.var()"
   ]
  },
  {
   "cell_type": "code",
   "execution_count": null,
   "metadata": {},
   "outputs": [],
   "source": []
  },
  {
   "cell_type": "code",
   "execution_count": null,
   "metadata": {},
   "outputs": [],
   "source": []
  },
  {
   "cell_type": "code",
   "execution_count": null,
   "metadata": {},
   "outputs": [],
   "source": [
    "C = np.sqrt(2*1e-1)\n",
    "U0 = 5*C*1e0\n",
    "D = 1e-1\n",
    "dt = np.log(2)*1e-3\n",
    "v0 = U0*dt\n",
    "\n",
    "xpot3 = np.linspace(0,np.pi,100)\n",
    "ypot3 = -0.5*np.sqrt((7/(4*np.pi)))*(5*np.cos(xpot3)**3 - 3*np.cos(xpot3))*U0\n",
    "\n",
    "#const = v0*2*D*np.sqrt(5./(16*np.pi))\n",
    "#p0_Y20 = (1./12300)*np.exp(const*(3*np.cos(theta2)**2 - 1))*np.sin(theta2)\n",
    "\n",
    "coeff_pot_Y30 = (1*U0/D)*np.sqrt(7/(16*np.pi))\n",
    "Norm = 1.584171e12\n",
    "\n",
    "theta = np.linspace(0,np.pi,1000)\n",
    "pot_Y30_int = (5)*np.cos(theta)**3 - (3)*np.cos(theta)\n",
    "\n",
    "\n",
    "\n",
    "#p0_Y30_int = (1/185666)*np.exp(coeff_pot_Y30*pot_Y30_int)*np.sin(theta)\n",
    "\n",
    "\n",
    "Norm3 = 181894\n",
    "p0_Y30_int = (1/Norm3)*np.exp(coeff_pot_Y30*pot_Y30_int)*np.sin(theta)\n",
    "\n",
    "\n",
    "\n",
    "\n",
    "ypot_Y30 = -U0*np.sqrt(7./(16*np.pi))*(5*np.cos(theta)**3 - 3*np.cos(theta))\n",
    "\n",
    "\n",
    "def int_pot_y30(theta):\n",
    "    return -U0*np.sqrt(7./(16*np.pi))*(5*np.cos(theta)**3 - 3*np.cos(theta))"
   ]
  },
  {
   "cell_type": "code",
   "execution_count": null,
   "metadata": {},
   "outputs": [],
   "source": []
  },
  {
   "cell_type": "code",
   "execution_count": 233,
   "metadata": {},
   "outputs": [],
   "source": [
    "cy30 = -np.sqrt((7./(16*np.pi)))\n",
    "def Y30(theta,N,u0_gamma):\n",
    "    return np.exp( - u0_gamma * cy30 * (5 * np.cos(theta)**3 - 3 * np.cos(theta))) * np.sin(theta) / N"
   ]
  },
  {
   "cell_type": "code",
   "execution_count": 384,
   "metadata": {},
   "outputs": [],
   "source": [
    "the1 = 0\n",
    "the2 = 0.9\n",
    "the3 = 0.9\n",
    "the4 = np.pi"
   ]
  },
  {
   "cell_type": "code",
   "execution_count": 385,
   "metadata": {},
   "outputs": [],
   "source": [
    "theta_izq = np.linspace(the1, the2, 10000)\n",
    "theta_der = np.linspace(the3, the4, 10000)"
   ]
  },
  {
   "cell_type": "code",
   "execution_count": 386,
   "metadata": {},
   "outputs": [
    {
     "data": {
      "text/plain": [
       "(10000,)"
      ]
     },
     "execution_count": 386,
     "metadata": {},
     "output_type": "execute_result"
    }
   ],
   "source": [
    "theta_izq.shape"
   ]
  },
  {
   "cell_type": "code",
   "execution_count": 387,
   "metadata": {},
   "outputs": [
    {
     "data": {
      "text/plain": [
       "(10000,)"
      ]
     },
     "execution_count": 387,
     "metadata": {},
     "output_type": "execute_result"
    }
   ],
   "source": [
    "theta_der.shape"
   ]
  },
  {
   "cell_type": "code",
   "execution_count": 388,
   "metadata": {},
   "outputs": [],
   "source": [
    "NY30_izq = integrate.simps(Y30(theta_izq,1, 5.0*np.sqrt(2*D)/D), theta_izq)\n",
    "NY30_der = integrate.simps(Y30(theta_der,1, 5.0*np.sqrt(2*D)/D), theta_der)"
   ]
  },
  {
   "cell_type": "code",
   "execution_count": 389,
   "metadata": {},
   "outputs": [],
   "source": [
    "prop_izq = ( - np.cos(the2) + np.cos(the1))  /( ( - np.cos(the2) + np.cos(the1)) + ( - np.cos(the4) + np.cos(the3)) )\n",
    "prop_der =  ( - np.cos(the4) + np.cos(the3)) / ( ( - np.cos(the2) + np.cos(the1)) + ( - np.cos(the4) + np.cos(the3)) )"
   ]
  },
  {
   "cell_type": "code",
   "execution_count": 390,
   "metadata": {},
   "outputs": [],
   "source": [
    "PY30_izq = prop_izq * Y30(theta_izq,  NY30_izq, 5.0*np.sqrt(2*D)/D)\n",
    "PY30_der =  prop_der * Y30(theta_der,  NY30_der, 5.0*np.sqrt(2*D)/D)\n",
    "\n",
    "\n",
    "PY30_izq2 = Y30(theta_izq,  NY30_izq, 5.0*np.sqrt(2*D)/D)\n",
    "PY30_der2 = Y30(theta_der,  NY30_der, 5.0*np.sqrt(2*D)/D)"
   ]
  },
  {
   "cell_type": "code",
   "execution_count": 391,
   "metadata": {},
   "outputs": [
    {
     "data": {
      "text/plain": [
       "0.18919501586466775"
      ]
     },
     "metadata": {},
     "output_type": "display_data"
    },
    {
     "data": {
      "text/plain": [
       "0.8108049841353322"
      ]
     },
     "metadata": {},
     "output_type": "display_data"
    }
   ],
   "source": [
    "display(prop_izq)\n",
    "display(prop_der)\n"
   ]
  },
  {
   "cell_type": "code",
   "execution_count": null,
   "metadata": {},
   "outputs": [],
   "source": []
  },
  {
   "cell_type": "code",
   "execution_count": 392,
   "metadata": {},
   "outputs": [],
   "source": [
    "import seaborn as sns"
   ]
  },
  {
   "cell_type": "code",
   "execution_count": 393,
   "metadata": {},
   "outputs": [],
   "source": [
    "mi_paletter = sns.color_palette('viridis_r',4)"
   ]
  },
  {
   "cell_type": "code",
   "execution_count": 394,
   "metadata": {},
   "outputs": [
    {
     "data": {
      "text/plain": [
       "0.1"
      ]
     },
     "execution_count": 394,
     "metadata": {},
     "output_type": "execute_result"
    }
   ],
   "source": [
    "D"
   ]
  },
  {
   "cell_type": "code",
   "execution_count": 395,
   "metadata": {},
   "outputs": [
    {
     "data": {
      "text/plain": [
       "0.0006931471805599453"
      ]
     },
     "execution_count": 395,
     "metadata": {},
     "output_type": "execute_result"
    }
   ],
   "source": [
    "dt"
   ]
  },
  {
   "cell_type": "code",
   "execution_count": null,
   "metadata": {},
   "outputs": [],
   "source": []
  },
  {
   "cell_type": "code",
   "execution_count": 427,
   "metadata": {},
   "outputs": [
    {
     "data": {
      "text/plain": [
       "<matplotlib.collections.LineCollection at 0x7fc26e038550>"
      ]
     },
     "execution_count": 427,
     "metadata": {},
     "output_type": "execute_result"
    },
    {
     "data": {
      "image/png": "[encoded data removed]",
      "text/plain": [
       "<Figure size 432x288 with 1 Axes>"
      ]
     },
     "metadata": {
      "needs_background": "light"
     },
     "output_type": "display_data"
    }
   ],
   "source": [
    "plt.fill_between(theta_izq, Y30(theta_izq, NY30_izq, 5.0*np.sqrt(2*D)/D), alpha=0.47, color=mi_paletter[2]);\n",
    "plt.fill_between(theta_der, Y30(theta_der, NY30_der, 5.0*np.sqrt(2*D)/D), alpha=0.47, color=mi_paletter[2]);\n",
    "\n",
    "plt.fill_between(theta_izq, Y30(theta_izq, (prop_izq** (-1)) * NY30_izq, 5.0*np.sqrt(2*D)/D), alpha=0.57, color=mi_paletter[3]);\n",
    "plt.fill_between(theta_der, Y30(theta_der, (prop_der**(-1) ) * NY30_der, 5.0*np.sqrt(2*D)/D), alpha=0.57, color=mi_paletter[3]);\n",
    "\n",
    "plt.plot(theta_izq, Y30(theta_izq, (prop_izq** (-1)) * NY30_izq, 5.0*np.sqrt(2*D)/D), alpha=0.7, color='k');\n",
    "plt.plot(theta_der, Y30(theta_der, (prop_der**(-1) ) * NY30_der, 5.0*np.sqrt(2*D)/D), alpha=0.7, color='k');\n",
    "\n",
    "plt.hlines(1.5,0,np.pi, color='r', linestyle='--')\n",
    "plt.hlines(2.5,0,np.pi, color='r', linestyle='--')"
   ]
  },
  {
   "cell_type": "markdown",
   "metadata": {},
   "source": [
    "    "
   ]
  },
  {
   "cell_type": "code",
   "execution_count": 255,
   "metadata": {},
   "outputs": [
    {
     "data": {
      "text/plain": [
       "18556.94124942485"
      ]
     },
     "execution_count": 255,
     "metadata": {},
     "output_type": "execute_result"
    }
   ],
   "source": [
    "prop_izq * NY30_izq + prop_der * NY30_der"
   ]
  },
  {
   "cell_type": "code",
   "execution_count": 265,
   "metadata": {},
   "outputs": [
    {
     "data": {
      "text/plain": [
       "1.0000000000000002"
      ]
     },
     "execution_count": 265,
     "metadata": {},
     "output_type": "execute_result"
    }
   ],
   "source": [
    "integrate.simps(Y30(theta_izq,NY30_izq, 5.0*np.sqrt(2*D)/D), theta_izq)"
   ]
  },
  {
   "cell_type": "code",
   "execution_count": 266,
   "metadata": {},
   "outputs": [
    {
     "data": {
      "text/plain": [
       "0.9999999999999998"
      ]
     },
     "execution_count": 266,
     "metadata": {},
     "output_type": "execute_result"
    }
   ],
   "source": [
    "integrate.simps(Y30(theta_der, NY30_der, 5.0*np.sqrt(2*D)/D), theta_der)"
   ]
  },
  {
   "cell_type": "code",
   "execution_count": null,
   "metadata": {},
   "outputs": [],
   "source": []
  },
  {
   "cell_type": "code",
   "execution_count": null,
   "metadata": {},
   "outputs": [],
   "source": []
  },
  {
   "cell_type": "code",
   "execution_count": null,
   "metadata": {},
   "outputs": [],
   "source": []
  },
  {
   "cell_type": "code",
   "execution_count": null,
   "metadata": {},
   "outputs": [],
   "source": []
  },
  {
   "cell_type": "markdown",
   "metadata": {},
   "source": [
    "## Steps for the Analysis"
   ]
  },
  {
   "cell_type": "markdown",
   "metadata": {},
   "source": [
    " - Load left side ensemble\n",
    " - Load right side ensemble\n",
    " - Concat them on top of each other\n",
    " - Find the optimal point from where it is feasible to start sampling the stationary distribution\n",
    " - Calculate the mean\n",
    " - Calculate the variance\n",
    " - Calculate the third (center moment)\n",
    " - Calculate the fourth moment\n",
    " - Compare the differences between each one of these results against analytical solutions for the following escenarios:\n",
    "  - Nmc = $10^{5}$\n",
    "    - dt = $10^{-3}$\n",
    "    - dt = $10^{-2}$\n",
    "    - dt = $10^{-1}$\n",
    "  - Nmc = $10^{6}$\n",
    "    - dt = $10^{-3}$\n",
    "    - dt = $10^{-2}$\n",
    "    - dt = $10^{-1}$\n",
    "  - Nmc = $10^{7}$\n",
    "    - dt = $10^{-3}$\n",
    "    - dt = $10^{-2}$\n",
    "    - dt = $10^{-1}$\n",
    " - Calculate the Adam Fuller test on stationarity to investigate whether there is trend in the time series"
   ]
  },
  {
   "cell_type": "code",
   "execution_count": null,
   "metadata": {},
   "outputs": [],
   "source": []
  },
  {
   "cell_type": "code",
   "execution_count": null,
   "metadata": {},
   "outputs": [],
   "source": []
  },
  {
   "cell_type": "markdown",
   "metadata": {},
   "source": [
    "# Analysis"
   ]
  },
  {
   "cell_type": "markdown",
   "metadata": {},
   "source": [
    "## Loading the data"
   ]
  },
  {
   "cell_type": "code",
   "execution_count": 574,
   "metadata": {},
   "outputs": [],
   "source": [
    "path = '/Users/adrianovaldesgomez/Documents/Adriano_Programming/Single_Particle_Sim/'"
   ]
  },
  {
   "cell_type": "code",
   "execution_count": 575,
   "metadata": {},
   "outputs": [],
   "source": [
    "arr_mc7_dtm1_izq = np.loadtxt(path + 'MC1e7/dte-1/izq/Y20_Mean_Theta_t2.txt')\n",
    "arr_mc7_dtm1_der = np.loadtxt(path + 'MC1e7/dte-1/der/Y20_Mean_Theta_t2.txt')\n",
    "arr_mc7_dtm2_izq = np.loadtxt(path + 'MC1e7/dte-2/izq/Y20_Mean_Theta_t2.txt')\n",
    "arr_mc7_dtm2_der = np.loadtxt(path + 'MC1e7/dte-2/der/Y20_Mean_Theta_t2.txt')\n",
    "arr_mc7_dtm3_izq = np.loadtxt(path + 'MC1e7/dte-3/izq/Y20_Mean_Theta_t2.txt')\n",
    "arr_mc7_dtm3_der = np.loadtxt(path + 'MC1e7/dte-3/der/Y20_Mean_Theta_t2.txt')\n",
    "\n",
    "\n",
    "arr_mc6_dtm1_izq = np.loadtxt(path + 'MC1e6/dte-1/izq/Y20_Mean_Theta_t2.txt')\n",
    "arr_mc6_dtm1_der = np.loadtxt(path + 'MC1e6/dte-1/der/Y20_Mean_Theta_t2.txt')\n",
    "arr_mc6_dtm2_izq = np.loadtxt(path + 'MC1e6/dte-2/izq/Y20_Mean_Theta_t2.txt')\n",
    "arr_mc6_dtm2_der = np.loadtxt(path + 'MC1e6/dte-2/der/Y20_Mean_Theta_t2.txt')\n",
    "arr_mc6_dtm3_izq = np.loadtxt(path + 'MC1e6/dte-3/izq/Y20_Mean_Theta_t2.txt')\n",
    "arr_mc6_dtm3_der = np.loadtxt(path + 'MC1e6/dte-3/der/Y20_Mean_Theta_t2.txt')\n",
    "\n",
    "\n",
    "arr_mc5_dtm1_izq = np.loadtxt(path + 'MC1e5/dte-1/izq/Y20_Mean_Theta_t2.txt')\n",
    "arr_mc5_dtm1_der = np.loadtxt(path + 'MC1e5/dte-1/der/Y20_Mean_Theta_t2.txt')\n",
    "arr_mc5_dtm2_izq = np.loadtxt(path + 'MC1e5/dte-2/izq/Y20_Mean_Theta_t2.txt')\n",
    "arr_mc5_dtm2_der = np.loadtxt(path + 'MC1e5/dte-2/der/Y20_Mean_Theta_t2.txt')\n",
    "arr_mc5_dtm3_izq = np.loadtxt(path + 'MC1e5/dte-3/izq/Y20_Mean_Theta_t2.txt')\n",
    "arr_mc5_dtm3_der = np.loadtxt(path + 'MC1e5/dte-3/der/Y20_Mean_Theta_t2.txt')\n",
    "\n"
   ]
  },
  {
   "cell_type": "markdown",
   "metadata": {},
   "source": [
    "### Very Unusual escenario "
   ]
  },
  {
   "cell_type": "code",
   "execution_count": 735,
   "metadata": {},
   "outputs": [],
   "source": [
    "arr_mc6_dtm1_der = np.loadtxt(path + 'MC1e6/dte-1/der/Y20_Mean_Theta_t2.txt')"
   ]
  },
  {
   "cell_type": "code",
   "execution_count": 757,
   "metadata": {},
   "outputs": [],
   "source": [
    "arr_mc7_dtm1_izq = np.loadtxt(path + 'MC1e7/dte-1/izq/Y20_Mean_Theta_t2.txt')"
   ]
  },
  {
   "cell_type": "code",
   "execution_count": 771,
   "metadata": {},
   "outputs": [],
   "source": [
    "arr_mc7_dtm1_der = np.loadtxt(path + 'MC1e7/dte-1/der/Y20_Mean_Theta_t2.txt')"
   ]
  },
  {
   "cell_type": "markdown",
   "metadata": {},
   "source": [
    "## Will make a list of tuples to iterate from"
   ]
  },
  {
   "cell_type": "code",
   "execution_count": 774,
   "metadata": {},
   "outputs": [],
   "source": [
    "l_tuples = [(arr_mc7_dtm1_izq, arr_mc7_dtm1_der, 10), (arr_mc7_dtm2_izq, arr_mc7_dtm2_der, 100),\n",
    "            (arr_mc7_dtm3_izq, arr_mc7_dtm3_der, 1000),(arr_mc6_dtm1_izq, arr_mc6_dtm1_der, 10),\n",
    "            (arr_mc6_dtm2_izq, arr_mc6_dtm2_der, 100),(arr_mc6_dtm3_izq, arr_mc6_dtm3_der, 1000),\n",
    "            (arr_mc5_dtm1_izq, arr_mc5_dtm1_der, 10), (arr_mc5_dtm2_izq, arr_mc5_dtm2_der, 100),\n",
    "            (arr_mc5_dtm3_izq, arr_mc5_dtm3_der, 1000)]"
   ]
  },
  {
   "cell_type": "code",
   "execution_count": null,
   "metadata": {},
   "outputs": [],
   "source": []
  },
  {
   "cell_type": "code",
   "execution_count": null,
   "metadata": {},
   "outputs": [],
   "source": []
  },
  {
   "cell_type": "markdown",
   "metadata": {},
   "source": [
    "## Constructiong the pandas data frames for time series analysis"
   ]
  },
  {
   "cell_type": "code",
   "execution_count": 648,
   "metadata": {},
   "outputs": [
    {
     "data": {
      "text/plain": [
       "100001"
      ]
     },
     "metadata": {},
     "output_type": "display_data"
    },
    {
     "data": {
      "text/plain": [
       "1000001"
      ]
     },
     "metadata": {},
     "output_type": "display_data"
    },
    {
     "data": {
      "text/plain": [
       "10000001"
      ]
     },
     "metadata": {},
     "output_type": "display_data"
    }
   ],
   "source": [
    "display(arr_mc5_dtm1_izq.shape[0])\n",
    "display(arr_mc6_dtm1_izq.shape[0])\n",
    "display(arr_mc7_dtm1_izq.shape[0])"
   ]
  },
  {
   "cell_type": "markdown",
   "metadata": {},
   "source": [
    "### Generating the time stamps"
   ]
  },
  {
   "cell_type": "code",
   "execution_count": 614,
   "metadata": {},
   "outputs": [],
   "source": [
    "suma = 0\n",
    "tiempos = []\n",
    "for i in range(arr_mc7_dtm3_izq.shape[0]):\n",
    "    tiempos.append(suma)\n",
    "    suma += dt\n",
    "tiempos = np.array(tiempos)"
   ]
  },
  {
   "cell_type": "code",
   "execution_count": null,
   "metadata": {},
   "outputs": [],
   "source": []
  },
  {
   "cell_type": "code",
   "execution_count": null,
   "metadata": {},
   "outputs": [],
   "source": []
  },
  {
   "cell_type": "code",
   "execution_count": null,
   "metadata": {},
   "outputs": [],
   "source": []
  },
  {
   "cell_type": "code",
   "execution_count": 615,
   "metadata": {},
   "outputs": [],
   "source": [
    "mi_dict_test_i = {'tiempo': tiempos, 'theta': arr_mc7_dtm3_izq}\n",
    "df_test_i = pd.DataFrame.from_dict(mi_dict_test_i)\n",
    "\n",
    "mi_dict_test_d = {'tiempo': tiempos, 'theta': arr_mc7_dtm3_der}\n",
    "df_test_d = pd.DataFrame.from_dict(mi_dict_test_d)"
   ]
  },
  {
   "cell_type": "code",
   "execution_count": 616,
   "metadata": {},
   "outputs": [
    {
     "data": {
      "text/html": [
       "<div>\n",
       "<style scoped>\n",
       "    .dataframe tbody tr th:only-of-type {\n",
       "        vertical-align: middle;\n",
       "    }\n",
       "\n",
       "    .dataframe tbody tr th {\n",
       "        vertical-align: top;\n",
       "    }\n",
       "\n",
       "    .dataframe thead th {\n",
       "        text-align: right;\n",
       "    }\n",
       "</style>\n",
       "<table border=\"1\" class=\"dataframe\">\n",
       "  <thead>\n",
       "    <tr style=\"text-align: right;\">\n",
       "      <th></th>\n",
       "      <th>tiempo</th>\n",
       "      <th>theta</th>\n",
       "    </tr>\n",
       "  </thead>\n",
       "  <tbody>\n",
       "    <tr>\n",
       "      <th>0</th>\n",
       "      <td>0.000000</td>\n",
       "      <td>0.000000</td>\n",
       "    </tr>\n",
       "    <tr>\n",
       "      <th>1</th>\n",
       "      <td>0.069315</td>\n",
       "      <td>0.006479</td>\n",
       "    </tr>\n",
       "    <tr>\n",
       "      <th>2</th>\n",
       "      <td>0.138629</td>\n",
       "      <td>0.028592</td>\n",
       "    </tr>\n",
       "    <tr>\n",
       "      <th>3</th>\n",
       "      <td>0.207944</td>\n",
       "      <td>0.007735</td>\n",
       "    </tr>\n",
       "    <tr>\n",
       "      <th>4</th>\n",
       "      <td>0.277259</td>\n",
       "      <td>0.020590</td>\n",
       "    </tr>\n",
       "  </tbody>\n",
       "</table>\n",
       "</div>"
      ],
      "text/plain": [
       "     tiempo     theta\n",
       "0  0.000000  0.000000\n",
       "1  0.069315  0.006479\n",
       "2  0.138629  0.028592\n",
       "3  0.207944  0.007735\n",
       "4  0.277259  0.020590"
      ]
     },
     "execution_count": 616,
     "metadata": {},
     "output_type": "execute_result"
    }
   ],
   "source": [
    "df_test_i.head()"
   ]
  },
  {
   "cell_type": "code",
   "execution_count": 617,
   "metadata": {},
   "outputs": [],
   "source": [
    "df_test_i.set_index(\"tiempo\", inplace=True)"
   ]
  },
  {
   "cell_type": "code",
   "execution_count": 618,
   "metadata": {},
   "outputs": [
    {
     "data": {
      "text/html": [
       "<div>\n",
       "<style scoped>\n",
       "    .dataframe tbody tr th:only-of-type {\n",
       "        vertical-align: middle;\n",
       "    }\n",
       "\n",
       "    .dataframe tbody tr th {\n",
       "        vertical-align: top;\n",
       "    }\n",
       "\n",
       "    .dataframe thead th {\n",
       "        text-align: right;\n",
       "    }\n",
       "</style>\n",
       "<table border=\"1\" class=\"dataframe\">\n",
       "  <thead>\n",
       "    <tr style=\"text-align: right;\">\n",
       "      <th></th>\n",
       "      <th>tiempo</th>\n",
       "      <th>theta</th>\n",
       "    </tr>\n",
       "  </thead>\n",
       "  <tbody>\n",
       "    <tr>\n",
       "      <th>0</th>\n",
       "      <td>0.000000</td>\n",
       "      <td>3.141593</td>\n",
       "    </tr>\n",
       "    <tr>\n",
       "      <th>1</th>\n",
       "      <td>0.069315</td>\n",
       "      <td>3.141198</td>\n",
       "    </tr>\n",
       "    <tr>\n",
       "      <th>2</th>\n",
       "      <td>0.138629</td>\n",
       "      <td>3.138581</td>\n",
       "    </tr>\n",
       "    <tr>\n",
       "      <th>3</th>\n",
       "      <td>0.207944</td>\n",
       "      <td>3.125966</td>\n",
       "    </tr>\n",
       "    <tr>\n",
       "      <th>4</th>\n",
       "      <td>0.277259</td>\n",
       "      <td>3.134456</td>\n",
       "    </tr>\n",
       "  </tbody>\n",
       "</table>\n",
       "</div>"
      ],
      "text/plain": [
       "     tiempo     theta\n",
       "0  0.000000  3.141593\n",
       "1  0.069315  3.141198\n",
       "2  0.138629  3.138581\n",
       "3  0.207944  3.125966\n",
       "4  0.277259  3.134456"
      ]
     },
     "execution_count": 618,
     "metadata": {},
     "output_type": "execute_result"
    }
   ],
   "source": [
    "df_test_d.head()"
   ]
  },
  {
   "cell_type": "code",
   "execution_count": 619,
   "metadata": {},
   "outputs": [],
   "source": [
    "df_test_d.set_index(\"tiempo\", inplace=True)"
   ]
  },
  {
   "cell_type": "code",
   "execution_count": 620,
   "metadata": {},
   "outputs": [
    {
     "data": {
      "text/plain": [
       "<AxesSubplot:xlabel='tiempo'>"
      ]
     },
     "execution_count": 620,
     "metadata": {},
     "output_type": "execute_result"
    },
    {
     "data": {
      "image/png": "[encoded data removed]",
      "text/plain": [
       "<Figure size 432x288 with 1 Axes>"
      ]
     },
     "metadata": {
      "needs_background": "light"
     },
     "output_type": "display_data"
    }
   ],
   "source": [
    "df_test_i.theta.plot()"
   ]
  },
  {
   "cell_type": "code",
   "execution_count": 621,
   "metadata": {},
   "outputs": [
    {
     "data": {
      "text/plain": [
       "<AxesSubplot:xlabel='tiempo'>"
      ]
     },
     "execution_count": 621,
     "metadata": {},
     "output_type": "execute_result"
    },
    {
     "data": {
      "image/png": "[encoded data removed]",
      "text/plain": [
       "<Figure size 432x288 with 1 Axes>"
      ]
     },
     "metadata": {
      "needs_background": "light"
     },
     "output_type": "display_data"
    }
   ],
   "source": [
    "df_test_d.theta.plot()"
   ]
  },
  {
   "cell_type": "code",
   "execution_count": null,
   "metadata": {},
   "outputs": [],
   "source": []
  },
  {
   "cell_type": "code",
   "execution_count": null,
   "metadata": {},
   "outputs": [],
   "source": []
  },
  {
   "cell_type": "code",
   "execution_count": null,
   "metadata": {},
   "outputs": [],
   "source": []
  },
  {
   "cell_type": "code",
   "execution_count": null,
   "metadata": {},
   "outputs": [],
   "source": []
  },
  {
   "cell_type": "code",
   "execution_count": 622,
   "metadata": {},
   "outputs": [
    {
     "data": {
      "text/plain": [
       "0.19751965084141251"
      ]
     },
     "execution_count": 622,
     "metadata": {},
     "output_type": "execute_result"
    }
   ],
   "source": [
    "df_test_i.theta.mean()"
   ]
  },
  {
   "cell_type": "code",
   "execution_count": 623,
   "metadata": {},
   "outputs": [
    {
     "data": {
      "text/plain": [
       "2.943829370086938"
      ]
     },
     "execution_count": 623,
     "metadata": {},
     "output_type": "execute_result"
    }
   ],
   "source": [
    "df_test_d.theta.mean()"
   ]
  },
  {
   "cell_type": "code",
   "execution_count": 624,
   "metadata": {},
   "outputs": [
    {
     "data": {
      "image/png": "[encoded data removed]",
      "text/plain": [
       "<Figure size 432x288 with 1 Axes>"
      ]
     },
     "metadata": {
      "needs_background": "light"
     },
     "output_type": "display_data"
    }
   ],
   "source": [
    "_ = plt.hist(df_test_i.theta, bins=40, density=True, edgecolor='k', color='b', alpha=0.25)\n",
    "_ = plt.hist(df_test_d.theta, bins=40, density=True, edgecolor='k', color='r', alpha=0.25)"
   ]
  },
  {
   "cell_type": "code",
   "execution_count": 625,
   "metadata": {},
   "outputs": [],
   "source": [
    "df_mc5_dtm1_concat = pd.concat([df_test_i, df_test_d])"
   ]
  },
  {
   "cell_type": "code",
   "execution_count": 626,
   "metadata": {},
   "outputs": [
    {
     "data": {
      "image/png": "[encoded data removed]",
      "text/plain": [
       "<Figure size 432x288 with 1 Axes>"
      ]
     },
     "metadata": {
      "needs_background": "light"
     },
     "output_type": "display_data"
    }
   ],
   "source": [
    "_ = plt.hist(df_mc5_dtm1_concat.theta, bins=70, density=True, edgecolor='k')\n",
    "_ = plt.plot(thetas, Y20(thetas, NY20, 5.0*np.sqrt(2*D)/D), alpha=1.0, color='k')"
   ]
  },
  {
   "cell_type": "code",
   "execution_count": 627,
   "metadata": {},
   "outputs": [
    {
     "data": {
      "text/plain": [
       "1.570674510464309"
      ]
     },
     "execution_count": 627,
     "metadata": {},
     "output_type": "execute_result"
    }
   ],
   "source": [
    "df_mc5_dtm1_concat.theta.mean()"
   ]
  },
  {
   "cell_type": "code",
   "execution_count": 628,
   "metadata": {},
   "outputs": [
    {
     "data": {
      "text/plain": [
       "1.5707963267948966"
      ]
     },
     "execution_count": 628,
     "metadata": {},
     "output_type": "execute_result"
    }
   ],
   "source": [
    "np.pi/2"
   ]
  },
  {
   "cell_type": "code",
   "execution_count": 629,
   "metadata": {},
   "outputs": [
    {
     "data": {
      "text/plain": [
       "-0.00012181633058760966"
      ]
     },
     "execution_count": 629,
     "metadata": {},
     "output_type": "execute_result"
    }
   ],
   "source": [
    "df_mc5_dtm1_concat.theta.mean() - np.pi/2"
   ]
  },
  {
   "cell_type": "code",
   "execution_count": 630,
   "metadata": {},
   "outputs": [
    {
     "data": {
      "text/plain": [
       "1.8967762349655781"
      ]
     },
     "execution_count": 630,
     "metadata": {},
     "output_type": "execute_result"
    }
   ],
   "source": [
    "df_mc5_dtm1_concat.theta.var()"
   ]
  },
  {
   "cell_type": "code",
   "execution_count": 631,
   "metadata": {},
   "outputs": [],
   "source": [
    "theta_var_theo = 1.8964435353362155"
   ]
  },
  {
   "cell_type": "code",
   "execution_count": 632,
   "metadata": {},
   "outputs": [
    {
     "data": {
      "text/plain": [
       "0.00033269962936266495"
      ]
     },
     "execution_count": 632,
     "metadata": {},
     "output_type": "execute_result"
    }
   ],
   "source": [
    "df_mc5_dtm1_concat.theta.var() - theta_var_theo"
   ]
  },
  {
   "cell_type": "code",
   "execution_count": null,
   "metadata": {},
   "outputs": [],
   "source": []
  },
  {
   "cell_type": "code",
   "execution_count": 633,
   "metadata": {},
   "outputs": [],
   "source": [
    "df_mc5_dtm1_concat['third_m'] = df_mc5_dtm1_concat.theta**3"
   ]
  },
  {
   "cell_type": "code",
   "execution_count": 634,
   "metadata": {},
   "outputs": [],
   "source": [
    "df_mc5_dtm1_concat['fourth_m'] = df_mc5_dtm1_concat.theta**4"
   ]
  },
  {
   "cell_type": "code",
   "execution_count": 636,
   "metadata": {},
   "outputs": [
    {
     "data": {
      "text/plain": [
       "12.81281228727051"
      ]
     },
     "execution_count": 636,
     "metadata": {},
     "output_type": "execute_result"
    }
   ],
   "source": [
    "df_mc5_dtm1_concat.third_m.mean()"
   ]
  },
  {
   "cell_type": "code",
   "execution_count": 637,
   "metadata": {},
   "outputs": [],
   "source": [
    "theta_third_m_theo = 12.812564202877644"
   ]
  },
  {
   "cell_type": "code",
   "execution_count": 638,
   "metadata": {},
   "outputs": [
    {
     "data": {
      "text/plain": [
       "-0.00024808439286694295"
      ]
     },
     "execution_count": 638,
     "metadata": {},
     "output_type": "execute_result"
    }
   ],
   "source": [
    "theta_third_m_theo - df_mc5_dtm1_concat.third_m.mean()"
   ]
  },
  {
   "cell_type": "code",
   "execution_count": 639,
   "metadata": {},
   "outputs": [
    {
     "data": {
      "text/plain": [
       "37.84211482822563"
      ]
     },
     "execution_count": 639,
     "metadata": {},
     "output_type": "execute_result"
    }
   ],
   "source": [
    "df_mc5_dtm1_concat.fourth_m.mean()"
   ]
  },
  {
   "cell_type": "code",
   "execution_count": 640,
   "metadata": {},
   "outputs": [],
   "source": [
    "theta_fourth_m_theo = 37.84008818710703"
   ]
  },
  {
   "cell_type": "code",
   "execution_count": 641,
   "metadata": {},
   "outputs": [
    {
     "data": {
      "text/plain": [
       "-0.0020266411186042887"
      ]
     },
     "execution_count": 641,
     "metadata": {},
     "output_type": "execute_result"
    }
   ],
   "source": [
    "theta_fourth_m_theo - df_mc5_dtm1_concat.fourth_m.mean()"
   ]
  },
  {
   "cell_type": "code",
   "execution_count": null,
   "metadata": {},
   "outputs": [],
   "source": []
  },
  {
   "cell_type": "code",
   "execution_count": 644,
   "metadata": {},
   "outputs": [],
   "source": [
    "# Run ADF test on the differenced time series\n",
    "#result = adfuller(df_mc5_dtm1_concat['theta'])\n",
    "\n",
    "# Plot the differenced time series\n",
    "#fig, ax = plt.subplots()\n",
    "#df_stationary.plot(ax=ax)\n",
    "#plt.show()\n",
    "\n",
    "# Print the test statistic and the p-value\n",
    "#print('ADF Statistic:', result[0])\n",
    "#print('p-value:', result[1])"
   ]
  },
  {
   "cell_type": "code",
   "execution_count": 646,
   "metadata": {},
   "outputs": [
    {
     "data": {
      "text/plain": [
       "9"
      ]
     },
     "execution_count": 646,
     "metadata": {},
     "output_type": "execute_result"
    }
   ],
   "source": [
    "len(l_tuples)"
   ]
  },
  {
   "cell_type": "code",
   "execution_count": null,
   "metadata": {},
   "outputs": [],
   "source": []
  },
  {
   "cell_type": "code",
   "execution_count": 653,
   "metadata": {},
   "outputs": [],
   "source": [
    "def fun_time(arr):\n",
    "    suma = 0\n",
    "    tiempos = []\n",
    "    for i in range(arr.shape[0]):\n",
    "        tiempos.append(suma)\n",
    "        suma += dt\n",
    "    tiempos = np.array(tiempos)\n",
    "    return tiempos"
   ]
  },
  {
   "cell_type": "code",
   "execution_count": 652,
   "metadata": {},
   "outputs": [
    {
     "data": {
      "text/plain": [
       "(9999001,)"
      ]
     },
     "execution_count": 652,
     "metadata": {},
     "output_type": "execute_result"
    }
   ],
   "source": [
    "l_tuples[0][0][1000:].shape"
   ]
  },
  {
   "cell_type": "code",
   "execution_count": null,
   "metadata": {},
   "outputs": [],
   "source": []
  },
  {
   "cell_type": "code",
   "execution_count": null,
   "metadata": {},
   "outputs": [],
   "source": []
  },
  {
   "cell_type": "code",
   "execution_count": 775,
   "metadata": {},
   "outputs": [
    {
     "data": {
      "text/plain": [
       "<Figure size 432x288 with 0 Axes>"
      ]
     },
     "metadata": {},
     "output_type": "display_data"
    },
    {
     "data": {
      "text/plain": [
       "<Figure size 432x288 with 0 Axes>"
      ]
     },
     "metadata": {},
     "output_type": "display_data"
    },
    {
     "data": {
      "text/plain": [
       "<Figure size 432x288 with 0 Axes>"
      ]
     },
     "metadata": {},
     "output_type": "display_data"
    },
    {
     "data": {
      "text/plain": [
       "<Figure size 432x288 with 0 Axes>"
      ]
     },
     "metadata": {},
     "output_type": "display_data"
    },
    {
     "data": {
      "text/plain": [
       "<Figure size 432x288 with 0 Axes>"
      ]
     },
     "metadata": {},
     "output_type": "display_data"
    },
    {
     "data": {
      "text/plain": [
       "<Figure size 432x288 with 0 Axes>"
      ]
     },
     "metadata": {},
     "output_type": "display_data"
    },
    {
     "data": {
      "text/plain": [
       "<Figure size 432x288 with 0 Axes>"
      ]
     },
     "metadata": {},
     "output_type": "display_data"
    },
    {
     "data": {
      "text/plain": [
       "<Figure size 432x288 with 0 Axes>"
      ]
     },
     "metadata": {},
     "output_type": "display_data"
    },
    {
     "data": {
      "text/plain": [
       "<Figure size 432x288 with 0 Axes>"
      ]
     },
     "metadata": {},
     "output_type": "display_data"
    }
   ],
   "source": [
    "l_diff_1 = []\n",
    "l_diff_2 = []\n",
    "l_diff_3 = []\n",
    "l_diff_4 = []\n",
    "\n",
    "for arr_izq, arr_der, start_step in l_tuples:\n",
    "    \n",
    "    fig = plt.figure()\n",
    "    \n",
    "    tiempos = fun_time(arr_izq[start_step:])\n",
    "    \n",
    "    mi_dict_i = {'tiempo': tiempos, 'theta': arr_izq[start_step:]}\n",
    "    df_i = pd.DataFrame.from_dict(mi_dict_i)\n",
    "\n",
    "    mi_dict_d = {'tiempo': tiempos, 'theta': arr_der[start_step:]}\n",
    "    df_d = pd.DataFrame.from_dict(mi_dict_d)\n",
    "    \n",
    "    df_i.set_index(\"tiempo\", inplace=True)\n",
    "    df_d.set_index(\"tiempo\", inplace=True)\n",
    "    \n",
    "    \n",
    "    #_ = plt.hist(df_i.theta, bins=40, density=True, edgecolor='k', color='b', alpha=0.25)\n",
    "    #_ = plt.hist(df_d.theta, bins=40, density=True, edgecolor='k', color='r', alpha=0.25)\n",
    "    \n",
    "    df_mc_dt_concat = pd.concat([df_i, df_d])\n",
    "    \n",
    "    #_ = plt.hist(df_mc_dt_concat.theta, bins=70, density=True, edgecolor='k')\n",
    "    #_ = plt.plot(thetas, Y20(thetas, NY20, 5.0*np.sqrt(2*D)/D), alpha=1.0, color='k')\n",
    "    \n",
    "    df_mc_dt_concat['third_m'] = df_mc_dt_concat.theta**3\n",
    "    df_mc_dt_concat['fourth_m'] = df_mc_dt_concat.theta**4\n",
    "    \n",
    "    \n",
    "\n",
    "    diff_1st_M = df_mc_dt_concat.theta.mean() - np.pi/2\n",
    "    diff_var = df_mc_dt_concat.theta.var() - theta_var_theo\n",
    "    diff_third_M = theta_third_m_theo - df_mc_dt_concat.third_m.mean()\n",
    "    diff_fourth_M = theta_fourth_m_theo - df_mc_dt_concat.fourth_m.mean()\n",
    "    \n",
    "    l_diff_1.append(diff_1st_M)\n",
    "    l_diff_2.append(diff_var)\n",
    "    l_diff_3.append(diff_third_M)\n",
    "    l_diff_4.append(diff_fourth_M)"
   ]
  },
  {
   "cell_type": "code",
   "execution_count": 776,
   "metadata": {},
   "outputs": [
    {
     "data": {
      "text/plain": [
       "[-0.022595361964953486,\n",
       " 0.00016488714498419377,\n",
       " -0.00011965598557117652,\n",
       " 0.0001992066964833228,\n",
       " 0.0002946028533210576,\n",
       " 0.00200937676100188,\n",
       " 0.00023389515291860619,\n",
       " 0.0012726374235243476,\n",
       " -0.004695256740307796]"
      ]
     },
     "metadata": {},
     "output_type": "display_data"
    },
    {
     "data": {
      "text/plain": [
       "[-0.045378271697870565,\n",
       " -0.0042573436552824084,\n",
       " 0.00032854088628853084,\n",
       " -0.04403951120215677,\n",
       " -0.003656134255434207,\n",
       " 6.26546070978673e-05,\n",
       " -0.04431942455129345,\n",
       " -0.0009196462670992833,\n",
       " 0.020845305354747712]"
      ]
     },
     "metadata": {},
     "output_type": "display_data"
    },
    {
     "data": {
      "text/plain": [
       "[0.42125352923465975,\n",
       " 0.017978319281187538,\n",
       " -0.0002565252517552352,\n",
       " 0.20511036041173014,\n",
       " 0.013921170310483788,\n",
       " -0.026440275308532435,\n",
       " 0.20625998791406808,\n",
       " -0.012039164642933642,\n",
       " -0.03900636805524549]"
      ]
     },
     "metadata": {},
     "output_type": "display_data"
    },
    {
     "data": {
      "text/plain": [
       "[1.4174842876598035,\n",
       " 0.06861797326764929,\n",
       " -0.0020585929521601543,\n",
       " 0.7755608278774275,\n",
       " 0.05473884472693413,\n",
       " -0.10378677944717651,\n",
       " 0.7810795366381456,\n",
       " -0.04887406922045301,\n",
       " -0.15098841520076434]"
      ]
     },
     "metadata": {},
     "output_type": "display_data"
    }
   ],
   "source": [
    "display(l_diff_1)\n",
    "display(l_diff_2)\n",
    "display(l_diff_3)\n",
    "display(l_diff_4)"
   ]
  },
  {
   "cell_type": "code",
   "execution_count": null,
   "metadata": {},
   "outputs": [],
   "source": []
  },
  {
   "cell_type": "code",
   "execution_count": 756,
   "metadata": {},
   "outputs": [
    {
     "data": {
      "image/png": "[encoded data removed]",
      "text/plain": [
       "<Figure size 432x288 with 1 Axes>"
      ]
     },
     "metadata": {
      "needs_background": "light"
     },
     "output_type": "display_data"
    }
   ],
   "source": [
    "#_=plt.hist(arr_mc6_dtm1_izq, bins=50, density=True, edgecolor='k')\n",
    "_=plt.hist(arr_mc7_dtm1_izq, bins=50, density=True, edgecolor='k')"
   ]
  },
  {
   "cell_type": "markdown",
   "metadata": {},
   "source": [
    "### what a fuck!?"
   ]
  },
  {
   "cell_type": "code",
   "execution_count": null,
   "metadata": {},
   "outputs": [],
   "source": []
  },
  {
   "cell_type": "markdown",
   "metadata": {},
   "source": [
    "### Reprocessed"
   ]
  },
  {
   "cell_type": "code",
   "execution_count": 773,
   "metadata": {},
   "outputs": [
    {
     "data": {
      "image/png": "[encoded data removed]",
      "text/plain": [
       "<Figure size 432x288 with 1 Axes>"
      ]
     },
     "metadata": {
      "needs_background": "light"
     },
     "output_type": "display_data"
    }
   ],
   "source": [
    "#_=plt.hist(arr_mc6_dtm1_izq, bins=50, density=True, edgecolor='k')\n",
    "_=plt.hist(arr_mc7_dtm1_izq, bins=50, density=True, edgecolor='k')"
   ]
  },
  {
   "cell_type": "code",
   "execution_count": null,
   "metadata": {},
   "outputs": [],
   "source": []
  },
  {
   "cell_type": "code",
   "execution_count": 759,
   "metadata": {},
   "outputs": [
    {
     "data": {
      "image/png": "[encoded data removed]",
      "text/plain": [
       "<Figure size 432x288 with 1 Axes>"
      ]
     },
     "metadata": {
      "needs_background": "light"
     },
     "output_type": "display_data"
    }
   ],
   "source": [
    "_=plt.hist(arr_mc7_dtm1_der, bins=50, density=True, edgecolor='k')"
   ]
  },
  {
   "cell_type": "markdown",
   "metadata": {},
   "source": [
    "### what the fuck!"
   ]
  },
  {
   "cell_type": "code",
   "execution_count": 766,
   "metadata": {},
   "outputs": [
    {
     "data": {
      "text/plain": [
       "'/Users/adrianovaldesgomez/Documents/Adriano_Programming/Single_Particle_Sim/MC1e7/dte-1/der'"
      ]
     },
     "execution_count": 766,
     "metadata": {},
     "output_type": "execute_result"
    }
   ],
   "source": [
    "pwd"
   ]
  },
  {
   "cell_type": "code",
   "execution_count": 772,
   "metadata": {},
   "outputs": [
    {
     "data": {
      "image/png": "[encoded data removed]",
      "text/plain": [
       "<Figure size 432x288 with 1 Axes>"
      ]
     },
     "metadata": {
      "needs_background": "light"
     },
     "output_type": "display_data"
    }
   ],
   "source": [
    "_=plt.hist(arr_mc7_dtm1_der, bins=50, density=True, edgecolor='k')"
   ]
  },
  {
   "cell_type": "code",
   "execution_count": null,
   "metadata": {},
   "outputs": [],
   "source": []
  },
  {
   "cell_type": "code",
   "execution_count": 779,
   "metadata": {},
   "outputs": [
    {
     "data": {
      "text/plain": [
       "9"
      ]
     },
     "metadata": {},
     "output_type": "display_data"
    },
    {
     "data": {
      "text/plain": [
       "9"
      ]
     },
     "metadata": {},
     "output_type": "display_data"
    },
    {
     "data": {
      "text/plain": [
       "9"
      ]
     },
     "metadata": {},
     "output_type": "display_data"
    },
    {
     "data": {
      "text/plain": [
       "9"
      ]
     },
     "metadata": {},
     "output_type": "display_data"
    }
   ],
   "source": [
    "display(len(l_diff_1))\n",
    "display(len(l_diff_2))\n",
    "display(len(l_diff_3))\n",
    "display(len(l_diff_4))"
   ]
  },
  {
   "cell_type": "markdown",
   "metadata": {},
   "source": [
    "## Gather"
   ]
  },
  {
   "cell_type": "code",
   "execution_count": null,
   "metadata": {},
   "outputs": [],
   "source": [
    "l_tuples = [(arr_mc7_dtm1_izq, arr_mc7_dtm1_der, 10), (arr_mc7_dtm2_izq, arr_mc7_dtm2_der, 100),\n",
    "            (arr_mc7_dtm3_izq, arr_mc7_dtm3_der, 1000),(arr_mc6_dtm1_izq, arr_mc6_dtm1_der, 10),\n",
    "            (arr_mc6_dtm2_izq, arr_mc6_dtm2_der, 100),(arr_mc6_dtm3_izq, arr_mc6_dtm3_der, 1000),\n",
    "            (arr_mc5_dtm1_izq, arr_mc5_dtm1_der, 10), (arr_mc5_dtm2_izq, arr_mc5_dtm2_der, 100),\n",
    "            (arr_mc5_dtm3_izq, arr_mc5_dtm3_der, 1000)]"
   ]
  },
  {
   "cell_type": "code",
   "execution_count": 784,
   "metadata": {},
   "outputs": [],
   "source": [
    "dict_join ={'O(Stat_Ens)':[7,7,7,6,6,6,5,5,5], 'O(dt)':[-1,-2,-3,-1,-2,-3,-1,-2,-3], 'Mean_diff':l_diff_1, \n",
    "            'Var_diff':l_diff_2,'Third_md':l_diff_3, 'Fourth':l_diff_4}"
   ]
  },
  {
   "cell_type": "code",
   "execution_count": 785,
   "metadata": {},
   "outputs": [],
   "source": [
    "df_diffs = pd.DataFrame.from_dict(dict_join)"
   ]
  },
  {
   "cell_type": "code",
   "execution_count": 786,
   "metadata": {},
   "outputs": [
    {
     "data": {
      "text/html": [
       "<div>\n",
       "<style scoped>\n",
       "    .dataframe tbody tr th:only-of-type {\n",
       "        vertical-align: middle;\n",
       "    }\n",
       "\n",
       "    .dataframe tbody tr th {\n",
       "        vertical-align: top;\n",
       "    }\n",
       "\n",
       "    .dataframe thead th {\n",
       "        text-align: right;\n",
       "    }\n",
       "</style>\n",
       "<table border=\"1\" class=\"dataframe\">\n",
       "  <thead>\n",
       "    <tr style=\"text-align: right;\">\n",
       "      <th></th>\n",
       "      <th>O(Stat_Ens)</th>\n",
       "      <th>O(dt)</th>\n",
       "      <th>Mean_diff</th>\n",
       "      <th>Var_diff</th>\n",
       "      <th>Third_md</th>\n",
       "      <th>Fourth</th>\n",
       "    </tr>\n",
       "  </thead>\n",
       "  <tbody>\n",
       "    <tr>\n",
       "      <th>0</th>\n",
       "      <td>7</td>\n",
       "      <td>-1</td>\n",
       "      <td>-0.022595</td>\n",
       "      <td>-0.045378</td>\n",
       "      <td>0.421254</td>\n",
       "      <td>1.417484</td>\n",
       "    </tr>\n",
       "    <tr>\n",
       "      <th>1</th>\n",
       "      <td>7</td>\n",
       "      <td>-2</td>\n",
       "      <td>0.000165</td>\n",
       "      <td>-0.004257</td>\n",
       "      <td>0.017978</td>\n",
       "      <td>0.068618</td>\n",
       "    </tr>\n",
       "    <tr>\n",
       "      <th>2</th>\n",
       "      <td>7</td>\n",
       "      <td>-3</td>\n",
       "      <td>-0.000120</td>\n",
       "      <td>0.000329</td>\n",
       "      <td>-0.000257</td>\n",
       "      <td>-0.002059</td>\n",
       "    </tr>\n",
       "    <tr>\n",
       "      <th>3</th>\n",
       "      <td>6</td>\n",
       "      <td>-1</td>\n",
       "      <td>0.000199</td>\n",
       "      <td>-0.044040</td>\n",
       "      <td>0.205110</td>\n",
       "      <td>0.775561</td>\n",
       "    </tr>\n",
       "    <tr>\n",
       "      <th>4</th>\n",
       "      <td>6</td>\n",
       "      <td>-2</td>\n",
       "      <td>0.000295</td>\n",
       "      <td>-0.003656</td>\n",
       "      <td>0.013921</td>\n",
       "      <td>0.054739</td>\n",
       "    </tr>\n",
       "    <tr>\n",
       "      <th>5</th>\n",
       "      <td>6</td>\n",
       "      <td>-3</td>\n",
       "      <td>0.002009</td>\n",
       "      <td>0.000063</td>\n",
       "      <td>-0.026440</td>\n",
       "      <td>-0.103787</td>\n",
       "    </tr>\n",
       "    <tr>\n",
       "      <th>6</th>\n",
       "      <td>5</td>\n",
       "      <td>-1</td>\n",
       "      <td>0.000234</td>\n",
       "      <td>-0.044319</td>\n",
       "      <td>0.206260</td>\n",
       "      <td>0.781080</td>\n",
       "    </tr>\n",
       "    <tr>\n",
       "      <th>7</th>\n",
       "      <td>5</td>\n",
       "      <td>-2</td>\n",
       "      <td>0.001273</td>\n",
       "      <td>-0.000920</td>\n",
       "      <td>-0.012039</td>\n",
       "      <td>-0.048874</td>\n",
       "    </tr>\n",
       "    <tr>\n",
       "      <th>8</th>\n",
       "      <td>5</td>\n",
       "      <td>-3</td>\n",
       "      <td>-0.004695</td>\n",
       "      <td>0.020845</td>\n",
       "      <td>-0.039006</td>\n",
       "      <td>-0.150988</td>\n",
       "    </tr>\n",
       "  </tbody>\n",
       "</table>\n",
       "</div>"
      ],
      "text/plain": [
       "   O(Stat_Ens)  O(dt)  Mean_diff  Var_diff  Third_md    Fourth\n",
       "0            7     -1  -0.022595 -0.045378  0.421254  1.417484\n",
       "1            7     -2   0.000165 -0.004257  0.017978  0.068618\n",
       "2            7     -3  -0.000120  0.000329 -0.000257 -0.002059\n",
       "3            6     -1   0.000199 -0.044040  0.205110  0.775561\n",
       "4            6     -2   0.000295 -0.003656  0.013921  0.054739\n",
       "5            6     -3   0.002009  0.000063 -0.026440 -0.103787\n",
       "6            5     -1   0.000234 -0.044319  0.206260  0.781080\n",
       "7            5     -2   0.001273 -0.000920 -0.012039 -0.048874\n",
       "8            5     -3  -0.004695  0.020845 -0.039006 -0.150988"
      ]
     },
     "execution_count": 786,
     "metadata": {},
     "output_type": "execute_result"
    }
   ],
   "source": [
    "df_diffs"
   ]
  },
  {
   "cell_type": "code",
   "execution_count": null,
   "metadata": {},
   "outputs": [],
   "source": []
  },
  {
   "cell_type": "code",
   "execution_count": null,
   "metadata": {},
   "outputs": [],
   "source": []
  },
  {
   "cell_type": "code",
   "execution_count": null,
   "metadata": {},
   "outputs": [],
   "source": []
  },
  {
   "cell_type": "code",
   "execution_count": 787,
   "metadata": {},
   "outputs": [
    {
     "data": {
      "text/plain": [
       "'/Users/adrianovaldesgomez/Documents/Adriano_Programming/Single_Particle_Sim/MC1e7/dte-1/der'"
      ]
     },
     "execution_count": 787,
     "metadata": {},
     "output_type": "execute_result"
    }
   ],
   "source": [
    "pwd"
   ]
  },
  {
   "cell_type": "code",
   "execution_count": 788,
   "metadata": {},
   "outputs": [],
   "source": [
    "df_diffs.to_csv(\"/Users/adrianovaldesgomez/Desktop/StatAnalys_SingP_01.csv\")"
   ]
  },
  {
   "cell_type": "code",
   "execution_count": null,
   "metadata": {},
   "outputs": [],
   "source": []
  },
  {
   "cell_type": "code",
   "execution_count": null,
   "metadata": {},
   "outputs": [],
   "source": []
  }
 ],
 "metadata": {
  "kernelspec": {
   "display_name": "Python 3",
   "language": "python",
   "name": "python3"
  },
  "language_info": {
   "codemirror_mode": {
    "name": "ipython",
    "version": 3
   },
   "file_extension": ".py",
   "mimetype": "text/x-python",
   "name": "python",
   "nbconvert_exporter": "python",
   "pygments_lexer": "ipython3",
   "version": "3.8.3"
  }
 },
 "nbformat": 4,
 "nbformat_minor": 4
}
