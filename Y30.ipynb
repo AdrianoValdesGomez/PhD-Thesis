{
 "cells": [
  {
   "cell_type": "code",
   "execution_count": 1,
   "metadata": {},
   "outputs": [],
   "source": [
    "# coding: utf-8\n",
    "import numpy as np\n",
    "from matplotlib import pyplot as plt\n",
    "def orto(x):\n",
    "    if np.dot(x,x) == 0:\n",
    "        return 'No se puede: ese es el vector cero!'\n",
    "    else:\n",
    "        if 0 not in x:\n",
    "            v1 = 1\n",
    "            v2 = -(x[0]/x[1])\n",
    "            v3 = 0\n",
    "            #return np.array([v1,v2,v3])\n",
    "        else:\n",
    "            if x[0] == 0:\n",
    "                if x[1] == 0:\n",
    "                    v1 = 1\n",
    "                    v2 = 0\n",
    "                    v3 = 0\n",
    "                else:\n",
    "                    v1 = 0\n",
    "                    v2 = 0\n",
    "                    v3 = 1\n",
    "            elif x[1] == 0:\n",
    "                v1 = 0\n",
    "                v2 = 1\n",
    "                v3 = 0\n",
    "            else:\n",
    "                v1 = 0\n",
    "                v2 = 0\n",
    "                v3 = 1\n",
    "        return np.array([v1,v2,v3])\n",
    "    \n",
    "#Funcion que regresa dos vectores; numpy arrays de 3D, ortogonales al vector de input x.\n",
    "#Esto es, devuelven la base al espacio ortogonal definido por el vector x de entrada.\n",
    "#@jit\n",
    "def base_ort_nor(x):\n",
    "    y = orto(x)\n",
    "    v1 = y/np.linalg.norm(y)\n",
    "    z = np.cross(x,v1)\n",
    "    v2 = z/np.linalg.norm(z)\n",
    "    return v1, v2\n",
    "\n",
    "\n",
    "#Esta funcion genera un vector con distrubucion uniforme en las direcciones sobre un plano tangente a la esfera de radio R.\n",
    "#@jit\n",
    "def vector_des(v1,v2):\n",
    "    na = 2*np.pi*np.random.rand()\n",
    "    vn = v1*np.cos(na) + v2*np.sin(na)\n",
    "    return vn/np.linalg.norm(vn)\n",
    "\n",
    "R = 1\n",
    "\n",
    "#Normalizamos al vector de desplazamiento para que intersecte al vector de la nueva posicion de acuerdo con que el\n",
    "#desplazamiento (s) sobre la esfera, sobre este arco de circulo maximo, sea el determinado por el movimiento browniano particular.\n",
    "#@jit\n",
    "\n",
    "#REVISAR SI ES NECESARIO CAMBIAR PARA QUE REESCALE CON UNA TANGENTE HASTA EL FINAL, NO CADA TERMINO INDIVIDUAL COMO ABAJO\n",
    "\n",
    "def vector_q(x,s):\n",
    "    q = (R)*np.tan(s/(R))\n",
    "    return q*x\n",
    "\n",
    "#Dados todos los datos anteriores, esta funcion actualiza la posicion de la particula.\n",
    "#Lo que hace es que la mueve sobre el plano tangente a la esfera en la direccion predeterminada de tal suerte que el desplazamiento efectivo\n",
    "#s sobre una geodesica de la esfera, se el deseado, y posteriormente la proyecta sobre la superficie de la esfera.\n",
    "#@jit\n",
    "def nuevo_r(r, vector_q):\n",
    "    y = r + vector_q\n",
    "    y = y/np.linalg.norm(y)\n",
    "    return (R)*y\n",
    "\n",
    "#funcion que incorpora el efecto de un campo externo\n",
    "\n",
    "\n",
    "\n",
    "#Esta funcion ensambla todo lo anterior: como imput necesita una posicion inicial y un arco de desplazamiento\n",
    "#Como output da un vector de posicion nuevo dada un tipo de desplazamiento.\n",
    "#@jit\n",
    "def actualiza(r,s):\n",
    "    v1, v2 = base_ort_nor(r)\n",
    "    pre_q = vector_des(v1,v2)\n",
    "    q = vector_q(pre_q, s)\n",
    "    return nuevo_r(r, q)\n",
    "\n",
    "\n",
    "\n",
    "\n",
    "#Esta funcion actualiza la posicion de todos los elementos de una lista; particula brownianas.\n",
    "#@jit\n",
    "def act_n(lista,s):\n",
    "    l = []\n",
    "    for v in lista:\n",
    "        s = ese(D,delta_t)\n",
    "        l.append(actualiza(v,s))\n",
    "    return l\n",
    "\n",
    "\n",
    "\n",
    "\n",
    "\n",
    "#Huella de la trayectoria\n",
    "#La siguiente funcion hace una particion de la trayectoria sobre s en n pedazos y regresa\n",
    "#una lista de los vectores de esas posiciones sobre la esfera.\n",
    "#Usa al operador de rotacion.\n",
    "\n",
    "#@jit\n",
    "def b_steps_(ri,rf,n):\n",
    "    l = [ri]\n",
    "    r0 = ri\n",
    "    lamb = (np.dot(ri,rf))/((np.linalg.norm(ri))*(np.linalg.norm(rf)))\n",
    "    \n",
    "    if abs(lamb) > 1:\n",
    "        #print 'Is fucked up: there was a rounding '\n",
    "        if lamb < 0:\n",
    "            lamb = -1\n",
    "        else:\n",
    "            lamb = 1\n",
    "    \n",
    "    \n",
    "    \n",
    "    theta = np.arccos(lamb)\n",
    "    #if theta < 1e17:\n",
    "        #return l\n",
    "    if theta == 0:\n",
    "        return [ri,rf]\n",
    "    \n",
    "    else:\n",
    "\n",
    "        normal = np.cross(ri, rf)/ np.linalg.norm(np.cross(ri,rf))\n",
    "        for i in range(1,n + 1):\n",
    "            #vi = rot_theta(r0, theta/n, normal)\n",
    "            vi = rot_finita(r0, -normal, theta/n)\n",
    "            l.append(vi)\n",
    "            r0 = vi\n",
    "        return l\n",
    "\n",
    "\n",
    "#Operador de Rotacion\n",
    "#Depende de los parametros r, el vector o punto que queremos rotar; theta el angulo de rotacion; n el vector que define el eje de rotacion y el signo de rotacion.\n",
    "\n",
    "\n",
    "#@jit\n",
    "def rot_theta(r, theta, u):\n",
    "    x = np.array([np.cos(theta) + (u[0]*u[0])*(1 - np.cos(theta)), u[0]*u[1]*(1 - np.cos(theta)) - u[2]*np.sin(theta), u[0]*u[2]*(1 - np.cos(theta)) + u[1]*np.sin(theta)])\n",
    "    y = np.array([u[1]*u[0]*(1 - np.cos(theta)) + u[2]*np.sin(theta), np.cos(theta) + u[1]*u[1]*(1 - np.cos(theta)), u[1]*u[2]*(1 - np.cos(theta)) - u[0]*np.sin(theta)])\n",
    "    z = np.array([u[2]*u[0]*(1 - np.cos(theta)) - u[1]*np.sin(theta), u[2]*u[1]*(1 - np.cos(theta)) + u[0]*np.sin(theta), np.cos(theta) + u[2]*u[2]*(1 - np.cos(theta))])\n",
    "    R = np.array([x,y,z])\n",
    "    return np.dot(R, r)\n",
    "\n",
    "\n",
    "\n",
    "#Transformacion de coordenada de esfericas a cartesianas.\n",
    "\n",
    "#@jit\n",
    "def trans_s_c(r,theta, phi):\n",
    "    x = r*np.sin(theta)*np.cos(phi)\n",
    "    y = r*np.sin(theta)* np.sin(phi)\n",
    "    z = r*np.cos(theta)\n",
    "    return x, y, z\n",
    "\n",
    "\n",
    "\n",
    "def trans_c_s(x,y,z):\n",
    "    r = np.sqrt(x**2 + y**2 + z**2)\n",
    "    #print r\n",
    "    cociente = z/r\n",
    "    if abs(cociente) > 1:\n",
    "        if cociente < 0:\n",
    "            theta = np.arccos(-1)\n",
    "        else:\n",
    "            theta = np.arccos(1)\n",
    "    else:\n",
    "        \n",
    "        theta = np.arccos(z/r)\n",
    "    #Aqui hay un problema relevante: cada vez que y o x sean nulos, habra un problema\n",
    "    #de indefinicion de operacion\n",
    "    if x == 0.:\n",
    "        if y == 0.:\n",
    "            phi = 2*np.pi*np.random.rand()\n",
    "    else:\n",
    "        if x < 0:\n",
    "            phi = np.arctan(y/x) + np.pi\n",
    "        else:\n",
    "            if y < 0:\n",
    "                phi = np.arctan(y/x) + 2*np.pi\n",
    "            else:\n",
    "                \n",
    "                phi = np.arctan(y/x)\n",
    "    return r, theta, phi\n",
    "\n",
    "\n",
    "\n",
    "\n",
    "#Base unitaria para las coordenadas esféricas\n",
    "#@jit\n",
    "def r_uni(theta, phi):\n",
    "    x = np.sin(theta)*np.cos(phi)\n",
    "    y = np.cos(theta)*np.cos(phi)\n",
    "    z = np.cos(theta)\n",
    "    return np.array([x,y,z])\n",
    "#@jit\n",
    "def theta_uni(theta, phi):\n",
    "    x = np.cos(theta)*np.cos(phi)\n",
    "    y = np.cos(theta)*np.sin(phi)\n",
    "    z = -np.sin(theta)\n",
    "    return np.array([x,y,z])\n",
    "#@jit\n",
    "def phi_uni(theta, phi):\n",
    "    x = -np.sin(phi)\n",
    "    y = np.cos(phi)\n",
    "    z = 0\n",
    "    return np.array([x,y,z])\n",
    "\n",
    "#Función que normaliza los nombres para las animaciones de tal suerte que tenga el mismo número de\n",
    "#digitos y se iteren en orden\n",
    "#@jit\n",
    "def nombre(s):\n",
    "    diferencia = 4 - len(str(s))\n",
    "    ceros = '' \n",
    "    for i in range(diferencia):\n",
    "        ceros = ceros + '0'\n",
    "    variable = ceros + str(s)\n",
    "    return variable\n",
    "\n",
    "#Varianza para una distribucion bigaussiana; difusion en 2D\n",
    "#@jit\n",
    "def var(D, delta_t):\n",
    "    return 4*D*delta_t\n",
    "\n",
    "\n",
    "#Arco de circulo maximo con distribucion normal alrededor de cero y una varianza dada por\n",
    "#@jit\n",
    "def ese(D,delta_t):\n",
    "    return abs(np.random.normal(loc = 0., scale = np.sqrt(var(D,delta_t)),size = None))\n",
    "\n",
    "#Funcion de rotacion finita\n",
    "#@jit\n",
    "def rot_finita(r_ini, N, Phi):\n",
    "    n = N/np.linalg.norm(N)\n",
    "    r_fin = np.cos(Phi)*r_ini + (np.dot(n,r_ini))*(1 - np.cos(Phi))*n + (np.sin(Phi))*(np.cross(r_ini,n))\n",
    "    return r_fin\n",
    "\n",
    "\n",
    "#Funcion que regresa una lista de n numpy arrays que son l\n",
    "def Trayectoria(ri,rf,n):\n",
    "    l = [ri]\n",
    "    r0 = ri\n",
    "    theta = np.arccos((np.dot(ri,rf))/((np.linalg.norm(ri))*(np.linalg.norm(rf))))\n",
    "    N = np.cross(ri, rf)\n",
    "    \n",
    "    for i in range(1,n + 1):\n",
    "        vi = rot_finita(r0, N, theta/n)\n",
    "        l.append(vi)\n",
    "        r0 = vi\n",
    "    return l\n",
    "\n",
    "#Collision_check es una función que, dada una trayectoria: una lista de vectores que\n",
    "#pasan por puntos sucesivos de la trayectoria, verifica si alguna de estas posiciones\n",
    "#interesecto a alguno de los obstáculos. En caso de que así sea, actualiza conforme una\n",
    "#colision elastica. En caso de no intersectar a ningun obstaculo regresa una lista\n",
    "#con dos vectores: posicion inicial y posicion final en ese orden.\n",
    "#@jit\n",
    "def penetrate_obs(lista_vect, lista_obs, size):\n",
    "    metiches = []\n",
    "    for obs in lista_obs:\n",
    "        theta_omega = size\n",
    "        r_omega = obs\n",
    "        frontera = .2\n",
    "        #metiches = []\n",
    "        for v in lista_vect:\n",
    "            tamanho = np.cos(theta_omega - frontera)\n",
    "            if np.dot(v,r_omega) > tamanho:\n",
    "                print('Penetro el mother fucker obstacle')\n",
    "                metiches.append(v)\n",
    "                \n",
    "            else:\n",
    "                continue\n",
    "    #print 'no choco el mother fucker'\n",
    "    #valor = False\n",
    "    return metiches\n",
    "\n",
    "\n",
    "#Esta funcion cuando es llamada grafia la posicion de las partoculas brownianas.\n",
    "#sobre la superficie de una esfera sobre la que se esta difundiendo.\n",
    "#@jit\n",
    "def plot_particles(lista, vpolar, vazim, numero):\n",
    "    from mpl_toolkits.mplot3d import axes3d\n",
    "    from mpl_toolkits.mplot3d import Axes3D\n",
    "    from matplotlib import cm\n",
    "\n",
    "    #import matplotlib.pyplot as plt\n",
    "    #import numpy as np\n",
    "    from itertools import product, combinations\n",
    "    fig = plt.figure(figsize=(8,8))\n",
    "    ax = fig.gca(projection='3d')\n",
    "    ax.set_aspect(\"equal\")\n",
    "    ax._axis3don = False\n",
    "\n",
    "    \n",
    "\n",
    "\n",
    "\n",
    "    #draw sphere\n",
    "    R = 1\n",
    "    u, v = np.mgrid[0:2*np.pi:50j, 0:np.pi:50j]\n",
    "    x=R*np.cos(u)*np.sin(v)\n",
    "    y=R*np.sin(u)*np.sin(v)\n",
    "    z=R*np.cos(v)\n",
    "    #ax.plot_surface(x, y, z, color=\"r\", alpha = 0.15)\n",
    "\n",
    "    ax.plot_surface(x, y, z, cmap=cm.YlGnBu_r,rstride=1, cstride=1, alpha = 0.10, linewidth = 0.10)\n",
    "    ax.view_init(vpolar, vazim)\n",
    "    \n",
    "    \n",
    "    #draw an arrow or a set of arrow\n",
    "    #ax.quiver(0,0,1.5,0,0,1, length=0.5, arrow_length_ratio = .5, color = \"b\")\n",
    "    #ax.quiver(1.5,0,0,1,0,0, length=0.5, arrow_length_ratio = .5, color =\"g\")\n",
    "    #ax.quiver(0,1.5,0,0,1,0, length=0.5, arrow_length_ratio = .5, color =\"r\")\n",
    "    #draw patch\n",
    "    #u, v = np.mgrid[0:2*np.pi:50j, 0:(np.pi/7):50j]\n",
    "    #x=R*np.cos(u)*np.sin(v)\n",
    "    #y=R*np.sin(u)*np.sin(v)\n",
    "    #z=R*np.cos(v)\n",
    "    #ax.plot_surface(x, y, z, color=\"r\", alpha = 0.25)    \n",
    "    \n",
    "    #draw points\n",
    "    for p in lista:\n",
    "        ax.scatter([p[0]],[p[1]],[p[2]],color=\"b\",s=15, alpha = 0.25)\n",
    "    \n",
    "    fig.savefig('SHY30_Field_X01_Img{}.png'.format(nombre(numero)))\n",
    "    #ax.view_init(80, 30)\n",
    "    #plt.show()\n",
    "    plt.close()\n",
    "\n",
    "    \n",
    "    \n",
    "#@jit\n",
    "def polo_n(n, R):\n",
    "    l = []\n",
    "    for i in range(n):\n",
    "        l.append(np.array([0,0,R]))\n",
    "    return l\n",
    "\n",
    "#@jit\n",
    "def particion_esfera(ccero, Nphi):\n",
    "    Ntheta = int(4*np.pi/(ccero*Nphi))\n",
    "    print('Ntheta', Ntheta, 'Nphi', Nphi, 'Ntheta*Nphi', Ntheta*Nphi)\n",
    "    sigmaPhi = 2*np.pi/Nphi\n",
    "    deltaphi = 2*np.pi/Nphi\n",
    "    thetas = []\n",
    "    phis = [0]\n",
    "    cociente = ccero/sigmaPhi\n",
    "    for i in range(Ntheta + 1):\n",
    "        theta = np.arccos(1 - (i)*cociente)\n",
    "        thetas.append(theta)\n",
    "    for j in range(Nphi):\n",
    "        phis.append(phis[j] + deltaphi)\n",
    "    return thetas, phis\n",
    "\n",
    "#@jit\n",
    "def secuencia_part(tamini, Nfi, numero):\n",
    "    l1, l2 = particion_esfera(4*np.pi/tamini, Nfi)\n",
    "    particion = []\n",
    "    for i in range(len(l2)):\n",
    "        for j in range(len(l1)):\n",
    "            x, y, z = trans_s_c(1, l1[j], l2[i])\n",
    "            particion.append(np.array([x, y, z]))\n",
    "            \n",
    "    return plot_particles(particion, 45, 45, numero)\n",
    "\n",
    "#Funcion que regresa las coordenadas del centro de dos arreglos para \n",
    "#las coordenadas theta y phi\n",
    "#@jit\n",
    "def coordenadas_centro(l1,l2):\n",
    "    thetas_centro = []\n",
    "    phis_centro = []\n",
    "    for i in range(len(l1) - 1):\n",
    "        theta_media = l1[i] + (l1[i + 1] - l1[i])/2.\n",
    "        thetas_centro.append(theta_media)\n",
    "    for j in range(len(l2) - 1):\n",
    "        phi_media = l2[j] + (l2[j + 1] - l2[j])/2.\n",
    "        phis_centro.append(phi_media)\n",
    "    return thetas_centro, phis_centro\n",
    "\n",
    "#@jit(nopython=True)\n",
    "def secuencia_obs(N, Nfi, numero):\n",
    "    l1_prima, l2_prima = particion_esfera(4*np.pi/N, Nfi)\n",
    "    l1, l2 = coordenadas_centro(l1_prima, l2_prima)\n",
    "    particion = []\n",
    "    for i in range(len(l2)):\n",
    "        for j in range(len(l1)):\n",
    "            x, y, z = trans_s_c(1, l1[j], l2[i])\n",
    "            particion.append(np.array([x, y, z]))\n",
    "            \n",
    "    print(len(particion))\n",
    "    \n",
    "    #return plot_particles(particion, 0, 0, numero)\n",
    "    return particion\n",
    "\n",
    "\n",
    "def plot_particle_traj_obs(lista_obstaculos, trayectoria,  vpolar, vazim, numero):\n",
    "    from mpl_toolkits.mplot3d import axes3d\n",
    "    from mpl_toolkits.mplot3d import Axes3D\n",
    "    from matplotlib import cm\n",
    "\n",
    "    #import matplotlib.pyplot as plt\n",
    "    #import numpy as np\n",
    "    from itertools import product, combinations\n",
    "    fig = plt.figure(figsize=(20,10))\n",
    "    ax = fig.gca(projection='3d')\n",
    "    ax.set_aspect(\"equal\")\n",
    "    ax._axis3don = False\n",
    "    \n",
    "\n",
    "    \n",
    "\n",
    "\n",
    "\n",
    "    #draw sphere\n",
    "    R = 1\n",
    "    u, v = np.mgrid[0:2*np.pi:50j, 0:np.pi:50j]\n",
    "    x=R*np.cos(u)*np.sin(v)\n",
    "    y=R*np.sin(u)*np.sin(v)\n",
    "    z=R*np.cos(v)\n",
    "    #ax.plot_surface(x, y, z, color=\"r\", alpha = 0.15)\n",
    "\n",
    "    ax.plot_surface(x, y, z, cmap=cm.YlGnBu_r,rstride=1, cstride=1, alpha = 0.10, linewidth = 0.15)\n",
    "    ax.view_init(vpolar, vazim)\n",
    "    #draw patch\n",
    "    #u, v = np.mgrid[0:2*np.pi:50j, 0:(np.pi/7):50j]\n",
    "    #x=R*np.cos(u)*np.sin(v)\n",
    "    #y=R*np.sin(u)*np.sin(v)\n",
    "    #z=R*np.cos(v)\n",
    "    #ax.plot_surface(x, y, z, color=\"r\", alpha = 0.25)\n",
    "    \n",
    "    \n",
    "    \n",
    "    #draw obstacles\n",
    "    \n",
    "    for p in lista_obstaculos:\n",
    "        ax.scatter([p[0]],[p[1]],[p[2]], color=\"b\", s=10, alpha = 0.2)\n",
    "    \n",
    "    #draw trajectory\n",
    "    for p in trayectoria:\n",
    "        ax.scatter([p[0]],[p[1]],[p[2]], color=\"k\",s=20, alpha = 0.7)\n",
    "    \n",
    "    #Plot the x positive direction\n",
    "    \n",
    "    ax.quiver(1.5,0,0,1,0,0, length=0.5, arrow_length_ratio = .5)\n",
    "    ax.quiver(0,1.5,0,0,1,0, length=0.5, arrow_length_ratio = .5)\n",
    "    ax.quiver(0,0,1.5,0,0,1, length=0.5, arrow_length_ratio = .5)\n",
    "    \n",
    "    #fig.savefig('BS_24_Obs_test_01{}.png'.format(nombre(numero + 1)))\n",
    "    #ax.view_init(80, 30)\n",
    "    #plt.close()\n",
    "    plt.show()\n",
    "\n",
    "def obs_uniforme(N, R, size):\n",
    "    \n",
    "    list_obs = []\n",
    "    omega = np.cos(size)\n",
    "    while len(list_obs) < N:\n",
    "        x, y, z = np.random.uniform(-1,1), np.random.uniform(-1,1), np.random.uniform(-1,1)\n",
    "        v = np.array([x, y, z])\n",
    "        norma = np.linalg.norm(v)\n",
    "        if norma <= R:\n",
    "            n = v/norma\n",
    "            if not np.dot(n, np.array([0.,0.,1.]))/R > omega:\n",
    "                list_obs.append(R*n)\n",
    "    \n",
    "    return list_obs    \n",
    "\n",
    "\n",
    "def puntos_obs_j(r_omega, theta_omega, n):\n",
    "    r , theta, phi = trans_c_s(r_omega[0],r_omega[1],r_omega[2])\n",
    "    rp = rot_finita(r_omega, phi_uni(theta, phi), theta_omega)\n",
    "    puntos_obs_j = [rp]\n",
    "    for i in range(1,n):\n",
    "        x = rot_finita(rp, r_omega, 2*np.pi/n)\n",
    "        puntos_obs_j.append(x)\n",
    "        rp = x\n",
    "    return puntos_obs_j\n",
    "\n",
    "\n",
    "\n",
    "def puntos_obs(lista_obstaculos, size):\n",
    "    mis_obs = []\n",
    "    for i in range(len(lista_obstaculos)):\n",
    "        a = lista_obstaculos[i]\n",
    "        b = size\n",
    "        mis_obs = mis_obs + puntos_obs_j(a,b,100)\n",
    "    return mis_obs\n",
    "#Collision_check es una función que, dada una trayectoria: una lista de vectores que\n",
    "#pasan por puntos sucesivos de la trayectoria, verifica si alguna de estas posiciones\n",
    "#interesecto a alguno de los obstáculos. En caso de que así sea, actualiza conforme una\n",
    "#colision elastica. En caso de no intersectar a ningun obstaculo regresa una lista\n",
    "#con dos vectores: posicion inicial y posicion final en ese orden.\n",
    "\n",
    "def penetrate_obs(lista_vect, lista_obs, size):\n",
    "    metiches = []\n",
    "    for obs in lista_obs:\n",
    "        r_omega, theta_omega = obs, size\n",
    "        #frontera = .2\n",
    "        #metiches = []\n",
    "        for v in lista_vect:\n",
    "            tamanho = np.cos(theta_omega)\n",
    "            if np.dot(v,r_omega) >= tamanho:\n",
    "                #print 'Penetro el mother fucker obstacle'\n",
    "                metiches.append(v)\n",
    "                \n",
    "            else:\n",
    "                continue\n",
    "    #print 'no choco el mother fucker'\n",
    "    #valor = False\n",
    "    return metiches\n",
    "    \n",
    "\n",
    "def check_collision(lista_vect, lista_obs, size):\n",
    "    for obs in lista_obs:\n",
    "        r_omega, theta_omega = obs, size \n",
    "        for v in lista_vect:\n",
    "            tamanho = np.cos(theta_omega)\n",
    "            if np.dot(v,r_omega) > tamanho:\n",
    "                return  True\n",
    "            else:\n",
    "                continue\n",
    "    return False\n",
    "\n",
    "#REVISAR SI ES NECESARIO CAMBIAR PARA REESCALAR HASTA EL FINAL CON UNA TANGENTE\n",
    "\n",
    "\n",
    "def vector_q(x,s):\n",
    "    q = np.tan(s)\n",
    "    return q*x\n",
    "\n",
    "#Distribución en el polo sur\n",
    "\n",
    "def polo_s(n, R):\n",
    "    l = []\n",
    "    for i in range(n):\n",
    "        l.append(np.array([0,0,-R]))\n",
    "    return l\n",
    "\n",
    "#Dsitribución en el ecuador\n",
    "\n",
    "def dist_ecuador(n):\n",
    "    l = []\n",
    "    for i in range(n):\n",
    "        x, y, z = trans_s_c(1.,np.pi/2, np.random.uniform(0,2*np.pi))\n",
    "        l.append(np.array([x,y,z]))\n",
    "    return l\n",
    "\n"
   ]
  },
  {
   "cell_type": "code",
   "execution_count": 2,
   "metadata": {},
   "outputs": [
    {
     "data": {
      "text/plain": [
       "2"
      ]
     },
     "execution_count": 2,
     "metadata": {},
     "output_type": "execute_result"
    }
   ],
   "source": [
    "1+1"
   ]
  },
  {
   "cell_type": "code",
   "execution_count": null,
   "metadata": {},
   "outputs": [],
   "source": []
  },
  {
   "cell_type": "code",
   "execution_count": null,
   "metadata": {},
   "outputs": [],
   "source": []
  },
  {
   "cell_type": "code",
   "execution_count": 3,
   "metadata": {},
   "outputs": [],
   "source": [
    "#def nuevo_r_field(r, vector_q, field):\n",
    "#    #nfield = np.tan(field)\n",
    "#    xf = np.linalg.norm(field)\n",
    "#    if xf == 0:\n",
    "#        nfield = 0\n",
    "#    else:\n",
    "#        fvecuni = field/xf\n",
    "#        nfield = np.tan(xf)*fvecuni\n",
    "#    #y = r + vector_q + nfield\n",
    "#    y = r + vector_q + nfield\n",
    "#    y = y/np.linalg.norm(y)\n",
    "#    return y\n",
    "\n",
    "\n",
    "\n",
    "def nuevo_r_field(r, vector_q, field):\n",
    "    #nfield = np.tan(field)\n",
    "    v_sum = field + vector_q\n",
    "    xf = np.linalg.norm(v_sum)\n",
    "    if xf == 0:\n",
    "        nfield = 0\n",
    "    else:\n",
    "        fvecuni = (v_sum)/xf\n",
    "        nfield = np.tan(xf)*fvecuni\n",
    "    #y = r + vector_q + nfield\n",
    "    y = r + nfield\n",
    "    y = y/np.linalg.norm(y)\n",
    "    return y\n",
    "\n",
    "\n",
    "\n",
    "coff = np.sqrt((7./(16*np.pi)))\n",
    "\n",
    "def field_theta(ri, v0):\n",
    "    r, theta, phi = trans_c_s(ri[0],ri[1],ri[2])\n",
    "    \n",
    "    theta_field = coff*(-15*np.cos(theta)**2 * np.sin(theta) + 3*np.sin(theta))\n",
    "    \n",
    "    phi_field = 0.\n",
    "    \n",
    "    field = v0*(theta_field)*theta_uni(theta, phi)\n",
    "    \n",
    "    return field\n",
    "\n",
    "def actualiza_field_theta(r,s,v0):\n",
    "    v1, v2 = base_ort_nor(r)\n",
    "    pre_q = vector_des(v1,v2)\n",
    "    q = vector_q(pre_q, s)\n",
    "    return nuevo_r_field(r, q, field_theta(r,v0))\n",
    "    #return nuevo_r_field(r, pre_q, field_theta(r,v0))\n",
    "\n",
    "\n",
    "def act_n_field(lista, v0):\n",
    "    l = []\n",
    "    for v in lista:\n",
    "        s = ese(D,dt)\n",
    "        l.append(actualiza_field_theta(v, s, v0))\n",
    "    return l\n"
   ]
  },
  {
   "cell_type": "code",
   "execution_count": null,
   "metadata": {},
   "outputs": [],
   "source": []
  },
  {
   "cell_type": "code",
   "execution_count": null,
   "metadata": {},
   "outputs": [],
   "source": []
  },
  {
   "cell_type": "code",
   "execution_count": 4,
   "metadata": {},
   "outputs": [],
   "source": [
    "def mean_var_hist_theta(lista):\n",
    "    thetas = []\n",
    "    for r in lista:\n",
    "        cociente = r[2]\n",
    "        if abs(cociente) > 1.:\n",
    "            if cociente < 0:\n",
    "                theta = np.arccos(-1)\n",
    "            else:\n",
    "                theta = np.arccos(1)\n",
    "        else:\n",
    "\n",
    "            theta = np.arccos(r[2])\n",
    "            \n",
    "        thetas.append(theta)\n",
    "        \n",
    "    return thetas, np.mean(thetas), np.var(thetas)"
   ]
  },
  {
   "cell_type": "code",
   "execution_count": null,
   "metadata": {},
   "outputs": [],
   "source": []
  },
  {
   "cell_type": "code",
   "execution_count": 5,
   "metadata": {},
   "outputs": [],
   "source": [
    "def mean_var_hist_phis(lista):\n",
    "    phis = []\n",
    "    for r in lista:\n",
    "        \n",
    "        if r[0] == 0:\n",
    "            if r[1] == 0:\n",
    "                phi = 2*np.pi*np.random.rand()\n",
    "        else:\n",
    "            if r[0] < 0:\n",
    "                \n",
    "                phi = np.arctan(r[1]/r[0]) + np.pi\n",
    "                    \n",
    "            else:\n",
    "                if r[1] < 0:\n",
    "                    phi = np.arctan(r[1]/r[0]) + 2*np.pi\n",
    "                else:\n",
    "                \n",
    "                    phi = np.arctan(r[1]/r[0])\n",
    "                \n",
    "        phis.append(phi)\n",
    "    return phis, np.mean(phis), np.var(phis)"
   ]
  },
  {
   "cell_type": "code",
   "execution_count": null,
   "metadata": {},
   "outputs": [],
   "source": []
  },
  {
   "cell_type": "code",
   "execution_count": 6,
   "metadata": {},
   "outputs": [],
   "source": [
    "%matplotlib inline"
   ]
  },
  {
   "cell_type": "code",
   "execution_count": 6,
   "metadata": {},
   "outputs": [],
   "source": [
    "from __future__ import division\n",
    "import scipy as sci\n",
    "import scipy.special as sp\n",
    "import numpy as np\n",
    "import matplotlib\n",
    "import matplotlib.pyplot as plt\n",
    "from mpl_toolkits.mplot3d import Axes3D\n",
    "from matplotlib import cm, colors"
   ]
  },
  {
   "cell_type": "code",
   "execution_count": 7,
   "metadata": {},
   "outputs": [],
   "source": [
    "def Plot_Spherical_lm(l,m, numero,t,vp,va):\n",
    "\n",
    "    PHI, THETA = np.mgrid[0:2*np.pi:200j, 0:np.pi:200j]\n",
    "    R = sp.sph_harm(m, l, PHI, THETA).real\n",
    "    R = np.abs(R*np.cos(2*t))\n",
    "    X = R * np.sin(THETA) * np.cos(PHI)\n",
    "    Y = R * np.sin(THETA) * np.sin(PHI)\n",
    "    Z = R * np.cos(THETA)\n",
    "\n",
    "    #As R has negative values, we'll use an instance of Normalize\n",
    "    #see http://stackoverflow.com/questions/25023075/normalizing-colormap-used-by-facecolors-in-matplotlib\n",
    "    norm = colors.Normalize()\n",
    "    plt.rc(\"text\", usetex = True)\n",
    "    fig, ax = plt.subplots(subplot_kw=dict(projection='3d'), figsize=(14,10))\n",
    "    m = cm.ScalarMappable(cmap=cm.jet)\n",
    "    ax.plot_surface(X, Y, Z, rstride=1, cstride=1, facecolors=cm.jet(norm(R)), alpha = 0.5)\n",
    "    ax.set_title(r'$ |Y_{l}^{m}(\\theta, \\phi)| $', fontsize=24)\n",
    "    #ax.set_xlim(-0.5,0.5)\n",
    "    #ax.set_ylim(-0.5,0.5)\n",
    "    #ax.set_zlim(-0.5,0.5)\n",
    "    m.set_array(R)\n",
    "    ax.view_init(vp,va)\n",
    "    fig.colorbar(m, shrink=0.8)\n",
    "    #plt.savefig(\"SphericalHarmonicY22_{}\".format(nombre(numero)))\n",
    "    #plt.close();"
   ]
  },
  {
   "cell_type": "code",
   "execution_count": null,
   "metadata": {},
   "outputs": [],
   "source": []
  },
  {
   "cell_type": "code",
   "execution_count": 9,
   "metadata": {},
   "outputs": [
    {
     "data": {
      "image/png": "[encoded data removed]",
      "text/plain": [
       "<matplotlib.figure.Figure at 0x15136eb160>"
      ]
     },
     "metadata": {},
     "output_type": "display_data"
    }
   ],
   "source": [
    "phi = np.linspace(0, np.pi, 200)\n",
    "theta = np.linspace(0, 2*np.pi, 200)\n",
    "phi, theta = np.meshgrid(phi, theta)\n",
    "\n",
    "# The Cartesian coordinates of the unit sphere\n",
    "x = np.sin(phi) * np.cos(theta)\n",
    "y = np.sin(phi) * np.sin(theta)\n",
    "z = np.cos(phi)\n",
    "\n",
    "l, m = 3, 0\n",
    "\n",
    "# Calculate the spherical harmonic Y(l,m) and normalize to [0,1]\n",
    "fcolors = sp.sph_harm(m, l, theta, phi).real\n",
    "fmax, fmin = fcolors.max(), fcolors.min()\n",
    "fcolors = (fcolors - fmin)/(fmax - fmin)\n",
    "\n",
    "# Set the aspect ratio to 1 so our sphere looks spherical\n",
    "#fig = plt.figure(figsize=plt.figaspect(1.))\n",
    "fig = plt.figure(figsize = (8,8))\n",
    "ax = fig.add_subplot(111, projection='3d')\n",
    "ax.plot_surface(x, y, z,  rstride=1, cstride=1, facecolors=cm.jet(fcolors), alpha = 0.26)\n",
    "# Turn off the axis planes\n",
    "ax.set_axis_off()\n",
    "ax.view_init(0,0)\n",
    "plt.show()"
   ]
  },
  {
   "cell_type": "code",
   "execution_count": null,
   "metadata": {},
   "outputs": [],
   "source": []
  },
  {
   "cell_type": "markdown",
   "metadata": {},
   "source": [
    "### Administración de carpetas"
   ]
  },
  {
   "cell_type": "code",
   "execution_count": 8,
   "metadata": {},
   "outputs": [
    {
     "data": {
      "text/plain": [
       "'/Users/adrianovaldesgomez/Documents/Adriano_Programming'"
      ]
     },
     "execution_count": 8,
     "metadata": {},
     "output_type": "execute_result"
    }
   ],
   "source": [
    "%pwd"
   ]
  },
  {
   "cell_type": "code",
   "execution_count": 4,
   "metadata": {},
   "outputs": [
    {
     "name": "stdout",
     "output_type": "stream",
     "text": [
      "/Users/draflorencia/Documents/Adriano/simulaciones/New_Programs\n"
     ]
    }
   ],
   "source": [
    "%cd .."
   ]
  },
  {
   "cell_type": "code",
   "execution_count": null,
   "metadata": {
    "collapsed": true
   },
   "outputs": [],
   "source": []
  },
  {
   "cell_type": "code",
   "execution_count": null,
   "metadata": {
    "collapsed": true
   },
   "outputs": [],
   "source": []
  },
  {
   "cell_type": "code",
   "execution_count": 9,
   "metadata": {},
   "outputs": [
    {
     "name": "stdout",
     "output_type": "stream",
     "text": [
      "/Users/adrianovaldesgomez/Documents/Adriano_Programming\r\n"
     ]
    }
   ],
   "source": [
    "!pwd"
   ]
  },
  {
   "cell_type": "code",
   "execution_count": 9,
   "metadata": {},
   "outputs": [],
   "source": [
    "!mkdir SH_SIm_Y30_01"
   ]
  },
  {
   "cell_type": "code",
   "execution_count": 10,
   "metadata": {},
   "outputs": [
    {
     "name": "stdout",
     "output_type": "stream",
     "text": [
      "/Users/adrianovaldesgomez/Documents/Adriano_Programming/SH_SIm_Y30_01\n"
     ]
    }
   ],
   "source": [
    "%cd SH_Sim_Y30_01/"
   ]
  },
  {
   "cell_type": "code",
   "execution_count": null,
   "metadata": {
    "collapsed": true
   },
   "outputs": [],
   "source": []
  },
  {
   "cell_type": "code",
   "execution_count": null,
   "metadata": {
    "collapsed": true
   },
   "outputs": [],
   "source": []
  },
  {
   "cell_type": "code",
   "execution_count": null,
   "metadata": {
    "collapsed": true
   },
   "outputs": [],
   "source": []
  },
  {
   "cell_type": "markdown",
   "metadata": {},
   "source": [
    "### Simulación"
   ]
  },
  {
   "cell_type": "code",
   "execution_count": 11,
   "metadata": {
    "scrolled": true
   },
   "outputs": [
    {
     "ename": "OSError",
     "evalue": "[Errno 28] No space left on device: 'SHY30_Field_X01_Img0349.png'",
     "output_type": "error",
     "traceback": [
      "\u001b[0;31m---------------------------------------------------------------------------\u001b[0m",
      "\u001b[0;31mOSError\u001b[0m                                   Traceback (most recent call last)",
      "\u001b[0;32m<ipython-input-11-7750634db914>\u001b[0m in \u001b[0;36m<module>\u001b[0;34m()\u001b[0m\n\u001b[1;32m      9\u001b[0m \u001b[0;34m\u001b[0m\u001b[0m\n\u001b[1;32m     10\u001b[0m         \u001b[0mnuevas_pos\u001b[0m \u001b[0;34m=\u001b[0m \u001b[0mact_n_field\u001b[0m\u001b[0;34m(\u001b[0m\u001b[0mrs\u001b[0m\u001b[0;34m,\u001b[0m \u001b[0mv0\u001b[0m\u001b[0;34m)\u001b[0m\u001b[0;34m\u001b[0m\u001b[0m\n\u001b[0;32m---> 11\u001b[0;31m         \u001b[0mplot_particles\u001b[0m\u001b[0;34m(\u001b[0m\u001b[0mnuevas_pos\u001b[0m\u001b[0;34m,\u001b[0m \u001b[0;36m10\u001b[0m\u001b[0;34m,\u001b[0m \u001b[0;36m0\u001b[0m\u001b[0;34m,\u001b[0m \u001b[0mi\u001b[0m \u001b[0;34m+\u001b[0m \u001b[0;36m1\u001b[0m\u001b[0;34m)\u001b[0m\u001b[0;34m\u001b[0m\u001b[0m\n\u001b[0m\u001b[1;32m     12\u001b[0m         \u001b[0mrs\u001b[0m \u001b[0;34m=\u001b[0m \u001b[0mnuevas_pos\u001b[0m\u001b[0;34m\u001b[0m\u001b[0m\n",
      "\u001b[0;32m<ipython-input-1-c4ef357d1470>\u001b[0m in \u001b[0;36mplot_particles\u001b[0;34m(lista, vpolar, vazim, numero)\u001b[0m\n\u001b[1;32m    328\u001b[0m         \u001b[0max\u001b[0m\u001b[0;34m.\u001b[0m\u001b[0mscatter\u001b[0m\u001b[0;34m(\u001b[0m\u001b[0;34m[\u001b[0m\u001b[0mp\u001b[0m\u001b[0;34m[\u001b[0m\u001b[0;36m0\u001b[0m\u001b[0;34m]\u001b[0m\u001b[0;34m]\u001b[0m\u001b[0;34m,\u001b[0m\u001b[0;34m[\u001b[0m\u001b[0mp\u001b[0m\u001b[0;34m[\u001b[0m\u001b[0;36m1\u001b[0m\u001b[0;34m]\u001b[0m\u001b[0;34m]\u001b[0m\u001b[0;34m,\u001b[0m\u001b[0;34m[\u001b[0m\u001b[0mp\u001b[0m\u001b[0;34m[\u001b[0m\u001b[0;36m2\u001b[0m\u001b[0;34m]\u001b[0m\u001b[0;34m]\u001b[0m\u001b[0;34m,\u001b[0m\u001b[0mcolor\u001b[0m\u001b[0;34m=\u001b[0m\u001b[0;34m\"b\"\u001b[0m\u001b[0;34m,\u001b[0m\u001b[0ms\u001b[0m\u001b[0;34m=\u001b[0m\u001b[0;36m15\u001b[0m\u001b[0;34m,\u001b[0m \u001b[0malpha\u001b[0m \u001b[0;34m=\u001b[0m \u001b[0;36m0.25\u001b[0m\u001b[0;34m)\u001b[0m\u001b[0;34m\u001b[0m\u001b[0m\n\u001b[1;32m    329\u001b[0m \u001b[0;34m\u001b[0m\u001b[0m\n\u001b[0;32m--> 330\u001b[0;31m     \u001b[0mfig\u001b[0m\u001b[0;34m.\u001b[0m\u001b[0msavefig\u001b[0m\u001b[0;34m(\u001b[0m\u001b[0;34m'SHY30_Field_X01_Img{}.png'\u001b[0m\u001b[0;34m.\u001b[0m\u001b[0mformat\u001b[0m\u001b[0;34m(\u001b[0m\u001b[0mnombre\u001b[0m\u001b[0;34m(\u001b[0m\u001b[0mnumero\u001b[0m\u001b[0;34m)\u001b[0m\u001b[0;34m)\u001b[0m\u001b[0;34m)\u001b[0m\u001b[0;34m\u001b[0m\u001b[0m\n\u001b[0m\u001b[1;32m    331\u001b[0m     \u001b[0;31m#ax.view_init(80, 30)\u001b[0m\u001b[0;34m\u001b[0m\u001b[0;34m\u001b[0m\u001b[0m\n\u001b[1;32m    332\u001b[0m     \u001b[0;31m#plt.show()\u001b[0m\u001b[0;34m\u001b[0m\u001b[0;34m\u001b[0m\u001b[0m\n",
      "\u001b[0;32m~/anaconda3/lib/python3.6/site-packages/matplotlib/figure.py\u001b[0m in \u001b[0;36msavefig\u001b[0;34m(self, fname, **kwargs)\u001b[0m\n\u001b[1;32m   1832\u001b[0m             \u001b[0mself\u001b[0m\u001b[0;34m.\u001b[0m\u001b[0mset_frameon\u001b[0m\u001b[0;34m(\u001b[0m\u001b[0mframeon\u001b[0m\u001b[0;34m)\u001b[0m\u001b[0;34m\u001b[0m\u001b[0m\n\u001b[1;32m   1833\u001b[0m \u001b[0;34m\u001b[0m\u001b[0m\n\u001b[0;32m-> 1834\u001b[0;31m         \u001b[0mself\u001b[0m\u001b[0;34m.\u001b[0m\u001b[0mcanvas\u001b[0m\u001b[0;34m.\u001b[0m\u001b[0mprint_figure\u001b[0m\u001b[0;34m(\u001b[0m\u001b[0mfname\u001b[0m\u001b[0;34m,\u001b[0m \u001b[0;34m**\u001b[0m\u001b[0mkwargs\u001b[0m\u001b[0;34m)\u001b[0m\u001b[0;34m\u001b[0m\u001b[0m\n\u001b[0m\u001b[1;32m   1835\u001b[0m \u001b[0;34m\u001b[0m\u001b[0m\n\u001b[1;32m   1836\u001b[0m         \u001b[0;32mif\u001b[0m \u001b[0mframeon\u001b[0m\u001b[0;34m:\u001b[0m\u001b[0;34m\u001b[0m\u001b[0m\n",
      "\u001b[0;32m~/anaconda3/lib/python3.6/site-packages/matplotlib/backend_bases.py\u001b[0m in \u001b[0;36mprint_figure\u001b[0;34m(self, filename, dpi, facecolor, edgecolor, orientation, format, **kwargs)\u001b[0m\n\u001b[1;32m   2265\u001b[0m                 \u001b[0morientation\u001b[0m\u001b[0;34m=\u001b[0m\u001b[0morientation\u001b[0m\u001b[0;34m,\u001b[0m\u001b[0;34m\u001b[0m\u001b[0m\n\u001b[1;32m   2266\u001b[0m                 \u001b[0mbbox_inches_restore\u001b[0m\u001b[0;34m=\u001b[0m\u001b[0m_bbox_inches_restore\u001b[0m\u001b[0;34m,\u001b[0m\u001b[0;34m\u001b[0m\u001b[0m\n\u001b[0;32m-> 2267\u001b[0;31m                 **kwargs)\n\u001b[0m\u001b[1;32m   2268\u001b[0m         \u001b[0;32mfinally\u001b[0m\u001b[0;34m:\u001b[0m\u001b[0;34m\u001b[0m\u001b[0m\n\u001b[1;32m   2269\u001b[0m             \u001b[0;32mif\u001b[0m \u001b[0mbbox_inches\u001b[0m \u001b[0;32mand\u001b[0m \u001b[0mrestore_bbox\u001b[0m\u001b[0;34m:\u001b[0m\u001b[0;34m\u001b[0m\u001b[0m\n",
      "\u001b[0;32m~/anaconda3/lib/python3.6/site-packages/matplotlib/backends/backend_agg.py\u001b[0m in \u001b[0;36mprint_png\u001b[0;34m(self, filename_or_obj, *args, **kwargs)\u001b[0m\n\u001b[1;32m    510\u001b[0m         \u001b[0mrenderer\u001b[0m\u001b[0;34m.\u001b[0m\u001b[0mdpi\u001b[0m \u001b[0;34m=\u001b[0m \u001b[0mself\u001b[0m\u001b[0;34m.\u001b[0m\u001b[0mfigure\u001b[0m\u001b[0;34m.\u001b[0m\u001b[0mdpi\u001b[0m\u001b[0;34m\u001b[0m\u001b[0m\n\u001b[1;32m    511\u001b[0m         \u001b[0;32mif\u001b[0m \u001b[0misinstance\u001b[0m\u001b[0;34m(\u001b[0m\u001b[0mfilename_or_obj\u001b[0m\u001b[0;34m,\u001b[0m \u001b[0msix\u001b[0m\u001b[0;34m.\u001b[0m\u001b[0mstring_types\u001b[0m\u001b[0;34m)\u001b[0m\u001b[0;34m:\u001b[0m\u001b[0;34m\u001b[0m\u001b[0m\n\u001b[0;32m--> 512\u001b[0;31m             \u001b[0mfilename_or_obj\u001b[0m \u001b[0;34m=\u001b[0m \u001b[0mopen\u001b[0m\u001b[0;34m(\u001b[0m\u001b[0mfilename_or_obj\u001b[0m\u001b[0;34m,\u001b[0m \u001b[0;34m'wb'\u001b[0m\u001b[0;34m)\u001b[0m\u001b[0;34m\u001b[0m\u001b[0m\n\u001b[0m\u001b[1;32m    513\u001b[0m             \u001b[0mclose\u001b[0m \u001b[0;34m=\u001b[0m \u001b[0;32mTrue\u001b[0m\u001b[0;34m\u001b[0m\u001b[0m\n\u001b[1;32m    514\u001b[0m         \u001b[0;32melse\u001b[0m\u001b[0;34m:\u001b[0m\u001b[0;34m\u001b[0m\u001b[0m\n",
      "\u001b[0;31mOSError\u001b[0m: [Errno 28] No space left on device: 'SHY30_Field_X01_Img0349.png'"
     ]
    },
    {
     "data": {
      "image/png": "[encoded data removed]",
      "text/plain": [
       "<matplotlib.figure.Figure at 0x15ed593080>"
      ]
     },
     "metadata": {},
     "output_type": "display_data"
    }
   ],
   "source": [
    "D = 1e-1\n",
    "dt = np.log(2)*1e-3\n",
    "v0 = 20*np.sqrt(2*D)*dt\n",
    "dist_uni = obs_uniforme(700, 1., 0)\n",
    "#dist_uni = polo_n(600,1.)\n",
    "plot_particles(dist_uni, 10, 0, 0)\n",
    "rs = dist_uni\n",
    "for i in range(700):\n",
    "         \n",
    "        nuevas_pos = act_n_field(rs, v0)\n",
    "        plot_particles(nuevas_pos, 10, 0, i + 1)\n",
    "        rs = nuevas_pos"
   ]
  },
  {
   "cell_type": "code",
   "execution_count": null,
   "metadata": {
    "collapsed": true
   },
   "outputs": [],
   "source": []
  },
  {
   "cell_type": "code",
   "execution_count": null,
   "metadata": {
    "collapsed": true
   },
   "outputs": [],
   "source": []
  },
  {
   "cell_type": "code",
   "execution_count": null,
   "metadata": {
    "collapsed": true
   },
   "outputs": [],
   "source": []
  },
  {
   "cell_type": "markdown",
   "metadata": {},
   "source": [
    "### Animación"
   ]
  },
  {
   "cell_type": "code",
   "execution_count": 13,
   "metadata": {},
   "outputs": [
    {
     "name": "stdout",
     "output_type": "stream",
     "text": [
      "MEncoder 1.3.0-4.2.1 (C) 2000-2016 MPlayer Team\n",
      "224 audio & 451 video codecs\n",
      "success: format: 16  data: 0x0 - 0x0\n",
      "MF file format detected.\n",
      "[mf] search expr: *.png\n",
      "[mf] number of files: 349 (2792)\n",
      "[demux_mf] file type was not set! trying 'type=png'...\n",
      "VIDEO:  [MPNG]  0x0  24bpp  25.000 fps    0.0 kbps ( 0.0 kbyte/s)\n",
      "[V] filefmt:16  fourcc:0x474E504D  size:0x0  fps:25.000  ftime:=0.0400\n",
      "Input fps will be interpreted as 20.000 instead.\n",
      "libavcodec version 57.24.102 (internal)\n",
      "Opening video filter: [expand osd=1]\n",
      "Expand: -1 x -1, -1 ; -1, osd: 1, aspect: 0.000000, round: 1\n",
      "==========================================================================\n",
      "Opening video decoder: [ffmpeg] FFmpeg's libavcodec codec family\n",
      "Selected video codec: [ffpng] vfm: ffmpeg (FFmpeg PNG)\n",
      "==========================================================================\n",
      "Could not find matching colorspace - retrying with -vf scale...\n",
      "Opening video filter: [scale]\n",
      "Movie-Aspect is undefined - no prescaling applied.\n",
      "[swscaler @ 0x1023c9410]bicubic scaler, from rgba to yuv420p using MMXEXT\n",
      "videocodec: libavcodec (576x576 fourcc=3234504d [MP42])\n",
      "[VE_LAVC] High quality encoding selected (non-realtime)!\n",
      "Movie-Aspect is 1.00:1 - prescaling to correct movie aspect.\n",
      "[msmpeg4v2 @ 0x1023affe0]AVFrame.format is not set\n",
      "[msmpeg4v2 @ 0x1023affe0]AVFrame.width or height is not set\n",
      "Writing header...\n",
      "ODML: vprp aspect is 16384:16384.\n",
      "Writing header...\n",
      "ODML: vprp aspect is 16384:16384.\n",
      "Pos:   0.1s      1f ( 0%)  0.00fps Trem:   0min   0mb  A-V:0.000 [0:0]\n",
      "[msmpeg4v2 @ 0x1023affe0]AVFrame.format is not set\n",
      "[msmpeg4v2 @ 0x1023affe0]AVFrame.width or height is not set\n",
      "Pos:   0.1s      2f ( 0%)  0.00fps Trem:   0min   0mb  A-V:0.000 [0:0]\n",
      "[msmpeg4v2 @ 0x1023affe0]AVFrame.format is not set\n",
      "[msmpeg4v2 @ 0x1023affe0]AVFrame.width or height is not set\n",
      "Pos:   0.1s      3f ( 0%)  0.00fps Trem:   0min   0mb  A-V:0.000 [0:0]\n",
      "[msmpeg4v2 @ 0x1023affe0]AVFrame.format is not set\n",
      "[msmpeg4v2 @ 0x1023affe0]AVFrame.width or height is not set\n",
      "Pos:   0.2s      4f ( 1%)  0.00fps Trem:   0min   7mb  A-V:0.000 [0:0]\n",
      "[msmpeg4v2 @ 0x1023affe0]AVFrame.format is not set\n",
      "[msmpeg4v2 @ 0x1023affe0]AVFrame.width or height is not set\n",
      "Pos:   0.2s      5f ( 1%)  0.00fps Trem:   0min   9mb  A-V:0.000 [0:0]\n",
      "[msmpeg4v2 @ 0x1023affe0]AVFrame.format is not set\n",
      "[msmpeg4v2 @ 0x1023affe0]AVFrame.width or height is not set\n",
      "Pos:   0.3s      6f ( 1%)  0.00fps Trem:   0min  11mb  A-V:0.000 [0:0]\n",
      "[msmpeg4v2 @ 0x1023affe0]AVFrame.format is not set\n",
      "[msmpeg4v2 @ 0x1023affe0]AVFrame.width or height is not set\n",
      "Pos:   0.3s      7f ( 2%)  0.00fps Trem:   0min   6mb  A-V:0.000 [0:0]\n",
      "[msmpeg4v2 @ 0x1023affe0]AVFrame.format is not set\n",
      "[msmpeg4v2 @ 0x1023affe0]AVFrame.width or height is not set\n",
      "Pos:   0.4s      8f ( 2%)  0.00fps Trem:   0min   7mb  A-V:0.000 [0:0]\n",
      "[msmpeg4v2 @ 0x1023affe0]AVFrame.format is not set\n",
      "[msmpeg4v2 @ 0x1023affe0]AVFrame.width or height is not set\n",
      "Pos:   0.5s      9f ( 2%)  0.00fps Trem:   0min   8mb  A-V:0.000 [0:0]\n",
      "[msmpeg4v2 @ 0x1023affe0]AVFrame.format is not set\n",
      "[msmpeg4v2 @ 0x1023affe0]AVFrame.width or height is not set\n",
      "Pos:   0.5s     10f ( 2%)  0.00fps Trem:   0min   9mb  A-V:0.000 [0:0]\n",
      "[msmpeg4v2 @ 0x1023affe0]AVFrame.format is not set\n",
      "[msmpeg4v2 @ 0x1023affe0]AVFrame.width or height is not set\n",
      "Pos:   0.6s     11f ( 3%)  0.00fps Trem:   0min   6mb  A-V:0.000 [0:0]\n",
      "[msmpeg4v2 @ 0x1023affe0]AVFrame.format is not set\n",
      "[msmpeg4v2 @ 0x1023affe0]AVFrame.width or height is not set\n",
      "Pos:   0.6s     12f ( 3%)  0.00fps Trem:   0min   7mb  A-V:0.000 [0:0]\n",
      "[msmpeg4v2 @ 0x1023affe0]AVFrame.format is not set\n",
      "[msmpeg4v2 @ 0x1023affe0]AVFrame.width or height is not set\n",
      "Pos:   0.7s     13f ( 3%)  0.00fps Trem:   0min   7mb  A-V:0.000 [0:0]\n",
      "[msmpeg4v2 @ 0x1023affe0]AVFrame.format is not set\n",
      "[msmpeg4v2 @ 0x1023affe0]AVFrame.width or height is not set\n",
      "Pos:   0.7s     14f ( 4%)  0.00fps Trem:   0min   6mb  A-V:0.000 [0:0]\n",
      "[msmpeg4v2 @ 0x1023affe0]AVFrame.format is not set\n",
      "[msmpeg4v2 @ 0x1023affe0]AVFrame.width or height is not set\n",
      "Pos:   0.8s     15f ( 4%)  0.00fps Trem:   0min   6mb  A-V:0.000 [0:0]\n",
      "[msmpeg4v2 @ 0x1023affe0]AVFrame.format is not set\n",
      "[msmpeg4v2 @ 0x1023affe0]AVFrame.width or height is not set\n",
      "Pos:   0.8s     16f ( 4%)  0.00fps Trem:   0min   7mb  A-V:0.000 [0:0]\n",
      "[msmpeg4v2 @ 0x1023affe0]AVFrame.format is not set\n",
      "[msmpeg4v2 @ 0x1023affe0]AVFrame.width or height is not set\n",
      "Pos:   0.8s     17f ( 4%)  0.00fps Trem:   0min   7mb  A-V:0.000 [0:0]\n",
      "[msmpeg4v2 @ 0x1023affe0]AVFrame.format is not set\n",
      "[msmpeg4v2 @ 0x1023affe0]AVFrame.width or height is not set\n",
      "Pos:   0.9s     18f ( 5%)  0.00fps Trem:   0min   6mb  A-V:0.000 [0:0]\n",
      "[msmpeg4v2 @ 0x1023affe0]AVFrame.format is not set\n",
      "[msmpeg4v2 @ 0x1023affe0]AVFrame.width or height is not set\n",
      "Pos:   0.9s     19f ( 5%)  0.00fps Trem:   0min   6mb  A-V:0.000 [0:0]\n",
      "[msmpeg4v2 @ 0x1023affe0]AVFrame.format is not set\n",
      "[msmpeg4v2 @ 0x1023affe0]AVFrame.width or height is not set\n",
      "Pos:   1.0s     20f ( 5%)  0.00fps Trem:   0min   6mb  A-V:0.000 [0:0]\n",
      "[msmpeg4v2 @ 0x1023affe0]AVFrame.format is not set\n",
      "[msmpeg4v2 @ 0x1023affe0]AVFrame.width or height is not set\n",
      "Pos:   1.1s     21f ( 6%)  0.00fps Trem:   0min   5mb  A-V:0.000 [2744:0]\n",
      "[msmpeg4v2 @ 0x1023affe0]AVFrame.format is not set\n",
      "[msmpeg4v2 @ 0x1023affe0]AVFrame.width or height is not set\n",
      "Pos:   1.1s     22f ( 6%)  0.00fps Trem:   0min   6mb  A-V:0.000 [2722:0]\n",
      "[msmpeg4v2 @ 0x1023affe0]AVFrame.format is not set\n",
      "[msmpeg4v2 @ 0x1023affe0]AVFrame.width or height is not set\n",
      "Pos:   1.1s     23f ( 6%)  0.00fps Trem:   0min   6mb  A-V:0.000 [2701:0]\n",
      "[msmpeg4v2 @ 0x1023affe0]AVFrame.format is not set\n",
      "[msmpeg4v2 @ 0x1023affe0]AVFrame.width or height is not set\n",
      "Pos:   1.2s     24f ( 6%)  0.00fps Trem:   0min   6mb  A-V:0.000 [2683:0]\n",
      "[msmpeg4v2 @ 0x1023affe0]AVFrame.format is not set\n",
      "[msmpeg4v2 @ 0x1023affe0]AVFrame.width or height is not set\n",
      "Pos:   1.2s     25f ( 7%)  0.00fps Trem:   0min   5mb  A-V:0.000 [2664:0]\n",
      "[msmpeg4v2 @ 0x1023affe0]AVFrame.format is not set\n",
      "[msmpeg4v2 @ 0x1023affe0]AVFrame.width or height is not set\n",
      "Pos:   1.3s     26f ( 7%)  0.00fps Trem:   0min   5mb  A-V:0.000 [2646:0]\n",
      "[msmpeg4v2 @ 0x1023affe0]AVFrame.format is not set\n",
      "[msmpeg4v2 @ 0x1023affe0]AVFrame.width or height is not set\n",
      "Pos:   1.4s     27f ( 7%)  0.00fps Trem:   0min   6mb  A-V:0.000 [2630:0]\n",
      "[msmpeg4v2 @ 0x1023affe0]AVFrame.format is not set\n",
      "[msmpeg4v2 @ 0x1023affe0]AVFrame.width or height is not set\n",
      "Pos:   1.4s     28f ( 8%)  0.00fps Trem:   0min   5mb  A-V:0.000 [2612:0]\n",
      "[msmpeg4v2 @ 0x1023affe0]AVFrame.format is not set\n",
      "[msmpeg4v2 @ 0x1023affe0]AVFrame.width or height is not set\n",
      "Pos:   1.4s     29f ( 8%)  0.00fps Trem:   0min   5mb  A-V:0.000 [2596:0]\n",
      "[msmpeg4v2 @ 0x1023affe0]AVFrame.format is not set\n",
      "[msmpeg4v2 @ 0x1023affe0]AVFrame.width or height is not set\n",
      "Pos:   1.5s     30f ( 8%)  0.00fps Trem:   0min   5mb  A-V:0.000 [2582:0]\n",
      "[msmpeg4v2 @ 0x1023affe0]AVFrame.format is not set\n",
      "[msmpeg4v2 @ 0x1023affe0]AVFrame.width or height is not set\n",
      "Pos:   1.6s     31f ( 8%)  0.00fps Trem:   0min   5mb  A-V:0.000 [2569:0]\n",
      "[msmpeg4v2 @ 0x1023affe0]AVFrame.format is not set\n",
      "[msmpeg4v2 @ 0x1023affe0]AVFrame.width or height is not set\n",
      "Pos:   1.6s     32f ( 9%)  0.00fps Trem:   0min   5mb  A-V:0.000 [2556:0]\n",
      "[msmpeg4v2 @ 0x1023affe0]AVFrame.format is not set\n",
      "[msmpeg4v2 @ 0x1023affe0]AVFrame.width or height is not set\n",
      "Pos:   1.6s     33f ( 9%)  0.00fps Trem:   0min   5mb  A-V:0.000 [2542:0]\n",
      "[msmpeg4v2 @ 0x1023affe0]AVFrame.format is not set\n",
      "[msmpeg4v2 @ 0x1023affe0]AVFrame.width or height is not set\n",
      "Pos:   1.7s     34f ( 9%)  0.00fps Trem:   0min   5mb  A-V:0.000 [2528:0]\n",
      "[msmpeg4v2 @ 0x1023affe0]AVFrame.format is not set\n",
      "[msmpeg4v2 @ 0x1023affe0]AVFrame.width or height is not set\n",
      "Pos:   1.8s     35f (10%)  0.00fps Trem:   0min   5mb  A-V:0.000 [2516:0]\n",
      "[msmpeg4v2 @ 0x1023affe0]AVFrame.format is not set\n",
      "[msmpeg4v2 @ 0x1023affe0]AVFrame.width or height is not set\n",
      "Pos:   1.8s     36f (10%)  0.00fps Trem:   0min   5mb  A-V:0.000 [2504:0]\n",
      "[msmpeg4v2 @ 0x1023affe0]AVFrame.format is not set\n",
      "[msmpeg4v2 @ 0x1023affe0]AVFrame.width or height is not set\n",
      "Pos:   1.9s     37f (10%) 36.67fps Trem:   0min   5mb  A-V:0.000 [2494:0]\n",
      "[msmpeg4v2 @ 0x1023affe0]AVFrame.format is not set\n",
      "[msmpeg4v2 @ 0x1023affe0]AVFrame.width or height is not set\n"
     ]
    },
    {
     "name": "stdout",
     "output_type": "stream",
     "text": [
      "Pos:   1.9s     38f (10%) 36.96fps Trem:   0min   5mb  A-V:0.000 [2483:0]\n",
      "[msmpeg4v2 @ 0x1023affe0]AVFrame.format is not set\n",
      "[msmpeg4v2 @ 0x1023affe0]AVFrame.width or height is not set\n",
      "Pos:   1.9s     39f (11%) 37.11fps Trem:   0min   5mb  A-V:0.000 [2472:0]\n",
      "[msmpeg4v2 @ 0x1023affe0]AVFrame.format is not set\n",
      "[msmpeg4v2 @ 0x1023affe0]AVFrame.width or height is not set\n",
      "Pos:   2.0s     40f (11%) 37.35fps Trem:   0min   5mb  A-V:0.000 [2462:0]\n",
      "[msmpeg4v2 @ 0x1023affe0]AVFrame.format is not set\n",
      "[msmpeg4v2 @ 0x1023affe0]AVFrame.width or height is not set\n",
      "Pos:   2.0s     41f (11%) 37.55fps Trem:   0min   5mb  A-V:0.000 [2451:0]\n",
      "[msmpeg4v2 @ 0x1023affe0]AVFrame.format is not set\n",
      "[msmpeg4v2 @ 0x1023affe0]AVFrame.width or height is not set\n",
      "Pos:   2.1s     42f (12%) 37.84fps Trem:   0min   5mb  A-V:0.000 [2441:0]\n",
      "[msmpeg4v2 @ 0x1023affe0]AVFrame.format is not set\n",
      "[msmpeg4v2 @ 0x1023affe0]AVFrame.width or height is not set\n",
      "Pos:   2.1s     43f (12%) 38.05fps Trem:   0min   5mb  A-V:0.000 [2431:0]\n",
      "[msmpeg4v2 @ 0x1023affe0]AVFrame.format is not set\n",
      "[msmpeg4v2 @ 0x1023affe0]AVFrame.width or height is not set\n",
      "Pos:   2.2s     44f (12%) 38.19fps Trem:   0min   5mb  A-V:0.000 [2419:0]\n",
      "[msmpeg4v2 @ 0x1023affe0]AVFrame.format is not set\n",
      "[msmpeg4v2 @ 0x1023affe0]AVFrame.width or height is not set\n",
      "Pos:   2.2s     45f (12%) 38.30fps Trem:   0min   5mb  A-V:0.000 [2409:0]\n",
      "[msmpeg4v2 @ 0x1023affe0]AVFrame.format is not set\n",
      "[msmpeg4v2 @ 0x1023affe0]AVFrame.width or height is not set\n",
      "Pos:   2.3s     46f (13%) 38.17fps Trem:   0min   5mb  A-V:0.000 [2397:0]\n",
      "[msmpeg4v2 @ 0x1023affe0]AVFrame.format is not set\n",
      "[msmpeg4v2 @ 0x1023affe0]AVFrame.width or height is not set\n",
      "Pos:   2.4s     47f (13%) 37.42fps Trem:   0min   5mb  A-V:0.000 [2386:0]\n",
      "[msmpeg4v2 @ 0x1023affe0]AVFrame.format is not set\n",
      "[msmpeg4v2 @ 0x1023affe0]AVFrame.width or height is not set\n",
      "Pos:   2.4s     48f (13%) 37.50fps Trem:   0min   5mb  A-V:0.000 [2375:0]\n",
      "[msmpeg4v2 @ 0x1023affe0]AVFrame.format is not set\n",
      "[msmpeg4v2 @ 0x1023affe0]AVFrame.width or height is not set\n",
      "Pos:   2.5s     49f (14%) 37.46fps Trem:   0min   4mb  A-V:0.000 [2366:0]\n",
      "[msmpeg4v2 @ 0x1023affe0]AVFrame.format is not set\n",
      "[msmpeg4v2 @ 0x1023affe0]AVFrame.width or height is not set\n",
      "Pos:   2.5s     50f (14%) 37.57fps Trem:   0min   5mb  A-V:0.000 [2357:0]\n",
      "[msmpeg4v2 @ 0x1023affe0]AVFrame.format is not set\n",
      "[msmpeg4v2 @ 0x1023affe0]AVFrame.width or height is not set\n",
      "Pos:   2.5s     51f (14%) 37.25fps Trem:   0min   5mb  A-V:0.000 [2347:0]\n",
      "[msmpeg4v2 @ 0x1023affe0]AVFrame.format is not set\n",
      "[msmpeg4v2 @ 0x1023affe0]AVFrame.width or height is not set\n",
      "Pos:   2.6s     52f (14%) 37.33fps Trem:   0min   5mb  A-V:0.000 [2337:0]\n",
      "[msmpeg4v2 @ 0x1023affe0]AVFrame.format is not set\n",
      "[msmpeg4v2 @ 0x1023affe0]AVFrame.width or height is not set\n",
      "Pos:   2.6s     53f (15%) 37.32fps Trem:   0min   4mb  A-V:0.000 [2328:0]\n",
      "[msmpeg4v2 @ 0x1023affe0]AVFrame.format is not set\n",
      "[msmpeg4v2 @ 0x1023affe0]AVFrame.width or height is not set\n",
      "Pos:   2.7s     54f (15%) 37.47fps Trem:   0min   5mb  A-V:0.000 [2319:0]\n",
      "[msmpeg4v2 @ 0x1023affe0]AVFrame.format is not set\n",
      "[msmpeg4v2 @ 0x1023affe0]AVFrame.width or height is not set\n",
      "Pos:   2.8s     55f (15%) 37.62fps Trem:   0min   5mb  A-V:0.000 [2310:0]\n",
      "[msmpeg4v2 @ 0x1023affe0]AVFrame.format is not set\n",
      "[msmpeg4v2 @ 0x1023affe0]AVFrame.width or height is not set\n",
      "Pos:   2.8s     56f (16%) 37.76fps Trem:   0min   4mb  A-V:0.000 [2301:0]\n",
      "[msmpeg4v2 @ 0x1023affe0]AVFrame.format is not set\n",
      "[msmpeg4v2 @ 0x1023affe0]AVFrame.width or height is not set\n",
      "Pos:   2.9s     57f (16%) 37.90fps Trem:   0min   4mb  A-V:0.000 [2292:0]\n",
      "[msmpeg4v2 @ 0x1023affe0]AVFrame.format is not set\n",
      "[msmpeg4v2 @ 0x1023affe0]AVFrame.width or height is not set\n",
      "Pos:   2.9s     58f (16%) 38.03fps Trem:   0min   4mb  A-V:0.000 [2284:0]\n",
      "[msmpeg4v2 @ 0x1023affe0]AVFrame.format is not set\n",
      "[msmpeg4v2 @ 0x1023affe0]AVFrame.width or height is not set\n",
      "Pos:   3.0s     59f (16%) 38.19fps Trem:   0min   5mb  A-V:0.000 [2275:0]\n",
      "[msmpeg4v2 @ 0x1023affe0]AVFrame.format is not set\n",
      "[msmpeg4v2 @ 0x1023affe0]AVFrame.width or height is not set\n",
      "Pos:   3.0s     60f (17%) 38.31fps Trem:   0min   4mb  A-V:0.000 [2267:0]\n",
      "[msmpeg4v2 @ 0x1023affe0]AVFrame.format is not set\n",
      "[msmpeg4v2 @ 0x1023affe0]AVFrame.width or height is not set\n",
      "Pos:   3.0s     61f (17%) 38.46fps Trem:   0min   4mb  A-V:0.000 [2258:0]\n",
      "[msmpeg4v2 @ 0x1023affe0]AVFrame.format is not set\n",
      "[msmpeg4v2 @ 0x1023affe0]AVFrame.width or height is not set\n",
      "Pos:   3.1s     62f (17%) 38.56fps Trem:   0min   4mb  A-V:0.000 [2250:0]\n",
      "[msmpeg4v2 @ 0x1023affe0]AVFrame.format is not set\n",
      "[msmpeg4v2 @ 0x1023affe0]AVFrame.width or height is not set\n",
      "Pos:   3.1s     63f (18%) 38.70fps Trem:   0min   4mb  A-V:0.000 [2242:0]\n",
      "[msmpeg4v2 @ 0x1023affe0]AVFrame.format is not set\n",
      "[msmpeg4v2 @ 0x1023affe0]AVFrame.width or height is not set\n",
      "Pos:   3.2s     64f (18%) 38.19fps Trem:   0min   4mb  A-V:0.000 [2234:0]\n",
      "[msmpeg4v2 @ 0x1023affe0]AVFrame.format is not set\n",
      "[msmpeg4v2 @ 0x1023affe0]AVFrame.width or height is not set\n",
      "Pos:   3.2s     65f (18%) 38.12fps Trem:   0min   4mb  A-V:0.000 [2226:0]\n",
      "[msmpeg4v2 @ 0x1023affe0]AVFrame.format is not set\n",
      "[msmpeg4v2 @ 0x1023affe0]AVFrame.width or height is not set\n",
      "Pos:   3.3s     66f (18%) 38.24fps Trem:   0min   4mb  A-V:0.000 [2217:0]\n",
      "[msmpeg4v2 @ 0x1023affe0]AVFrame.format is not set\n",
      "[msmpeg4v2 @ 0x1023affe0]AVFrame.width or height is not set\n",
      "Pos:   3.4s     67f (19%) 38.11fps Trem:   0min   4mb  A-V:0.000 [2208:0]\n",
      "[msmpeg4v2 @ 0x1023affe0]AVFrame.format is not set\n",
      "[msmpeg4v2 @ 0x1023affe0]AVFrame.width or height is not set\n",
      "Pos:   3.4s     68f (19%) 38.18fps Trem:   0min   4mb  A-V:0.000 [2199:0]\n",
      "[msmpeg4v2 @ 0x1023affe0]AVFrame.format is not set\n",
      "[msmpeg4v2 @ 0x1023affe0]AVFrame.width or height is not set\n",
      "Pos:   3.5s     69f (19%) 38.27fps Trem:   0min   4mb  A-V:0.000 [2192:0]\n",
      "[msmpeg4v2 @ 0x1023affe0]AVFrame.format is not set\n",
      "[msmpeg4v2 @ 0x1023affe0]AVFrame.width or height is not set\n",
      "Pos:   3.5s     70f (20%) 38.15fps Trem:   0min   4mb  A-V:0.000 [2184:0]\n",
      "[msmpeg4v2 @ 0x1023affe0]AVFrame.format is not set\n",
      "[msmpeg4v2 @ 0x1023affe0]AVFrame.width or height is not set\n",
      "Pos:   3.5s     71f (20%) 38.19fps Trem:   0min   4mb  A-V:0.000 [2176:0]\n",
      "[msmpeg4v2 @ 0x1023affe0]AVFrame.format is not set\n",
      "[msmpeg4v2 @ 0x1023affe0]AVFrame.width or height is not set\n",
      "Pos:   3.6s     72f (20%) 38.14fps Trem:   0min   4mb  A-V:0.000 [2168:0]\n",
      "[msmpeg4v2 @ 0x1023affe0]AVFrame.format is not set\n",
      "[msmpeg4v2 @ 0x1023affe0]AVFrame.width or height is not set\n",
      "Pos:   3.6s     73f (20%) 38.24fps Trem:   0min   4mb  A-V:0.000 [2160:0]\n",
      "[msmpeg4v2 @ 0x1023affe0]AVFrame.format is not set\n",
      "[msmpeg4v2 @ 0x1023affe0]AVFrame.width or height is not set\n",
      "Pos:   3.7s     74f (21%) 38.34fps Trem:   0min   4mb  A-V:0.000 [2152:0]\n",
      "[msmpeg4v2 @ 0x1023affe0]AVFrame.format is not set\n",
      "[msmpeg4v2 @ 0x1023affe0]AVFrame.width or height is not set\n",
      "Pos:   3.8s     75f (21%) 38.36fps Trem:   0min   4mb  A-V:0.000 [2144:0]\n",
      "[msmpeg4v2 @ 0x1023affe0]AVFrame.format is not set\n",
      "[msmpeg4v2 @ 0x1023affe0]AVFrame.width or height is not set\n",
      "Pos:   3.8s     76f (21%) 38.46fps Trem:   0min   4mb  A-V:0.000 [2137:0]\n",
      "[msmpeg4v2 @ 0x1023affe0]AVFrame.format is not set\n",
      "[msmpeg4v2 @ 0x1023affe0]AVFrame.width or height is not set\n",
      "Pos:   3.9s     77f (22%) 38.52fps Trem:   0min   4mb  A-V:0.000 [2129:0]\n",
      "[msmpeg4v2 @ 0x1023affe0]AVFrame.format is not set\n",
      "[msmpeg4v2 @ 0x1023affe0]AVFrame.width or height is not set\n",
      "Pos:   3.9s     78f (22%) 38.58fps Trem:   0min   4mb  A-V:0.000 [2121:0]\n",
      "[msmpeg4v2 @ 0x1023affe0]AVFrame.format is not set\n",
      "[msmpeg4v2 @ 0x1023affe0]AVFrame.width or height is not set\n",
      "Pos:   4.0s     79f (22%) 38.57fps Trem:   0min   4mb  A-V:0.000 [2113:0]\n",
      "[msmpeg4v2 @ 0x1023affe0]AVFrame.format is not set\n",
      "[msmpeg4v2 @ 0x1023affe0]AVFrame.width or height is not set\n",
      "Pos:   4.0s     80f (22%) 38.68fps Trem:   0min   4mb  A-V:0.000 [2106:0]\n",
      "[msmpeg4v2 @ 0x1023affe0]AVFrame.format is not set\n",
      "[msmpeg4v2 @ 0x1023affe0]AVFrame.width or height is not set\n",
      "Pos:   4.0s     81f (23%) 38.76fps Trem:   0min   4mb  A-V:0.000 [2098:0]\n",
      "[msmpeg4v2 @ 0x1023affe0]AVFrame.format is not set\n",
      "[msmpeg4v2 @ 0x1023affe0]AVFrame.width or height is not set\n",
      "Pos:   4.1s     82f (23%) 38.83fps Trem:   0min   4mb  A-V:0.000 [2091:0]\n",
      "[msmpeg4v2 @ 0x1023affe0]AVFrame.format is not set\n",
      "[msmpeg4v2 @ 0x1023affe0]AVFrame.width or height is not set\n"
     ]
    },
    {
     "name": "stdout",
     "output_type": "stream",
     "text": [
      "Pos:   4.2s     83f (23%) 38.95fps Trem:   0min   4mb  A-V:0.000 [2084:0]\n",
      "[msmpeg4v2 @ 0x1023affe0]AVFrame.format is not set\n",
      "[msmpeg4v2 @ 0x1023affe0]AVFrame.width or height is not set\n",
      "Pos:   4.2s     84f (24%) 38.92fps Trem:   0min   4mb  A-V:0.000 [2076:0]\n",
      "[msmpeg4v2 @ 0x1023affe0]AVFrame.format is not set\n",
      "[msmpeg4v2 @ 0x1023affe0]AVFrame.width or height is not set\n",
      "Pos:   4.2s     85f (24%) 38.97fps Trem:   0min   4mb  A-V:0.000 [2068:0]\n",
      "[msmpeg4v2 @ 0x1023affe0]AVFrame.format is not set\n",
      "[msmpeg4v2 @ 0x1023affe0]AVFrame.width or height is not set\n",
      "Pos:   4.3s     86f (24%) 39.04fps Trem:   0min   4mb  A-V:0.000 [2061:0]\n",
      "[msmpeg4v2 @ 0x1023affe0]AVFrame.format is not set\n",
      "[msmpeg4v2 @ 0x1023affe0]AVFrame.width or height is not set\n",
      "Pos:   4.3s     87f (25%) 38.94fps Trem:   0min   4mb  A-V:0.000 [2054:0]\n",
      "[msmpeg4v2 @ 0x1023affe0]AVFrame.format is not set\n",
      "[msmpeg4v2 @ 0x1023affe0]AVFrame.width or height is not set\n",
      "Pos:   4.4s     88f (25%) 38.89fps Trem:   0min   4mb  A-V:0.000 [2047:0]\n",
      "[msmpeg4v2 @ 0x1023affe0]AVFrame.format is not set\n",
      "[msmpeg4v2 @ 0x1023affe0]AVFrame.width or height is not set\n",
      "Pos:   4.5s     89f (25%) 39.00fps Trem:   0min   4mb  A-V:0.000 [2040:0]\n",
      "[msmpeg4v2 @ 0x1023affe0]AVFrame.format is not set\n",
      "[msmpeg4v2 @ 0x1023affe0]AVFrame.width or height is not set\n",
      "Pos:   4.5s     90f (25%) 39.06fps Trem:   0min   4mb  A-V:0.000 [2033:0]\n",
      "[msmpeg4v2 @ 0x1023affe0]AVFrame.format is not set\n",
      "[msmpeg4v2 @ 0x1023affe0]AVFrame.width or height is not set\n",
      "Pos:   4.5s     91f (26%) 39.22fps Trem:   0min   4mb  A-V:0.000 [2025:0]\n",
      "[msmpeg4v2 @ 0x1023affe0]AVFrame.format is not set\n",
      "[msmpeg4v2 @ 0x1023affe0]AVFrame.width or height is not set\n",
      "Pos:   4.6s     92f (26%) 39.28fps Trem:   0min   4mb  A-V:0.000 [2018:0]\n",
      "[msmpeg4v2 @ 0x1023affe0]AVFrame.format is not set\n",
      "[msmpeg4v2 @ 0x1023affe0]AVFrame.width or height is not set\n",
      "Pos:   4.7s     93f (26%) 39.32fps Trem:   0min   4mb  A-V:0.000 [2011:0]\n",
      "[msmpeg4v2 @ 0x1023affe0]AVFrame.format is not set\n",
      "[msmpeg4v2 @ 0x1023affe0]AVFrame.width or height is not set\n",
      "Pos:   4.7s     94f (27%) 39.36fps Trem:   0min   4mb  A-V:0.000 [2004:0]\n",
      "[msmpeg4v2 @ 0x1023affe0]AVFrame.format is not set\n",
      "[msmpeg4v2 @ 0x1023affe0]AVFrame.width or height is not set\n",
      "Pos:   4.8s     95f (27%) 39.22fps Trem:   0min   4mb  A-V:0.000 [1997:0]\n",
      "[msmpeg4v2 @ 0x1023affe0]AVFrame.format is not set\n",
      "[msmpeg4v2 @ 0x1023affe0]AVFrame.width or height is not set\n",
      "Pos:   4.8s     96f (27%) 39.20fps Trem:   0min   4mb  A-V:0.000 [1989:0]\n",
      "[msmpeg4v2 @ 0x1023affe0]AVFrame.format is not set\n",
      "[msmpeg4v2 @ 0x1023affe0]AVFrame.width or height is not set\n",
      "Pos:   4.8s     97f (27%) 39.32fps Trem:   0min   4mb  A-V:0.000 [1983:0]\n",
      "[msmpeg4v2 @ 0x1023affe0]AVFrame.format is not set\n",
      "[msmpeg4v2 @ 0x1023affe0]AVFrame.width or height is not set\n",
      "Pos:   4.9s     98f (28%) 39.29fps Trem:   0min   4mb  A-V:0.000 [1976:0]\n",
      "[msmpeg4v2 @ 0x1023affe0]AVFrame.format is not set\n",
      "[msmpeg4v2 @ 0x1023affe0]AVFrame.width or height is not set\n",
      "Pos:   5.0s     99f (28%) 39.30fps Trem:   0min   4mb  A-V:0.000 [1969:0]\n",
      "[msmpeg4v2 @ 0x1023affe0]AVFrame.format is not set\n",
      "[msmpeg4v2 @ 0x1023affe0]AVFrame.width or height is not set\n",
      "Pos:   5.0s    100f (28%) 39.35fps Trem:   0min   4mb  A-V:0.000 [1962:0]\n",
      "[msmpeg4v2 @ 0x1023affe0]AVFrame.format is not set\n",
      "[msmpeg4v2 @ 0x1023affe0]AVFrame.width or height is not set\n",
      "Pos:   5.0s    101f (29%) 39.35fps Trem:   0min   4mb  A-V:0.000 [1955:0]\n",
      "[msmpeg4v2 @ 0x1023affe0]AVFrame.format is not set\n",
      "[msmpeg4v2 @ 0x1023affe0]AVFrame.width or height is not set\n",
      "Pos:   5.1s    102f (29%) 39.44fps Trem:   0min   4mb  A-V:0.000 [1948:0]\n",
      "[msmpeg4v2 @ 0x1023affe0]AVFrame.format is not set\n",
      "[msmpeg4v2 @ 0x1023affe0]AVFrame.width or height is not set\n",
      "Pos:   5.2s    103f (29%) 39.37fps Trem:   0min   4mb  A-V:0.000 [1941:0]\n",
      "[msmpeg4v2 @ 0x1023affe0]AVFrame.format is not set\n",
      "[msmpeg4v2 @ 0x1023affe0]AVFrame.width or height is not set\n",
      "Pos:   5.2s    104f (29%) 39.32fps Trem:   0min   4mb  A-V:0.000 [1935:0]\n",
      "[msmpeg4v2 @ 0x1023affe0]AVFrame.format is not set\n",
      "[msmpeg4v2 @ 0x1023affe0]AVFrame.width or height is not set\n",
      "Pos:   5.2s    105f (30%) 39.41fps Trem:   0min   4mb  A-V:0.000 [1928:0]\n",
      "[msmpeg4v2 @ 0x1023affe0]AVFrame.format is not set\n",
      "[msmpeg4v2 @ 0x1023affe0]AVFrame.width or height is not set\n",
      "Pos:   5.3s    106f (30%) 39.42fps Trem:   0min   4mb  A-V:0.000 [1921:0]\n",
      "[msmpeg4v2 @ 0x1023affe0]AVFrame.format is not set\n",
      "[msmpeg4v2 @ 0x1023affe0]AVFrame.width or height is not set\n",
      "Pos:   5.3s    107f (30%) 39.41fps Trem:   0min   4mb  A-V:0.000 [1915:0]\n",
      "[msmpeg4v2 @ 0x1023affe0]AVFrame.format is not set\n",
      "[msmpeg4v2 @ 0x1023affe0]AVFrame.width or height is not set\n",
      "Pos:   5.4s    108f (31%) 39.43fps Trem:   0min   3mb  A-V:0.000 [1908:0]\n",
      "[msmpeg4v2 @ 0x1023affe0]AVFrame.format is not set\n",
      "[msmpeg4v2 @ 0x1023affe0]AVFrame.width or height is not set\n",
      "Pos:   5.5s    109f (31%) 39.39fps Trem:   0min   4mb  A-V:0.000 [1902:0]\n",
      "[msmpeg4v2 @ 0x1023affe0]AVFrame.format is not set\n",
      "[msmpeg4v2 @ 0x1023affe0]AVFrame.width or height is not set\n",
      "Pos:   5.5s    110f (31%) 39.43fps Trem:   0min   4mb  A-V:0.000 [1896:0]\n",
      "[msmpeg4v2 @ 0x1023affe0]AVFrame.format is not set\n",
      "[msmpeg4v2 @ 0x1023affe0]AVFrame.width or height is not set\n",
      "Pos:   5.5s    111f (31%) 39.49fps Trem:   0min   4mb  A-V:0.000 [1890:0]\n",
      "[msmpeg4v2 @ 0x1023affe0]AVFrame.format is not set\n",
      "[msmpeg4v2 @ 0x1023affe0]AVFrame.width or height is not set\n",
      "Pos:   5.6s    112f (32%) 39.48fps Trem:   0min   3mb  A-V:0.000 [1883:0]\n",
      "[msmpeg4v2 @ 0x1023affe0]AVFrame.format is not set\n",
      "[msmpeg4v2 @ 0x1023affe0]AVFrame.width or height is not set\n",
      "Pos:   5.7s    113f (32%) 39.50fps Trem:   0min   3mb  A-V:0.000 [1877:0]\n",
      "[msmpeg4v2 @ 0x1023affe0]AVFrame.format is not set\n",
      "[msmpeg4v2 @ 0x1023affe0]AVFrame.width or height is not set\n",
      "Pos:   5.7s    114f (32%) 39.57fps Trem:   0min   3mb  A-V:0.000 [1871:0]\n",
      "[msmpeg4v2 @ 0x1023affe0]AVFrame.format is not set\n",
      "[msmpeg4v2 @ 0x1023affe0]AVFrame.width or height is not set\n",
      "Pos:   5.8s    115f (33%) 39.64fps Trem:   0min   3mb  A-V:0.000 [1865:0]\n",
      "[msmpeg4v2 @ 0x1023affe0]AVFrame.format is not set\n",
      "[msmpeg4v2 @ 0x1023affe0]AVFrame.width or height is not set\n",
      "Pos:   5.8s    116f (33%) 39.63fps Trem:   0min   3mb  A-V:0.000 [1860:0]\n",
      "[msmpeg4v2 @ 0x1023affe0]AVFrame.format is not set\n",
      "[msmpeg4v2 @ 0x1023affe0]AVFrame.width or height is not set\n",
      "Pos:   5.8s    117f (33%) 39.65fps Trem:   0min   3mb  A-V:0.000 [1854:0]\n",
      "[msmpeg4v2 @ 0x1023affe0]AVFrame.format is not set\n",
      "[msmpeg4v2 @ 0x1023affe0]AVFrame.width or height is not set\n",
      "Pos:   5.9s    118f (33%) 39.65fps Trem:   0min   3mb  A-V:0.000 [1848:0]\n",
      "[msmpeg4v2 @ 0x1023affe0]AVFrame.format is not set\n",
      "[msmpeg4v2 @ 0x1023affe0]AVFrame.width or height is not set\n",
      "Pos:   6.0s    119f (34%) 39.71fps Trem:   0min   3mb  A-V:0.000 [1842:0]\n",
      "[msmpeg4v2 @ 0x1023affe0]AVFrame.format is not set\n",
      "[msmpeg4v2 @ 0x1023affe0]AVFrame.width or height is not set\n",
      "Pos:   6.0s    120f (34%) 39.77fps Trem:   0min   3mb  A-V:0.000 [1836:0]\n",
      "[msmpeg4v2 @ 0x1023affe0]AVFrame.format is not set\n",
      "[msmpeg4v2 @ 0x1023affe0]AVFrame.width or height is not set\n",
      "Pos:   6.0s    121f (34%) 39.86fps Trem:   0min   3mb  A-V:0.000 [1831:0]\n",
      "[msmpeg4v2 @ 0x1023affe0]AVFrame.format is not set\n",
      "[msmpeg4v2 @ 0x1023affe0]AVFrame.width or height is not set\n",
      "Pos:   6.1s    122f (35%) 39.91fps Trem:   0min   3mb  A-V:0.000 [1826:0]\n",
      "[msmpeg4v2 @ 0x1023affe0]AVFrame.format is not set\n",
      "[msmpeg4v2 @ 0x1023affe0]AVFrame.width or height is not set\n",
      "Pos:   6.2s    123f (35%) 39.91fps Trem:   0min   3mb  A-V:0.000 [1820:0]\n",
      "[msmpeg4v2 @ 0x1023affe0]AVFrame.format is not set\n",
      "[msmpeg4v2 @ 0x1023affe0]AVFrame.width or height is not set\n",
      "Pos:   6.2s    124f (35%) 39.90fps Trem:   0min   3mb  A-V:0.000 [1815:0]\n",
      "[msmpeg4v2 @ 0x1023affe0]AVFrame.format is not set\n",
      "[msmpeg4v2 @ 0x1023affe0]AVFrame.width or height is not set\n",
      "Pos:   6.2s    125f (35%) 39.95fps Trem:   0min   3mb  A-V:0.000 [1809:0]\n",
      "[msmpeg4v2 @ 0x1023affe0]AVFrame.format is not set\n",
      "[msmpeg4v2 @ 0x1023affe0]AVFrame.width or height is not set\n",
      "Pos:   6.3s    126f (36%) 40.04fps Trem:   0min   3mb  A-V:0.000 [1804:0]\n",
      "[msmpeg4v2 @ 0x1023affe0]AVFrame.format is not set\n",
      "[msmpeg4v2 @ 0x1023affe0]AVFrame.width or height is not set\n"
     ]
    },
    {
     "name": "stdout",
     "output_type": "stream",
     "text": [
      "Pos:   6.3s    127f (36%) 40.14fps Trem:   0min   3mb  A-V:0.000 [1799:0]\n",
      "[msmpeg4v2 @ 0x1023affe0]AVFrame.format is not set\n",
      "[msmpeg4v2 @ 0x1023affe0]AVFrame.width or height is not set\n",
      "Pos:   6.4s    128f (36%) 40.15fps Trem:   0min   3mb  A-V:0.000 [1794:0]\n",
      "[msmpeg4v2 @ 0x1023affe0]AVFrame.format is not set\n",
      "[msmpeg4v2 @ 0x1023affe0]AVFrame.width or height is not set\n",
      "Pos:   6.5s    129f (37%) 40.17fps Trem:   0min   3mb  A-V:0.000 [1788:0]\n",
      "[msmpeg4v2 @ 0x1023affe0]AVFrame.format is not set\n",
      "[msmpeg4v2 @ 0x1023affe0]AVFrame.width or height is not set\n",
      "Pos:   6.5s    130f (37%) 40.20fps Trem:   0min   3mb  A-V:0.000 [1783:0]\n",
      "[msmpeg4v2 @ 0x1023affe0]AVFrame.format is not set\n",
      "[msmpeg4v2 @ 0x1023affe0]AVFrame.width or height is not set\n",
      "Pos:   6.5s    131f (37%) 40.28fps Trem:   0min   3mb  A-V:0.000 [1778:0]\n",
      "[msmpeg4v2 @ 0x1023affe0]AVFrame.format is not set\n",
      "[msmpeg4v2 @ 0x1023affe0]AVFrame.width or height is not set\n",
      "Pos:   6.6s    132f (37%) 40.39fps Trem:   0min   3mb  A-V:0.000 [1773:0]\n",
      "[msmpeg4v2 @ 0x1023affe0]AVFrame.format is not set\n",
      "[msmpeg4v2 @ 0x1023affe0]AVFrame.width or height is not set\n",
      "Pos:   6.7s    133f (38%) 40.51fps Trem:   0min   3mb  A-V:0.000 [1774:0]\n",
      "[msmpeg4v2 @ 0x1023affe0]AVFrame.format is not set\n",
      "[msmpeg4v2 @ 0x1023affe0]AVFrame.width or height is not set\n",
      "Pos:   6.7s    134f (38%) 40.53fps Trem:   0min   3mb  A-V:0.000 [1769:0]\n",
      "[msmpeg4v2 @ 0x1023affe0]AVFrame.format is not set\n",
      "[msmpeg4v2 @ 0x1023affe0]AVFrame.width or height is not set\n",
      "Pos:   6.8s    135f (38%) 40.53fps Trem:   0min   3mb  A-V:0.000 [1764:0]\n",
      "[msmpeg4v2 @ 0x1023affe0]AVFrame.format is not set\n",
      "[msmpeg4v2 @ 0x1023affe0]AVFrame.width or height is not set\n",
      "Pos:   6.8s    136f (39%) 40.60fps Trem:   0min   3mb  A-V:0.000 [1759:0]\n",
      "[msmpeg4v2 @ 0x1023affe0]AVFrame.format is not set\n",
      "[msmpeg4v2 @ 0x1023affe0]AVFrame.width or height is not set\n",
      "Pos:   6.8s    137f (39%) 40.70fps Trem:   0min   3mb  A-V:0.000 [1753:0]\n",
      "[msmpeg4v2 @ 0x1023affe0]AVFrame.format is not set\n",
      "[msmpeg4v2 @ 0x1023affe0]AVFrame.width or height is not set\n",
      "Pos:   6.9s    138f (39%) 40.77fps Trem:   0min   3mb  A-V:0.000 [1748:0]\n",
      "[msmpeg4v2 @ 0x1023affe0]AVFrame.format is not set\n",
      "[msmpeg4v2 @ 0x1023affe0]AVFrame.width or height is not set\n",
      "Pos:   7.0s    139f (39%) 40.87fps Trem:   0min   3mb  A-V:0.000 [1743:0]\n",
      "[msmpeg4v2 @ 0x1023affe0]AVFrame.format is not set\n",
      "[msmpeg4v2 @ 0x1023affe0]AVFrame.width or height is not set\n",
      "Pos:   7.0s    140f (40%) 40.88fps Trem:   0min   3mb  A-V:0.000 [1738:0]\n",
      "[msmpeg4v2 @ 0x1023affe0]AVFrame.format is not set\n",
      "[msmpeg4v2 @ 0x1023affe0]AVFrame.width or height is not set\n",
      "Pos:   7.0s    141f (40%) 40.87fps Trem:   0min   3mb  A-V:0.000 [1733:0]\n",
      "[msmpeg4v2 @ 0x1023affe0]AVFrame.format is not set\n",
      "[msmpeg4v2 @ 0x1023affe0]AVFrame.width or height is not set\n",
      "Pos:   7.1s    142f (40%) 40.90fps Trem:   0min   3mb  A-V:0.000 [1728:0]\n",
      "[msmpeg4v2 @ 0x1023affe0]AVFrame.format is not set\n",
      "[msmpeg4v2 @ 0x1023affe0]AVFrame.width or height is not set\n",
      "Pos:   7.2s    143f (41%) 40.86fps Trem:   0min   3mb  A-V:0.000 [1723:0]\n",
      "[msmpeg4v2 @ 0x1023affe0]AVFrame.format is not set\n",
      "[msmpeg4v2 @ 0x1023affe0]AVFrame.width or height is not set\n",
      "Pos:   7.2s    144f (41%) 40.93fps Trem:   0min   3mb  A-V:0.000 [1719:0]\n",
      "[msmpeg4v2 @ 0x1023affe0]AVFrame.format is not set\n",
      "[msmpeg4v2 @ 0x1023affe0]AVFrame.width or height is not set\n",
      "Pos:   7.2s    145f (41%) 40.96fps Trem:   0min   3mb  A-V:0.000 [1714:0]\n",
      "[msmpeg4v2 @ 0x1023affe0]AVFrame.format is not set\n",
      "[msmpeg4v2 @ 0x1023affe0]AVFrame.width or height is not set\n",
      "Pos:   7.3s    146f (41%) 40.97fps Trem:   0min   3mb  A-V:0.000 [1710:0]\n",
      "[msmpeg4v2 @ 0x1023affe0]AVFrame.format is not set\n",
      "[msmpeg4v2 @ 0x1023affe0]AVFrame.width or height is not set\n",
      "Pos:   7.3s    147f (42%) 40.91fps Trem:   0min   3mb  A-V:0.000 [1705:0]\n",
      "[msmpeg4v2 @ 0x1023affe0]AVFrame.format is not set\n",
      "[msmpeg4v2 @ 0x1023affe0]AVFrame.width or height is not set\n",
      "Pos:   7.4s    148f (42%) 41.00fps Trem:   0min   3mb  A-V:0.000 [1700:0]\n",
      "[msmpeg4v2 @ 0x1023affe0]AVFrame.format is not set\n",
      "[msmpeg4v2 @ 0x1023affe0]AVFrame.width or height is not set\n",
      "Pos:   7.5s    149f (42%) 41.07fps Trem:   0min   3mb  A-V:0.000 [1696:0]\n",
      "[msmpeg4v2 @ 0x1023affe0]AVFrame.format is not set\n",
      "[msmpeg4v2 @ 0x1023affe0]AVFrame.width or height is not set\n",
      "Pos:   7.5s    150f (43%) 41.02fps Trem:   0min   3mb  A-V:0.000 [1691:0]\n",
      "[msmpeg4v2 @ 0x1023affe0]AVFrame.format is not set\n",
      "[msmpeg4v2 @ 0x1023affe0]AVFrame.width or height is not set\n",
      "Pos:   7.5s    151f (43%) 41.04fps Trem:   0min   3mb  A-V:0.000 [1687:0]\n",
      "[msmpeg4v2 @ 0x1023affe0]AVFrame.format is not set\n",
      "[msmpeg4v2 @ 0x1023affe0]AVFrame.width or height is not set\n",
      "Pos:   7.6s    152f (43%) 41.11fps Trem:   0min   3mb  A-V:0.000 [1682:0]\n",
      "[msmpeg4v2 @ 0x1023affe0]AVFrame.format is not set\n",
      "[msmpeg4v2 @ 0x1023affe0]AVFrame.width or height is not set\n",
      "Pos:   7.7s    153f (43%) 41.18fps Trem:   0min   3mb  A-V:0.000 [1678:0]\n",
      "[msmpeg4v2 @ 0x1023affe0]AVFrame.format is not set\n",
      "[msmpeg4v2 @ 0x1023affe0]AVFrame.width or height is not set\n",
      "Pos:   7.7s    154f (44%) 41.25fps Trem:   0min   3mb  A-V:0.000 [1673:0]\n",
      "[msmpeg4v2 @ 0x1023affe0]AVFrame.format is not set\n",
      "[msmpeg4v2 @ 0x1023affe0]AVFrame.width or height is not set\n",
      "Pos:   7.8s    155f (44%) 41.27fps Trem:   0min   3mb  A-V:0.000 [1669:0]\n",
      "[msmpeg4v2 @ 0x1023affe0]AVFrame.format is not set\n",
      "[msmpeg4v2 @ 0x1023affe0]AVFrame.width or height is not set\n",
      "Pos:   7.8s    156f (44%) 41.28fps Trem:   0min   3mb  A-V:0.000 [1665:0]\n",
      "[msmpeg4v2 @ 0x1023affe0]AVFrame.format is not set\n",
      "[msmpeg4v2 @ 0x1023affe0]AVFrame.width or height is not set\n",
      "Pos:   7.8s    157f (45%) 41.35fps Trem:   0min   3mb  A-V:0.000 [1661:0]\n",
      "[msmpeg4v2 @ 0x1023affe0]AVFrame.format is not set\n",
      "[msmpeg4v2 @ 0x1023affe0]AVFrame.width or height is not set\n",
      "Pos:   7.9s    158f (45%) 41.44fps Trem:   0min   3mb  A-V:0.000 [1657:0]\n",
      "[msmpeg4v2 @ 0x1023affe0]AVFrame.format is not set\n",
      "[msmpeg4v2 @ 0x1023affe0]AVFrame.width or height is not set\n",
      "Pos:   8.0s    159f (45%) 41.49fps Trem:   0min   3mb  A-V:0.000 [1652:0]\n",
      "[msmpeg4v2 @ 0x1023affe0]AVFrame.format is not set\n",
      "[msmpeg4v2 @ 0x1023affe0]AVFrame.width or height is not set\n",
      "Pos:   8.0s    160f (45%) 41.42fps Trem:   0min   3mb  A-V:0.000 [1648:0]\n",
      "[msmpeg4v2 @ 0x1023affe0]AVFrame.format is not set\n",
      "[msmpeg4v2 @ 0x1023affe0]AVFrame.width or height is not set\n",
      "Pos:   8.1s    161f (46%) 41.46fps Trem:   0min   3mb  A-V:0.000 [1644:0]\n",
      "[msmpeg4v2 @ 0x1023affe0]AVFrame.format is not set\n",
      "[msmpeg4v2 @ 0x1023affe0]AVFrame.width or height is not set\n",
      "Pos:   8.1s    162f (46%) 41.49fps Trem:   0min   3mb  A-V:0.000 [1640:0]\n",
      "[msmpeg4v2 @ 0x1023affe0]AVFrame.format is not set\n",
      "[msmpeg4v2 @ 0x1023affe0]AVFrame.width or height is not set\n",
      "Pos:   8.2s    163f (46%) 41.58fps Trem:   0min   3mb  A-V:0.000 [1636:0]\n",
      "[msmpeg4v2 @ 0x1023affe0]AVFrame.format is not set\n",
      "[msmpeg4v2 @ 0x1023affe0]AVFrame.width or height is not set\n",
      "Pos:   8.2s    164f (47%) 41.59fps Trem:   0min   3mb  A-V:0.000 [1631:0]\n",
      "[msmpeg4v2 @ 0x1023affe0]AVFrame.format is not set\n",
      "[msmpeg4v2 @ 0x1023affe0]AVFrame.width or height is not set\n",
      "Pos:   8.2s    165f (47%) 41.60fps Trem:   0min   3mb  A-V:0.000 [1627:0]\n",
      "[msmpeg4v2 @ 0x1023affe0]AVFrame.format is not set\n",
      "[msmpeg4v2 @ 0x1023affe0]AVFrame.width or height is not set\n",
      "Pos:   8.3s    166f (47%) 41.66fps Trem:   0min   3mb  A-V:0.000 [1623:0]\n",
      "[msmpeg4v2 @ 0x1023affe0]AVFrame.format is not set\n",
      "[msmpeg4v2 @ 0x1023affe0]AVFrame.width or height is not set\n",
      "Pos:   8.3s    167f (47%) 41.69fps Trem:   0min   3mb  A-V:0.000 [1619:0]\n",
      "[msmpeg4v2 @ 0x1023affe0]AVFrame.format is not set\n",
      "[msmpeg4v2 @ 0x1023affe0]AVFrame.width or height is not set\n",
      "Pos:   8.4s    168f (48%) 41.72fps Trem:   0min   3mb  A-V:0.000 [1614:0]\n",
      "[msmpeg4v2 @ 0x1023affe0]AVFrame.format is not set\n",
      "[msmpeg4v2 @ 0x1023affe0]AVFrame.width or height is not set\n",
      "Pos:   8.4s    169f (48%) 41.73fps Trem:   0min   3mb  A-V:0.000 [1610:0]\n",
      "[msmpeg4v2 @ 0x1023affe0]AVFrame.format is not set\n",
      "[msmpeg4v2 @ 0x1023affe0]AVFrame.width or height is not set\n",
      "Pos:   8.5s    170f (48%) 41.81fps Trem:   0min   3mb  A-V:0.000 [1606:0]\n",
      "[msmpeg4v2 @ 0x1023affe0]AVFrame.format is not set\n",
      "[msmpeg4v2 @ 0x1023affe0]AVFrame.width or height is not set\n",
      "Pos:   8.6s    171f (49%) 41.86fps Trem:   0min   3mb  A-V:0.000 [1602:0]\n",
      "[msmpeg4v2 @ 0x1023affe0]AVFrame.format is not set\n",
      "[msmpeg4v2 @ 0x1023affe0]AVFrame.width or height is not set\n"
     ]
    },
    {
     "name": "stdout",
     "output_type": "stream",
     "text": [
      "Pos:   8.6s    172f (49%) 41.87fps Trem:   0min   3mb  A-V:0.000 [1598:0]\n",
      "[msmpeg4v2 @ 0x1023affe0]AVFrame.format is not set\n",
      "[msmpeg4v2 @ 0x1023affe0]AVFrame.width or height is not set\n",
      "Pos:   8.7s    173f (49%) 41.93fps Trem:   0min   3mb  A-V:0.000 [1594:0]\n",
      "[msmpeg4v2 @ 0x1023affe0]AVFrame.format is not set\n",
      "[msmpeg4v2 @ 0x1023affe0]AVFrame.width or height is not set\n",
      "Pos:   8.7s    174f (50%) 41.95fps Trem:   0min   3mb  A-V:0.000 [1590:0]\n",
      "[msmpeg4v2 @ 0x1023affe0]AVFrame.format is not set\n",
      "[msmpeg4v2 @ 0x1023affe0]AVFrame.width or height is not set\n",
      "Pos:   8.8s    175f (50%) 42.00fps Trem:   0min   3mb  A-V:0.000 [1586:0]\n",
      "[msmpeg4v2 @ 0x1023affe0]AVFrame.format is not set\n",
      "[msmpeg4v2 @ 0x1023affe0]AVFrame.width or height is not set\n",
      "Pos:   8.8s    176f (50%) 42.05fps Trem:   0min   3mb  A-V:0.000 [1582:0]\n",
      "[msmpeg4v2 @ 0x1023affe0]AVFrame.format is not set\n",
      "[msmpeg4v2 @ 0x1023affe0]AVFrame.width or height is not set\n",
      "Pos:   8.8s    177f (50%) 42.12fps Trem:   0min   3mb  A-V:0.000 [1578:0]\n",
      "[msmpeg4v2 @ 0x1023affe0]AVFrame.format is not set\n",
      "[msmpeg4v2 @ 0x1023affe0]AVFrame.width or height is not set\n",
      "Pos:   8.9s    178f (51%) 42.19fps Trem:   0min   3mb  A-V:0.000 [1574:0]\n",
      "[msmpeg4v2 @ 0x1023affe0]AVFrame.format is not set\n",
      "[msmpeg4v2 @ 0x1023affe0]AVFrame.width or height is not set\n",
      "Pos:   8.9s    179f (51%) 42.16fps Trem:   0min   3mb  A-V:0.000 [1570:0]\n",
      "[msmpeg4v2 @ 0x1023affe0]AVFrame.format is not set\n",
      "[msmpeg4v2 @ 0x1023affe0]AVFrame.width or height is not set\n",
      "Pos:   9.0s    180f (51%) 42.13fps Trem:   0min   3mb  A-V:0.000 [1566:0]\n",
      "[msmpeg4v2 @ 0x1023affe0]AVFrame.format is not set\n",
      "[msmpeg4v2 @ 0x1023affe0]AVFrame.width or height is not set\n",
      "Pos:   9.1s    181f (52%) 42.18fps Trem:   0min   3mb  A-V:0.000 [1563:0]\n",
      "[msmpeg4v2 @ 0x1023affe0]AVFrame.format is not set\n",
      "[msmpeg4v2 @ 0x1023affe0]AVFrame.width or height is not set\n",
      "Pos:   9.1s    182f (52%) 42.26fps Trem:   0min   3mb  A-V:0.000 [1559:0]\n",
      "[msmpeg4v2 @ 0x1023affe0]AVFrame.format is not set\n",
      "[msmpeg4v2 @ 0x1023affe0]AVFrame.width or height is not set\n",
      "Pos:   9.2s    183f (52%) 42.32fps Trem:   0min   3mb  A-V:0.000 [1556:0]\n",
      "[msmpeg4v2 @ 0x1023affe0]AVFrame.format is not set\n",
      "[msmpeg4v2 @ 0x1023affe0]AVFrame.width or height is not set\n",
      "Pos:   9.2s    184f (52%) 42.32fps Trem:   0min   3mb  A-V:0.000 [1552:0]\n",
      "[msmpeg4v2 @ 0x1023affe0]AVFrame.format is not set\n",
      "[msmpeg4v2 @ 0x1023affe0]AVFrame.width or height is not set\n",
      "Pos:   9.2s    185f (52%) 42.35fps Trem:   0min   3mb  A-V:0.000 [1549:0]\n",
      "[msmpeg4v2 @ 0x1023affe0]AVFrame.format is not set\n",
      "[msmpeg4v2 @ 0x1023affe0]AVFrame.width or height is not set\n",
      "Pos:   9.3s    186f (52%) 42.38fps Trem:   0min   3mb  A-V:0.000 [1545:0]\n",
      "[msmpeg4v2 @ 0x1023affe0]AVFrame.format is not set\n",
      "[msmpeg4v2 @ 0x1023affe0]AVFrame.width or height is not set\n",
      "Pos:   9.3s    187f (52%) 42.40fps Trem:   0min   3mb  A-V:0.000 [1542:0]\n",
      "[msmpeg4v2 @ 0x1023affe0]AVFrame.format is not set\n",
      "[msmpeg4v2 @ 0x1023affe0]AVFrame.width or height is not set\n",
      "Pos:   9.4s    188f (54%) 42.33fps Trem:   0min   3mb  A-V:0.000 [1538:0]\n",
      "[msmpeg4v2 @ 0x1023affe0]AVFrame.format is not set\n",
      "[msmpeg4v2 @ 0x1023affe0]AVFrame.width or height is not set\n",
      "Pos:   9.4s    189f (54%) 42.35fps Trem:   0min   3mb  A-V:0.000 [1535:0]\n",
      "[msmpeg4v2 @ 0x1023affe0]AVFrame.format is not set\n",
      "[msmpeg4v2 @ 0x1023affe0]AVFrame.width or height is not set\n",
      "Pos:   9.5s    190f (54%) 42.39fps Trem:   0min   3mb  A-V:0.000 [1531:0]\n",
      "[msmpeg4v2 @ 0x1023affe0]AVFrame.format is not set\n",
      "[msmpeg4v2 @ 0x1023affe0]AVFrame.width or height is not set\n",
      "Pos:   9.6s    191f (54%) 42.44fps Trem:   0min   3mb  A-V:0.000 [1528:0]\n",
      "[msmpeg4v2 @ 0x1023affe0]AVFrame.format is not set\n",
      "[msmpeg4v2 @ 0x1023affe0]AVFrame.width or height is not set\n",
      "Pos:   9.6s    192f (55%) 42.51fps Trem:   0min   3mb  A-V:0.000 [1524:0]\n",
      "[msmpeg4v2 @ 0x1023affe0]AVFrame.format is not set\n",
      "[msmpeg4v2 @ 0x1023affe0]AVFrame.width or height is not set\n",
      "Pos:   9.7s    193f (55%) 42.50fps Trem:   0min   3mb  A-V:0.000 [1521:0]\n",
      "[msmpeg4v2 @ 0x1023affe0]AVFrame.format is not set\n",
      "[msmpeg4v2 @ 0x1023affe0]AVFrame.width or height is not set\n",
      "Pos:   9.7s    194f (55%) 42.53fps Trem:   0min   3mb  A-V:0.000 [1518:0]\n",
      "[msmpeg4v2 @ 0x1023affe0]AVFrame.format is not set\n",
      "[msmpeg4v2 @ 0x1023affe0]AVFrame.width or height is not set\n",
      "Pos:   9.8s    195f (56%) 42.57fps Trem:   0min   3mb  A-V:0.000 [1514:0]\n",
      "[msmpeg4v2 @ 0x1023affe0]AVFrame.format is not set\n",
      "[msmpeg4v2 @ 0x1023affe0]AVFrame.width or height is not set\n",
      "Pos:   9.8s    196f (56%) 42.59fps Trem:   0min   3mb  A-V:0.000 [1511:0]\n",
      "[msmpeg4v2 @ 0x1023affe0]AVFrame.format is not set\n",
      "[msmpeg4v2 @ 0x1023affe0]AVFrame.width or height is not set\n",
      "Pos:   9.8s    197f (56%) 42.56fps Trem:   0min   3mb  A-V:0.000 [1508:0]\n",
      "[msmpeg4v2 @ 0x1023affe0]AVFrame.format is not set\n",
      "[msmpeg4v2 @ 0x1023affe0]AVFrame.width or height is not set\n",
      "Pos:   9.9s    198f (56%) 42.57fps Trem:   0min   3mb  A-V:0.000 [1505:0]\n",
      "[msmpeg4v2 @ 0x1023affe0]AVFrame.format is not set\n",
      "[msmpeg4v2 @ 0x1023affe0]AVFrame.width or height is not set\n",
      "Pos:   9.9s    199f (57%) 42.64fps Trem:   0min   3mb  A-V:0.000 [1502:0]\n",
      "[msmpeg4v2 @ 0x1023affe0]AVFrame.format is not set\n",
      "[msmpeg4v2 @ 0x1023affe0]AVFrame.width or height is not set\n",
      "Pos:  10.0s    200f (57%) 42.70fps Trem:   0min   3mb  A-V:0.000 [1499:0]\n",
      "[msmpeg4v2 @ 0x1023affe0]AVFrame.format is not set\n",
      "[msmpeg4v2 @ 0x1023affe0]AVFrame.width or height is not set\n",
      "Pos:  10.1s    201f (57%) 42.75fps Trem:   0min   3mb  A-V:0.000 [1496:0]\n",
      "[msmpeg4v2 @ 0x1023affe0]AVFrame.format is not set\n",
      "[msmpeg4v2 @ 0x1023affe0]AVFrame.width or height is not set\n",
      "Pos:  10.1s    202f (58%) 42.82fps Trem:   0min   3mb  A-V:0.000 [1493:0]\n",
      "[msmpeg4v2 @ 0x1023affe0]AVFrame.format is not set\n",
      "[msmpeg4v2 @ 0x1023affe0]AVFrame.width or height is not set\n",
      "Pos:  10.2s    203f (58%) 42.87fps Trem:   0min   3mb  A-V:0.000 [1490:0]\n",
      "[msmpeg4v2 @ 0x1023affe0]AVFrame.format is not set\n",
      "[msmpeg4v2 @ 0x1023affe0]AVFrame.width or height is not set\n",
      "Pos:  10.2s    204f (58%) 42.94fps Trem:   0min   3mb  A-V:0.000 [1487:0]\n",
      "[msmpeg4v2 @ 0x1023affe0]AVFrame.format is not set\n",
      "[msmpeg4v2 @ 0x1023affe0]AVFrame.width or height is not set\n",
      "Pos:  10.2s    205f (58%) 43.02fps Trem:   0min   3mb  A-V:0.000 [1484:0]\n",
      "[msmpeg4v2 @ 0x1023affe0]AVFrame.format is not set\n",
      "[msmpeg4v2 @ 0x1023affe0]AVFrame.width or height is not set\n",
      "Pos:  10.3s    206f (58%) 43.07fps Trem:   0min   3mb  A-V:0.000 [1481:0]\n",
      "[msmpeg4v2 @ 0x1023affe0]AVFrame.format is not set\n",
      "[msmpeg4v2 @ 0x1023affe0]AVFrame.width or height is not set\n",
      "Pos:  10.3s    207f (58%) 43.12fps Trem:   0min   3mb  A-V:0.000 [1478:0]\n",
      "[msmpeg4v2 @ 0x1023affe0]AVFrame.format is not set\n",
      "[msmpeg4v2 @ 0x1023affe0]AVFrame.width or height is not set\n",
      "Pos:  10.4s    208f (58%) 43.20fps Trem:   0min   3mb  A-V:0.000 [1476:0]\n",
      "[msmpeg4v2 @ 0x1023affe0]AVFrame.format is not set\n",
      "[msmpeg4v2 @ 0x1023affe0]AVFrame.width or height is not set\n",
      "Pos:  10.4s    209f (60%) 43.25fps Trem:   0min   3mb  A-V:0.000 [1473:0]\n",
      "[msmpeg4v2 @ 0x1023affe0]AVFrame.format is not set\n",
      "[msmpeg4v2 @ 0x1023affe0]AVFrame.width or height is not set\n",
      "Pos:  10.5s    210f (60%) 43.31fps Trem:   0min   3mb  A-V:0.000 [1470:0]\n",
      "[msmpeg4v2 @ 0x1023affe0]AVFrame.format is not set\n",
      "[msmpeg4v2 @ 0x1023affe0]AVFrame.width or height is not set\n",
      "Pos:  10.6s    211f (60%) 43.36fps Trem:   0min   3mb  A-V:0.000 [1467:0]\n",
      "[msmpeg4v2 @ 0x1023affe0]AVFrame.format is not set\n",
      "[msmpeg4v2 @ 0x1023affe0]AVFrame.width or height is not set\n",
      "Pos:  10.6s    212f (60%) 43.42fps Trem:   0min   3mb  A-V:0.000 [1464:0]\n",
      "[msmpeg4v2 @ 0x1023affe0]AVFrame.format is not set\n",
      "[msmpeg4v2 @ 0x1023affe0]AVFrame.width or height is not set\n",
      "Pos:  10.7s    213f (61%) 43.46fps Trem:   0min   3mb  A-V:0.000 [1461:0]\n",
      "[msmpeg4v2 @ 0x1023affe0]AVFrame.format is not set\n",
      "[msmpeg4v2 @ 0x1023affe0]AVFrame.width or height is not set\n",
      "Pos:  10.7s    214f (61%) 43.51fps Trem:   0min   3mb  A-V:0.000 [1458:0]\n",
      "[msmpeg4v2 @ 0x1023affe0]AVFrame.format is not set\n",
      "[msmpeg4v2 @ 0x1023affe0]AVFrame.width or height is not set\n",
      "Pos:  10.8s    215f (61%) 43.46fps Trem:   0min   3mb  A-V:0.000 [1456:0]\n",
      "[msmpeg4v2 @ 0x1023affe0]AVFrame.format is not set\n",
      "[msmpeg4v2 @ 0x1023affe0]AVFrame.width or height is not set\n",
      "Pos:  10.8s    216f (62%) 43.48fps Trem:   0min   3mb  A-V:0.000 [1453:0]\n",
      "[msmpeg4v2 @ 0x1023affe0]AVFrame.format is not set\n",
      "[msmpeg4v2 @ 0x1023affe0]AVFrame.width or height is not set\n"
     ]
    },
    {
     "name": "stdout",
     "output_type": "stream",
     "text": [
      "Pos:  10.8s    217f (62%) 43.48fps Trem:   0min   3mb  A-V:0.000 [1450:0]\n",
      "[msmpeg4v2 @ 0x1023affe0]AVFrame.format is not set\n",
      "[msmpeg4v2 @ 0x1023affe0]AVFrame.width or height is not set\n",
      "Pos:  10.9s    218f (62%) 43.51fps Trem:   0min   3mb  A-V:0.000 [1448:0]\n",
      "[msmpeg4v2 @ 0x1023affe0]AVFrame.format is not set\n",
      "[msmpeg4v2 @ 0x1023affe0]AVFrame.width or height is not set\n",
      "Pos:  10.9s    219f (62%) 43.53fps Trem:   0min   3mb  A-V:0.000 [1445:0]\n",
      "[msmpeg4v2 @ 0x1023affe0]AVFrame.format is not set\n",
      "[msmpeg4v2 @ 0x1023affe0]AVFrame.width or height is not set\n",
      "Pos:  11.0s    220f (63%) 43.47fps Trem:   0min   3mb  A-V:0.000 [1442:0]\n",
      "[msmpeg4v2 @ 0x1023affe0]AVFrame.format is not set\n",
      "[msmpeg4v2 @ 0x1023affe0]AVFrame.width or height is not set\n",
      "Pos:  11.1s    221f (63%) 43.49fps Trem:   0min   3mb  A-V:0.000 [1440:0]\n",
      "[msmpeg4v2 @ 0x1023affe0]AVFrame.format is not set\n",
      "[msmpeg4v2 @ 0x1023affe0]AVFrame.width or height is not set\n",
      "Pos:  11.1s    222f (63%) 43.52fps Trem:   0min   3mb  A-V:0.000 [1437:0]\n",
      "[msmpeg4v2 @ 0x1023affe0]AVFrame.format is not set\n",
      "[msmpeg4v2 @ 0x1023affe0]AVFrame.width or height is not set\n",
      "Pos:  11.2s    223f (64%) 43.56fps Trem:   0min   2mb  A-V:0.000 [1435:0]\n",
      "[msmpeg4v2 @ 0x1023affe0]AVFrame.format is not set\n",
      "[msmpeg4v2 @ 0x1023affe0]AVFrame.width or height is not set\n",
      "Pos:  11.2s    224f (64%) 43.48fps Trem:   0min   2mb  A-V:0.000 [1432:0]\n",
      "[msmpeg4v2 @ 0x1023affe0]AVFrame.format is not set\n",
      "[msmpeg4v2 @ 0x1023affe0]AVFrame.width or height is not set\n",
      "Pos:  11.2s    225f (64%) 43.46fps Trem:   0min   3mb  A-V:0.000 [1432:0]\n",
      "[msmpeg4v2 @ 0x1023affe0]AVFrame.format is not set\n",
      "[msmpeg4v2 @ 0x1023affe0]AVFrame.width or height is not set\n",
      "Pos:  11.3s    226f (64%) 43.47fps Trem:   0min   3mb  A-V:0.000 [1430:0]\n",
      "[msmpeg4v2 @ 0x1023affe0]AVFrame.format is not set\n",
      "[msmpeg4v2 @ 0x1023affe0]AVFrame.width or height is not set\n",
      "Pos:  11.3s    227f (65%) 43.51fps Trem:   0min   2mb  A-V:0.000 [1430:0]\n",
      "[msmpeg4v2 @ 0x1023affe0]AVFrame.format is not set\n",
      "[msmpeg4v2 @ 0x1023affe0]AVFrame.width or height is not set\n",
      "Pos:  11.4s    228f (65%) 43.51fps Trem:   0min   2mb  A-V:0.000 [1428:0]\n",
      "[msmpeg4v2 @ 0x1023affe0]AVFrame.format is not set\n",
      "[msmpeg4v2 @ 0x1023affe0]AVFrame.width or height is not set\n",
      "Pos:  11.4s    229f (65%) 43.52fps Trem:   0min   3mb  A-V:0.000 [1427:0]\n",
      "[msmpeg4v2 @ 0x1023affe0]AVFrame.format is not set\n",
      "[msmpeg4v2 @ 0x1023affe0]AVFrame.width or height is not set\n",
      "Pos:  11.5s    230f (66%) 43.45fps Trem:   0min   2mb  A-V:0.000 [1426:0]\n",
      "[msmpeg4v2 @ 0x1023affe0]AVFrame.format is not set\n",
      "[msmpeg4v2 @ 0x1023affe0]AVFrame.width or height is not set\n",
      "Pos:  11.6s    231f (66%) 43.40fps Trem:   0min   2mb  A-V:0.000 [1425:0]\n",
      "[msmpeg4v2 @ 0x1023affe0]AVFrame.format is not set\n",
      "[msmpeg4v2 @ 0x1023affe0]AVFrame.width or height is not set\n",
      "Pos:  11.6s    232f (66%) 43.36fps Trem:   0min   2mb  A-V:0.000 [1424:0]\n",
      "[msmpeg4v2 @ 0x1023affe0]AVFrame.format is not set\n",
      "[msmpeg4v2 @ 0x1023affe0]AVFrame.width or height is not set\n",
      "Pos:  11.7s    233f (66%) 43.28fps Trem:   0min   3mb  A-V:0.000 [1424:0]\n",
      "[msmpeg4v2 @ 0x1023affe0]AVFrame.format is not set\n",
      "[msmpeg4v2 @ 0x1023affe0]AVFrame.width or height is not set\n",
      "Pos:  11.7s    234f (67%) 43.21fps Trem:   0min   2mb  A-V:0.000 [1423:0]\n",
      "[msmpeg4v2 @ 0x1023affe0]AVFrame.format is not set\n",
      "[msmpeg4v2 @ 0x1023affe0]AVFrame.width or height is not set\n",
      "Pos:  11.8s    235f (67%) 43.22fps Trem:   0min   2mb  A-V:0.000 [1422:0]\n",
      "[msmpeg4v2 @ 0x1023affe0]AVFrame.format is not set\n",
      "[msmpeg4v2 @ 0x1023affe0]AVFrame.width or height is not set\n",
      "Pos:  11.8s    236f (67%) 43.26fps Trem:   0min   2mb  A-V:0.000 [1421:0]\n",
      "[msmpeg4v2 @ 0x1023affe0]AVFrame.format is not set\n",
      "[msmpeg4v2 @ 0x1023affe0]AVFrame.width or height is not set\n",
      "Pos:  11.8s    237f (68%) 43.24fps Trem:   0min   2mb  A-V:0.000 [1420:0]\n",
      "[msmpeg4v2 @ 0x1023affe0]AVFrame.format is not set\n",
      "[msmpeg4v2 @ 0x1023affe0]AVFrame.width or height is not set\n",
      "Pos:  11.9s    238f (68%) 43.26fps Trem:   0min   2mb  A-V:0.000 [1419:0]\n",
      "[msmpeg4v2 @ 0x1023affe0]AVFrame.format is not set\n",
      "[msmpeg4v2 @ 0x1023affe0]AVFrame.width or height is not set\n",
      "Pos:  11.9s    239f (68%) 43.29fps Trem:   0min   2mb  A-V:0.000 [1418:0]\n",
      "[msmpeg4v2 @ 0x1023affe0]AVFrame.format is not set\n",
      "[msmpeg4v2 @ 0x1023affe0]AVFrame.width or height is not set\n",
      "Pos:  12.0s    240f (68%) 43.26fps Trem:   0min   2mb  A-V:0.000 [1417:0]\n",
      "[msmpeg4v2 @ 0x1023affe0]AVFrame.format is not set\n",
      "[msmpeg4v2 @ 0x1023affe0]AVFrame.width or height is not set\n",
      "Pos:  12.1s    241f (69%) 43.24fps Trem:   0min   2mb  A-V:0.000 [1416:0]\n",
      "[msmpeg4v2 @ 0x1023affe0]AVFrame.format is not set\n",
      "[msmpeg4v2 @ 0x1023affe0]AVFrame.width or height is not set\n",
      "Pos:  12.1s    242f (69%) 43.15fps Trem:   0min   2mb  A-V:0.000 [1415:0]\n",
      "[msmpeg4v2 @ 0x1023affe0]AVFrame.format is not set\n",
      "[msmpeg4v2 @ 0x1023affe0]AVFrame.width or height is not set\n",
      "Pos:  12.2s    243f (69%) 42.83fps Trem:   0min   2mb  A-V:0.000 [1414:0]\n",
      "[msmpeg4v2 @ 0x1023affe0]AVFrame.format is not set\n",
      "[msmpeg4v2 @ 0x1023affe0]AVFrame.width or height is not set\n",
      "Pos:  12.2s    244f (70%) 42.66fps Trem:   0min   2mb  A-V:0.000 [1413:0]\n",
      "[msmpeg4v2 @ 0x1023affe0]AVFrame.format is not set\n",
      "[msmpeg4v2 @ 0x1023affe0]AVFrame.width or height is not set\n",
      "Pos:  12.2s    245f (70%) 42.29fps Trem:   0min   2mb  A-V:0.000 [1412:0]\n",
      "[msmpeg4v2 @ 0x1023affe0]AVFrame.format is not set\n",
      "[msmpeg4v2 @ 0x1023affe0]AVFrame.width or height is not set\n",
      "Pos:  12.3s    246f (70%) 42.21fps Trem:   0min   2mb  A-V:0.000 [1411:0]\n",
      "[msmpeg4v2 @ 0x1023affe0]AVFrame.format is not set\n",
      "[msmpeg4v2 @ 0x1023affe0]AVFrame.width or height is not set\n",
      "Pos:  12.3s    247f (70%) 42.22fps Trem:   0min   2mb  A-V:0.000 [1410:0]\n",
      "[msmpeg4v2 @ 0x1023affe0]AVFrame.format is not set\n",
      "[msmpeg4v2 @ 0x1023affe0]AVFrame.width or height is not set\n",
      "Pos:  12.4s    248f (71%) 42.21fps Trem:   0min   2mb  A-V:0.000 [1409:0]\n",
      "[msmpeg4v2 @ 0x1023affe0]AVFrame.format is not set\n",
      "[msmpeg4v2 @ 0x1023affe0]AVFrame.width or height is not set\n",
      "Pos:  12.4s    249f (71%) 42.21fps Trem:   0min   2mb  A-V:0.000 [1408:0]\n",
      "[msmpeg4v2 @ 0x1023affe0]AVFrame.format is not set\n",
      "[msmpeg4v2 @ 0x1023affe0]AVFrame.width or height is not set\n",
      "Pos:  12.5s    250f (71%) 42.24fps Trem:   0min   2mb  A-V:0.000 [1406:0]\n",
      "[msmpeg4v2 @ 0x1023affe0]AVFrame.format is not set\n",
      "[msmpeg4v2 @ 0x1023affe0]AVFrame.width or height is not set\n",
      "Pos:  12.6s    251f (72%) 41.84fps Trem:   0min   2mb  A-V:0.000 [1405:0]\n",
      "[msmpeg4v2 @ 0x1023affe0]AVFrame.format is not set\n",
      "[msmpeg4v2 @ 0x1023affe0]AVFrame.width or height is not set\n",
      "Pos:  12.6s    252f (72%) 41.80fps Trem:   0min   2mb  A-V:0.000 [1404:0]\n",
      "[msmpeg4v2 @ 0x1023affe0]AVFrame.format is not set\n",
      "[msmpeg4v2 @ 0x1023affe0]AVFrame.width or height is not set\n",
      "Pos:  12.7s    253f (72%) 41.71fps Trem:   0min   2mb  A-V:0.000 [1403:0]\n",
      "[msmpeg4v2 @ 0x1023affe0]AVFrame.format is not set\n",
      "[msmpeg4v2 @ 0x1023affe0]AVFrame.width or height is not set\n",
      "Pos:  12.7s    254f (72%) 41.71fps Trem:   0min   2mb  A-V:0.000 [1402:0]\n",
      "[msmpeg4v2 @ 0x1023affe0]AVFrame.format is not set\n",
      "[msmpeg4v2 @ 0x1023affe0]AVFrame.width or height is not set\n",
      "Pos:  12.8s    255f (73%) 41.71fps Trem:   0min   2mb  A-V:0.000 [1401:0]\n",
      "[msmpeg4v2 @ 0x1023affe0]AVFrame.format is not set\n",
      "[msmpeg4v2 @ 0x1023affe0]AVFrame.width or height is not set\n",
      "Pos:  12.8s    256f (73%) 41.39fps Trem:   0min   2mb  A-V:0.000 [1400:0]\n",
      "[msmpeg4v2 @ 0x1023affe0]AVFrame.format is not set\n",
      "[msmpeg4v2 @ 0x1023affe0]AVFrame.width or height is not set\n",
      "Pos:  12.8s    257f (73%) 41.32fps Trem:   0min   2mb  A-V:0.000 [1399:0]\n",
      "[msmpeg4v2 @ 0x1023affe0]AVFrame.format is not set\n",
      "[msmpeg4v2 @ 0x1023affe0]AVFrame.width or height is not set\n",
      "Pos:  12.9s    258f (74%) 41.14fps Trem:   0min   2mb  A-V:0.000 [1399:0]\n",
      "[msmpeg4v2 @ 0x1023affe0]AVFrame.format is not set\n",
      "[msmpeg4v2 @ 0x1023affe0]AVFrame.width or height is not set\n",
      "Pos:  12.9s    259f (74%) 41.09fps Trem:   0min   2mb  A-V:0.000 [1398:0]\n",
      "[msmpeg4v2 @ 0x1023affe0]AVFrame.format is not set\n",
      "[msmpeg4v2 @ 0x1023affe0]AVFrame.width or height is not set\n",
      "Pos:  13.0s    260f (74%) 41.03fps Trem:   0min   2mb  A-V:0.000 [1397:0]\n",
      "[msmpeg4v2 @ 0x1023affe0]AVFrame.format is not set\n",
      "[msmpeg4v2 @ 0x1023affe0]AVFrame.width or height is not set\n",
      "Pos:  13.1s    261f (75%) 41.01fps Trem:   0min   2mb  A-V:0.000 [1396:0]\n",
      "[msmpeg4v2 @ 0x1023affe0]AVFrame.format is not set\n",
      "[msmpeg4v2 @ 0x1023affe0]AVFrame.width or height is not set\n",
      "Pos:  13.1s    262f (75%) 41.05fps Trem:   0min   2mb  A-V:0.000 [1395:0]\n",
      "[msmpeg4v2 @ 0x1023affe0]AVFrame.format is not set\n",
      "[msmpeg4v2 @ 0x1023affe0]AVFrame.width or height is not set\n"
     ]
    },
    {
     "name": "stdout",
     "output_type": "stream",
     "text": [
      "Pos:  13.2s    263f (75%) 41.09fps Trem:   0min   2mb  A-V:0.000 [1394:0]\n",
      "[msmpeg4v2 @ 0x1023affe0]AVFrame.format is not set\n",
      "[msmpeg4v2 @ 0x1023affe0]AVFrame.width or height is not set\n",
      "Pos:  13.2s    264f (75%) 41.06fps Trem:   0min   2mb  A-V:0.000 [1393:0]\n",
      "[msmpeg4v2 @ 0x1023affe0]AVFrame.format is not set\n",
      "[msmpeg4v2 @ 0x1023affe0]AVFrame.width or height is not set\n",
      "Pos:  13.2s    265f (76%) 41.08fps Trem:   0min   2mb  A-V:0.000 [1394:0]\n",
      "[msmpeg4v2 @ 0x1023affe0]AVFrame.format is not set\n",
      "[msmpeg4v2 @ 0x1023affe0]AVFrame.width or height is not set\n",
      "Pos:  13.3s    266f (76%) 41.06fps Trem:   0min   2mb  A-V:0.000 [1393:0]\n",
      "[msmpeg4v2 @ 0x1023affe0]AVFrame.format is not set\n",
      "[msmpeg4v2 @ 0x1023affe0]AVFrame.width or height is not set\n",
      "Pos:  13.3s    267f (76%) 41.11fps Trem:   0min   2mb  A-V:0.000 [1392:0]\n",
      "[msmpeg4v2 @ 0x1023affe0]AVFrame.format is not set\n",
      "[msmpeg4v2 @ 0x1023affe0]AVFrame.width or height is not set\n",
      "Pos:  13.4s    268f (77%) 41.14fps Trem:   0min   2mb  A-V:0.000 [1391:0]\n",
      "[msmpeg4v2 @ 0x1023affe0]AVFrame.format is not set\n",
      "[msmpeg4v2 @ 0x1023affe0]AVFrame.width or height is not set\n",
      "Pos:  13.4s    269f (77%) 41.16fps Trem:   0min   2mb  A-V:0.000 [1390:0]\n",
      "[msmpeg4v2 @ 0x1023affe0]AVFrame.format is not set\n",
      "[msmpeg4v2 @ 0x1023affe0]AVFrame.width or height is not set\n",
      "Pos:  13.5s    270f (77%) 41.11fps Trem:   0min   2mb  A-V:0.000 [1390:0]\n",
      "[msmpeg4v2 @ 0x1023affe0]AVFrame.format is not set\n",
      "[msmpeg4v2 @ 0x1023affe0]AVFrame.width or height is not set\n",
      "Pos:  13.6s    271f (77%) 41.12fps Trem:   0min   2mb  A-V:0.000 [1389:0]\n",
      "[msmpeg4v2 @ 0x1023affe0]AVFrame.format is not set\n",
      "[msmpeg4v2 @ 0x1023affe0]AVFrame.width or height is not set\n",
      "Pos:  13.6s    272f (78%) 41.13fps Trem:   0min   2mb  A-V:0.000 [1388:0]\n",
      "[msmpeg4v2 @ 0x1023affe0]AVFrame.format is not set\n",
      "[msmpeg4v2 @ 0x1023affe0]AVFrame.width or height is not set\n",
      "Pos:  13.7s    273f (78%) 41.14fps Trem:   0min   2mb  A-V:0.000 [1387:0]\n",
      "[msmpeg4v2 @ 0x1023affe0]AVFrame.format is not set\n",
      "[msmpeg4v2 @ 0x1023affe0]AVFrame.width or height is not set\n",
      "Pos:  13.7s    274f (78%) 41.17fps Trem:   0min   2mb  A-V:0.000 [1387:0]\n",
      "[msmpeg4v2 @ 0x1023affe0]AVFrame.format is not set\n",
      "[msmpeg4v2 @ 0x1023affe0]AVFrame.width or height is not set\n",
      "Pos:  13.8s    275f (79%) 41.20fps Trem:   0min   2mb  A-V:0.000 [1386:0]\n",
      "[msmpeg4v2 @ 0x1023affe0]AVFrame.format is not set\n",
      "[msmpeg4v2 @ 0x1023affe0]AVFrame.width or height is not set\n",
      "Pos:  13.8s    276f (79%) 41.21fps Trem:   0min   2mb  A-V:0.000 [1385:0]\n",
      "[msmpeg4v2 @ 0x1023affe0]AVFrame.format is not set\n",
      "[msmpeg4v2 @ 0x1023affe0]AVFrame.width or height is not set\n",
      "Pos:  13.8s    277f (79%) 41.15fps Trem:   0min   2mb  A-V:0.000 [1384:0]\n",
      "[msmpeg4v2 @ 0x1023affe0]AVFrame.format is not set\n",
      "[msmpeg4v2 @ 0x1023affe0]AVFrame.width or height is not set\n",
      "Pos:  13.9s    278f (79%) 41.13fps Trem:   0min   2mb  A-V:0.000 [1383:0]\n",
      "[msmpeg4v2 @ 0x1023affe0]AVFrame.format is not set\n",
      "[msmpeg4v2 @ 0x1023affe0]AVFrame.width or height is not set\n",
      "Pos:  13.9s    279f (80%) 41.13fps Trem:   0min   2mb  A-V:0.000 [1382:0]\n",
      "[msmpeg4v2 @ 0x1023affe0]AVFrame.format is not set\n",
      "[msmpeg4v2 @ 0x1023affe0]AVFrame.width or height is not set\n",
      "Pos:  14.0s    280f (80%) 40.85fps Trem:   0min   2mb  A-V:0.000 [1382:0]\n",
      "[msmpeg4v2 @ 0x1023affe0]AVFrame.format is not set\n",
      "[msmpeg4v2 @ 0x1023affe0]AVFrame.width or height is not set\n",
      "Pos:  14.1s    281f (80%) 40.70fps Trem:   0min   2mb  A-V:0.000 [1381:0]\n",
      "[msmpeg4v2 @ 0x1023affe0]AVFrame.format is not set\n",
      "[msmpeg4v2 @ 0x1023affe0]AVFrame.width or height is not set\n",
      "Pos:  14.1s    282f (81%) 40.65fps Trem:   0min   2mb  A-V:0.000 [1380:0]\n",
      "[msmpeg4v2 @ 0x1023affe0]AVFrame.format is not set\n",
      "[msmpeg4v2 @ 0x1023affe0]AVFrame.width or height is not set\n",
      "Pos:  14.2s    283f (81%) 40.64fps Trem:   0min   2mb  A-V:0.000 [1379:0]\n",
      "[msmpeg4v2 @ 0x1023affe0]AVFrame.format is not set\n",
      "[msmpeg4v2 @ 0x1023affe0]AVFrame.width or height is not set\n",
      "Pos:  14.2s    284f (81%) 40.54fps Trem:   0min   2mb  A-V:0.000 [1378:0]\n",
      "[msmpeg4v2 @ 0x1023affe0]AVFrame.format is not set\n",
      "[msmpeg4v2 @ 0x1023affe0]AVFrame.width or height is not set\n",
      "Pos:  14.2s    285f (81%) 40.46fps Trem:   0min   2mb  A-V:0.000 [1378:0]\n",
      "[msmpeg4v2 @ 0x1023affe0]AVFrame.format is not set\n",
      "[msmpeg4v2 @ 0x1023affe0]AVFrame.width or height is not set\n",
      "Pos:  14.3s    286f (82%) 40.46fps Trem:   0min   2mb  A-V:0.000 [1377:0]\n",
      "[msmpeg4v2 @ 0x1023affe0]AVFrame.format is not set\n",
      "[msmpeg4v2 @ 0x1023affe0]AVFrame.width or height is not set\n",
      "Pos:  14.3s    287f (82%) 40.50fps Trem:   0min   2mb  A-V:0.000 [1376:0]\n",
      "[msmpeg4v2 @ 0x1023affe0]AVFrame.format is not set\n",
      "[msmpeg4v2 @ 0x1023affe0]AVFrame.width or height is not set\n",
      "Pos:  14.4s    288f (82%) 40.52fps Trem:   0min   2mb  A-V:0.000 [1375:0]\n",
      "[msmpeg4v2 @ 0x1023affe0]AVFrame.format is not set\n",
      "[msmpeg4v2 @ 0x1023affe0]AVFrame.width or height is not set\n",
      "Pos:  14.4s    289f (83%) 40.53fps Trem:   0min   2mb  A-V:0.000 [1375:0]\n",
      "[msmpeg4v2 @ 0x1023affe0]AVFrame.format is not set\n",
      "[msmpeg4v2 @ 0x1023affe0]AVFrame.width or height is not set\n",
      "Pos:  14.5s    290f (83%) 40.49fps Trem:   0min   2mb  A-V:0.000 [1374:0]\n",
      "[msmpeg4v2 @ 0x1023affe0]AVFrame.format is not set\n",
      "[msmpeg4v2 @ 0x1023affe0]AVFrame.width or height is not set\n",
      "Pos:  14.6s    291f (83%) 40.49fps Trem:   0min   2mb  A-V:0.000 [1373:0]\n",
      "[msmpeg4v2 @ 0x1023affe0]AVFrame.format is not set\n",
      "[msmpeg4v2 @ 0x1023affe0]AVFrame.width or height is not set\n",
      "Pos:  14.6s    292f (83%) 40.50fps Trem:   0min   2mb  A-V:0.000 [1372:0]\n",
      "[msmpeg4v2 @ 0x1023affe0]AVFrame.format is not set\n",
      "[msmpeg4v2 @ 0x1023affe0]AVFrame.width or height is not set\n",
      "Pos:  14.7s    293f (84%) 40.55fps Trem:   0min   2mb  A-V:0.000 [1372:0]\n",
      "[msmpeg4v2 @ 0x1023affe0]AVFrame.format is not set\n",
      "[msmpeg4v2 @ 0x1023affe0]AVFrame.width or height is not set\n",
      "Pos:  14.7s    294f (84%) 40.46fps Trem:   0min   2mb  A-V:0.000 [1371:0]\n",
      "[msmpeg4v2 @ 0x1023affe0]AVFrame.format is not set\n",
      "[msmpeg4v2 @ 0x1023affe0]AVFrame.width or height is not set\n",
      "Pos:  14.8s    295f (84%) 40.47fps Trem:   0min   2mb  A-V:0.000 [1370:0]\n",
      "[msmpeg4v2 @ 0x1023affe0]AVFrame.format is not set\n",
      "[msmpeg4v2 @ 0x1023affe0]AVFrame.width or height is not set\n",
      "Pos:  14.8s    296f (85%) 40.48fps Trem:   0min   2mb  A-V:0.000 [1370:0]\n",
      "[msmpeg4v2 @ 0x1023affe0]AVFrame.format is not set\n",
      "[msmpeg4v2 @ 0x1023affe0]AVFrame.width or height is not set\n",
      "Pos:  14.8s    297f (85%) 40.52fps Trem:   0min   2mb  A-V:0.000 [1369:0]\n",
      "[msmpeg4v2 @ 0x1023affe0]AVFrame.format is not set\n",
      "[msmpeg4v2 @ 0x1023affe0]AVFrame.width or height is not set\n",
      "Pos:  14.9s    298f (85%) 40.54fps Trem:   0min   2mb  A-V:0.000 [1368:0]\n",
      "[msmpeg4v2 @ 0x1023affe0]AVFrame.format is not set\n",
      "[msmpeg4v2 @ 0x1023affe0]AVFrame.width or height is not set\n",
      "Pos:  14.9s    299f (85%) 40.50fps Trem:   0min   2mb  A-V:0.000 [1367:0]\n",
      "[msmpeg4v2 @ 0x1023affe0]AVFrame.format is not set\n",
      "[msmpeg4v2 @ 0x1023affe0]AVFrame.width or height is not set\n",
      "Pos:  15.0s    300f (86%) 40.49fps Trem:   0min   2mb  A-V:0.000 [1367:0]\n",
      "[msmpeg4v2 @ 0x1023affe0]AVFrame.format is not set\n",
      "[msmpeg4v2 @ 0x1023affe0]AVFrame.width or height is not set\n",
      "Pos:  15.1s    301f (86%) 40.51fps Trem:   0min   2mb  A-V:0.000 [1366:0]\n",
      "[msmpeg4v2 @ 0x1023affe0]AVFrame.format is not set\n",
      "[msmpeg4v2 @ 0x1023affe0]AVFrame.width or height is not set\n",
      "Pos:  15.1s    302f (86%) 40.53fps Trem:   0min   2mb  A-V:0.000 [1365:0]\n",
      "[msmpeg4v2 @ 0x1023affe0]AVFrame.format is not set\n",
      "[msmpeg4v2 @ 0x1023affe0]AVFrame.width or height is not set\n",
      "Pos:  15.2s    303f (87%) 40.49fps Trem:   0min   2mb  A-V:0.000 [1364:0]\n",
      "[msmpeg4v2 @ 0x1023affe0]AVFrame.format is not set\n",
      "[msmpeg4v2 @ 0x1023affe0]AVFrame.width or height is not set\n",
      "Pos:  15.2s    304f (87%) 40.43fps Trem:   0min   2mb  A-V:0.000 [1363:0]\n",
      "[msmpeg4v2 @ 0x1023affe0]AVFrame.format is not set\n",
      "[msmpeg4v2 @ 0x1023affe0]AVFrame.width or height is not set\n",
      "Pos:  15.2s    305f (87%) 40.44fps Trem:   0min   2mb  A-V:0.000 [1363:0]\n",
      "[msmpeg4v2 @ 0x1023affe0]AVFrame.format is not set\n",
      "[msmpeg4v2 @ 0x1023affe0]AVFrame.width or height is not set\n",
      "Pos:  15.3s    306f (87%) 40.46fps Trem:   0min   2mb  A-V:0.000 [1362:0]\n",
      "[msmpeg4v2 @ 0x1023affe0]AVFrame.format is not set\n",
      "[msmpeg4v2 @ 0x1023affe0]AVFrame.width or height is not set\n"
     ]
    },
    {
     "name": "stdout",
     "output_type": "stream",
     "text": [
      "Pos:  15.3s    307f (88%) 40.45fps Trem:   0min   2mb  A-V:0.000 [1361:0]\n",
      "[msmpeg4v2 @ 0x1023affe0]AVFrame.format is not set\n",
      "[msmpeg4v2 @ 0x1023affe0]AVFrame.width or height is not set\n",
      "Pos:  15.4s    308f (88%) 40.40fps Trem:   0min   2mb  A-V:0.000 [1360:0]\n",
      "[msmpeg4v2 @ 0x1023affe0]AVFrame.format is not set\n",
      "[msmpeg4v2 @ 0x1023affe0]AVFrame.width or height is not set\n",
      "Pos:  15.4s    309f (88%) 40.38fps Trem:   0min   2mb  A-V:0.000 [1360:0]\n",
      "[msmpeg4v2 @ 0x1023affe0]AVFrame.format is not set\n",
      "[msmpeg4v2 @ 0x1023affe0]AVFrame.width or height is not set\n",
      "Pos:  15.5s    310f (89%) 40.42fps Trem:   0min   2mb  A-V:0.000 [1359:0]\n",
      "[msmpeg4v2 @ 0x1023affe0]AVFrame.format is not set\n",
      "[msmpeg4v2 @ 0x1023affe0]AVFrame.width or height is not set\n",
      "Pos:  15.6s    311f (89%) 40.45fps Trem:   0min   2mb  A-V:0.000 [1358:0]\n",
      "[msmpeg4v2 @ 0x1023affe0]AVFrame.format is not set\n",
      "[msmpeg4v2 @ 0x1023affe0]AVFrame.width or height is not set\n",
      "Pos:  15.6s    312f (89%) 40.42fps Trem:   0min   2mb  A-V:0.000 [1357:0]\n",
      "[msmpeg4v2 @ 0x1023affe0]AVFrame.format is not set\n",
      "[msmpeg4v2 @ 0x1023affe0]AVFrame.width or height is not set\n",
      "Pos:  15.7s    313f (89%) 40.40fps Trem:   0min   2mb  A-V:0.000 [1357:0]\n",
      "[msmpeg4v2 @ 0x1023affe0]AVFrame.format is not set\n",
      "[msmpeg4v2 @ 0x1023affe0]AVFrame.width or height is not set\n",
      "Pos:  15.7s    314f (90%) 40.43fps Trem:   0min   2mb  A-V:0.000 [1356:0]\n",
      "[msmpeg4v2 @ 0x1023affe0]AVFrame.format is not set\n",
      "[msmpeg4v2 @ 0x1023affe0]AVFrame.width or height is not set\n",
      "Pos:  15.8s    315f (90%) 40.46fps Trem:   0min   2mb  A-V:0.000 [1355:0]\n",
      "[msmpeg4v2 @ 0x1023affe0]AVFrame.format is not set\n",
      "[msmpeg4v2 @ 0x1023affe0]AVFrame.width or height is not set\n",
      "Pos:  15.8s    316f (90%) 40.50fps Trem:   0min   2mb  A-V:0.000 [1355:0]\n",
      "[msmpeg4v2 @ 0x1023affe0]AVFrame.format is not set\n",
      "[msmpeg4v2 @ 0x1023affe0]AVFrame.width or height is not set\n",
      "Pos:  15.8s    317f (91%) 40.54fps Trem:   0min   2mb  A-V:0.000 [1354:0]\n",
      "[msmpeg4v2 @ 0x1023affe0]AVFrame.format is not set\n",
      "[msmpeg4v2 @ 0x1023affe0]AVFrame.width or height is not set\n",
      "Pos:  15.9s    318f (91%) 40.58fps Trem:   0min   2mb  A-V:0.000 [1354:0]\n",
      "[msmpeg4v2 @ 0x1023affe0]AVFrame.format is not set\n",
      "[msmpeg4v2 @ 0x1023affe0]AVFrame.width or height is not set\n",
      "Pos:  15.9s    319f (91%) 40.56fps Trem:   0min   2mb  A-V:0.000 [1353:0]\n",
      "[msmpeg4v2 @ 0x1023affe0]AVFrame.format is not set\n",
      "[msmpeg4v2 @ 0x1023affe0]AVFrame.width or height is not set\n",
      "Pos:  16.0s    320f (91%) 40.55fps Trem:   0min   2mb  A-V:0.000 [1352:0]\n",
      "[msmpeg4v2 @ 0x1023affe0]AVFrame.format is not set\n",
      "[msmpeg4v2 @ 0x1023affe0]AVFrame.width or height is not set\n",
      "Pos:  16.1s    321f (92%) 40.54fps Trem:   0min   2mb  A-V:0.000 [1352:0]\n",
      "[msmpeg4v2 @ 0x1023affe0]AVFrame.format is not set\n",
      "[msmpeg4v2 @ 0x1023affe0]AVFrame.width or height is not set\n",
      "Pos:  16.1s    322f (92%) 40.55fps Trem:   0min   2mb  A-V:0.000 [1351:0]\n",
      "[msmpeg4v2 @ 0x1023affe0]AVFrame.format is not set\n",
      "[msmpeg4v2 @ 0x1023affe0]AVFrame.width or height is not set\n",
      "Pos:  16.1s    323f (92%) 40.55fps Trem:   0min   2mb  A-V:0.000 [1351:0]\n",
      "[msmpeg4v2 @ 0x1023affe0]AVFrame.format is not set\n",
      "[msmpeg4v2 @ 0x1023affe0]AVFrame.width or height is not set\n",
      "Pos:  16.2s    324f (93%) 40.55fps Trem:   0min   2mb  A-V:0.000 [1350:0]\n",
      "[msmpeg4v2 @ 0x1023affe0]AVFrame.format is not set\n",
      "[msmpeg4v2 @ 0x1023affe0]AVFrame.width or height is not set\n",
      "Pos:  16.2s    325f (93%) 40.58fps Trem:   0min   2mb  A-V:0.000 [1350:0]\n",
      "[msmpeg4v2 @ 0x1023affe0]AVFrame.format is not set\n",
      "[msmpeg4v2 @ 0x1023affe0]AVFrame.width or height is not set\n",
      "Pos:  16.3s    326f (93%) 40.59fps Trem:   0min   2mb  A-V:0.000 [1349:0]\n",
      "[msmpeg4v2 @ 0x1023affe0]AVFrame.format is not set\n",
      "[msmpeg4v2 @ 0x1023affe0]AVFrame.width or height is not set\n",
      "Pos:  16.4s    327f (93%) 40.59fps Trem:   0min   2mb  A-V:0.000 [1349:0]\n",
      "[msmpeg4v2 @ 0x1023affe0]AVFrame.format is not set\n",
      "[msmpeg4v2 @ 0x1023affe0]AVFrame.width or height is not set\n",
      "Pos:  16.4s    328f (94%) 40.55fps Trem:   0min   2mb  A-V:0.000 [1348:0]\n",
      "[msmpeg4v2 @ 0x1023affe0]AVFrame.format is not set\n",
      "[msmpeg4v2 @ 0x1023affe0]AVFrame.width or height is not set\n",
      "Pos:  16.4s    329f (94%) 40.59fps Trem:   0min   2mb  A-V:0.000 [1348:0]\n",
      "[msmpeg4v2 @ 0x1023affe0]AVFrame.format is not set\n",
      "[msmpeg4v2 @ 0x1023affe0]AVFrame.width or height is not set\n",
      "Pos:  16.5s    330f (94%) 40.65fps Trem:   0min   2mb  A-V:0.000 [1347:0]\n",
      "[msmpeg4v2 @ 0x1023affe0]AVFrame.format is not set\n",
      "[msmpeg4v2 @ 0x1023affe0]AVFrame.width or height is not set\n",
      "Pos:  16.6s    331f (95%) 40.62fps Trem:   0min   2mb  A-V:0.000 [1346:0]\n",
      "[msmpeg4v2 @ 0x1023affe0]AVFrame.format is not set\n",
      "[msmpeg4v2 @ 0x1023affe0]AVFrame.width or height is not set\n",
      "Pos:  16.6s    332f (95%) 40.63fps Trem:   0min   2mb  A-V:0.000 [1346:0]\n",
      "[msmpeg4v2 @ 0x1023affe0]AVFrame.format is not set\n",
      "[msmpeg4v2 @ 0x1023affe0]AVFrame.width or height is not set\n",
      "Pos:  16.6s    333f (95%) 40.63fps Trem:   0min   2mb  A-V:0.000 [1345:0]\n",
      "[msmpeg4v2 @ 0x1023affe0]AVFrame.format is not set\n",
      "[msmpeg4v2 @ 0x1023affe0]AVFrame.width or height is not set\n",
      "Pos:  16.7s    334f (95%) 40.68fps Trem:   0min   2mb  A-V:0.000 [1344:0]\n",
      "[msmpeg4v2 @ 0x1023affe0]AVFrame.format is not set\n",
      "[msmpeg4v2 @ 0x1023affe0]AVFrame.width or height is not set\n",
      "Pos:  16.8s    335f (96%) 40.73fps Trem:   0min   2mb  A-V:0.000 [1344:0]\n",
      "[msmpeg4v2 @ 0x1023affe0]AVFrame.format is not set\n",
      "[msmpeg4v2 @ 0x1023affe0]AVFrame.width or height is not set\n",
      "Pos:  16.8s    336f (96%) 40.73fps Trem:   0min   2mb  A-V:0.000 [1343:0]\n",
      "[msmpeg4v2 @ 0x1023affe0]AVFrame.format is not set\n",
      "[msmpeg4v2 @ 0x1023affe0]AVFrame.width or height is not set\n",
      "Pos:  16.9s    337f (96%) 40.74fps Trem:   0min   2mb  A-V:0.000 [1343:0]\n",
      "[msmpeg4v2 @ 0x1023affe0]AVFrame.format is not set\n",
      "[msmpeg4v2 @ 0x1023affe0]AVFrame.width or height is not set\n",
      "Pos:  16.9s    338f (97%) 40.72fps Trem:   0min   2mb  A-V:0.000 [1342:0]\n",
      "[msmpeg4v2 @ 0x1023affe0]AVFrame.format is not set\n",
      "[msmpeg4v2 @ 0x1023affe0]AVFrame.width or height is not set\n",
      "Pos:  16.9s    339f (97%) 40.76fps Trem:   0min   2mb  A-V:0.000 [1342:0]\n",
      "[msmpeg4v2 @ 0x1023affe0]AVFrame.format is not set\n",
      "[msmpeg4v2 @ 0x1023affe0]AVFrame.width or height is not set\n",
      "Pos:  17.0s    340f (97%) 40.78fps Trem:   0min   2mb  A-V:0.000 [1341:0]\n",
      "[msmpeg4v2 @ 0x1023affe0]AVFrame.format is not set\n",
      "[msmpeg4v2 @ 0x1023affe0]AVFrame.width or height is not set\n",
      "Pos:  17.1s    341f (97%) 40.77fps Trem:   0min   2mb  A-V:0.000 [1340:0]\n",
      "[msmpeg4v2 @ 0x1023affe0]AVFrame.format is not set\n",
      "[msmpeg4v2 @ 0x1023affe0]AVFrame.width or height is not set\n",
      "Pos:  17.1s    342f (98%) 40.73fps Trem:   0min   2mb  A-V:0.000 [1340:0]\n",
      "[msmpeg4v2 @ 0x1023affe0]AVFrame.format is not set\n",
      "[msmpeg4v2 @ 0x1023affe0]AVFrame.width or height is not set\n",
      "Pos:  17.1s    343f (98%) 40.77fps Trem:   0min   2mb  A-V:0.000 [1339:0]\n",
      "[msmpeg4v2 @ 0x1023affe0]AVFrame.format is not set\n",
      "[msmpeg4v2 @ 0x1023affe0]AVFrame.width or height is not set\n",
      "Pos:  17.2s    344f (98%) 40.81fps Trem:   0min   2mb  A-V:0.000 [1339:0]\n",
      "[msmpeg4v2 @ 0x1023affe0]AVFrame.format is not set\n",
      "[msmpeg4v2 @ 0x1023affe0]AVFrame.width or height is not set\n",
      "Pos:  17.2s    345f (99%) 40.82fps Trem:   0min   2mb  A-V:0.000 [1338:0]\n",
      "[msmpeg4v2 @ 0x1023affe0]AVFrame.format is not set\n",
      "[msmpeg4v2 @ 0x1023affe0]AVFrame.width or height is not set\n",
      "Pos:  17.3s    346f (99%) 40.84fps Trem:   0min   2mb  A-V:0.000 [1338:0]\n",
      "[msmpeg4v2 @ 0x1023affe0]AVFrame.format is not set\n",
      "[msmpeg4v2 @ 0x1023affe0]AVFrame.width or height is not set\n",
      "Pos:  17.4s    347f (99%) 40.82fps Trem:   0min   2mb  A-V:0.000 [1337:0]\n",
      "[msmpeg4v2 @ 0x1023affe0]AVFrame.format is not set\n",
      "[msmpeg4v2 @ 0x1023affe0]AVFrame.width or height is not set\n",
      "Pos:  17.4s    348f (100%) 40.85fps Trem:   0min   2mb  A-V:0.000 [1337:0]\n",
      "[msmpeg4v2 @ 0x1023affe0]AVFrame.format is not set\n",
      "[msmpeg4v2 @ 0x1023affe0]AVFrame.width or height is not set\n",
      "Pos:  17.4s    349f (100%) 40.90fps Trem:   0min   2mb  A-V:0.000 [1336:0]\n",
      "\n",
      "Skipping frame!\n",
      "Pos:  17.4s    350f (100%) 41.01fps Trem:   0min   2mb  A-V:0.000 [1336:0]\n",
      "\n",
      "Flushing video frames.\n",
      "Writing index...\n",
      "Writing header...\n",
      "ODML: vprp aspect is 16384:16384.\n",
      "\n",
      "Video stream: 1336.645 kbit/s  (167080 B/s)  size: 2915557 bytes  17.450 secs  350 frames\n"
     ]
    }
   ],
   "source": [
    "!mencoder \"mf://*.png\" -o SHY30_Animation_01.avi -ovc lavc -lavcopts vcodec=msmpeg4v2:autoaspect:vbitrate=2160000:mbd=2:keyint=132:vqblur=1.0:cmp=2:subcmp=2:dia=2:o=mpv_flags=+mv0:last_pred=3 -fps 20;\n",
    "\n"
   ]
  },
  {
   "cell_type": "code",
   "execution_count": null,
   "metadata": {
    "collapsed": true
   },
   "outputs": [],
   "source": []
  },
  {
   "cell_type": "code",
   "execution_count": null,
   "metadata": {
    "collapsed": true
   },
   "outputs": [],
   "source": []
  },
  {
   "cell_type": "code",
   "execution_count": 55,
   "metadata": {},
   "outputs": [
    {
     "data": {
      "text/plain": [
       "u'/Users/adrianovaldesgomez/Documents/Adriano_Programming'"
      ]
     },
     "execution_count": 55,
     "metadata": {},
     "output_type": "execute_result"
    }
   ],
   "source": [
    "%pwd"
   ]
  },
  {
   "cell_type": "code",
   "execution_count": 31,
   "metadata": {},
   "outputs": [],
   "source": [
    "%mkdir Y30_08072018"
   ]
  },
  {
   "cell_type": "code",
   "execution_count": null,
   "metadata": {},
   "outputs": [],
   "source": []
  },
  {
   "cell_type": "code",
   "execution_count": 32,
   "metadata": {},
   "outputs": [
    {
     "name": "stdout",
     "output_type": "stream",
     "text": [
      "/Users/adrianovaldesgomez/Documents/Adriano_Programming/Y30_08072018\n"
     ]
    }
   ],
   "source": [
    "%cd Y30_08072018/"
   ]
  },
  {
   "cell_type": "code",
   "execution_count": 102,
   "metadata": {},
   "outputs": [
    {
     "data": {
      "text/plain": [
       "u'/Users/adrianovaldesgomez/Documents/Adriano_Programming/Diferente_Int_Potenciales/Y30_17122017'"
      ]
     },
     "execution_count": 102,
     "metadata": {},
     "output_type": "execute_result"
    }
   ],
   "source": [
    "%pwd"
   ]
  },
  {
   "cell_type": "code",
   "execution_count": null,
   "metadata": {},
   "outputs": [],
   "source": []
  },
  {
   "cell_type": "code",
   "execution_count": 25,
   "metadata": {},
   "outputs": [],
   "source": [
    "import time"
   ]
  },
  {
   "cell_type": "code",
   "execution_count": 26,
   "metadata": {},
   "outputs": [],
   "source": [
    "C = np.sqrt(2*1e-1)"
   ]
  },
  {
   "cell_type": "code",
   "execution_count": 27,
   "metadata": {},
   "outputs": [
    {
     "data": {
      "text/plain": [
       "0.4472135954999579"
      ]
     },
     "execution_count": 27,
     "metadata": {},
     "output_type": "execute_result"
    }
   ],
   "source": [
    "C"
   ]
  },
  {
   "cell_type": "code",
   "execution_count": 28,
   "metadata": {},
   "outputs": [],
   "source": [
    "U0 = 5*C*1e0"
   ]
  },
  {
   "cell_type": "code",
   "execution_count": 29,
   "metadata": {},
   "outputs": [
    {
     "data": {
      "text/plain": [
       "2.23606797749979"
      ]
     },
     "execution_count": 29,
     "metadata": {},
     "output_type": "execute_result"
    }
   ],
   "source": [
    "5*C"
   ]
  },
  {
   "cell_type": "code",
   "execution_count": 30,
   "metadata": {},
   "outputs": [
    {
     "data": {
      "text/plain": [
       "2.23606797749979"
      ]
     },
     "execution_count": 30,
     "metadata": {},
     "output_type": "execute_result"
    }
   ],
   "source": [
    "U0"
   ]
  },
  {
   "cell_type": "code",
   "execution_count": null,
   "metadata": {},
   "outputs": [],
   "source": []
  },
  {
   "cell_type": "code",
   "execution_count": 33,
   "metadata": {},
   "outputs": [
    {
     "name": "stdout",
     "output_type": "stream",
     "text": [
      "- 6999.126168966293 seconds -\n"
     ]
    }
   ],
   "source": [
    "start_time = time.time()\n",
    "#Paramtreos de la simulacion\n",
    "D = 1e-1\n",
    "dt = np.log(2)*1e-3\n",
    "v0 = U0*dt\n",
    "#v0 = 15.0*dt\n",
    "#v0 = 0.\n",
    "\n",
    "dist_uni = polo_n(3000,1.)\n",
    "\n",
    "#dist_uni = obs_uniforme(3000, 1., 0)\n",
    "\n",
    "\n",
    "Nt = 10000\n",
    "\n",
    "\n",
    "#plot_potential(dist_uni,0,0,0)\n",
    "rs = dist_uni\n",
    "\n",
    "\n",
    "#Variables iniciales para el analisis estadistico\n",
    "ht0, mt0, vt0 = mean_var_hist_theta(rs)\n",
    "#hp0, mp0, vp0 = mean_var_hist_phis(rs)\n",
    "mean_thetas_t = [mt0]\n",
    "#var_thetas_t = [vt0]\n",
    "#mean_phis_t = [mp0]\n",
    "#var_phis_t = [vp0]\n",
    "histograma_thetas_t = [ht0]\n",
    "#histograma_phis_t = [hp0]\n",
    "\n",
    "\n",
    "#Variables para el analisis estadistico\n",
    "#mt0,vt0 = mean_var_theta(rs)\n",
    "#mp0,vp0 = mean_var_phis(rs)\n",
    "#mean_thetas_t = [mt0]\n",
    "#var_thetas_t = [vt0]\n",
    "#mean_phis_t = [mp0]\n",
    "#var_phis_t = [vp0]\n",
    "#histograma_thetas_t = []\n",
    "#histograma_phis_t = []\n",
    "\n",
    "\n",
    "\n",
    "\n",
    "for i in range(Nt):\n",
    "         \n",
    "        nuevas_pos = act_n_field(rs, v0)\n",
    "        #plot_potential(nuevas_pos, 0, 0, i + 1)\n",
    "        rs = nuevas_pos\n",
    "        ht, mt, vt = mean_var_hist_theta(rs)\n",
    "        #hp, mp, vp = mean_var_hist_phis(rs)\n",
    "        histograma_thetas_t.append(ht)\n",
    "        #histograma_phis_t.append(hp)\n",
    "        mean_thetas_t.append(mt)\n",
    "        #var_thetas_t.append(vt)\n",
    "        #mean_phis_t.append(mp)\n",
    "        #var_phis_t.append(vp)\n",
    "        \n",
    "        \n",
    "        \n",
    "np.savetxt(\"Y30_Hist_Theta_t_u0_2.txt\", histograma_thetas_t)\n",
    "#np.savetxt(\"Y30_Hist_Phi_t2.txt\", histograma_phis_t)\n",
    "#np.savetxt(\"Y30_Mean_Theta_t2.txt\", mean_thetas_t)\n",
    "#np.savetxt(\"Y30_Mean_phi_t2.txt\", mean_phis_t)\n",
    "#np.savetxt(\"Y30_Var_Theta_t2.txt\", var_thetas_t)\n",
    "#np.savetxt(\"Y30_Var_Phi_t2.txt\", var_phis_t)\n",
    "#np.savetxt(\"Y30_Mean_Theta_t2.txt\", mean_thetas_t)\n",
    "\n",
    "print(\"- %s seconds -\" % (time.time() - start_time))"
   ]
  },
  {
   "cell_type": "code",
   "execution_count": 111,
   "metadata": {},
   "outputs": [
    {
     "data": {
      "text/plain": [
       "2.328863888888889"
      ]
     },
     "execution_count": 111,
     "metadata": {},
     "output_type": "execute_result"
    }
   ],
   "source": [
    "8383.91/3600."
   ]
  },
  {
   "cell_type": "code",
   "execution_count": 10,
   "metadata": {},
   "outputs": [
    {
     "data": {
      "text/plain": [
       "8.031666666666666"
      ]
     },
     "execution_count": 10,
     "metadata": {},
     "output_type": "execute_result"
    }
   ],
   "source": [
    "28914./3600"
   ]
  },
  {
   "cell_type": "code",
   "execution_count": 19,
   "metadata": {},
   "outputs": [],
   "source": [
    "%matplotlib inline"
   ]
  },
  {
   "cell_type": "code",
   "execution_count": 34,
   "metadata": {},
   "outputs": [
    {
     "data": {
      "text/plain": [
       "[<matplotlib.lines.Line2D at 0x151a660978>]"
      ]
     },
     "execution_count": 34,
     "metadata": {},
     "output_type": "execute_result"
    },
    {
     "data": {
      "image/png": "[encoded data removed]",
      "text/plain": [
       "<matplotlib.figure.Figure at 0x151bf5c438>"
      ]
     },
     "metadata": {},
     "output_type": "display_data"
    }
   ],
   "source": [
    "plt.plot(mean_thetas_t[:])"
   ]
  },
  {
   "cell_type": "code",
   "execution_count": 22,
   "metadata": {},
   "outputs": [
    {
     "data": {
      "text/plain": [
       "1.5707963267948966"
      ]
     },
     "execution_count": 22,
     "metadata": {},
     "output_type": "execute_result"
    }
   ],
   "source": [
    "np.pi/2"
   ]
  },
  {
   "cell_type": "code",
   "execution_count": 49,
   "metadata": {},
   "outputs": [
    {
     "data": {
      "text/plain": [
       "[<matplotlib.lines.Line2D at 0x10abe2050>]"
      ]
     },
     "execution_count": 49,
     "metadata": {},
     "output_type": "execute_result"
    },
    {
     "data": {
      "image/png": "[encoded data removed]",
      "text/plain": [
       "<matplotlib.figure.Figure at 0x1ba63ee10>"
      ]
     },
     "metadata": {},
     "output_type": "display_data"
    }
   ],
   "source": [
    "plt.plot(mean_phis_t[:])"
   ]
  },
  {
   "cell_type": "code",
   "execution_count": null,
   "metadata": {
    "collapsed": true
   },
   "outputs": [],
   "source": [
    "plt.hist(hist)"
   ]
  },
  {
   "cell_type": "code",
   "execution_count": 36,
   "metadata": {},
   "outputs": [
    {
     "data": {
      "text/plain": [
       "0.4472135954999579"
      ]
     },
     "execution_count": 36,
     "metadata": {},
     "output_type": "execute_result"
    }
   ],
   "source": [
    "C"
   ]
  },
  {
   "cell_type": "code",
   "execution_count": null,
   "metadata": {
    "collapsed": true
   },
   "outputs": [],
   "source": []
  },
  {
   "cell_type": "markdown",
   "metadata": {},
   "source": [
    "### The Plotting"
   ]
  },
  {
   "cell_type": "code",
   "execution_count": 1,
   "metadata": {},
   "outputs": [
    {
     "name": "stdout",
     "output_type": "stream",
     "text": [
      "/Users/draflorencia/Documents/Adriano/simulaciones/New_Programs/Foreign_Notebooks\r\n"
     ]
    }
   ],
   "source": [
    "!pwd"
   ]
  },
  {
   "cell_type": "code",
   "execution_count": 2,
   "metadata": {},
   "outputs": [
    {
     "name": "stdout",
     "output_type": "stream",
     "text": [
      "/Users/draflorencia/Documents/Adriano/simulaciones/New_Programs\n"
     ]
    }
   ],
   "source": [
    "%cd .."
   ]
  },
  {
   "cell_type": "code",
   "execution_count": 3,
   "metadata": {},
   "outputs": [
    {
     "name": "stdout",
     "output_type": "stream",
     "text": [
      "/Users/draflorencia/Documents/Adriano/simulaciones/New_Programs/SHY30_Statistics_01\n"
     ]
    }
   ],
   "source": [
    "%cd SHY30_Statistics_01/"
   ]
  },
  {
   "cell_type": "code",
   "execution_count": null,
   "metadata": {
    "collapsed": true
   },
   "outputs": [],
   "source": []
  },
  {
   "cell_type": "code",
   "execution_count": null,
   "metadata": {
    "collapsed": true
   },
   "outputs": [],
   "source": []
  },
  {
   "cell_type": "code",
   "execution_count": 35,
   "metadata": {},
   "outputs": [
    {
     "data": {
      "text/plain": [
       "2"
      ]
     },
     "execution_count": 35,
     "metadata": {},
     "output_type": "execute_result"
    }
   ],
   "source": [
    "1+1"
   ]
  },
  {
   "cell_type": "code",
   "execution_count": 2,
   "metadata": {},
   "outputs": [],
   "source": [
    "import numpy as np"
   ]
  },
  {
   "cell_type": "code",
   "execution_count": null,
   "metadata": {},
   "outputs": [],
   "source": []
  },
  {
   "cell_type": "code",
   "execution_count": 18,
   "metadata": {},
   "outputs": [
    {
     "data": {
      "text/plain": [
       "u'/Users/adrianovaldesgomez/Documents/Adriano_Programming'"
      ]
     },
     "execution_count": 18,
     "metadata": {},
     "output_type": "execute_result"
    }
   ],
   "source": [
    "%pwd"
   ]
  },
  {
   "cell_type": "code",
   "execution_count": null,
   "metadata": {},
   "outputs": [],
   "source": []
  },
  {
   "cell_type": "code",
   "execution_count": null,
   "metadata": {},
   "outputs": [],
   "source": []
  },
  {
   "cell_type": "code",
   "execution_count": 3,
   "metadata": {},
   "outputs": [],
   "source": [
    "from matplotlib import pyplot as plt"
   ]
  },
  {
   "cell_type": "code",
   "execution_count": 35,
   "metadata": {},
   "outputs": [],
   "source": [
    "x1 = histograma_thetas_t"
   ]
  },
  {
   "cell_type": "code",
   "execution_count": 182,
   "metadata": {},
   "outputs": [],
   "source": [
    "x2 = histograma_thetas_t"
   ]
  },
  {
   "cell_type": "code",
   "execution_count": 197,
   "metadata": {},
   "outputs": [],
   "source": [
    "x3 = histograma_thetas_t"
   ]
  },
  {
   "cell_type": "code",
   "execution_count": 190,
   "metadata": {},
   "outputs": [],
   "source": [
    "x4 = histograma_thetas_t"
   ]
  },
  {
   "cell_type": "code",
   "execution_count": 207,
   "metadata": {},
   "outputs": [],
   "source": [
    "x5 = histograma_thetas_t"
   ]
  },
  {
   "cell_type": "code",
   "execution_count": 211,
   "metadata": {},
   "outputs": [],
   "source": [
    "x6 = histograma_thetas_t"
   ]
  },
  {
   "cell_type": "code",
   "execution_count": 29,
   "metadata": {},
   "outputs": [],
   "source": [
    "x7 = histograma_thetas_t"
   ]
  },
  {
   "cell_type": "code",
   "execution_count": 32,
   "metadata": {},
   "outputs": [],
   "source": [
    "x8 = histograma_thetas_t"
   ]
  },
  {
   "cell_type": "code",
   "execution_count": 38,
   "metadata": {},
   "outputs": [],
   "source": [
    "x9 = histograma_thetas_t"
   ]
  },
  {
   "cell_type": "code",
   "execution_count": 43,
   "metadata": {},
   "outputs": [],
   "source": [
    "x10 = histograma_thetas_t"
   ]
  },
  {
   "cell_type": "code",
   "execution_count": 49,
   "metadata": {},
   "outputs": [],
   "source": [
    "x11 = histograma_thetas_t"
   ]
  },
  {
   "cell_type": "code",
   "execution_count": 51,
   "metadata": {},
   "outputs": [
    {
     "data": {
      "text/plain": [
       "u'/Users/adrianovaldesgomez/Documents/Adriano_Programming/Y30_10122017'"
      ]
     },
     "execution_count": 51,
     "metadata": {},
     "output_type": "execute_result"
    }
   ],
   "source": [
    "%pwd"
   ]
  },
  {
   "cell_type": "code",
   "execution_count": null,
   "metadata": {},
   "outputs": [],
   "source": []
  },
  {
   "cell_type": "code",
   "execution_count": null,
   "metadata": {},
   "outputs": [],
   "source": []
  },
  {
   "cell_type": "code",
   "execution_count": null,
   "metadata": {},
   "outputs": [],
   "source": []
  },
  {
   "cell_type": "code",
   "execution_count": null,
   "metadata": {},
   "outputs": [],
   "source": []
  },
  {
   "cell_type": "code",
   "execution_count": 53,
   "metadata": {},
   "outputs": [],
   "source": [
    "np.savetxt?"
   ]
  },
  {
   "cell_type": "code",
   "execution_count": 54,
   "metadata": {},
   "outputs": [],
   "source": [
    "np.savetxt(\"Y30_Hist_Theta_U00.txt\",x7)\n",
    "np.savetxt(\"Y30_Hist_Phi_U01.txt\",x8)\n",
    "np.savetxt(\"Y30_Mean_Theta_U02.txt\",x9)\n",
    "np.savetxt(\"Y30_Mean_phi_U0-1.txt\",x10)\n",
    "np.savetxt(\"Y30_Var_Theta_U0-2.txt\",x11)\n",
    "#x6 = np.loadtxt(\"Y30_Var_Phi_t.txt\")"
   ]
  },
  {
   "cell_type": "code",
   "execution_count": 38,
   "metadata": {},
   "outputs": [],
   "source": [
    "%matplotlib inline"
   ]
  },
  {
   "cell_type": "code",
   "execution_count": 36,
   "metadata": {},
   "outputs": [],
   "source": [
    "U0 = 5*C*1e0"
   ]
  },
  {
   "cell_type": "code",
   "execution_count": 37,
   "metadata": {},
   "outputs": [],
   "source": [
    "xpot = np.linspace(0,np.pi,100)\n",
    "ypot = -0.5*np.sqrt((7/(4*np.pi)))*(5*np.cos(xpot)**3 - 3*np.cos(xpot))*U0"
   ]
  },
  {
   "cell_type": "code",
   "execution_count": null,
   "metadata": {},
   "outputs": [],
   "source": []
  },
  {
   "cell_type": "code",
   "execution_count": null,
   "metadata": {},
   "outputs": [],
   "source": []
  },
  {
   "cell_type": "code",
   "execution_count": 38,
   "metadata": {},
   "outputs": [
    {
     "data": {
      "image/png": "[encoded data removed]",
      "text/plain": [
       "<matplotlib.figure.Figure at 0x15421d71d0>"
      ]
     },
     "metadata": {},
     "output_type": "display_data"
    }
   ],
   "source": [
    "fig = plt.figure(figsize=(7,5))\n",
    "ax = fig.add_subplot(111)\n",
    "n,bins, rectangles = plt.hist(x1[0], bins = 100, normed = True, #\n",
    "color = \"g\", alpha = 0.8, edgecolor='black', linewidth=1.2)\n",
    "fig.canvas.draw()\n",
    "plt.xlabel(r\"$\\theta$\", fontsize = 13)\n",
    "#plt.ylabel(r\"$P(\\theta,t = t_0| \\theta_0, t_0)$\", fontsize = 18)\n",
    "#plt.legend(loc = 1, fontsize = 14)\n",
    "plt.title(r\"$P(\\theta,t = t_0| \\theta_0, t_0)$\", fontsize = 16)\n",
    "plt.plot(xpot,ypot, color = \"r\", linestyle = \"-\", label = r\"$U(\\theta) = -U_0\\, Y_{3}^{0}(\\theta, \\phi)$\")\n",
    "plt.plot(xpot, 0.5*np.sin(xpot), color = \"b\", linestyle = \"--\",label = r\"$\\frac{1}{2}\\,\\sin{\\theta}$\")\n",
    "#plt.ylim(-1,3)\n",
    "plt.xlim(0,np.pi)\n",
    "plt.legend(loc=1, fontsize = 10)\n",
    "#plt.savefig(\"Y30_Hist_Theta_t0\", dpi = 150)\n",
    "plt.show()"
   ]
  },
  {
   "cell_type": "code",
   "execution_count": 56,
   "metadata": {},
   "outputs": [
    {
     "data": {
      "text/plain": [
       "u'/Users/adrianovaldesgomez/Documents/Adriano_Programming/Y30_10122017'"
      ]
     },
     "execution_count": 56,
     "metadata": {},
     "output_type": "execute_result"
    }
   ],
   "source": [
    "%pwd"
   ]
  },
  {
   "cell_type": "code",
   "execution_count": 57,
   "metadata": {},
   "outputs": [
    {
     "name": "stdout",
     "output_type": "stream",
     "text": [
      "/Users/adrianovaldesgomez/Documents/Adriano_Programming\n"
     ]
    }
   ],
   "source": [
    "%cd .."
   ]
  },
  {
   "cell_type": "code",
   "execution_count": 58,
   "metadata": {},
   "outputs": [],
   "source": [
    "%mkdir Diferente_Int_Potenciales"
   ]
  },
  {
   "cell_type": "code",
   "execution_count": 59,
   "metadata": {},
   "outputs": [
    {
     "name": "stdout",
     "output_type": "stream",
     "text": [
      "/Users/adrianovaldesgomez/Documents/Adriano_Programming/Diferente_Int_Potenciales\n"
     ]
    }
   ],
   "source": [
    "%cd Diferente_Int_Potenciales/"
   ]
  },
  {
   "cell_type": "code",
   "execution_count": 39,
   "metadata": {},
   "outputs": [
    {
     "data": {
      "text/plain": [
       "2.23606797749979"
      ]
     },
     "execution_count": 39,
     "metadata": {},
     "output_type": "execute_result"
    }
   ],
   "source": [
    "U0"
   ]
  },
  {
   "cell_type": "code",
   "execution_count": 40,
   "metadata": {},
   "outputs": [
    {
     "data": {
      "text/plain": [
       "0.1"
      ]
     },
     "execution_count": 40,
     "metadata": {},
     "output_type": "execute_result"
    }
   ],
   "source": [
    "D"
   ]
  },
  {
   "cell_type": "code",
   "execution_count": 41,
   "metadata": {},
   "outputs": [
    {
     "data": {
      "text/plain": [
       "16.688952945311364"
      ]
     },
     "execution_count": 41,
     "metadata": {},
     "output_type": "execute_result"
    }
   ],
   "source": [
    "(2*U0/D)*np.sqrt(7/(16*np.pi))"
   ]
  },
  {
   "cell_type": "code",
   "execution_count": 42,
   "metadata": {},
   "outputs": [],
   "source": [
    "theta = np.linspace(0,np.pi,1000)\n",
    "pot_Y30_int = (5)*np.cos(theta)**3 - (3)*np.cos(theta)\n",
    "coeff_pot_Y30 = np.sqrt(7./(16*np.pi))*2*U0/D\n",
    "p0_Y30_int = (1/1.584171e12)*np.exp(coeff_pot_Y30*pot_Y30_int)*np.sin(theta)\n",
    "ypot_Y30 = -U0*np.sqrt(7./(16*np.pi))*(5*np.cos(theta)**3 - 3*np.cos(theta))"
   ]
  },
  {
   "cell_type": "code",
   "execution_count": null,
   "metadata": {},
   "outputs": [],
   "source": []
  },
  {
   "cell_type": "code",
   "execution_count": 43,
   "metadata": {},
   "outputs": [
    {
     "data": {
      "text/plain": [
       "16.688952945311364"
      ]
     },
     "execution_count": 43,
     "metadata": {},
     "output_type": "execute_result"
    }
   ],
   "source": [
    "np.sqrt(7./(16*np.pi))*2*U0/D"
   ]
  },
  {
   "cell_type": "code",
   "execution_count": null,
   "metadata": {},
   "outputs": [],
   "source": []
  },
  {
   "cell_type": "code",
   "execution_count": 84,
   "metadata": {},
   "outputs": [
    {
     "data": {
      "image/png": "[encoded data removed]",
      "text/plain": [
       "<matplotlib.figure.Figure at 0x1541e11550>"
      ]
     },
     "metadata": {},
     "output_type": "display_data"
    }
   ],
   "source": [
    "fig = plt.figure(figsize=(7,5))\n",
    "ax = fig.add_subplot(111)\n",
    "n,bins, rectangles = plt.hist(x1[-1], bins = 50, normed = True, #\n",
    "color = \"g\", alpha = 0.18, edgecolor='black', linewidth=1.2)\n",
    "fig.canvas.draw()\n",
    "plt.xlabel(r\"$\\theta$\", fontsize = 15)\n",
    "plt.ylabel(r\"$P_{\\infty}(\\theta)$\", fontsize = 18)\n",
    "#plt.legend(loc = 1, fontsize = 14)\n",
    "plt.title(r\"$D = 10^{-1},\\,\\, R = 1,\\,\\, U_0 \\approx 2.2365\\times 10^{0},\\,\\, dt = \\ln{(2)}\\times10^{-3}$\", fontsize = 11)\n",
    "plt.plot(xpot,ypot, color = \"r\", linestyle = \"-\", label = r\"$U(\\theta) = -U_0 Y_{3}^{0}(\\theta, \\phi)$\")\n",
    "plt.plot(xpot, 0.5*np.sin(xpot), color = \"b\", linestyle = \"--\",label = r\"$P(\\theta,0) = \\frac{1}{2}\\,\\sin{\\theta}$\")\n",
    "#plt.ylim(-1,3.5)\n",
    "plt.xlim(0,np.pi)\n",
    "#plt.legend(loc=(0.18,0.7), fontsize = 10)\n",
    "#plt.plot(theta,p0_Y30_int, label='Dist. Est. con Potencial')\n",
    "#plt.plot(theta,pfree, label='Dist. Est. sin potencial')\n",
    "#plt.plot(theta,ypot_Y30, color = \"r\", linestyle = \"-\", label = r\"$U(\\theta) = Y_{1}^{0}(\\theta, \\phi)$\")\n",
    "#plt.plot(theta,pot_Y10,label=r'Potencial $\\phi(\\mathbf{x})$')\n",
    "plt.axhline(xmin=0, xmax=np.pi, color='k')\n",
    "plt.fill_between(theta, p0_Y30_int ,y2 = 0, color = '#778899', alpha = .550)\n",
    "plt.savefig(\"Y30_Hist_Theta_infty_x3\", dpi = 200)\n",
    "plt.show()"
   ]
  },
  {
   "cell_type": "code",
   "execution_count": null,
   "metadata": {},
   "outputs": [],
   "source": []
  },
  {
   "cell_type": "code",
   "execution_count": 78,
   "metadata": {},
   "outputs": [],
   "source": [
    "# 0.1 + 0.1 + 0.1 + 0.1 + 0.1 + 0.1 + 0.1 + 0.1 + 0.1 + 0.1"
   ]
  },
  {
   "cell_type": "code",
   "execution_count": 44,
   "metadata": {},
   "outputs": [
    {
     "data": {
      "image/png": "[encoded data removed]",
      "text/plain": [
       "<matplotlib.figure.Figure at 0x154243db00>"
      ]
     },
     "metadata": {},
     "output_type": "display_data"
    }
   ],
   "source": [
    "fig = plt.figure(figsize=(7,5))\n",
    "ax = fig.add_subplot(111)\n",
    "n,bins, rectangles = plt.hist(x1[-1], bins = 50, normed = True, #\n",
    "color = \"g\", alpha = 0.18, edgecolor='black', linewidth=1.2)\n",
    "fig.canvas.draw()\n",
    "plt.xlabel(r\"$\\theta$\", fontsize = 15)\n",
    "plt.ylabel(r\"$P_{\\infty}(\\theta)$\", fontsize = 18)\n",
    "#plt.legend(loc = 1, fontsize = 14)\n",
    "plt.title(r\"$D = 10^{-1},\\,\\, R = 1,\\,\\, U_0 \\approx 2.2365\\times 10^{0},\\,\\, dt = \\ln{(2)}\\times10^{-3}$\", fontsize = 11)\n",
    "plt.plot(xpot,ypot, color = \"r\", linestyle = \"-\", label = r\"$U(\\theta) = -U_0 Y_{3}^{0}(\\theta, \\phi)$\")\n",
    "plt.plot(xpot, 0.5*np.sin(xpot), color = \"b\", linestyle = \"--\",label = r\"$P(\\theta,0) = \\frac{1}{2}\\,\\sin{\\theta}$\")\n",
    "#plt.ylim(-1,3.5)\n",
    "plt.xlim(0,np.pi)\n",
    "#plt.legend(loc=(0.18,0.7), fontsize = 10)\n",
    "#plt.plot(theta,p0_Y30_int, label='Dist. Est. con Potencial')\n",
    "#plt.plot(theta,pfree, label='Dist. Est. sin potencial')\n",
    "#plt.plot(theta,ypot_Y30, color = \"r\", linestyle = \"-\", label = r\"$U(\\theta) = Y_{1}^{0}(\\theta, \\phi)$\")\n",
    "#plt.plot(theta,pot_Y10,label=r'Potencial $\\phi(\\mathbf{x})$')\n",
    "plt.axhline(xmin=0, xmax=np.pi, color='k')\n",
    "plt.fill_between(theta, p0_Y30_int ,y2 = 0, color = '#778899', alpha = .550)\n",
    "plt.savefig(\"Y30_Hist_Theta_infty_x3\", dpi = 200)\n",
    "plt.show()"
   ]
  },
  {
   "cell_type": "code",
   "execution_count": null,
   "metadata": {},
   "outputs": [],
   "source": []
  },
  {
   "cell_type": "code",
   "execution_count": null,
   "metadata": {},
   "outputs": [],
   "source": []
  },
  {
   "cell_type": "code",
   "execution_count": 34,
   "metadata": {},
   "outputs": [],
   "source": [
    "theta = np.linspace(0,np.pi,1000)\n",
    "pot_Y30_int = -(theta)/1.9 + 1.255/4.*np.sin(2*theta) - (5/1.34)*np.cos(theta)*np.sin(theta)**3\n",
    "coeff_pot_Y30 = np.sqrt(7./(2*np.pi))*3*U0/.8\n",
    "p0_Y30_int = (1/0.14085)*np.exp(coeff_pot_Y30*pot_Y30_int)*np.sin(theta)\n",
    "ypot_Y30 = -v0*np.sqrt(7./(16*np.pi))*(5*np.cos(theta)**3 - 3*np.cos(theta))"
   ]
  },
  {
   "cell_type": "code",
   "execution_count": 35,
   "metadata": {},
   "outputs": [
    {
     "data": {
      "image/png": "[encoded data removed]",
      "text/plain": [
       "<matplotlib.figure.Figure at 0x15120d6c50>"
      ]
     },
     "metadata": {},
     "output_type": "display_data"
    }
   ],
   "source": [
    "fig = plt.figure(figsize=(7,5))\n",
    "ax = fig.add_subplot(111)\n",
    "n,bins, rectangles = plt.hist(x1[-1], bins = 100, normed = True, #\n",
    "color = \"g\", alpha = 0.38, edgecolor='black', linewidth=1.2)\n",
    "fig.canvas.draw()\n",
    "plt.xlabel(r\"$\\theta$\", fontsize = 15)\n",
    "#plt.ylabel(r\"$P(\\theta,t = t_0| \\theta_0, t_0)$\", fontsize = 18)\n",
    "#plt.legend(loc = 1, fontsize = 14)\n",
    "plt.title(r\"$D = 10^{-1},\\,\\, R = 1,\\,\\, U_0 \\approx 2.2365\\times 10^{0},\\,\\, dt = \\ln{(2)}\\times10^{-3}$\", fontsize = 11)\n",
    "plt.plot(xpot,ypot, color = \"r\", linestyle = \"-\", label = r\"$U(\\theta) = -U_0 Y_{3}^{0}(\\theta, \\phi)$\")\n",
    "plt.plot(xpot, 0.5*np.sin(xpot), color = \"b\", linestyle = \"--\",label = r\"$P(\\theta,0) = \\frac{1}{2}\\,\\sin{\\theta}$\")\n",
    "#plt.ylim(-1,3.5)\n",
    "plt.xlim(0,np.pi)\n",
    "#plt.legend(loc=(0.18,0.7), fontsize = 10)\n",
    "plt.plot(theta,p0_Y30_int, label='Dist. Est. con Potencial')\n",
    "#plt.plot(theta,pfree, label='Dist. Est. sin potencial')\n",
    "#plt.plot(theta,ypot_Y30, color = \"r\", linestyle = \"-\", label = r\"$U(\\theta) = Y_{1}^{0}(\\theta, \\phi)$\")\n",
    "#plt.plot(theta,pot_Y10,label=r'Potencial $\\phi(\\mathbf{x})$')\n",
    "plt.axhline(xmin=0, xmax=np.pi, color='k')\n",
    "plt.fill_between(theta, p0_Y30_int ,y2 = 0, color = '#778899', alpha = .50)\n",
    "#plt.savefig(\"Y30_Hist_Theta_infty_x11\", dpi = 200)\n",
    "plt.show()"
   ]
  },
  {
   "cell_type": "code",
   "execution_count": null,
   "metadata": {},
   "outputs": [],
   "source": []
  },
  {
   "cell_type": "code",
   "execution_count": null,
   "metadata": {},
   "outputs": [],
   "source": []
  },
  {
   "cell_type": "code",
   "execution_count": null,
   "metadata": {},
   "outputs": [],
   "source": []
  },
  {
   "cell_type": "code",
   "execution_count": null,
   "metadata": {},
   "outputs": [],
   "source": []
  },
  {
   "cell_type": "code",
   "execution_count": null,
   "metadata": {},
   "outputs": [],
   "source": []
  },
  {
   "cell_type": "code",
   "execution_count": null,
   "metadata": {},
   "outputs": [],
   "source": []
  },
  {
   "cell_type": "code",
   "execution_count": null,
   "metadata": {},
   "outputs": [],
   "source": []
  },
  {
   "cell_type": "code",
   "execution_count": 55,
   "metadata": {},
   "outputs": [
    {
     "ename": "NameError",
     "evalue": "name 'x6' is not defined",
     "output_type": "error",
     "traceback": [
      "\u001b[0;31m---------------------------------------------------------------------------\u001b[0m",
      "\u001b[0;31mNameError\u001b[0m                                 Traceback (most recent call last)",
      "\u001b[0;32m<ipython-input-55-51d113aed0eb>\u001b[0m in \u001b[0;36m<module>\u001b[0;34m()\u001b[0m\n\u001b[1;32m      1\u001b[0m \u001b[0mfig\u001b[0m \u001b[0;34m=\u001b[0m \u001b[0mplt\u001b[0m\u001b[0;34m.\u001b[0m\u001b[0mfigure\u001b[0m\u001b[0;34m(\u001b[0m\u001b[0mfigsize\u001b[0m\u001b[0;34m=\u001b[0m\u001b[0;34m(\u001b[0m\u001b[0;36m7\u001b[0m\u001b[0;34m,\u001b[0m\u001b[0;36m5\u001b[0m\u001b[0;34m)\u001b[0m\u001b[0;34m)\u001b[0m\u001b[0;34m\u001b[0m\u001b[0m\n\u001b[1;32m      2\u001b[0m \u001b[0max\u001b[0m \u001b[0;34m=\u001b[0m \u001b[0mfig\u001b[0m\u001b[0;34m.\u001b[0m\u001b[0madd_subplot\u001b[0m\u001b[0;34m(\u001b[0m\u001b[0;36m111\u001b[0m\u001b[0;34m)\u001b[0m\u001b[0;34m\u001b[0m\u001b[0m\n\u001b[0;32m----> 3\u001b[0;31m \u001b[0mn\u001b[0m\u001b[0;34m,\u001b[0m\u001b[0mbins\u001b[0m\u001b[0;34m,\u001b[0m \u001b[0mrectangles\u001b[0m \u001b[0;34m=\u001b[0m \u001b[0mplt\u001b[0m\u001b[0;34m.\u001b[0m\u001b[0mhist\u001b[0m\u001b[0;34m(\u001b[0m\u001b[0mx6\u001b[0m\u001b[0;34m[\u001b[0m\u001b[0;34m-\u001b[0m\u001b[0;36m1\u001b[0m\u001b[0;34m]\u001b[0m\u001b[0;34m,\u001b[0m \u001b[0mbins\u001b[0m \u001b[0;34m=\u001b[0m \u001b[0;36m100\u001b[0m\u001b[0;34m,\u001b[0m \u001b[0mnormed\u001b[0m \u001b[0;34m=\u001b[0m \u001b[0mTrue\u001b[0m\u001b[0;34m,\u001b[0m \u001b[0malpha\u001b[0m \u001b[0;34m=\u001b[0m \u001b[0;36m0.38\u001b[0m\u001b[0;34m,\u001b[0m \u001b[0mlabel\u001b[0m\u001b[0;34m=\u001b[0m\u001b[0;34mr\"$D=10^{-3}$\"\u001b[0m\u001b[0;34m)\u001b[0m\u001b[0;34m\u001b[0m\u001b[0m\n\u001b[0m\u001b[1;32m      4\u001b[0m \u001b[0mn\u001b[0m\u001b[0;34m,\u001b[0m\u001b[0mbins\u001b[0m\u001b[0;34m,\u001b[0m \u001b[0mrectangles\u001b[0m \u001b[0;34m=\u001b[0m \u001b[0mplt\u001b[0m\u001b[0;34m.\u001b[0m\u001b[0mhist\u001b[0m\u001b[0;34m(\u001b[0m\u001b[0mx1\u001b[0m\u001b[0;34m[\u001b[0m\u001b[0;34m-\u001b[0m\u001b[0;36m1\u001b[0m\u001b[0;34m]\u001b[0m\u001b[0;34m,\u001b[0m \u001b[0mbins\u001b[0m \u001b[0;34m=\u001b[0m \u001b[0;36m100\u001b[0m\u001b[0;34m,\u001b[0m \u001b[0mnormed\u001b[0m \u001b[0;34m=\u001b[0m \u001b[0mTrue\u001b[0m\u001b[0;34m,\u001b[0m \u001b[0malpha\u001b[0m \u001b[0;34m=\u001b[0m \u001b[0;36m0.38\u001b[0m\u001b[0;34m,\u001b[0m \u001b[0mlabel\u001b[0m\u001b[0;34m=\u001b[0m\u001b[0;34mr\"$D=10^{-2}$\"\u001b[0m\u001b[0;34m)\u001b[0m\u001b[0;34m\u001b[0m\u001b[0m\n\u001b[1;32m      5\u001b[0m \u001b[0mn\u001b[0m\u001b[0;34m,\u001b[0m\u001b[0mbins\u001b[0m\u001b[0;34m,\u001b[0m \u001b[0mrectangles\u001b[0m \u001b[0;34m=\u001b[0m \u001b[0mplt\u001b[0m\u001b[0;34m.\u001b[0m\u001b[0mhist\u001b[0m\u001b[0;34m(\u001b[0m\u001b[0mx2\u001b[0m\u001b[0;34m[\u001b[0m\u001b[0;34m-\u001b[0m\u001b[0;36m1\u001b[0m\u001b[0;34m]\u001b[0m\u001b[0;34m,\u001b[0m \u001b[0mbins\u001b[0m \u001b[0;34m=\u001b[0m \u001b[0;36m100\u001b[0m\u001b[0;34m,\u001b[0m \u001b[0mnormed\u001b[0m \u001b[0;34m=\u001b[0m \u001b[0mTrue\u001b[0m\u001b[0;34m,\u001b[0m \u001b[0malpha\u001b[0m \u001b[0;34m=\u001b[0m \u001b[0;36m0.38\u001b[0m\u001b[0;34m,\u001b[0m \u001b[0mlabel\u001b[0m\u001b[0;34m=\u001b[0m\u001b[0;34mr\"$D=10^{-1}$\"\u001b[0m\u001b[0;34m)\u001b[0m\u001b[0;34m\u001b[0m\u001b[0m\n",
      "\u001b[0;31mNameError\u001b[0m: name 'x6' is not defined"
     ]
    },
    {
     "data": {
      "image/png": "[encoded data removed]",
      "text/plain": [
       "<matplotlib.figure.Figure at 0x112e8d890>"
      ]
     },
     "metadata": {},
     "output_type": "display_data"
    }
   ],
   "source": [
    "fig = plt.figure(figsize=(7,5))\n",
    "ax = fig.add_subplot(111)\n",
    "n,bins, rectangles = plt.hist(x6[-1], bins = 100, normed = True, alpha = 0.38, label=r\"$D=10^{-3}$\")\n",
    "n,bins, rectangles = plt.hist(x1[-1], bins = 100, normed = True, alpha = 0.38, label=r\"$D=10^{-2}$\")\n",
    "n,bins, rectangles = plt.hist(x2[-1], bins = 100, normed = True, alpha = 0.38, label=r\"$D=10^{-1}$\")\n",
    "n,bins, rectangles = plt.hist(x3[-1], bins = 100, normed = True, alpha = 0.38, label=r\"$D=10^{0}$\")\n",
    "n,bins, rectangles = plt.hist(x4[-1], bins = 100, normed = True, alpha = 0.38, label=r\"$D=10^{1}$\")\n",
    "n,bins, rectangles = plt.hist(x5[-1], bins = 100, normed = True, alpha = 0.38, label=r\"$D=10^{2}$\")\n",
    "fig.canvas.draw()\n",
    "plt.xlabel(r\"$\\theta$\", fontsize = 15)\n",
    "#plt.ylabel(r\"$P(\\theta,t = t_0| \\theta_0, t_0)$\", fontsize = 18)\n",
    "plt.legend(loc = 2, fontsize = 10)\n",
    "#plt.title(r\"$D = 10^{2},\\,\\, R = 1,\\,\\, U_0 \\approx 2.2365,\\,\\, dt = \\ln{(2)}\\times10^{-3}$\", fontsize = 11)\n",
    "plt.plot(xpot,ypot, color = \"r\", linestyle = \"-\", label = r\"$U(\\theta) = -U_0 Y_{3}^{0}(\\theta, \\phi)$\")\n",
    "plt.plot(xpot, 0.5*np.sin(xpot), color = \"b\", linestyle = \"--\",label = r\"$P(\\theta,0) = \\frac{1}{2}\\,\\sin{\\theta}$\")\n",
    "#plt.ylim(-1,3.5)\n",
    "plt.xlim(0,np.pi)\n",
    "#plt.legend(loc=(0.18,0.7), fontsize = 10)\n",
    "plt.savefig(\"Y30_Hist_Theta_infty_xsall\", dpi = 250)\n",
    "plt.show()"
   ]
  },
  {
   "cell_type": "code",
   "execution_count": null,
   "metadata": {},
   "outputs": [],
   "source": []
  },
  {
   "cell_type": "code",
   "execution_count": null,
   "metadata": {},
   "outputs": [],
   "source": []
  },
  {
   "cell_type": "code",
   "execution_count": null,
   "metadata": {},
   "outputs": [],
   "source": []
  },
  {
   "cell_type": "code",
   "execution_count": null,
   "metadata": {},
   "outputs": [],
   "source": []
  },
  {
   "cell_type": "code",
   "execution_count": 97,
   "metadata": {},
   "outputs": [
    {
     "data": {
      "image/png": "[encoded data removed]",
      "text/plain": [
       "<matplotlib.figure.Figure at 0x10b4c2150>"
      ]
     },
     "metadata": {},
     "output_type": "display_data"
    }
   ],
   "source": [
    "fig = plt.figure(figsize=(5,3))\n",
    "ax = fig.add_subplot(111)\n",
    "n,bins, rectangles = plt.hist(x1[-1], bins = 100, normed = True, #\n",
    "color = \"g\", alpha = 0.8)\n",
    "fig.canvas.draw()\n",
    "plt.xlabel(r\"$\\theta$\", fontsize = 19)\n",
    "#plt.ylabel(r\"$P(\\theta,t = t_0| \\theta_0, t_0)$\", fontsize = 18)\n",
    "#plt.legend(loc = 1, fontsize = 14)\n",
    "plt.title(r\"$P(\\theta,t = t_0| \\theta_0, t_0)$\", fontsize = 16)\n",
    "plt.plot(xpot,ypot, color = \"r\", linestyle = \"-\", label = r\"$U(\\theta) = - Y_{3}^{0}(\\theta, \\phi)$\")\n",
    "plt.plot(xpot, 0.5*np.sin(xpot), color = \"b\", linestyle = \"--\",label = r\"$P(\\theta,0) = \\frac{1}{2}\\,\\sin{\\theta}$\")\n",
    "plt.ylim(-1,3)\n",
    "plt.xlim(0,np.pi)\n",
    "plt.legend(loc=(0.2,0.7), fontsize = 10)\n",
    "#plt.savefig(\"Y30_Hist_Theta_tinfty_2\", dpi = 150)\n",
    "plt.show()"
   ]
  },
  {
   "cell_type": "markdown",
   "metadata": {
    "collapsed": true
   },
   "source": [
    "## Un tiempo más largo de simulación 15000 pasos"
   ]
  },
  {
   "cell_type": "code",
   "execution_count": null,
   "metadata": {},
   "outputs": [],
   "source": []
  },
  {
   "cell_type": "code",
   "execution_count": 33,
   "metadata": {},
   "outputs": [
    {
     "data": {
      "image/png": "[encoded data removed]",
      "text/plain": [
       "<matplotlib.figure.Figure at 0x10aa32bd0>"
      ]
     },
     "metadata": {},
     "output_type": "display_data"
    }
   ],
   "source": [
    "fig = plt.figure(figsize=(7,5))\n",
    "ax = fig.add_subplot(111)\n",
    "n,bins, rectangles = plt.hist(x1[-1], bins = 100, normed = True, #\n",
    "color = \"g\", alpha = 0.8)\n",
    "fig.canvas.draw()\n",
    "plt.xlabel(r\"$\\theta$\", fontsize = 19)\n",
    "#plt.ylabel(r\"$P(\\theta,t = t_0| \\theta_0, t_0)$\", fontsize = 18)\n",
    "#plt.legend(loc = 1, fontsize = 14)\n",
    "plt.title(r\"$P(\\theta,t = t_0| \\theta_0, t_0)$\", fontsize = 16)\n",
    "plt.plot(xpot,ypot, color = \"r\", linestyle = \"-\", label = r\"$U(\\theta) = Y_{1}^{0}(\\theta, \\phi)$\")\n",
    "plt.plot(xpot, 0.5*np.sin(xpot), color = \"b\", linestyle = \"--\",label = r\"$\\frac{1}{2}\\,\\sin{\\theta}$\")\n",
    "plt.ylim(-1,3)\n",
    "plt.xlim(0,np.pi)\n",
    "plt.legend(loc=(0.2,0.7), fontsize = 13)\n",
    "plt.savefig(\"Y30_Hist_Theta_tinfty\", dpi = 150)\n",
    "plt.show()"
   ]
  },
  {
   "cell_type": "code",
   "execution_count": null,
   "metadata": {},
   "outputs": [],
   "source": []
  },
  {
   "cell_type": "code",
   "execution_count": null,
   "metadata": {},
   "outputs": [],
   "source": []
  },
  {
   "cell_type": "code",
   "execution_count": 12,
   "metadata": {},
   "outputs": [
    {
     "data": {
      "image/png": "[encoded data removed]",
      "text/plain": [
       "<matplotlib.figure.Figure at 0x10a85d710>"
      ]
     },
     "metadata": {},
     "output_type": "display_data"
    }
   ],
   "source": [
    "fig = plt.figure(figsize=(7,5))\n",
    "ax = fig.add_subplot(111)\n",
    "n,bins, rectangles = plt.hist(x2[0], bins = 100, normed = True, #\n",
    "color = \"b\", alpha = 0.8)\n",
    "fig.canvas.draw()\n",
    "plt.plot(np.linspace(0,2*np.pi,100), (1./(2*np.pi))*np.ones(len(np.linspace(0,2*np.pi,100))), color = \"r\",#\n",
    "label = r\"$\\phi(t) = \\frac{1}{2\\pi}$\")\n",
    "plt.xlabel(r\"$\\phi$\", fontsize = 19)\n",
    "plt.title(r\"$P(\\theta, \\phi,t = t_0| \\theta_0, \\phi_0, t_0)$\", fontsize = 16)\n",
    "plt.ylim(0,1)\n",
    "plt.xlim(0,2*np.pi)\n",
    "plt.legend(loc = 1, fontsize = 15)\n",
    "plt.savefig(\"Y30_Hist_Phi_t0\", dpi = 150)\n",
    "plt.show()"
   ]
  },
  {
   "cell_type": "code",
   "execution_count": null,
   "metadata": {},
   "outputs": [],
   "source": []
  },
  {
   "cell_type": "code",
   "execution_count": 13,
   "metadata": {},
   "outputs": [
    {
     "data": {
      "image/png": "[encoded data removed]",
      "text/plain": [
       "<matplotlib.figure.Figure at 0x10ab337d0>"
      ]
     },
     "metadata": {},
     "output_type": "display_data"
    }
   ],
   "source": [
    "fig = plt.figure(figsize=(7,5))\n",
    "ax = fig.add_subplot(111)\n",
    "n,bins, rectangles = plt.hist(x2[0], bins = 100, normed = True, #\n",
    "color = \"b\", alpha = 0.8)\n",
    "fig.canvas.draw()\n",
    "plt.plot(np.linspace(0,2*np.pi,100), (1./(2*np.pi))*np.ones(len(np.linspace(0,2*np.pi,100))), color = \"r\", #\n",
    "label = r\"$\\phi(t) = \\frac{1}{2\\pi}$\")\n",
    "plt.xlabel(r\"$\\phi$\", fontsize = 19)\n",
    "plt.title(r\"$P(\\theta, \\phi,t \\to \\infty | \\theta_0, \\phi_0, t_0)$\", fontsize = 16)\n",
    "plt.ylim(0,1)\n",
    "plt.xlim(0,2*np.pi)\n",
    "plt.legend(loc = 1, fontsize = 15)\n",
    "plt.savefig(\"Y30_Hist_Phi_tinfty\", dpi = 150)\n",
    "plt.show()"
   ]
  },
  {
   "cell_type": "code",
   "execution_count": null,
   "metadata": {
    "collapsed": true
   },
   "outputs": [],
   "source": []
  },
  {
   "cell_type": "code",
   "execution_count": 32,
   "metadata": {
    "collapsed": true
   },
   "outputs": [],
   "source": [
    "tiempo = 0\n",
    "dt = np.log(2)*1e-3\n",
    "Nt = 5000\n",
    "tiempos = [tiempo]\n",
    "for i in range(Nt):\n",
    "    tiempo = tiempo + dt\n",
    "    tiempos.append(tiempo)\n",
    "tiempos = np.array(tiempos)"
   ]
  },
  {
   "cell_type": "code",
   "execution_count": null,
   "metadata": {
    "collapsed": true
   },
   "outputs": [],
   "source": []
  },
  {
   "cell_type": "code",
   "execution_count": 34,
   "metadata": {},
   "outputs": [
    {
     "data": {
      "image/png": "[encoded data removed]",
      "text/plain": [
       "<matplotlib.figure.Figure at 0x10f9dcf50>"
      ]
     },
     "metadata": {},
     "output_type": "display_data"
    }
   ],
   "source": [
    "plt.rc('text', usetex=True)\n",
    "plt.plot(tiempos, x3, color = 'g')\n",
    "plt.plot(tiempos, np.pi/2*np.ones(len(tiempos)), color = \"r\", linestyle = \"--\", label = r\"$\\theta = \\pi$\")\n",
    "#plt.plot(tiempos, (2.8)*np.ones(len(tiempos)), color = \"k\", linestyle = \"--\", label = r\"$\\theta(t \\to \\infty)$\")\n",
    "#plt.plot(tiempos[:5800], np.arccos(np.exp(-14*D*np.array(tiempos[:5800]))))\n",
    "#plt.plot(tiempos[:5800], np.pi/2*np.ones(len(tiempos[:5800])), color = 'r')\n",
    "plt.xlabel(r'$t$', fontsize = 15)\n",
    "plt.ylim(0,np.pi)\n",
    "plt.ylabel(r'$\\langle \\theta(t) \\rangle$', fontsize = 15)\n",
    "plt.legend(loc = 4, fontsize = 15)\n",
    "plt.savefig(\"Y30_Mean_Theta_t\", dpi = 150)"
   ]
  },
  {
   "cell_type": "code",
   "execution_count": null,
   "metadata": {
    "collapsed": true
   },
   "outputs": [],
   "source": []
  },
  {
   "cell_type": "code",
   "execution_count": 35,
   "metadata": {},
   "outputs": [
    {
     "data": {
      "image/png": "[encoded data removed]",
      "text/plain": [
       "<matplotlib.figure.Figure at 0x105839a10>"
      ]
     },
     "metadata": {},
     "output_type": "display_data"
    }
   ],
   "source": [
    "plt.rc('text', usetex=True)\n",
    "plt.plot(tiempos, x5, color = 'g')\n",
    "plt.xlabel(r'$t$', fontsize = 15)\n",
    "plt.ylabel(r'$\\mbox{Var}\\{\\theta(t)\\}$', fontsize = 15)\n",
    "plt.ylim(0,np.pi + 0.5)\n",
    "plt.savefig(\"Y30_Var_Theta_t\", dpi = 150)"
   ]
  },
  {
   "cell_type": "code",
   "execution_count": null,
   "metadata": {
    "collapsed": true
   },
   "outputs": [],
   "source": []
  },
  {
   "cell_type": "code",
   "execution_count": 36,
   "metadata": {},
   "outputs": [
    {
     "data": {
      "image/png": "[encoded data removed]",
      "text/plain": [
       "<matplotlib.figure.Figure at 0x10fb98990>"
      ]
     },
     "metadata": {},
     "output_type": "display_data"
    }
   ],
   "source": [
    "plt.rc('text', usetex=True)\n",
    "plt.plot(tiempos, x6, color =  'b')\n",
    "plt.plot(tiempos, np.pi*np.ones(len(tiempos)), color = \"r\", linestyle = \"--\")\n",
    "plt.xlabel(r'$t$', fontsize = 15)\n",
    "plt.ylabel(r'$$\\langle \\phi(t) \\rangle$$', fontsize = 15)\n",
    "plt.ylim(0,2*np.pi)\n",
    "plt.savefig(\"Y30_Mean_Phi_t\", dpi = 150)"
   ]
  },
  {
   "cell_type": "code",
   "execution_count": null,
   "metadata": {
    "collapsed": true
   },
   "outputs": [],
   "source": []
  },
  {
   "cell_type": "code",
   "execution_count": null,
   "metadata": {
    "collapsed": true
   },
   "outputs": [],
   "source": [
    "plt.rc('text', usetex=True)\n",
    "plt.plot(tiempos, x6 , color = 'b')\n",
    "plt.plot(tiempos, np.sqrt((13/12.)*(np.pi**2))*np.ones(len(tiempos)), color = \"r\", label = r\"$$\")\n",
    "plt.xlabel(r'$t$', fontsize = 15)\n",
    "plt.ylabel(r'$$\\mbox{Var}(\\phi(t))$$', fontsize = 15)\n",
    "plt.ylim(0,2*np.pi)\n",
    "plt.savefig(\"Y30_Var_Phi_t\", dpi = 150)"
   ]
  },
  {
   "cell_type": "code",
   "execution_count": null,
   "metadata": {
    "collapsed": true
   },
   "outputs": [],
   "source": []
  }
 ],
 "metadata": {
  "anaconda-cloud": {},
  "kernelspec": {
   "display_name": "Python 3",
   "language": "python",
   "name": "python3"
  },
  "language_info": {
   "codemirror_mode": {
    "name": "ipython",
    "version": 3
   },
   "file_extension": ".py",
   "mimetype": "text/x-python",
   "name": "python",
   "nbconvert_exporter": "python",
   "pygments_lexer": "ipython3",
   "version": "3.6.4"
  }
 },
 "nbformat": 4,
 "nbformat_minor": 1
}
