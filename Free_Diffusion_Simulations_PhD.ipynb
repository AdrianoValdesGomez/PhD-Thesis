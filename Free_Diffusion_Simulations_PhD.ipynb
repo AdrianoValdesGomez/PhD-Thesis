{
 "cells": [
  {
   "cell_type": "markdown",
   "metadata": {},
   "source": [
    "# Convergence Analysis"
   ]
  },
  {
   "cell_type": "markdown",
   "metadata": {},
   "source": [
    "In this notebook we will make a convergence analysis. We will investigate the change in statistics of our numerical ensembles when varying the time step $dt$ and the size of the ensamble $N_{ens}$. Our main focus will be on the autocorrelation function $\\langle \\mathbf{n}(t) \\cdot \\mathbf{n}(0) \\rangle$, and the first two moments $\\langle \\theta(t) \\rangle$ and $\\langle \\theta^2(t) \\rangle$ with emphasis in the stationary reached equilibrium distribution"
   ]
  },
  {
   "cell_type": "code",
   "execution_count": null,
   "metadata": {},
   "outputs": [],
   "source": []
  },
  {
   "cell_type": "markdown",
   "metadata": {},
   "source": [
    "# Libraries"
   ]
  },
  {
   "cell_type": "code",
   "execution_count": 1,
   "metadata": {},
   "outputs": [],
   "source": [
    "from mpl_toolkits.axes_grid1.inset_locator import inset_axes\n",
    "import h5py\n",
    "import time"
   ]
  },
  {
   "cell_type": "code",
   "execution_count": 2,
   "metadata": {},
   "outputs": [],
   "source": [
    "config InlineBackend.figure_format ='retina'"
   ]
  },
  {
   "cell_type": "markdown",
   "metadata": {},
   "source": [
    "# Loading PhD Python Code"
   ]
  },
  {
   "cell_type": "code",
   "execution_count": 3,
   "metadata": {},
   "outputs": [],
   "source": [
    "run  /Users/adrianovaldesgomez/Repos/PhD-Thesis/py/phd_python_documented_code.py"
   ]
  },
  {
   "cell_type": "code",
   "execution_count": null,
   "metadata": {},
   "outputs": [],
   "source": []
  },
  {
   "cell_type": "code",
   "execution_count": 4,
   "metadata": {},
   "outputs": [
    {
     "data": {
      "text/plain": [
       "'/Users/adrianovaldesgomez/Documents/Adriano_Programming'"
      ]
     },
     "execution_count": 4,
     "metadata": {},
     "output_type": "execute_result"
    }
   ],
   "source": [
    "pwd"
   ]
  },
  {
   "cell_type": "code",
   "execution_count": 5,
   "metadata": {},
   "outputs": [],
   "source": [
    "mkdir Convergence_Analysis"
   ]
  },
  {
   "cell_type": "code",
   "execution_count": 4,
   "metadata": {},
   "outputs": [
    {
     "name": "stdout",
     "output_type": "stream",
     "text": [
      "/Users/adrianovaldesgomez/Documents/Adriano_Programming/Convergence_Analysis\n"
     ]
    }
   ],
   "source": [
    "cd Convergence_Analysis/"
   ]
  },
  {
   "cell_type": "code",
   "execution_count": 7,
   "metadata": {},
   "outputs": [],
   "source": [
    "mkdir Free_Diffusion"
   ]
  },
  {
   "cell_type": "code",
   "execution_count": 5,
   "metadata": {},
   "outputs": [
    {
     "name": "stdout",
     "output_type": "stream",
     "text": [
      "/Users/adrianovaldesgomez/Documents/Adriano_Programming/Convergence_Analysis/Free_Diffusion\n"
     ]
    }
   ],
   "source": [
    "cd Free_Diffusion/"
   ]
  },
  {
   "cell_type": "code",
   "execution_count": 9,
   "metadata": {},
   "outputs": [],
   "source": [
    "mkdir Test1"
   ]
  },
  {
   "cell_type": "code",
   "execution_count": 6,
   "metadata": {},
   "outputs": [
    {
     "name": "stdout",
     "output_type": "stream",
     "text": [
      "/Users/adrianovaldesgomez/Documents/Adriano_Programming/Convergence_Analysis/Free_Diffusion/Test1\n"
     ]
    }
   ],
   "source": [
    "cd Test1/"
   ]
  },
  {
   "cell_type": "code",
   "execution_count": null,
   "metadata": {},
   "outputs": [],
   "source": []
  },
  {
   "cell_type": "code",
   "execution_count": null,
   "metadata": {},
   "outputs": [],
   "source": []
  },
  {
   "cell_type": "code",
   "execution_count": 12,
   "metadata": {},
   "outputs": [
    {
     "name": "stdout",
     "output_type": "stream",
     "text": [
      "1019.4542968273163 seconds\n"
     ]
    }
   ],
   "source": [
    "array_pos_t = np.array(l_rs)\n",
    "with h5py.File('pos_array.h5', 'w') as hf:\n",
    "        hf.create_dataset(\"pos-dataset\",  data=array_pos_t)\n",
    "\n",
    "np.savetxt(\"Sim_Thetas_t_01.txt\", thetas)\n",
    "#np.savetxt(\"Last_Config_rs.txt\", rs)\n",
    "print(\"%s seconds\" % (time.time() - start_time))"
   ]
  },
  {
   "cell_type": "code",
   "execution_count": 7,
   "metadata": {},
   "outputs": [],
   "source": [
    "def Free_Diff_Sim(D, dt, N_ens, MC_steps, init_dist, exponent):\n",
    "    start_time = time.time()\n",
    "    \n",
    "    if init_dist == 'NP':\n",
    "        dist_ini = polo_n(N_ens,1.)\n",
    "    elif init_dist == 'Uniform':\n",
    "        dist_ini = obs_uniforme(N_ens, 1., 0)\n",
    "    else:\n",
    "        dist_ini = init_dist\n",
    "\n",
    "    rs = dist_ini\n",
    "    l_rs = [rs]\n",
    "    thetas = [[0 for i in range(N_ens)]]\n",
    "    for i in range(MC_steps):\n",
    "        nuevas_pos = act_n(rs,D,dt)\n",
    "        #thetas.append(obt_thetas(nuevas_pos))\n",
    "        rs = nuevas_pos\n",
    "        l_rs.append(rs)\n",
    "\n",
    "    array_pos_t = np.array(l_rs)\n",
    "    \n",
    "    with h5py.File('pos_array.h5', 'w') as hf:\n",
    "            hf.create_dataset(\"pos-ds_D_{}_Odt_{}_N_{}_MC_S_{}\".format(D,exponent,N_ens,MC_steps),  data=array_pos_t)\n",
    "\n",
    "    np.savetxt(\"Sim_Thetas_t_D_{}_dt_{}_N_{}_MC_S_{}.txt\".format(D,exponent,N_ens,MC_steps), thetas)\n",
    "    #np.savetxt(\"Last_Config_rs.txt\", rs)\n",
    "    print(\"%s seconds\" % (time.time() - start_time))"
   ]
  },
  {
   "cell_type": "code",
   "execution_count": 123,
   "metadata": {},
   "outputs": [
    {
     "ename": "NameError",
     "evalue": "name 'dt' is not defined",
     "output_type": "error",
     "traceback": [
      "\u001b[0;31m---------------------------------------------------------------------------\u001b[0m",
      "\u001b[0;31mNameError\u001b[0m                                 Traceback (most recent call last)",
      "\u001b[0;32m<ipython-input-123-36673dcb6ee0>\u001b[0m in \u001b[0;36m<module>\u001b[0;34m\u001b[0m\n\u001b[0;32m----> 1\u001b[0;31m \u001b[0mdt\u001b[0m\u001b[0;34m\u001b[0m\u001b[0;34m\u001b[0m\u001b[0m\n\u001b[0m",
      "\u001b[0;31mNameError\u001b[0m: name 'dt' is not defined"
     ]
    }
   ],
   "source": []
  },
  {
   "cell_type": "code",
   "execution_count": null,
   "metadata": {},
   "outputs": [],
   "source": []
  },
  {
   "cell_type": "code",
   "execution_count": 29,
   "metadata": {},
   "outputs": [
    {
     "name": "stdout",
     "output_type": "stream",
     "text": [
      "84.54555916786194 seconds\n"
     ]
    }
   ],
   "source": [
    "Free_Diff_Sim(1*1e-1, 1*np.log(2)*1e-3, 100, 10000, 'NP', '-3')"
   ]
  },
  {
   "cell_type": "code",
   "execution_count": null,
   "metadata": {},
   "outputs": [],
   "source": [
    "l_dt = [np.log(2)*1e-1, np.log(2)*1e-2, np.log(2)*1e-3]"
   ]
  },
  {
   "cell_type": "code",
   "execution_count": 15,
   "metadata": {},
   "outputs": [],
   "source": [
    "l_N_ens = [100,1000,10000]"
   ]
  },
  {
   "cell_type": "code",
   "execution_count": null,
   "metadata": {},
   "outputs": [],
   "source": []
  },
  {
   "cell_type": "code",
   "execution_count": 30,
   "metadata": {},
   "outputs": [
    {
     "name": "stdout",
     "output_type": "stream",
     "text": [
      "Sim_Thetas_t_01.txt\r\n",
      "Sim_Thetas_t_D_0.1_dt_-3_N_100_MC_S_10000.txt\r\n",
      "Sim_Thetas_t_D_0.1_dt_0.0006931471805599453_N_100_MC_S_10000.txt\r\n",
      "pos_array.h5\r\n"
     ]
    }
   ],
   "source": [
    "ls"
   ]
  },
  {
   "cell_type": "code",
   "execution_count": null,
   "metadata": {},
   "outputs": [],
   "source": []
  },
  {
   "cell_type": "code",
   "execution_count": null,
   "metadata": {},
   "outputs": [],
   "source": []
  },
  {
   "cell_type": "markdown",
   "metadata": {},
   "source": [
    "# Reading HDF5 files"
   ]
  },
  {
   "cell_type": "code",
   "execution_count": 8,
   "metadata": {},
   "outputs": [],
   "source": [
    "with h5py.File('pos_array.h5', 'r') as hf:\n",
    "    keys = list(hf.keys())\n",
    "    data = hf[keys[0]][:]"
   ]
  },
  {
   "cell_type": "code",
   "execution_count": 45,
   "metadata": {
    "collapsed": true
   },
   "outputs": [
    {
     "data": {
      "text/plain": [
       "array([[[ 0.00000000e+00,  0.00000000e+00,  1.00000000e+00],\n",
       "        [ 0.00000000e+00,  0.00000000e+00,  1.00000000e+00],\n",
       "        [ 0.00000000e+00,  0.00000000e+00,  1.00000000e+00],\n",
       "        ...,\n",
       "        [ 0.00000000e+00,  0.00000000e+00,  1.00000000e+00],\n",
       "        [ 0.00000000e+00,  0.00000000e+00,  1.00000000e+00],\n",
       "        [ 0.00000000e+00,  0.00000000e+00,  1.00000000e+00]],\n",
       "\n",
       "       [[ 1.17309591e-02, -2.78514538e-02,  9.99543236e-01],\n",
       "        [ 5.02881362e-04,  9.92211025e-06,  9.99999874e-01],\n",
       "        [-4.72478850e-03,  2.36915240e-02,  9.99708151e-01],\n",
       "        ...,\n",
       "        [ 9.41567311e-03, -9.22815070e-03,  9.99913089e-01],\n",
       "        [-6.95847082e-03,  1.38593229e-03,  9.99974829e-01],\n",
       "        [-6.31465284e-03,  1.66867970e-04,  9.99980048e-01]],\n",
       "\n",
       "       [[-1.87603850e-02, -6.17170948e-03,  9.99804960e-01],\n",
       "        [ 1.23007420e-02, -2.13722971e-02,  9.99695912e-01],\n",
       "        [-6.92047124e-03,  3.08733199e-02,  9.99499347e-01],\n",
       "        ...,\n",
       "        [ 9.66263278e-03, -8.90600883e-03,  9.99913655e-01],\n",
       "        [-1.57894063e-02,  6.96705158e-03,  9.99851066e-01],\n",
       "        [ 2.97794357e-03,  3.97895123e-03,  9.99987650e-01]],\n",
       "\n",
       "       ...,\n",
       "\n",
       "       [[-3.26542159e-01, -6.45669766e-01,  6.90275866e-01],\n",
       "        [ 4.77345692e-01, -4.50979965e-01, -7.54160567e-01],\n",
       "        [ 7.51496863e-01,  2.19384355e-01,  6.22192068e-01],\n",
       "        ...,\n",
       "        [-2.49586265e-01, -2.16044332e-02,  9.68111535e-01],\n",
       "        [ 5.13470506e-01, -4.70850333e-01, -7.17389715e-01],\n",
       "        [ 4.60499545e-01,  2.32263678e-01, -8.56734354e-01]],\n",
       "\n",
       "       [[-3.26242446e-01, -6.48105612e-01,  6.88131515e-01],\n",
       "        [ 4.98788050e-01, -4.52426273e-01, -7.39270552e-01],\n",
       "        [ 7.51352358e-01,  2.19157747e-01,  6.22446396e-01],\n",
       "        ...,\n",
       "        [-2.49617616e-01, -3.11420455e-02,  9.67843592e-01],\n",
       "        [ 5.05292948e-01, -4.72718638e-01, -7.21952994e-01],\n",
       "        [ 4.55199074e-01,  2.35260262e-01, -8.58747001e-01]],\n",
       "\n",
       "       [[-3.44482566e-01, -6.40433025e-01,  6.86423559e-01],\n",
       "        [ 4.88692872e-01, -4.64865569e-01, -7.38294846e-01],\n",
       "        [ 7.25480071e-01,  2.30440902e-01,  6.48518047e-01],\n",
       "        ...,\n",
       "        [-2.51332117e-01, -3.03101312e-02,  9.67426206e-01],\n",
       "        [ 5.05174138e-01, -4.69560418e-01, -7.24093989e-01],\n",
       "        [ 4.55255177e-01,  2.35328654e-01, -8.58698520e-01]]])"
      ]
     },
     "execution_count": 45,
     "metadata": {},
     "output_type": "execute_result"
    }
   ],
   "source": [
    "data"
   ]
  },
  {
   "cell_type": "code",
   "execution_count": 9,
   "metadata": {},
   "outputs": [
    {
     "data": {
      "text/plain": [
       "(10001, 100, 3)"
      ]
     },
     "execution_count": 9,
     "metadata": {},
     "output_type": "execute_result"
    }
   ],
   "source": [
    "data.shape"
   ]
  },
  {
   "cell_type": "code",
   "execution_count": 10,
   "metadata": {},
   "outputs": [],
   "source": [
    "l_pos_t = [[v for v in data[i]] for i in range(data.shape[0])]"
   ]
  },
  {
   "cell_type": "code",
   "execution_count": null,
   "metadata": {},
   "outputs": [],
   "source": []
  },
  {
   "cell_type": "markdown",
   "metadata": {},
   "source": [
    "## We will make an animation"
   ]
  },
  {
   "cell_type": "code",
   "execution_count": 48,
   "metadata": {},
   "outputs": [],
   "source": [
    "mkdir Animation"
   ]
  },
  {
   "cell_type": "code",
   "execution_count": 49,
   "metadata": {},
   "outputs": [
    {
     "name": "stdout",
     "output_type": "stream",
     "text": [
      "/Users/adrianovaldesgomez/Documents/Adriano_Programming/Convergence_Analysis/Free_Diffusion/Test1/Animation\n"
     ]
    }
   ],
   "source": [
    "cd Animation/"
   ]
  },
  {
   "cell_type": "code",
   "execution_count": null,
   "metadata": {},
   "outputs": [],
   "source": []
  },
  {
   "cell_type": "code",
   "execution_count": null,
   "metadata": {},
   "outputs": [],
   "source": []
  },
  {
   "cell_type": "code",
   "execution_count": 12,
   "metadata": {},
   "outputs": [
    {
     "ename": "IndexError",
     "evalue": "list index out of range",
     "output_type": "error",
     "traceback": [
      "\u001b[0;31m---------------------------------------------------------------------------\u001b[0m",
      "\u001b[0;31mIndexError\u001b[0m                                Traceback (most recent call last)",
      "\u001b[0;32m<ipython-input-12-49406c149634>\u001b[0m in \u001b[0;36m<module>\u001b[0;34m\u001b[0m\n\u001b[1;32m      1\u001b[0m \u001b[0msecuencia\u001b[0m \u001b[0;34m=\u001b[0m \u001b[0;34m[\u001b[0m\u001b[0mi\u001b[0m\u001b[0;34m*\u001b[0m\u001b[0;36m100\u001b[0m \u001b[0;32mfor\u001b[0m \u001b[0mi\u001b[0m \u001b[0;32min\u001b[0m \u001b[0mrange\u001b[0m\u001b[0;34m(\u001b[0m\u001b[0;36m10000\u001b[0m\u001b[0;34m)\u001b[0m\u001b[0;34m]\u001b[0m\u001b[0;34m\u001b[0m\u001b[0;34m\u001b[0m\u001b[0m\n\u001b[1;32m      2\u001b[0m \u001b[0;32mfor\u001b[0m \u001b[0mpaso\u001b[0m \u001b[0;32min\u001b[0m \u001b[0msecuencia\u001b[0m\u001b[0;34m:\u001b[0m\u001b[0;34m\u001b[0m\u001b[0;34m\u001b[0m\u001b[0m\n\u001b[0;32m----> 3\u001b[0;31m     \u001b[0mchoice_indices\u001b[0m \u001b[0;34m=\u001b[0m \u001b[0mnp\u001b[0m\u001b[0;34m.\u001b[0m\u001b[0mrandom\u001b[0m\u001b[0;34m.\u001b[0m\u001b[0mchoice\u001b[0m\u001b[0;34m(\u001b[0m\u001b[0mlen\u001b[0m\u001b[0;34m(\u001b[0m\u001b[0ml_pos_t\u001b[0m\u001b[0;34m[\u001b[0m\u001b[0mpaso\u001b[0m\u001b[0;34m]\u001b[0m\u001b[0;34m)\u001b[0m\u001b[0;34m,\u001b[0m \u001b[0;36m100\u001b[0m\u001b[0;34m,\u001b[0m \u001b[0mreplace\u001b[0m\u001b[0;34m=\u001b[0m\u001b[0;32mTrue\u001b[0m\u001b[0;34m)\u001b[0m\u001b[0;34m\u001b[0m\u001b[0;34m\u001b[0m\u001b[0m\n\u001b[0m\u001b[1;32m      4\u001b[0m     \u001b[0mchoices\u001b[0m \u001b[0;34m=\u001b[0m \u001b[0;34m[\u001b[0m\u001b[0ml_pos_t\u001b[0m\u001b[0;34m[\u001b[0m\u001b[0mpaso\u001b[0m\u001b[0;34m]\u001b[0m\u001b[0;34m[\u001b[0m\u001b[0mi\u001b[0m\u001b[0;34m]\u001b[0m \u001b[0;32mfor\u001b[0m \u001b[0mi\u001b[0m \u001b[0;32min\u001b[0m \u001b[0mchoice_indices\u001b[0m\u001b[0;34m]\u001b[0m\u001b[0;34m\u001b[0m\u001b[0;34m\u001b[0m\u001b[0m\n\u001b[1;32m      5\u001b[0m     \u001b[0mplot_particles\u001b[0m\u001b[0;34m(\u001b[0m\u001b[0mchoices\u001b[0m\u001b[0;34m,\u001b[0m\u001b[0;36m0\u001b[0m\u001b[0;34m,\u001b[0m\u001b[0;36m0\u001b[0m\u001b[0;34m,\u001b[0m\u001b[0mpaso\u001b[0m\u001b[0;34m,\u001b[0m\u001b[0;34m'Free'\u001b[0m\u001b[0;34m)\u001b[0m\u001b[0;34m\u001b[0m\u001b[0;34m\u001b[0m\u001b[0m\n",
      "\u001b[0;31mIndexError\u001b[0m: list index out of range"
     ]
    }
   ],
   "source": [
    "secuencia = [i*100 for i in range(10000)]\n",
    "for paso in secuencia:\n",
    "    choice_indices = np.random.choice(len(l_pos_t[paso]), 100, replace=True)\n",
    "    choices = [l_pos_t[paso][i] for i in choice_indices]\n",
    "    plot_particles(choices,0,0,paso,'Free')"
   ]
  },
  {
   "cell_type": "code",
   "execution_count": 13,
   "metadata": {},
   "outputs": [],
   "source": [
    "!mencoder \"mf://*.png\" -o Free-Diff-Test01.mov -ovc lavc \\\n",
    "-lavcopts vcodec=msmpeg4v2:autoaspect:vbitrate=2160000:mbd=2:\\\n",
    "                keyint=132:vqblur=1.0:cmp=2\\:subcmp=2:dia=2:o=mpv_flags=+mv0:last_pred=3 -fps 1 > File_Out.txt 2>&1;"
   ]
  },
  {
   "cell_type": "code",
   "execution_count": null,
   "metadata": {},
   "outputs": [],
   "source": []
  },
  {
   "cell_type": "code",
   "execution_count": null,
   "metadata": {},
   "outputs": [],
   "source": []
  },
  {
   "cell_type": "code",
   "execution_count": null,
   "metadata": {},
   "outputs": [],
   "source": []
  },
  {
   "cell_type": "code",
   "execution_count": null,
   "metadata": {},
   "outputs": [],
   "source": []
  },
  {
   "cell_type": "markdown",
   "metadata": {},
   "source": [
    "# Several Cases"
   ]
  },
  {
   "cell_type": "code",
   "execution_count": 27,
   "metadata": {},
   "outputs": [
    {
     "name": "stdout",
     "output_type": "stream",
     "text": [
      "/Users/adrianovaldesgomez/Documents/Adriano_Programming/Convergence_Analysis/Free_Diffusion\n"
     ]
    }
   ],
   "source": [
    "cd .."
   ]
  },
  {
   "cell_type": "code",
   "execution_count": 28,
   "metadata": {},
   "outputs": [],
   "source": [
    "mkdir Test3"
   ]
  },
  {
   "cell_type": "code",
   "execution_count": 29,
   "metadata": {},
   "outputs": [
    {
     "name": "stdout",
     "output_type": "stream",
     "text": [
      "/Users/adrianovaldesgomez/Documents/Adriano_Programming/Convergence_Analysis/Free_Diffusion/Test3\n"
     ]
    }
   ],
   "source": [
    "cd Test3"
   ]
  },
  {
   "cell_type": "code",
   "execution_count": null,
   "metadata": {},
   "outputs": [],
   "source": []
  },
  {
   "cell_type": "code",
   "execution_count": 30,
   "metadata": {},
   "outputs": [
    {
     "name": "stdout",
     "output_type": "stream",
     "text": [
      "89.58406496047974 seconds\n"
     ]
    }
   ],
   "source": [
    "Free_Diff_Sim(1, 1*np.log(2)*1e-3, 100, 10000, 'NP', '-3')"
   ]
  },
  {
   "cell_type": "code",
   "execution_count": 22,
   "metadata": {},
   "outputs": [
    {
     "data": {
      "text/plain": [
       "'/Users/adrianovaldesgomez/Documents/Adriano_Programming/Convergence_Analysis/Free_Diffusion/Test1'"
      ]
     },
     "execution_count": 22,
     "metadata": {},
     "output_type": "execute_result"
    }
   ],
   "source": [
    "pwd"
   ]
  },
  {
   "cell_type": "code",
   "execution_count": 31,
   "metadata": {},
   "outputs": [
    {
     "name": "stdout",
     "output_type": "stream",
     "text": [
      "/Users/adrianovaldesgomez/Documents/Adriano_Programming/Convergence_Analysis/Free_Diffusion\n"
     ]
    }
   ],
   "source": [
    "cd .."
   ]
  },
  {
   "cell_type": "code",
   "execution_count": 32,
   "metadata": {},
   "outputs": [],
   "source": [
    "mkdir Test4"
   ]
  },
  {
   "cell_type": "code",
   "execution_count": 33,
   "metadata": {},
   "outputs": [
    {
     "name": "stdout",
     "output_type": "stream",
     "text": [
      "/Users/adrianovaldesgomez/Documents/Adriano_Programming/Convergence_Analysis/Free_Diffusion/Test4\n"
     ]
    }
   ],
   "source": [
    "cd Test4"
   ]
  },
  {
   "cell_type": "code",
   "execution_count": 34,
   "metadata": {},
   "outputs": [
    {
     "name": "stdout",
     "output_type": "stream",
     "text": [
      "8909.348676919937 seconds\n"
     ]
    }
   ],
   "source": [
    "Free_Diff_Sim(1, 1*np.log(2)*1e-2, 10000, 10000, 'NP', '-2')"
   ]
  },
  {
   "cell_type": "code",
   "execution_count": null,
   "metadata": {},
   "outputs": [],
   "source": []
  },
  {
   "cell_type": "code",
   "execution_count": 35,
   "metadata": {},
   "outputs": [
    {
     "name": "stdout",
     "output_type": "stream",
     "text": [
      "/Users/adrianovaldesgomez/Documents/Adriano_Programming/Convergence_Analysis/Free_Diffusion\n"
     ]
    }
   ],
   "source": [
    "cd .."
   ]
  },
  {
   "cell_type": "code",
   "execution_count": 36,
   "metadata": {},
   "outputs": [],
   "source": [
    "mkdir Test5"
   ]
  },
  {
   "cell_type": "code",
   "execution_count": 37,
   "metadata": {},
   "outputs": [
    {
     "name": "stdout",
     "output_type": "stream",
     "text": [
      "959.8729362487793 seconds\n"
     ]
    }
   ],
   "source": [
    "Free_Diff_Sim(1, 1*np.log(2)*1e-2, 1000, 10000, 'NP', '-2')"
   ]
  },
  {
   "cell_type": "code",
   "execution_count": 38,
   "metadata": {},
   "outputs": [
    {
     "name": "stdout",
     "output_type": "stream",
     "text": [
      "/Users/adrianovaldesgomez/Documents/Adriano_Programming/Convergence_Analysis\n"
     ]
    }
   ],
   "source": [
    "cd .."
   ]
  },
  {
   "cell_type": "code",
   "execution_count": 39,
   "metadata": {},
   "outputs": [],
   "source": [
    "mkdir Test6"
   ]
  },
  {
   "cell_type": "code",
   "execution_count": 41,
   "metadata": {},
   "outputs": [
    {
     "data": {
      "text/plain": [
       "'/Users/adrianovaldesgomez/Documents/Adriano_Programming/Convergence_Analysis'"
      ]
     },
     "execution_count": 41,
     "metadata": {},
     "output_type": "execute_result"
    }
   ],
   "source": [
    "pwd"
   ]
  },
  {
   "cell_type": "code",
   "execution_count": 43,
   "metadata": {},
   "outputs": [
    {
     "name": "stdout",
     "output_type": "stream",
     "text": [
      "/Users/adrianovaldesgomez/Documents/Adriano_Programming/Convergence_Analysis/Free_Diffusion\n"
     ]
    }
   ],
   "source": [
    "cd Free_Diffusion/"
   ]
  },
  {
   "cell_type": "code",
   "execution_count": 44,
   "metadata": {},
   "outputs": [
    {
     "name": "stdout",
     "output_type": "stream",
     "text": [
      "\u001b[34mTest1\u001b[m\u001b[m/ \u001b[34mTest2\u001b[m\u001b[m/ \u001b[34mTest3\u001b[m\u001b[m/ \u001b[34mTest4\u001b[m\u001b[m/ \u001b[34mTest5\u001b[m\u001b[m/ \u001b[34mTest6\u001b[m\u001b[m/\r\n"
     ]
    }
   ],
   "source": [
    "ls"
   ]
  },
  {
   "cell_type": "code",
   "execution_count": 45,
   "metadata": {},
   "outputs": [
    {
     "name": "stdout",
     "output_type": "stream",
     "text": [
      "/Users/adrianovaldesgomez/Documents/Adriano_Programming/Convergence_Analysis/Free_Diffusion/Test6\n"
     ]
    }
   ],
   "source": [
    "cd Test6/"
   ]
  },
  {
   "cell_type": "code",
   "execution_count": null,
   "metadata": {},
   "outputs": [],
   "source": []
  },
  {
   "cell_type": "code",
   "execution_count": 46,
   "metadata": {},
   "outputs": [
    {
     "name": "stdout",
     "output_type": "stream",
     "text": [
      "97.7312650680542 seconds\n"
     ]
    }
   ],
   "source": [
    "Free_Diff_Sim(1, 1*np.log(2)*1e-2, 100, 10000, 'NP', '-2')"
   ]
  },
  {
   "cell_type": "code",
   "execution_count": null,
   "metadata": {},
   "outputs": [],
   "source": []
  },
  {
   "cell_type": "code",
   "execution_count": 47,
   "metadata": {},
   "outputs": [
    {
     "name": "stdout",
     "output_type": "stream",
     "text": [
      "/Users/adrianovaldesgomez/Documents/Adriano_Programming/Convergence_Analysis/Free_Diffusion\n"
     ]
    }
   ],
   "source": [
    "cd .."
   ]
  },
  {
   "cell_type": "code",
   "execution_count": 48,
   "metadata": {},
   "outputs": [],
   "source": [
    "mkdir Test7"
   ]
  },
  {
   "cell_type": "code",
   "execution_count": 49,
   "metadata": {},
   "outputs": [
    {
     "name": "stdout",
     "output_type": "stream",
     "text": [
      "/Users/adrianovaldesgomez/Documents/Adriano_Programming/Convergence_Analysis/Free_Diffusion/Test7\n"
     ]
    }
   ],
   "source": [
    "cd Test7/"
   ]
  },
  {
   "cell_type": "code",
   "execution_count": 50,
   "metadata": {},
   "outputs": [
    {
     "name": "stdout",
     "output_type": "stream",
     "text": [
      "8628.744072198868 seconds\n"
     ]
    }
   ],
   "source": [
    "Free_Diff_Sim(1, 1*np.log(2)*1e-1, 10000, 10000, 'NP', '-1')"
   ]
  },
  {
   "cell_type": "code",
   "execution_count": null,
   "metadata": {},
   "outputs": [],
   "source": []
  },
  {
   "cell_type": "code",
   "execution_count": 51,
   "metadata": {},
   "outputs": [
    {
     "name": "stdout",
     "output_type": "stream",
     "text": [
      "/Users/adrianovaldesgomez/Documents/Adriano_Programming/Convergence_Analysis/Free_Diffusion\n"
     ]
    }
   ],
   "source": [
    "cd .."
   ]
  },
  {
   "cell_type": "code",
   "execution_count": 52,
   "metadata": {},
   "outputs": [],
   "source": [
    "mkdir Test8"
   ]
  },
  {
   "cell_type": "code",
   "execution_count": 53,
   "metadata": {},
   "outputs": [
    {
     "name": "stdout",
     "output_type": "stream",
     "text": [
      "/Users/adrianovaldesgomez/Documents/Adriano_Programming/Convergence_Analysis/Free_Diffusion/Test8\n"
     ]
    }
   ],
   "source": [
    "cd Test8/"
   ]
  },
  {
   "cell_type": "code",
   "execution_count": 54,
   "metadata": {},
   "outputs": [
    {
     "name": "stdout",
     "output_type": "stream",
     "text": [
      "856.9112701416016 seconds\n"
     ]
    }
   ],
   "source": [
    "Free_Diff_Sim(1, 1*np.log(2)*1e-1, 1000, 10000, 'NP', '-1')"
   ]
  },
  {
   "cell_type": "code",
   "execution_count": null,
   "metadata": {},
   "outputs": [],
   "source": []
  },
  {
   "cell_type": "code",
   "execution_count": null,
   "metadata": {},
   "outputs": [],
   "source": []
  },
  {
   "cell_type": "code",
   "execution_count": 55,
   "metadata": {},
   "outputs": [
    {
     "name": "stdout",
     "output_type": "stream",
     "text": [
      "/Users/adrianovaldesgomez/Documents/Adriano_Programming/Convergence_Analysis/Free_Diffusion\n"
     ]
    }
   ],
   "source": [
    "cd .."
   ]
  },
  {
   "cell_type": "code",
   "execution_count": 56,
   "metadata": {},
   "outputs": [],
   "source": [
    "mkdir Test9"
   ]
  },
  {
   "cell_type": "code",
   "execution_count": 57,
   "metadata": {},
   "outputs": [
    {
     "name": "stdout",
     "output_type": "stream",
     "text": [
      "/Users/adrianovaldesgomez/Documents/Adriano_Programming/Convergence_Analysis/Free_Diffusion/Test9\n"
     ]
    }
   ],
   "source": [
    "cd Test9"
   ]
  },
  {
   "cell_type": "code",
   "execution_count": 58,
   "metadata": {},
   "outputs": [
    {
     "name": "stdout",
     "output_type": "stream",
     "text": [
      "92.25611305236816 seconds\n"
     ]
    }
   ],
   "source": [
    "Free_Diff_Sim(1, 1*np.log(2)*1e-1, 100, 10000, 'NP', '-1')"
   ]
  },
  {
   "cell_type": "code",
   "execution_count": null,
   "metadata": {},
   "outputs": [],
   "source": []
  },
  {
   "cell_type": "code",
   "execution_count": 59,
   "metadata": {},
   "outputs": [
    {
     "data": {
      "text/plain": [
       "'/Users/adrianovaldesgomez/Documents/Adriano_Programming/Convergence_Analysis/Free_Diffusion/Test9'"
      ]
     },
     "execution_count": 59,
     "metadata": {},
     "output_type": "execute_result"
    }
   ],
   "source": [
    "pwd"
   ]
  },
  {
   "cell_type": "code",
   "execution_count": 60,
   "metadata": {},
   "outputs": [
    {
     "name": "stdout",
     "output_type": "stream",
     "text": [
      "/Users/adrianovaldesgomez/Documents/Adriano_Programming/Convergence_Analysis/Free_Diffusion\n"
     ]
    }
   ],
   "source": [
    "cd .."
   ]
  },
  {
   "cell_type": "code",
   "execution_count": 61,
   "metadata": {},
   "outputs": [],
   "source": [
    "mkdir Test10"
   ]
  },
  {
   "cell_type": "code",
   "execution_count": 62,
   "metadata": {},
   "outputs": [
    {
     "name": "stdout",
     "output_type": "stream",
     "text": [
      "/Users/adrianovaldesgomez/Documents/Adriano_Programming/Convergence_Analysis/Free_Diffusion/Test10\n"
     ]
    }
   ],
   "source": [
    "cd Test10"
   ]
  },
  {
   "cell_type": "code",
   "execution_count": 63,
   "metadata": {},
   "outputs": [
    {
     "name": "stdout",
     "output_type": "stream",
     "text": [
      "8564.144143104553 seconds\n"
     ]
    }
   ],
   "source": [
    "Free_Diff_Sim(1, 1*np.log(2)*1e-3, 10000, 10000, 'NP', '-3')"
   ]
  },
  {
   "cell_type": "code",
   "execution_count": null,
   "metadata": {},
   "outputs": [],
   "source": []
  },
  {
   "cell_type": "code",
   "execution_count": 64,
   "metadata": {},
   "outputs": [
    {
     "name": "stdout",
     "output_type": "stream",
     "text": [
      "/Users/adrianovaldesgomez/Documents/Adriano_Programming/Convergence_Analysis/Free_Diffusion\n"
     ]
    }
   ],
   "source": [
    "cd .."
   ]
  },
  {
   "cell_type": "code",
   "execution_count": 65,
   "metadata": {},
   "outputs": [],
   "source": [
    "mkdir Test11"
   ]
  },
  {
   "cell_type": "code",
   "execution_count": 66,
   "metadata": {},
   "outputs": [
    {
     "name": "stdout",
     "output_type": "stream",
     "text": [
      "/Users/adrianovaldesgomez/Documents/Adriano_Programming/Convergence_Analysis/Free_Diffusion/Test11\n"
     ]
    }
   ],
   "source": [
    "cd Test11/"
   ]
  },
  {
   "cell_type": "code",
   "execution_count": 67,
   "metadata": {},
   "outputs": [
    {
     "name": "stdout",
     "output_type": "stream",
     "text": [
      "850.7783751487732 seconds\n"
     ]
    }
   ],
   "source": [
    "Free_Diff_Sim(1, 1*np.log(2)*1e-3, 1000, 10000, 'NP', '-3')"
   ]
  },
  {
   "cell_type": "code",
   "execution_count": null,
   "metadata": {},
   "outputs": [],
   "source": []
  },
  {
   "cell_type": "code",
   "execution_count": 68,
   "metadata": {},
   "outputs": [
    {
     "name": "stdout",
     "output_type": "stream",
     "text": [
      "/Users/adrianovaldesgomez/Documents/Adriano_Programming/Convergence_Analysis/Free_Diffusion\n"
     ]
    }
   ],
   "source": [
    "cd .."
   ]
  },
  {
   "cell_type": "code",
   "execution_count": 69,
   "metadata": {},
   "outputs": [],
   "source": [
    "mkdir Test12"
   ]
  },
  {
   "cell_type": "code",
   "execution_count": 70,
   "metadata": {},
   "outputs": [
    {
     "name": "stdout",
     "output_type": "stream",
     "text": [
      "/Users/adrianovaldesgomez/Documents/Adriano_Programming/Convergence_Analysis/Free_Diffusion/Test12\n"
     ]
    }
   ],
   "source": [
    "cd Test12"
   ]
  },
  {
   "cell_type": "code",
   "execution_count": 71,
   "metadata": {},
   "outputs": [
    {
     "name": "stdout",
     "output_type": "stream",
     "text": [
      "82.77636885643005 seconds\n"
     ]
    }
   ],
   "source": [
    "Free_Diff_Sim(1, 1*np.log(2)*1e-3, 100, 10000, 'NP', '-3')"
   ]
  },
  {
   "cell_type": "code",
   "execution_count": null,
   "metadata": {},
   "outputs": [],
   "source": []
  },
  {
   "cell_type": "code",
   "execution_count": 72,
   "metadata": {},
   "outputs": [
    {
     "name": "stdout",
     "output_type": "stream",
     "text": [
      "/Users/adrianovaldesgomez/Documents/Adriano_Programming/Convergence_Analysis/Free_Diffusion\n"
     ]
    }
   ],
   "source": [
    "cd .."
   ]
  },
  {
   "cell_type": "code",
   "execution_count": 73,
   "metadata": {},
   "outputs": [],
   "source": [
    "mkdir Test13"
   ]
  },
  {
   "cell_type": "code",
   "execution_count": null,
   "metadata": {},
   "outputs": [],
   "source": [
    "cd Test13"
   ]
  },
  {
   "cell_type": "code",
   "execution_count": null,
   "metadata": {},
   "outputs": [],
   "source": [
    "Free_Diff_Sim(1, 1*np.log(2)*1e-3, 100000, 1000, 'Uniform', '-3')"
   ]
  },
  {
   "cell_type": "code",
   "execution_count": null,
   "metadata": {},
   "outputs": [],
   "source": []
  },
  {
   "cell_type": "code",
   "execution_count": null,
   "metadata": {},
   "outputs": [],
   "source": []
  },
  {
   "cell_type": "code",
   "execution_count": null,
   "metadata": {},
   "outputs": [],
   "source": []
  },
  {
   "cell_type": "code",
   "execution_count": null,
   "metadata": {},
   "outputs": [],
   "source": []
  },
  {
   "cell_type": "markdown",
   "metadata": {},
   "source": [
    "# Error Analysis"
   ]
  },
  {
   "cell_type": "code",
   "execution_count": 74,
   "metadata": {},
   "outputs": [
    {
     "data": {
      "text/plain": [
       "'/Users/adrianovaldesgomez/Documents/Adriano_Programming/Convergence_Analysis/Free_Diffusion'"
      ]
     },
     "execution_count": 74,
     "metadata": {},
     "output_type": "execute_result"
    }
   ],
   "source": [
    "pwd"
   ]
  },
  {
   "cell_type": "code",
   "execution_count": 124,
   "metadata": {},
   "outputs": [
    {
     "name": "stdout",
     "output_type": "stream",
     "text": [
      "/Users/adrianovaldesgomez/Documents/Adriano_Programming/Convergence_Analysis/Free_Diffusion\n"
     ]
    }
   ],
   "source": [
    "cd .."
   ]
  },
  {
   "cell_type": "code",
   "execution_count": 125,
   "metadata": {},
   "outputs": [
    {
     "name": "stdout",
     "output_type": "stream",
     "text": [
      "/Users/adrianovaldesgomez/Documents/Adriano_Programming/Convergence_Analysis/Free_Diffusion/Test4\n"
     ]
    }
   ],
   "source": [
    "cd Test4"
   ]
  },
  {
   "cell_type": "code",
   "execution_count": 129,
   "metadata": {},
   "outputs": [],
   "source": [
    "with h5py.File('pos_array.h5', 'r') as hf:\n",
    "    keys = list(hf.keys())\n",
    "    data = hf[keys[0]][:]"
   ]
  },
  {
   "cell_type": "code",
   "execution_count": 130,
   "metadata": {},
   "outputs": [
    {
     "data": {
      "text/plain": [
       "['pos-ds_D_1_Odt_-2_N_10000_MC_S_10000']"
      ]
     },
     "execution_count": 130,
     "metadata": {},
     "output_type": "execute_result"
    }
   ],
   "source": [
    "keys"
   ]
  },
  {
   "cell_type": "code",
   "execution_count": 131,
   "metadata": {},
   "outputs": [
    {
     "name": "stdout",
     "output_type": "stream",
     "text": [
      "Sim_Thetas_t_D_1_dt_-2_N_10000_MC_S_10000.txt\r\n",
      "pos_array.h5\r\n"
     ]
    }
   ],
   "source": [
    "ls"
   ]
  },
  {
   "cell_type": "code",
   "execution_count": 132,
   "metadata": {},
   "outputs": [],
   "source": [
    "l_pos_t = [[v for v in data[i]] for i in range(data.shape[0])]"
   ]
  },
  {
   "cell_type": "code",
   "execution_count": null,
   "metadata": {},
   "outputs": [],
   "source": []
  },
  {
   "cell_type": "code",
   "execution_count": 87,
   "metadata": {},
   "outputs": [],
   "source": [
    "def thetas_phis_ensemble(l_pos_t):\n",
    "    \"\"\"This function return two lists of the ensemble of angular coordinates \n",
    "    given a list of position vactors\"\"\"\n",
    "\n",
    "    thetas_ensamble = []\n",
    "    phis_ensamble = []\n",
    "    for l_pos in l_pos_t:\n",
    "        thetas = []\n",
    "        phis = []\n",
    "        for pos in l_pos:\n",
    "            r, theta, phi = trans_c_s(pos[0],pos[1],pos[2])\n",
    "            thetas.append(theta)\n",
    "            phis.append(phi)\n",
    "\n",
    "        thetas_ensamble.append(thetas)\n",
    "        phis_ensamble.append(phis)\n",
    "    return thetas_ensamble, phis_ensamble\n"
   ]
  },
  {
   "cell_type": "code",
   "execution_count": 133,
   "metadata": {},
   "outputs": [],
   "source": [
    "thetas_ensamble, phis_ensamble = thetas_phis_ensemble(l_pos_t)"
   ]
  },
  {
   "cell_type": "code",
   "execution_count": 134,
   "metadata": {},
   "outputs": [],
   "source": [
    "t_ens_array, p_ens_array = np.array(thetas_ensamble), np.array(phis_ensamble)"
   ]
  },
  {
   "cell_type": "code",
   "execution_count": 90,
   "metadata": {},
   "outputs": [],
   "source": [
    "def time_array(MC_steps, dt):\n",
    "    tiempos = [0]\n",
    "    suma = 0\n",
    "    for i in range(MC_steps):\n",
    "        suma += dt\n",
    "        tiempos.append(suma)\n",
    "    return np.array(tiempos)"
   ]
  },
  {
   "cell_type": "code",
   "execution_count": 135,
   "metadata": {},
   "outputs": [],
   "source": [
    "t_a = time_array(10000,np.log(2)*1e-1)"
   ]
  },
  {
   "cell_type": "code",
   "execution_count": 136,
   "metadata": {},
   "outputs": [],
   "source": [
    "theta_mean_t = t_ens_array.mean(axis=1)\n",
    "theta_var_t = t_ens_array.var(axis=1)"
   ]
  },
  {
   "cell_type": "code",
   "execution_count": 138,
   "metadata": {},
   "outputs": [],
   "source": [
    "theta_var_t = t_ens_array.var(axis=1)"
   ]
  },
  {
   "cell_type": "code",
   "execution_count": 148,
   "metadata": {},
   "outputs": [
    {
     "data": {
      "text/plain": [
       "(1.2, 1.7)"
      ]
     },
     "execution_count": 148,
     "metadata": {},
     "output_type": "execute_result"
    },
    {
     "data": {
      "image/png": "[encoded data removed]",
      "text/plain": [
       "<Figure size 432x288 with 1 Axes>"
      ]
     },
     "metadata": {
      "image/png": {
       "height": 252,
       "width": 372
      },
      "needs_background": "light"
     },
     "output_type": "display_data"
    }
   ],
   "source": [
    "epsilon_mean = 0.05\n",
    "plt.plot(t_a, theta_mean_t)\n",
    "plt.hlines(np.pi/2,0,700)\n",
    "plt.hlines(np.pi/2 + epsilon_mean,0,700, color='g')\n",
    "plt.hlines(np.pi/2 - epsilon_mean,0,700, color='g')\n",
    "plt.ylim(1.2,1.7)"
   ]
  },
  {
   "cell_type": "code",
   "execution_count": null,
   "metadata": {},
   "outputs": [],
   "source": []
  },
  {
   "cell_type": "code",
   "execution_count": 146,
   "metadata": {},
   "outputs": [
    {
     "data": {
      "text/plain": [
       "(0.3, 0.5)"
      ]
     },
     "execution_count": 146,
     "metadata": {},
     "output_type": "execute_result"
    },
    {
     "data": {
      "image/png": "[encoded data removed]",
      "text/plain": [
       "<Figure size 432x288 with 1 Axes>"
      ]
     },
     "metadata": {
      "image/png": {
       "height": 252,
       "width": 384
      },
      "needs_background": "light"
     },
     "output_type": "display_data"
    }
   ],
   "source": [
    "epsilon_var = .025\n",
    "plt.plot(t_a, theta_var_t)\n",
    "plt.hlines(np.pi**2/4 - 2,0,700, color='r')\n",
    "plt.hlines(np.pi**2/4 - 2 + epsilon_var,0,700, color='g')\n",
    "plt.hlines(np.pi**2/4 - 2 - epsilon_var,0,700, color='g')\n",
    "plt.ylim(.3,.5)"
   ]
  },
  {
   "cell_type": "code",
   "execution_count": null,
   "metadata": {},
   "outputs": [],
   "source": []
  },
  {
   "cell_type": "code",
   "execution_count": null,
   "metadata": {},
   "outputs": [],
   "source": []
  },
  {
   "cell_type": "code",
   "execution_count": null,
   "metadata": {},
   "outputs": [],
   "source": []
  },
  {
   "cell_type": "code",
   "execution_count": 20,
   "metadata": {},
   "outputs": [],
   "source": [
    "with h5py.File('pos_array.h5', 'r') as hf:\n",
    "    keys = list(hf.keys())"
   ]
  },
  {
   "cell_type": "code",
   "execution_count": 21,
   "metadata": {},
   "outputs": [
    {
     "data": {
      "text/plain": [
       "['pos-ds_D_1_Odt_-3_N_1000_MC_S_10000']"
      ]
     },
     "execution_count": 21,
     "metadata": {},
     "output_type": "execute_result"
    }
   ],
   "source": [
    "keys"
   ]
  },
  {
   "cell_type": "code",
   "execution_count": null,
   "metadata": {},
   "outputs": [],
   "source": []
  },
  {
   "cell_type": "code",
   "execution_count": null,
   "metadata": {},
   "outputs": [],
   "source": []
  }
 ],
 "metadata": {
  "kernelspec": {
   "display_name": "Python 3",
   "language": "python",
   "name": "python3"
  },
  "language_info": {
   "codemirror_mode": {
    "name": "ipython",
    "version": 3
   },
   "file_extension": ".py",
   "mimetype": "text/x-python",
   "name": "python",
   "nbconvert_exporter": "python",
   "pygments_lexer": "ipython3",
   "version": "3.8.3"
  }
 },
 "nbformat": 4,
 "nbformat_minor": 4
}
